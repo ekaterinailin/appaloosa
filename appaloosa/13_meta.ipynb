{
 "cells": [
  {
   "cell_type": "code",
   "execution_count": 12,
   "metadata": {},
   "outputs": [],
   "source": [
    "import os \n",
    "import pandas as pd\n",
    "import time\n",
    "%matplotlib inline\n",
    "import matplotlib.pyplot as plt\n",
    "import numpy as np\n",
    "#Prep:----------------------------------\n",
    "#os.chdir('stars_shortlist/share')\n",
    "today = time.strftime(\"%d_%b_%Y\", time.gmtime())\n",
    "run = '05'\n",
    "locs = [#('M67','M67_run_{}_cum_FFD.csv'.format(run),4.0),\n",
    "        ('M44','M44_run_{}_cum_FFD.csv'.format(run),0.794),\n",
    "       # ('NGC_1647','NGC_1647_run_{}_cum_FFD.csv'.format(run),0.145),\n",
    "        ('Pleiades','Pleiades_run_{}_cum_FFD.csv'.format(run),0.120)]\n",
    "frames = []\n",
    "for (key, value,age) in locs:\n",
    "    df = pd.read_csv(value,\n",
    "                     usecols = ['Tmax','Tmin','alpha',\n",
    "                                'alpha_err','beta','beta_err',\n",
    "                                'minenerg','maxenerg'],\n",
    "                     )\n",
    "    frames.append(df)\n",
    "res = pd.concat(frames, keys=[x[2] for x in locs])\n",
    "res = res.reset_index()\n",
    "res = res.drop('level_1',axis=1)\n",
    "res = res.rename(index=str, columns={'level_0':'age'})\n",
    "ages = {4.0:'M67',0.794:'M44',0.145:'NGC_1647',0.120:'Pleiades'}\n",
    "res['cluster'] = [ages[i] for i in res.age]\n",
    "res = res.dropna(how='any')\n",
    "#Transform alpha to conventional value\n",
    "res.alpha = -res.alpha+1.\n",
    "#res = res[(res.Tmax==7000) & (res.Tmin ==3000)]\n",
    "#Prep end. ------------------------------"
   ]
  },
  {
   "cell_type": "code",
   "execution_count": 14,
   "metadata": {},
   "outputs": [
    {
     "data": {
      "text/html": [
       "<div>\n",
       "<table border=\"1\" class=\"dataframe\">\n",
       "  <thead>\n",
       "    <tr style=\"text-align: right;\">\n",
       "      <th></th>\n",
       "      <th>age</th>\n",
       "      <th>Tmax</th>\n",
       "      <th>Tmin</th>\n",
       "      <th>alpha</th>\n",
       "      <th>alpha_err</th>\n",
       "      <th>beta</th>\n",
       "      <th>beta_err</th>\n",
       "      <th>maxenerg</th>\n",
       "      <th>minenerg</th>\n",
       "      <th>cluster</th>\n",
       "    </tr>\n",
       "  </thead>\n",
       "  <tbody>\n",
       "    <tr>\n",
       "      <th>0</th>\n",
       "      <td>0.794</td>\n",
       "      <td>5500</td>\n",
       "      <td>4500</td>\n",
       "      <td>2.582735</td>\n",
       "      <td>0.018264</td>\n",
       "      <td>52.807842</td>\n",
       "      <td>0.154254</td>\n",
       "      <td>3.104129e+33</td>\n",
       "      <td>6.000000e+28</td>\n",
       "      <td>M44</td>\n",
       "    </tr>\n",
       "    <tr>\n",
       "      <th>2</th>\n",
       "      <td>0.794</td>\n",
       "      <td>4500</td>\n",
       "      <td>3000</td>\n",
       "      <td>1.905735</td>\n",
       "      <td>0.032633</td>\n",
       "      <td>31.288154</td>\n",
       "      <td>1.057085</td>\n",
       "      <td>3.053534e+33</td>\n",
       "      <td>5.000000e+28</td>\n",
       "      <td>M44</td>\n",
       "    </tr>\n",
       "    <tr>\n",
       "      <th>3</th>\n",
       "      <td>0.794</td>\n",
       "      <td>3500</td>\n",
       "      <td>3000</td>\n",
       "      <td>1.860914</td>\n",
       "      <td>0.032526</td>\n",
       "      <td>29.745208</td>\n",
       "      <td>1.053945</td>\n",
       "      <td>3.053534e+33</td>\n",
       "      <td>5.000000e+28</td>\n",
       "      <td>M44</td>\n",
       "    </tr>\n",
       "    <tr>\n",
       "      <th>4</th>\n",
       "      <td>0.794</td>\n",
       "      <td>4000</td>\n",
       "      <td>3500</td>\n",
       "      <td>1.945968</td>\n",
       "      <td>0.060814</td>\n",
       "      <td>32.154055</td>\n",
       "      <td>1.967542</td>\n",
       "      <td>2.183478e+33</td>\n",
       "      <td>5.000000e+28</td>\n",
       "      <td>M44</td>\n",
       "    </tr>\n",
       "    <tr>\n",
       "      <th>6</th>\n",
       "      <td>0.794</td>\n",
       "      <td>7000</td>\n",
       "      <td>3000</td>\n",
       "      <td>1.883309</td>\n",
       "      <td>0.029874</td>\n",
       "      <td>30.585672</td>\n",
       "      <td>0.968304</td>\n",
       "      <td>3.104129e+33</td>\n",
       "      <td>5.000000e+28</td>\n",
       "      <td>M44</td>\n",
       "    </tr>\n",
       "    <tr>\n",
       "      <th>8</th>\n",
       "      <td>0.794</td>\n",
       "      <td>5500</td>\n",
       "      <td>5000</td>\n",
       "      <td>2.582735</td>\n",
       "      <td>0.018264</td>\n",
       "      <td>52.807842</td>\n",
       "      <td>0.154254</td>\n",
       "      <td>3.104129e+33</td>\n",
       "      <td>5.000000e+28</td>\n",
       "      <td>M44</td>\n",
       "    </tr>\n",
       "    <tr>\n",
       "      <th>12</th>\n",
       "      <td>0.120</td>\n",
       "      <td>5500</td>\n",
       "      <td>4500</td>\n",
       "      <td>1.564884</td>\n",
       "      <td>0.041732</td>\n",
       "      <td>19.611738</td>\n",
       "      <td>1.377465</td>\n",
       "      <td>1.737896e+34</td>\n",
       "      <td>5.000000e+28</td>\n",
       "      <td>Pleiades</td>\n",
       "    </tr>\n",
       "    <tr>\n",
       "      <th>14</th>\n",
       "      <td>0.120</td>\n",
       "      <td>4500</td>\n",
       "      <td>3000</td>\n",
       "      <td>1.938002</td>\n",
       "      <td>0.015150</td>\n",
       "      <td>32.842854</td>\n",
       "      <td>0.492743</td>\n",
       "      <td>1.228252e+35</td>\n",
       "      <td>5.000000e+28</td>\n",
       "      <td>Pleiades</td>\n",
       "    </tr>\n",
       "    <tr>\n",
       "      <th>15</th>\n",
       "      <td>0.120</td>\n",
       "      <td>7000</td>\n",
       "      <td>3000</td>\n",
       "      <td>1.903322</td>\n",
       "      <td>0.012747</td>\n",
       "      <td>31.751387</td>\n",
       "      <td>0.415016</td>\n",
       "      <td>1.462172e+35</td>\n",
       "      <td>5.000000e+28</td>\n",
       "      <td>Pleiades</td>\n",
       "    </tr>\n",
       "    <tr>\n",
       "      <th>16</th>\n",
       "      <td>0.120</td>\n",
       "      <td>3500</td>\n",
       "      <td>3000</td>\n",
       "      <td>1.948738</td>\n",
       "      <td>0.016401</td>\n",
       "      <td>33.011047</td>\n",
       "      <td>0.532933</td>\n",
       "      <td>1.228252e+35</td>\n",
       "      <td>5.000000e+28</td>\n",
       "      <td>Pleiades</td>\n",
       "    </tr>\n",
       "    <tr>\n",
       "      <th>17</th>\n",
       "      <td>0.120</td>\n",
       "      <td>4000</td>\n",
       "      <td>3500</td>\n",
       "      <td>1.954581</td>\n",
       "      <td>0.033018</td>\n",
       "      <td>33.009240</td>\n",
       "      <td>1.075822</td>\n",
       "      <td>2.029237e+34</td>\n",
       "      <td>5.000000e+28</td>\n",
       "      <td>Pleiades</td>\n",
       "    </tr>\n",
       "    <tr>\n",
       "      <th>18</th>\n",
       "      <td>0.120</td>\n",
       "      <td>4500</td>\n",
       "      <td>4000</td>\n",
       "      <td>1.648448</td>\n",
       "      <td>0.084286</td>\n",
       "      <td>22.185992</td>\n",
       "      <td>2.762438</td>\n",
       "      <td>1.336525e+34</td>\n",
       "      <td>5.000000e+28</td>\n",
       "      <td>Pleiades</td>\n",
       "    </tr>\n",
       "    <tr>\n",
       "      <th>19</th>\n",
       "      <td>0.120</td>\n",
       "      <td>5000</td>\n",
       "      <td>4500</td>\n",
       "      <td>1.789669</td>\n",
       "      <td>0.382099</td>\n",
       "      <td>26.681878</td>\n",
       "      <td>12.543721</td>\n",
       "      <td>5.897537e+33</td>\n",
       "      <td>5.000000e+28</td>\n",
       "      <td>Pleiades</td>\n",
       "    </tr>\n",
       "  </tbody>\n",
       "</table>\n",
       "</div>"
      ],
      "text/plain": [
       "      age  Tmax  Tmin     alpha  alpha_err       beta   beta_err  \\\n",
       "0   0.794  5500  4500  2.582735   0.018264  52.807842   0.154254   \n",
       "2   0.794  4500  3000  1.905735   0.032633  31.288154   1.057085   \n",
       "3   0.794  3500  3000  1.860914   0.032526  29.745208   1.053945   \n",
       "4   0.794  4000  3500  1.945968   0.060814  32.154055   1.967542   \n",
       "6   0.794  7000  3000  1.883309   0.029874  30.585672   0.968304   \n",
       "8   0.794  5500  5000  2.582735   0.018264  52.807842   0.154254   \n",
       "12  0.120  5500  4500  1.564884   0.041732  19.611738   1.377465   \n",
       "14  0.120  4500  3000  1.938002   0.015150  32.842854   0.492743   \n",
       "15  0.120  7000  3000  1.903322   0.012747  31.751387   0.415016   \n",
       "16  0.120  3500  3000  1.948738   0.016401  33.011047   0.532933   \n",
       "17  0.120  4000  3500  1.954581   0.033018  33.009240   1.075822   \n",
       "18  0.120  4500  4000  1.648448   0.084286  22.185992   2.762438   \n",
       "19  0.120  5000  4500  1.789669   0.382099  26.681878  12.543721   \n",
       "\n",
       "        maxenerg      minenerg   cluster  \n",
       "0   3.104129e+33  6.000000e+28       M44  \n",
       "2   3.053534e+33  5.000000e+28       M44  \n",
       "3   3.053534e+33  5.000000e+28       M44  \n",
       "4   2.183478e+33  5.000000e+28       M44  \n",
       "6   3.104129e+33  5.000000e+28       M44  \n",
       "8   3.104129e+33  5.000000e+28       M44  \n",
       "12  1.737896e+34  5.000000e+28  Pleiades  \n",
       "14  1.228252e+35  5.000000e+28  Pleiades  \n",
       "15  1.462172e+35  5.000000e+28  Pleiades  \n",
       "16  1.228252e+35  5.000000e+28  Pleiades  \n",
       "17  2.029237e+34  5.000000e+28  Pleiades  \n",
       "18  1.336525e+34  5.000000e+28  Pleiades  \n",
       "19  5.897537e+33  5.000000e+28  Pleiades  "
      ]
     },
     "execution_count": 14,
     "metadata": {},
     "output_type": "execute_result"
    }
   ],
   "source": [
    "#CHECK THESE PARAMETERS before proceeding\n",
    "#res = res[(res.Tmax-res.Tmin >= 1000)]\n",
    "#es = res[res.alpha<3.]\n",
    "res"
   ]
  },
  {
   "cell_type": "markdown",
   "metadata": {},
   "source": [
    "### Plot alpha(t)"
   ]
  },
  {
   "cell_type": "code",
   "execution_count": 15,
   "metadata": {},
   "outputs": [
    {
     "name": "stdout",
     "output_type": "stream",
     "text": [
      "        minenerg      maxenerg   cluster  Tmin  Tmax\n",
      "3   5.000000e+28  3.053534e+33       M44  3000  3500\n",
      "16  5.000000e+28  1.228252e+35  Pleiades  3000  3500\n",
      "        minenerg      maxenerg   cluster  Tmin  Tmax\n",
      "2   5.000000e+28  3.053534e+33       M44  3000  4500\n",
      "14  5.000000e+28  1.228252e+35  Pleiades  3000  4500\n",
      "        minenerg      maxenerg   cluster  Tmin  Tmax\n",
      "6   5.000000e+28  3.104129e+33       M44  3000  7000\n",
      "15  5.000000e+28  1.462172e+35  Pleiades  3000  7000\n",
      "        minenerg      maxenerg   cluster  Tmin  Tmax\n",
      "4   5.000000e+28  2.183478e+33       M44  3500  4000\n",
      "17  5.000000e+28  2.029237e+34  Pleiades  3500  4000\n",
      "        minenerg      maxenerg   cluster  Tmin  Tmax\n",
      "18  5.000000e+28  1.336525e+34  Pleiades  4000  4500\n",
      "        minenerg      maxenerg   cluster  Tmin  Tmax\n",
      "19  5.000000e+28  5.897537e+33  Pleiades  4500  5000\n",
      "        minenerg      maxenerg   cluster  Tmin  Tmax\n",
      "12  5.000000e+28  1.737896e+34  Pleiades  4500  5500\n",
      "0   6.000000e+28  3.104129e+33       M44  4500  5500\n",
      "       minenerg      maxenerg cluster  Tmin  Tmax\n",
      "8  5.000000e+28  3.104129e+33     M44  5000  5500\n"
     ]
    },
    {
     "name": "stderr",
     "output_type": "stream",
     "text": [
      "/home/eilin/.local/lib/python3.4/site-packages/matplotlib/axes/_base.py:2903: UserWarning: Attempting to set identical left==right results\n",
      "in singular transformations; automatically expanding.\n",
      "left=0.12, right=0.12\n",
      "  'left=%s, right=%s') % (left, right))\n"
     ]
    },
    {
     "data": {
      "text/plain": [
       "<matplotlib.legend.Legend at 0x7f4e6696ff28>"
      ]
     },
     "execution_count": 15,
     "metadata": {},
     "output_type": "execute_result"
    },
    {
     "data": {
      "image/png": "[encoded data removed]",
      "text/plain": [
       "<matplotlib.figure.Figure at 0x7f4e6696f978>"
      ]
     },
     "metadata": {},
     "output_type": "display_data"
    }
   ],
   "source": [
    "\n",
    "\n",
    "def colors(mini, maxi):\n",
    "    cmin = {3000:'maroon',3500:'tomato',4000:'coral',\n",
    "            4500:'gold',5000:'lime',5500:'darkgreen',\n",
    "            6000: 'c',6500:'midnightblue'}\n",
    "    if (mini==3000.) & (maxi==7000.):\n",
    "        return 'black'\n",
    "    elif (mini==3000.) & (maxi==4500.):\n",
    "        return 'red'\n",
    "    elif (mini==4500.) & (maxi==5500.):\n",
    "        return 'orange'\n",
    "    elif (mini==5500.) & (maxi==7000.):\n",
    "        return 'green'\n",
    "    else:\n",
    "        return cmin[mini]\n",
    "    \n",
    "fig, ax = plt.subplots(figsize=(8,6))\n",
    "for label, df in res.groupby(['Tmin','Tmax']):\n",
    "    df.plot(x='age',y='alpha',yerr='alpha_err',\n",
    "                 kind='line',logx=True, ax=ax,\n",
    "                 markersize=100,\n",
    "                 label=label, color=colors(label[0],label[1]))\n",
    "    print(df[['minenerg','maxenerg','cluster','Tmin','Tmax']].sort_values(by='minenerg'))\n",
    "\n",
    "plt.xlabel('age in Gyr')\n",
    "plt.ylabel('alpha')\n",
    "# plt.text(x=0.11,y=2.03,s='Pleiades')\n",
    "# plt.text(x=0.14,y=2.0,s='NGC 1647')\n",
    "# plt.text(x=0.7,y=1.95,s='Praesepe')\n",
    "#plt.text(x=3.4,y=1.9,s='M67')\n",
    "plt.legend()\n",
    "#plt.savefig('/home/ekaterina/Documents/appaloosa/stars_shortlist/share/dated/{}_alpha.jpg'.format(today),dpi=300)"
   ]
  },
  {
   "cell_type": "markdown",
   "metadata": {},
   "source": [
    "### Plot beta(t)"
   ]
  },
  {
   "cell_type": "code",
   "execution_count": 16,
   "metadata": {
    "scrolled": true
   },
   "outputs": [
    {
     "name": "stdout",
     "output_type": "stream",
     "text": [
      "3000.0\n",
      "3000.0\n",
      "3000.0\n",
      "3500.0\n",
      "4000.0\n",
      "4500.0\n",
      "4500.0\n",
      "5000.0\n",
      "/work1/eilin/appaloosa/appaloosa/stars_shortlist/share\n"
     ]
    },
    {
     "name": "stderr",
     "output_type": "stream",
     "text": [
      "/home/eilin/.local/lib/python3.4/site-packages/matplotlib/axes/_base.py:2903: UserWarning: Attempting to set identical left==right results\n",
      "in singular transformations; automatically expanding.\n",
      "left=0.12, right=0.12\n",
      "  'left=%s, right=%s') % (left, right))\n"
     ]
    },
    {
     "data": {
      "image/png": "[encoded data removed]",
      "text/plain": [
       "<matplotlib.figure.Figure at 0x7f4e69c7b240>"
      ]
     },
     "metadata": {},
     "output_type": "display_data"
    }
   ],
   "source": [
    "fig, ax = plt.subplots(figsize=(8,6))\n",
    "for label, df in res.groupby(['Tmin','Tmax']):\n",
    "    df.plot(x='age',y='beta',yerr='beta_err',\n",
    "                 kind='line', ax=ax,\n",
    "                 markersize=100,logx=True,\n",
    "                 label='{:.0f}-{:.0f} K'.format(label[0],label[1]), color=colors(label[0],label[1]))\n",
    "    print(label[0])\n",
    "plt.xlabel('age in Gyr')\n",
    "plt.ylabel('beta')\n",
    "# plt.text(x=0.11,y=36,s='Pleiades')\n",
    "# plt.text(x=0.14,y=34,s='NGC 1647')\n",
    "# plt.text(x=0.7,y=38,s='Praesepe')\n",
    "# plt.text(x=3.4,y=36,s='M67')\n",
    "plt.legend()\n",
    "print(os.getcwd())\n",
    "plt.savefig('dated/{}_beta.jpg'.format(today),dpi=300)"
   ]
  },
  {
   "cell_type": "markdown",
   "metadata": {},
   "source": [
    "### Plot total energy, total number of flares per cluster"
   ]
  },
  {
   "cell_type": "code",
   "execution_count": 18,
   "metadata": {},
   "outputs": [
    {
     "ename": "OSError",
     "evalue": "File b'Pleiades/results/run_05/clusterenergies.csv' does not exist",
     "output_type": "error",
     "traceback": [
      "\u001b[0;31m---------------------------------------------------------------------------\u001b[0m",
      "\u001b[0;31mOSError\u001b[0m                                   Traceback (most recent call last)",
      "\u001b[0;32m<ipython-input-18-80207b39bf32>\u001b[0m in \u001b[0;36m<module>\u001b[0;34m()\u001b[0m\n\u001b[1;32m     12\u001b[0m                          usecols = ['clustered','clusterederr','clusterenergy',\n\u001b[1;32m     13\u001b[0m                                     \u001b[0;34m'clusterenergy_err'\u001b[0m\u001b[0;34m,\u001b[0m\u001b[0;34m'rel_energ_err'\u001b[0m\u001b[0;34m,\u001b[0m\u001b[0;34m'Teff'\u001b[0m\u001b[0;34m,\u001b[0m\u001b[0;34m\u001b[0m\u001b[0m\n\u001b[0;32m---> 14\u001b[0;31m                                     'stars_in_bin','Tmin','Tmax','L_bol','L_bol_err'],\n\u001b[0m\u001b[1;32m     15\u001b[0m                          )\n\u001b[1;32m     16\u001b[0m         \u001b[0;31m#select color bin:\u001b[0m\u001b[0;34m\u001b[0m\u001b[0;34m\u001b[0m\u001b[0m\n",
      "\u001b[0;32m~/.local/lib/python3.4/site-packages/pandas/io/parsers.py\u001b[0m in \u001b[0;36mparser_f\u001b[0;34m(filepath_or_buffer, sep, dialect, compression, doublequote, escapechar, quotechar, quoting, skipinitialspace, lineterminator, header, index_col, names, prefix, skiprows, skipfooter, skip_footer, na_values, true_values, false_values, delimiter, converters, dtype, usecols, engine, delim_whitespace, as_recarray, na_filter, compact_ints, use_unsigned, low_memory, buffer_lines, warn_bad_lines, error_bad_lines, keep_default_na, thousands, comment, decimal, parse_dates, keep_date_col, dayfirst, date_parser, memory_map, float_precision, nrows, iterator, chunksize, verbose, encoding, squeeze, mangle_dupe_cols, tupleize_cols, infer_datetime_format, skip_blank_lines)\u001b[0m\n\u001b[1;32m    489\u001b[0m                     skip_blank_lines=skip_blank_lines)\n\u001b[1;32m    490\u001b[0m \u001b[0;34m\u001b[0m\u001b[0m\n\u001b[0;32m--> 491\u001b[0;31m         \u001b[0;32mreturn\u001b[0m \u001b[0m_read\u001b[0m\u001b[0;34m(\u001b[0m\u001b[0mfilepath_or_buffer\u001b[0m\u001b[0;34m,\u001b[0m \u001b[0mkwds\u001b[0m\u001b[0;34m)\u001b[0m\u001b[0;34m\u001b[0m\u001b[0m\n\u001b[0m\u001b[1;32m    492\u001b[0m \u001b[0;34m\u001b[0m\u001b[0m\n\u001b[1;32m    493\u001b[0m     \u001b[0mparser_f\u001b[0m\u001b[0;34m.\u001b[0m\u001b[0m__name__\u001b[0m \u001b[0;34m=\u001b[0m \u001b[0mname\u001b[0m\u001b[0;34m\u001b[0m\u001b[0m\n",
      "\u001b[0;32m~/.local/lib/python3.4/site-packages/pandas/io/parsers.py\u001b[0m in \u001b[0;36m_read\u001b[0;34m(filepath_or_buffer, kwds)\u001b[0m\n\u001b[1;32m    266\u001b[0m \u001b[0;34m\u001b[0m\u001b[0m\n\u001b[1;32m    267\u001b[0m     \u001b[0;31m# Create the parser.\u001b[0m\u001b[0;34m\u001b[0m\u001b[0;34m\u001b[0m\u001b[0m\n\u001b[0;32m--> 268\u001b[0;31m     \u001b[0mparser\u001b[0m \u001b[0;34m=\u001b[0m \u001b[0mTextFileReader\u001b[0m\u001b[0;34m(\u001b[0m\u001b[0mfilepath_or_buffer\u001b[0m\u001b[0;34m,\u001b[0m \u001b[0;34m**\u001b[0m\u001b[0mkwds\u001b[0m\u001b[0;34m)\u001b[0m\u001b[0;34m\u001b[0m\u001b[0m\n\u001b[0m\u001b[1;32m    269\u001b[0m \u001b[0;34m\u001b[0m\u001b[0m\n\u001b[1;32m    270\u001b[0m     \u001b[0;32mif\u001b[0m \u001b[0;34m(\u001b[0m\u001b[0mnrows\u001b[0m \u001b[0;32mis\u001b[0m \u001b[0;32mnot\u001b[0m \u001b[0;32mNone\u001b[0m\u001b[0;34m)\u001b[0m \u001b[0;32mand\u001b[0m \u001b[0;34m(\u001b[0m\u001b[0mchunksize\u001b[0m \u001b[0;32mis\u001b[0m \u001b[0;32mnot\u001b[0m \u001b[0;32mNone\u001b[0m\u001b[0;34m)\u001b[0m\u001b[0;34m:\u001b[0m\u001b[0;34m\u001b[0m\u001b[0m\n",
      "\u001b[0;32m~/.local/lib/python3.4/site-packages/pandas/io/parsers.py\u001b[0m in \u001b[0;36m__init__\u001b[0;34m(self, f, engine, **kwds)\u001b[0m\n\u001b[1;32m    581\u001b[0m             \u001b[0mself\u001b[0m\u001b[0;34m.\u001b[0m\u001b[0moptions\u001b[0m\u001b[0;34m[\u001b[0m\u001b[0;34m'has_index_names'\u001b[0m\u001b[0;34m]\u001b[0m \u001b[0;34m=\u001b[0m \u001b[0mkwds\u001b[0m\u001b[0;34m[\u001b[0m\u001b[0;34m'has_index_names'\u001b[0m\u001b[0;34m]\u001b[0m\u001b[0;34m\u001b[0m\u001b[0m\n\u001b[1;32m    582\u001b[0m \u001b[0;34m\u001b[0m\u001b[0m\n\u001b[0;32m--> 583\u001b[0;31m         \u001b[0mself\u001b[0m\u001b[0;34m.\u001b[0m\u001b[0m_make_engine\u001b[0m\u001b[0;34m(\u001b[0m\u001b[0mself\u001b[0m\u001b[0;34m.\u001b[0m\u001b[0mengine\u001b[0m\u001b[0;34m)\u001b[0m\u001b[0;34m\u001b[0m\u001b[0m\n\u001b[0m\u001b[1;32m    584\u001b[0m \u001b[0;34m\u001b[0m\u001b[0m\n\u001b[1;32m    585\u001b[0m     \u001b[0;32mdef\u001b[0m \u001b[0m_get_options_with_defaults\u001b[0m\u001b[0;34m(\u001b[0m\u001b[0mself\u001b[0m\u001b[0;34m,\u001b[0m \u001b[0mengine\u001b[0m\u001b[0;34m)\u001b[0m\u001b[0;34m:\u001b[0m\u001b[0;34m\u001b[0m\u001b[0m\n",
      "\u001b[0;32m~/.local/lib/python3.4/site-packages/pandas/io/parsers.py\u001b[0m in \u001b[0;36m_make_engine\u001b[0;34m(self, engine)\u001b[0m\n\u001b[1;32m    722\u001b[0m     \u001b[0;32mdef\u001b[0m \u001b[0m_make_engine\u001b[0m\u001b[0;34m(\u001b[0m\u001b[0mself\u001b[0m\u001b[0;34m,\u001b[0m \u001b[0mengine\u001b[0m\u001b[0;34m=\u001b[0m\u001b[0;34m'c'\u001b[0m\u001b[0;34m)\u001b[0m\u001b[0;34m:\u001b[0m\u001b[0;34m\u001b[0m\u001b[0m\n\u001b[1;32m    723\u001b[0m         \u001b[0;32mif\u001b[0m \u001b[0mengine\u001b[0m \u001b[0;34m==\u001b[0m \u001b[0;34m'c'\u001b[0m\u001b[0;34m:\u001b[0m\u001b[0;34m\u001b[0m\u001b[0m\n\u001b[0;32m--> 724\u001b[0;31m             \u001b[0mself\u001b[0m\u001b[0;34m.\u001b[0m\u001b[0m_engine\u001b[0m \u001b[0;34m=\u001b[0m \u001b[0mCParserWrapper\u001b[0m\u001b[0;34m(\u001b[0m\u001b[0mself\u001b[0m\u001b[0;34m.\u001b[0m\u001b[0mf\u001b[0m\u001b[0;34m,\u001b[0m \u001b[0;34m**\u001b[0m\u001b[0mself\u001b[0m\u001b[0;34m.\u001b[0m\u001b[0moptions\u001b[0m\u001b[0;34m)\u001b[0m\u001b[0;34m\u001b[0m\u001b[0m\n\u001b[0m\u001b[1;32m    725\u001b[0m         \u001b[0;32melse\u001b[0m\u001b[0;34m:\u001b[0m\u001b[0;34m\u001b[0m\u001b[0m\n\u001b[1;32m    726\u001b[0m             \u001b[0;32mif\u001b[0m \u001b[0mengine\u001b[0m \u001b[0;34m==\u001b[0m \u001b[0;34m'python'\u001b[0m\u001b[0;34m:\u001b[0m\u001b[0;34m\u001b[0m\u001b[0m\n",
      "\u001b[0;32m~/.local/lib/python3.4/site-packages/pandas/io/parsers.py\u001b[0m in \u001b[0;36m__init__\u001b[0;34m(self, src, **kwds)\u001b[0m\n\u001b[1;32m   1091\u001b[0m         \u001b[0mkwds\u001b[0m\u001b[0;34m[\u001b[0m\u001b[0;34m'allow_leading_cols'\u001b[0m\u001b[0;34m]\u001b[0m \u001b[0;34m=\u001b[0m \u001b[0mself\u001b[0m\u001b[0;34m.\u001b[0m\u001b[0mindex_col\u001b[0m \u001b[0;32mis\u001b[0m \u001b[0;32mnot\u001b[0m \u001b[0;32mFalse\u001b[0m\u001b[0;34m\u001b[0m\u001b[0m\n\u001b[1;32m   1092\u001b[0m \u001b[0;34m\u001b[0m\u001b[0m\n\u001b[0;32m-> 1093\u001b[0;31m         \u001b[0mself\u001b[0m\u001b[0;34m.\u001b[0m\u001b[0m_reader\u001b[0m \u001b[0;34m=\u001b[0m \u001b[0m_parser\u001b[0m\u001b[0;34m.\u001b[0m\u001b[0mTextReader\u001b[0m\u001b[0;34m(\u001b[0m\u001b[0msrc\u001b[0m\u001b[0;34m,\u001b[0m \u001b[0;34m**\u001b[0m\u001b[0mkwds\u001b[0m\u001b[0;34m)\u001b[0m\u001b[0;34m\u001b[0m\u001b[0m\n\u001b[0m\u001b[1;32m   1094\u001b[0m \u001b[0;34m\u001b[0m\u001b[0m\n\u001b[1;32m   1095\u001b[0m         \u001b[0;31m# XXX\u001b[0m\u001b[0;34m\u001b[0m\u001b[0;34m\u001b[0m\u001b[0m\n",
      "\u001b[0;32mpandas/parser.pyx\u001b[0m in \u001b[0;36mpandas.parser.TextReader.__cinit__ (pandas/parser.c:3253)\u001b[0;34m()\u001b[0m\n",
      "\u001b[0;32mpandas/parser.pyx\u001b[0m in \u001b[0;36mpandas.parser.TextReader._setup_parser_source (pandas/parser.c:6112)\u001b[0;34m()\u001b[0m\n",
      "\u001b[0;31mOSError\u001b[0m: File b'Pleiades/results/run_05/clusterenergies.csv' does not exist"
     ]
    }
   ],
   "source": [
    "#os.chdir('/home/ekaterina/Documents/appaloosa/stars_shortlist')\n",
    "locs2 = [#('NGC_1647','NGC_1647/results/run_{}/clusterenergies.csv'.format(run),.145),\n",
    "         ('Pleiades','Pleiades/results/run_{}/clusterenergies.csv'.format(run),0.120),\n",
    "         ('M44','M44/results/run_{}/clusterenergies.csv'.format(run),0.8),]\n",
    "         #('M67','M67/results/run_{}/clusterenergies.csv'.format(run),4.0)]\n",
    "Tlims = [(3000,4500,'red'),(4500,5500,'orange'),(5500,7000,'green'),(3000,7000,'black')]\n",
    "#Tlims = [(3000,7000,'black')]\n",
    "dats = []\n",
    "for Tmin, Tmax, color in Tlims:\n",
    "    for (name, value, age) in locs2:\n",
    "        df = pd.read_csv(value,\n",
    "                         usecols = ['clustered','clusterederr','clusterenergy',\n",
    "                                    'clusterenergy_err','rel_energ_err','Teff',\n",
    "                                    'stars_in_bin','Tmin','Tmax','L_bol','L_bol_err'],\n",
    "                         )\n",
    "        #select color bin:\n",
    "        df = df[(df.Tmin == Tmin) & (df.Tmax == Tmax)]\n",
    "        #check if correct\n",
    "        df = df.dropna(how='any')\n",
    "\n",
    "        if (df.stars_in_bin != df.stars_in_bin.iloc[0]).any(): \n",
    "            raise ValueError('The number of stars in your bin is ambiguous.')\n",
    "        #normalization constant\n",
    "        n_stars = df.stars_in_bin.iloc[0]\n",
    "        FAerr = np.sqrt( df.clusterenergy_err**2 + ( df.clusterenergy * df.L_bol_err /  df.L_bol )**2 ) /  df.L_bol\n",
    "        dats.append([age, n_stars,\n",
    "                    np.sqrt((df.clusterenergy_err**2).sum())/n_stars,\n",
    "                    df.clusterenergy.sum()/n_stars, \n",
    "                    df.shape[0]/n_stars,\n",
    "                    df.shape[0],\n",
    "                    Tmin,Tmax,\n",
    "                    (df.clusterenergy/df.L_bol).sum()/n_stars,\n",
    "                     np.sqrt((FAerr**2).sum())/n_stars,\n",
    "                    ]\n",
    "                    )\n",
    "dats = np.asarray(dats) \n",
    "data = pd.DataFrame(dats, columns=['age','n_stars',\n",
    "                                   'tot_en_err','tot_en',\n",
    "                                   'tot_flares_p_star','tot_flares',\n",
    "                                   'Tmin','Tmax','FA_pstar','FA_pstar_err'])\n",
    "data['tot_flares_p_star_err'] = np.sqrt(data.tot_flares)/data.n_stars\n",
    "data.sort_values(by='age').head()"
   ]
  },
  {
   "cell_type": "code",
   "execution_count": 17,
   "metadata": {},
   "outputs": [
    {
     "name": "stdout",
     "output_type": "stream",
     "text": [
      "3000.0\n"
     ]
    },
    {
     "data": {
      "image/png": "[encoded data removed]",
      "text/plain": [
       "<matplotlib.figure.Figure at 0x7fd96a3f49e8>"
      ]
     },
     "metadata": {},
     "output_type": "display_data"
    }
   ],
   "source": [
    "fig, ax = plt.subplots(figsize=(8,6))\n",
    "for label, df in data.groupby(['Tmin','Tmax']):\n",
    "    df = df.sort_values(by='age')\n",
    "    df.plot(x='age',y='FA_pstar',yerr='FA_pstar_err',\n",
    "                 kind='line', ax=ax,linewidth=3,alpha=0.7,\n",
    "                 markersize=100,capsize=5,\n",
    "                 label='{:.0f}-{:.0f} K'.format(label[0],label[1]), color=colors(label[0],label[1]))\n",
    "    print(label[0])\n",
    "plt.xlabel('age in Gyr')\n",
    "plt.ylabel('FA per star')\n",
    "# plt.text(x=0.11,y=2e32,s='Pleiades')\n",
    "# plt.text(x=0.14,y=1e32,s='NGC 1647')\n",
    "# plt.text(x=0.6,y=2e32,s='Praesepe')\n",
    "# plt.text(x=3.4,y=4e32,s='M67')\n",
    "plt.legend()\n",
    "plt.savefig('share/dated/{}_tot_en_color_bins.jpg'.format(today),dpi=300)"
   ]
  },
  {
   "cell_type": "code",
   "execution_count": 18,
   "metadata": {},
   "outputs": [
    {
     "name": "stdout",
     "output_type": "stream",
     "text": [
      "3000.0\n"
     ]
    },
    {
     "data": {
      "image/png": "[encoded data removed]",
      "text/plain": [
       "<matplotlib.figure.Figure at 0x7fd96808def0>"
      ]
     },
     "metadata": {},
     "output_type": "display_data"
    }
   ],
   "source": [
    "fig, ax = plt.subplots(figsize=(8,6))\n",
    "for label, df in data.groupby(['Tmin','Tmax']):\n",
    "    df = df.sort_values(by='age')\n",
    "    df.plot(x='age',y='tot_flares_p_star',yerr='tot_flares_p_star_err',\n",
    "                 kind='line', ax=ax,capsize=5,\n",
    "                 markersize=50,loglog=True,alpha=0.7,\n",
    "                linewidth=3,\n",
    "                 linestyle='dashed',\n",
    "                 label='{:.0f}-{:.0f} K'.format(label[0],label[1]), color=colors(label[0],label[1]))\n",
    "    print(label[0])\n",
    "plt.xlabel('age in Gyr')\n",
    "plt.ylabel('total number of flares per star')\n",
    "plt.ylim(5e-3,20)\n",
    "# plt.text(x=0.11,y=30,s='Pleiades')\n",
    "# plt.text(x=0.14,y=18,s='NGC 1647')\n",
    "# plt.text(x=0.7,y=16,s='Praesepe')\n",
    "# plt.text(x=3.55,y=2.5,s='M67')\n",
    "plt.legend()\n",
    "plt.savefig('share/dated/{}_tot_flares_color_bins.jpg'.format(today),dpi=300)"
   ]
  },
  {
   "cell_type": "code",
   "execution_count": null,
   "metadata": {},
   "outputs": [],
   "source": []
  }
 ],
 "metadata": {
  "kernelspec": {
   "display_name": "Python 3",
   "language": "python",
   "name": "python3"
  },
  "language_info": {
   "codemirror_mode": {
    "name": "ipython",
    "version": 3
   },
   "file_extension": ".py",
   "mimetype": "text/x-python",
   "name": "python",
   "nbconvert_exporter": "python",
   "pygments_lexer": "ipython3",
   "version": "3.4.6"
  }
 },
 "nbformat": 4,
 "nbformat_minor": 2
}
