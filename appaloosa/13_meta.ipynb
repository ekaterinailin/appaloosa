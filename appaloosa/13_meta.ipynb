{
 "cells": [
  {
   "cell_type": "code",
   "execution_count": 6,
   "metadata": {},
   "outputs": [
    {
     "ename": "FileNotFoundError",
     "evalue": "File b'M44_run_05_cum_FFD.csv' does not exist",
     "output_type": "error",
     "traceback": [
      "\u001b[0;31m---------------------------------------------------------------------------\u001b[0m",
      "\u001b[0;31mFileNotFoundError\u001b[0m                         Traceback (most recent call last)",
      "\u001b[0;32m<ipython-input-6-389e4dbe65ce>\u001b[0m in \u001b[0;36m<module>\u001b[0;34m()\u001b[0m\n\u001b[1;32m     24\u001b[0m                      usecols = ['Tmax','Tmin','alpha',\n\u001b[1;32m     25\u001b[0m                                 \u001b[0;34m'alpha_err'\u001b[0m\u001b[0;34m,\u001b[0m\u001b[0;34m'beta'\u001b[0m\u001b[0;34m,\u001b[0m\u001b[0;34m'beta_err'\u001b[0m\u001b[0;34m,\u001b[0m\u001b[0;34m\u001b[0m\u001b[0m\n\u001b[0;32m---> 26\u001b[0;31m                                 'minenerg','maxenerg','n_obj','nflares'],\n\u001b[0m\u001b[1;32m     27\u001b[0m                      )\n\u001b[1;32m     28\u001b[0m     \u001b[0mframes\u001b[0m\u001b[0;34m.\u001b[0m\u001b[0mappend\u001b[0m\u001b[0;34m(\u001b[0m\u001b[0mdf\u001b[0m\u001b[0;34m)\u001b[0m\u001b[0;34m\u001b[0m\u001b[0m\n",
      "\u001b[0;32m/usr/local/lib/python3.5/dist-packages/pandas/io/parsers.py\u001b[0m in \u001b[0;36mparser_f\u001b[0;34m(filepath_or_buffer, sep, delimiter, header, names, index_col, usecols, squeeze, prefix, mangle_dupe_cols, dtype, engine, converters, true_values, false_values, skipinitialspace, skiprows, nrows, na_values, keep_default_na, na_filter, verbose, skip_blank_lines, parse_dates, infer_datetime_format, keep_date_col, date_parser, dayfirst, iterator, chunksize, compression, thousands, decimal, lineterminator, quotechar, quoting, escapechar, comment, encoding, dialect, tupleize_cols, error_bad_lines, warn_bad_lines, skipfooter, skip_footer, doublequote, delim_whitespace, as_recarray, compact_ints, use_unsigned, low_memory, buffer_lines, memory_map, float_precision)\u001b[0m\n\u001b[1;32m    707\u001b[0m                     skip_blank_lines=skip_blank_lines)\n\u001b[1;32m    708\u001b[0m \u001b[0;34m\u001b[0m\u001b[0m\n\u001b[0;32m--> 709\u001b[0;31m         \u001b[0;32mreturn\u001b[0m \u001b[0m_read\u001b[0m\u001b[0;34m(\u001b[0m\u001b[0mfilepath_or_buffer\u001b[0m\u001b[0;34m,\u001b[0m \u001b[0mkwds\u001b[0m\u001b[0;34m)\u001b[0m\u001b[0;34m\u001b[0m\u001b[0m\n\u001b[0m\u001b[1;32m    710\u001b[0m \u001b[0;34m\u001b[0m\u001b[0m\n\u001b[1;32m    711\u001b[0m     \u001b[0mparser_f\u001b[0m\u001b[0;34m.\u001b[0m\u001b[0m__name__\u001b[0m \u001b[0;34m=\u001b[0m \u001b[0mname\u001b[0m\u001b[0;34m\u001b[0m\u001b[0m\n",
      "\u001b[0;32m/usr/local/lib/python3.5/dist-packages/pandas/io/parsers.py\u001b[0m in \u001b[0;36m_read\u001b[0;34m(filepath_or_buffer, kwds)\u001b[0m\n\u001b[1;32m    447\u001b[0m \u001b[0;34m\u001b[0m\u001b[0m\n\u001b[1;32m    448\u001b[0m     \u001b[0;31m# Create the parser.\u001b[0m\u001b[0;34m\u001b[0m\u001b[0;34m\u001b[0m\u001b[0m\n\u001b[0;32m--> 449\u001b[0;31m     \u001b[0mparser\u001b[0m \u001b[0;34m=\u001b[0m \u001b[0mTextFileReader\u001b[0m\u001b[0;34m(\u001b[0m\u001b[0mfilepath_or_buffer\u001b[0m\u001b[0;34m,\u001b[0m \u001b[0;34m**\u001b[0m\u001b[0mkwds\u001b[0m\u001b[0;34m)\u001b[0m\u001b[0;34m\u001b[0m\u001b[0m\n\u001b[0m\u001b[1;32m    450\u001b[0m \u001b[0;34m\u001b[0m\u001b[0m\n\u001b[1;32m    451\u001b[0m     \u001b[0;32mif\u001b[0m \u001b[0mchunksize\u001b[0m \u001b[0;32mor\u001b[0m \u001b[0miterator\u001b[0m\u001b[0;34m:\u001b[0m\u001b[0;34m\u001b[0m\u001b[0m\n",
      "\u001b[0;32m/usr/local/lib/python3.5/dist-packages/pandas/io/parsers.py\u001b[0m in \u001b[0;36m__init__\u001b[0;34m(self, f, engine, **kwds)\u001b[0m\n\u001b[1;32m    816\u001b[0m             \u001b[0mself\u001b[0m\u001b[0;34m.\u001b[0m\u001b[0moptions\u001b[0m\u001b[0;34m[\u001b[0m\u001b[0;34m'has_index_names'\u001b[0m\u001b[0;34m]\u001b[0m \u001b[0;34m=\u001b[0m \u001b[0mkwds\u001b[0m\u001b[0;34m[\u001b[0m\u001b[0;34m'has_index_names'\u001b[0m\u001b[0;34m]\u001b[0m\u001b[0;34m\u001b[0m\u001b[0m\n\u001b[1;32m    817\u001b[0m \u001b[0;34m\u001b[0m\u001b[0m\n\u001b[0;32m--> 818\u001b[0;31m         \u001b[0mself\u001b[0m\u001b[0;34m.\u001b[0m\u001b[0m_make_engine\u001b[0m\u001b[0;34m(\u001b[0m\u001b[0mself\u001b[0m\u001b[0;34m.\u001b[0m\u001b[0mengine\u001b[0m\u001b[0;34m)\u001b[0m\u001b[0;34m\u001b[0m\u001b[0m\n\u001b[0m\u001b[1;32m    819\u001b[0m \u001b[0;34m\u001b[0m\u001b[0m\n\u001b[1;32m    820\u001b[0m     \u001b[0;32mdef\u001b[0m \u001b[0mclose\u001b[0m\u001b[0;34m(\u001b[0m\u001b[0mself\u001b[0m\u001b[0;34m)\u001b[0m\u001b[0;34m:\u001b[0m\u001b[0;34m\u001b[0m\u001b[0m\n",
      "\u001b[0;32m/usr/local/lib/python3.5/dist-packages/pandas/io/parsers.py\u001b[0m in \u001b[0;36m_make_engine\u001b[0;34m(self, engine)\u001b[0m\n\u001b[1;32m   1047\u001b[0m     \u001b[0;32mdef\u001b[0m \u001b[0m_make_engine\u001b[0m\u001b[0;34m(\u001b[0m\u001b[0mself\u001b[0m\u001b[0;34m,\u001b[0m \u001b[0mengine\u001b[0m\u001b[0;34m=\u001b[0m\u001b[0;34m'c'\u001b[0m\u001b[0;34m)\u001b[0m\u001b[0;34m:\u001b[0m\u001b[0;34m\u001b[0m\u001b[0m\n\u001b[1;32m   1048\u001b[0m         \u001b[0;32mif\u001b[0m \u001b[0mengine\u001b[0m \u001b[0;34m==\u001b[0m \u001b[0;34m'c'\u001b[0m\u001b[0;34m:\u001b[0m\u001b[0;34m\u001b[0m\u001b[0m\n\u001b[0;32m-> 1049\u001b[0;31m             \u001b[0mself\u001b[0m\u001b[0;34m.\u001b[0m\u001b[0m_engine\u001b[0m \u001b[0;34m=\u001b[0m \u001b[0mCParserWrapper\u001b[0m\u001b[0;34m(\u001b[0m\u001b[0mself\u001b[0m\u001b[0;34m.\u001b[0m\u001b[0mf\u001b[0m\u001b[0;34m,\u001b[0m \u001b[0;34m**\u001b[0m\u001b[0mself\u001b[0m\u001b[0;34m.\u001b[0m\u001b[0moptions\u001b[0m\u001b[0;34m)\u001b[0m\u001b[0;34m\u001b[0m\u001b[0m\n\u001b[0m\u001b[1;32m   1050\u001b[0m         \u001b[0;32melse\u001b[0m\u001b[0;34m:\u001b[0m\u001b[0;34m\u001b[0m\u001b[0m\n\u001b[1;32m   1051\u001b[0m             \u001b[0;32mif\u001b[0m \u001b[0mengine\u001b[0m \u001b[0;34m==\u001b[0m \u001b[0;34m'python'\u001b[0m\u001b[0;34m:\u001b[0m\u001b[0;34m\u001b[0m\u001b[0m\n",
      "\u001b[0;32m/usr/local/lib/python3.5/dist-packages/pandas/io/parsers.py\u001b[0m in \u001b[0;36m__init__\u001b[0;34m(self, src, **kwds)\u001b[0m\n\u001b[1;32m   1693\u001b[0m         \u001b[0mkwds\u001b[0m\u001b[0;34m[\u001b[0m\u001b[0;34m'allow_leading_cols'\u001b[0m\u001b[0;34m]\u001b[0m \u001b[0;34m=\u001b[0m \u001b[0mself\u001b[0m\u001b[0;34m.\u001b[0m\u001b[0mindex_col\u001b[0m \u001b[0;32mis\u001b[0m \u001b[0;32mnot\u001b[0m \u001b[0;32mFalse\u001b[0m\u001b[0;34m\u001b[0m\u001b[0m\n\u001b[1;32m   1694\u001b[0m \u001b[0;34m\u001b[0m\u001b[0m\n\u001b[0;32m-> 1695\u001b[0;31m         \u001b[0mself\u001b[0m\u001b[0;34m.\u001b[0m\u001b[0m_reader\u001b[0m \u001b[0;34m=\u001b[0m \u001b[0mparsers\u001b[0m\u001b[0;34m.\u001b[0m\u001b[0mTextReader\u001b[0m\u001b[0;34m(\u001b[0m\u001b[0msrc\u001b[0m\u001b[0;34m,\u001b[0m \u001b[0;34m**\u001b[0m\u001b[0mkwds\u001b[0m\u001b[0;34m)\u001b[0m\u001b[0;34m\u001b[0m\u001b[0m\n\u001b[0m\u001b[1;32m   1696\u001b[0m \u001b[0;34m\u001b[0m\u001b[0m\n\u001b[1;32m   1697\u001b[0m         \u001b[0;31m# XXX\u001b[0m\u001b[0;34m\u001b[0m\u001b[0;34m\u001b[0m\u001b[0m\n",
      "\u001b[0;32mpandas/_libs/parsers.pyx\u001b[0m in \u001b[0;36mpandas._libs.parsers.TextReader.__cinit__\u001b[0;34m()\u001b[0m\n",
      "\u001b[0;32mpandas/_libs/parsers.pyx\u001b[0m in \u001b[0;36mpandas._libs.parsers.TextReader._setup_parser_source\u001b[0;34m()\u001b[0m\n",
      "\u001b[0;31mFileNotFoundError\u001b[0m: File b'M44_run_05_cum_FFD.csv' does not exist"
     ]
    }
   ],
   "source": [
    "import os \n",
    "import pandas as pd\n",
    "import time\n",
    "%matplotlib inline\n",
    "import matplotlib.pyplot as plt\n",
    "import numpy as np\n",
    "from matplotlib import rc, rcParams\n",
    "rcParams.update({'font.size':12})\n",
    "rc('font',**{'family':'sans-serif','sans-serif':['Helvetica']})\n",
    "rc('text', usetex=True)\n",
    "\n",
    "#Prep:----------------------------------\n",
    "#os.chdir('/home/ekaterina/Documents/appaloosa/stars_shortlist/share/run_05')\n",
    "#os.chdir('/work1/eilin/data/CLUSTERS_01/Archive_MA_12072018/stars_shortlist_share')\n",
    "today = time.strftime(\"%d_%b_%Y\", time.gmtime())\n",
    "run = '05'\n",
    "locs = [#('M67','M67_run_{}_cum_FFD.csv'.format(run),4.0),\n",
    "        ('M44','M44_run_{}_cum_FFD.csv'.format(run),0.630),\n",
    "       # ('NGC_1647','NGC_1647_run_{}_cum_FFD.csv'.format(run),0.145),\n",
    "        ('Pleiades','Pleiades_run_{}_cum_FFD.csv'.format(run),0.125)]\n",
    "frames = []\n",
    "for (key, value,age) in locs:\n",
    "    df = pd.read_csv(value,\n",
    "                     usecols = ['Tmax','Tmin','alpha',\n",
    "                                'alpha_err','beta','beta_err',\n",
    "                                'minenerg','maxenerg','n_obj','nflares'],\n",
    "                     )\n",
    "    frames.append(df)\n",
    "res = pd.concat(frames, keys=[x[2] for x in locs])\n",
    "res = res.reset_index()\n",
    "res = res.drop('level_1',axis=1)\n",
    "res = res.rename(index=str, columns={'level_0':'age'})\n",
    "ages = {4.3:'M67',0.630:'M44',0.145:'NGC_1647',0.125:'Pleiades'}\n",
    "res['cluster'] = [ages[i] for i in res.age]\n",
    "res = res.dropna(how='any')\n",
    "#Transform alpha to conventional value\n",
    "res.alpha = -res.alpha+1.\n",
    "#res = res[(res.Tmax==7000) & (res.Tmin ==3000)]\n",
    "#Prep end. ------------------------------\n",
    "#res = res[res.nflares > 10]\n",
    "res.Tmax[(res.age==0.12) & (res.Tmin == 3750.)]=4000.\n",
    "res"
   ]
  },
  {
   "cell_type": "code",
   "execution_count": 2,
   "metadata": {},
   "outputs": [
    {
     "name": "stderr",
     "output_type": "stream",
     "text": [
      "/usr/lib/python3.4/site-packages/ipykernel_launcher.py:5: SettingWithCopyWarning: \n",
      "A value is trying to be set on a copy of a slice from a DataFrame\n",
      "\n",
      "See the caveats in the documentation: http://pandas.pydata.org/pandas-docs/stable/indexing.html#indexing-view-versus-copy\n",
      "  \"\"\"\n"
     ]
    }
   ],
   "source": [
    "res = res[(res.Tmax-res.Tmin < 500) | (res.Tmax-res.Tmin > 3000)]\n",
    "#res = res[res.Tmax != 5000]\n",
    "#res = res[res.Tmax != 5500]\n",
    "#res = res[res.Tmax != 4500]\n",
    "res.Tmax[res.Tmax == 3999.] = 4000.\n",
    "res = res.sort_values(by='Tmax')"
   ]
  },
  {
   "cell_type": "code",
   "execution_count": 2,
   "metadata": {},
   "outputs": [],
   "source": [
    "from collections import OrderedDict\n",
    "from matplotlib.transforms import blended_transform_factory\n",
    "\n",
    "linestyles = OrderedDict(\n",
    "    [('solid',               (0, ())),\n",
    "     ('loosely dotted',      (0, (1, 10))),\n",
    "     ('dotted',              (0, (1, 5))),\n",
    "     ('densely dotted',      (0, (1, 1))),\n",
    "\n",
    "     ('loosely dashed',      (0, (5, 10))),\n",
    "     ('dashed',              (0, (5, 5))),\n",
    "     ('densely dashed',      (0, (5, 1))),\n",
    "\n",
    "     ('loosely dashdotted',  (0, (3, 10, 1, 10))),\n",
    "     ('dashdotted',          (0, (3, 5, 1, 5))),\n",
    "     ('densely dashdotted',  (0, (3, 1, 1, 1))),\n",
    "\n",
    "     ('loosely dashdotdotted', (0, (3, 10, 1, 10, 1, 10))),\n",
    "     ('dashdotdotted',         (0, (3, 5, 1, 5, 1, 5))),\n",
    "     ('densely dashdotdotted', (0, (3, 1, 1, 1, 1, 1)))])"
   ]
  },
  {
   "cell_type": "markdown",
   "metadata": {},
   "source": [
    "### Plot alpha and beta(t)"
   ]
  },
  {
   "cell_type": "code",
   "execution_count": 3,
   "metadata": {},
   "outputs": [
    {
     "ename": "NameError",
     "evalue": "name 'res' is not defined",
     "output_type": "error",
     "traceback": [
      "\u001b[0;31m---------------------------------------------------------------------------\u001b[0m",
      "\u001b[0;31mNameError\u001b[0m                                 Traceback (most recent call last)",
      "\u001b[0;32m<ipython-input-3-37e1c4085391>\u001b[0m in \u001b[0;36m<module>\u001b[0;34m()\u001b[0m\n\u001b[1;32m     21\u001b[0m \u001b[0;34m\u001b[0m\u001b[0m\n\u001b[1;32m     22\u001b[0m \u001b[0mfig\u001b[0m\u001b[0;34m,\u001b[0m \u001b[0;34m(\u001b[0m\u001b[0max1\u001b[0m\u001b[0;34m,\u001b[0m\u001b[0max2\u001b[0m\u001b[0;34m)\u001b[0m \u001b[0;34m=\u001b[0m \u001b[0mplt\u001b[0m\u001b[0;34m.\u001b[0m\u001b[0msubplots\u001b[0m\u001b[0;34m(\u001b[0m\u001b[0mnrows\u001b[0m\u001b[0;34m=\u001b[0m\u001b[0;36m1\u001b[0m\u001b[0;34m,\u001b[0m \u001b[0mncols\u001b[0m\u001b[0;34m=\u001b[0m\u001b[0;36m2\u001b[0m\u001b[0;34m,\u001b[0m \u001b[0mfigsize\u001b[0m\u001b[0;34m=\u001b[0m\u001b[0;34m(\u001b[0m\u001b[0;36m9\u001b[0m\u001b[0;34m,\u001b[0m\u001b[0;36m7\u001b[0m\u001b[0;34m)\u001b[0m\u001b[0;34m,\u001b[0m\u001b[0msharex\u001b[0m\u001b[0;34m=\u001b[0m\u001b[0;32mTrue\u001b[0m\u001b[0;34m)\u001b[0m\u001b[0;34m\u001b[0m\u001b[0m\n\u001b[0;32m---> 23\u001b[0;31m \u001b[0;32mfor\u001b[0m \u001b[0mlabel\u001b[0m\u001b[0;34m,\u001b[0m \u001b[0mdf\u001b[0m \u001b[0;32min\u001b[0m \u001b[0mres\u001b[0m\u001b[0;34m.\u001b[0m\u001b[0mgroupby\u001b[0m\u001b[0;34m(\u001b[0m\u001b[0;34m[\u001b[0m\u001b[0;34m'Tmax'\u001b[0m\u001b[0;34m,\u001b[0m\u001b[0;34m'Tmin'\u001b[0m\u001b[0;34m]\u001b[0m\u001b[0;34m)\u001b[0m\u001b[0;34m:\u001b[0m\u001b[0;34m\u001b[0m\u001b[0m\n\u001b[0m\u001b[1;32m     24\u001b[0m     df.plot(x='age',y='beta',yerr='beta_err',\n\u001b[1;32m     25\u001b[0m       \u001b[0mkind\u001b[0m\u001b[0;34m=\u001b[0m\u001b[0;34m'line'\u001b[0m\u001b[0;34m,\u001b[0m \u001b[0max\u001b[0m\u001b[0;34m=\u001b[0m\u001b[0max2\u001b[0m\u001b[0;34m,\u001b[0m\u001b[0mlegend\u001b[0m\u001b[0;34m=\u001b[0m\u001b[0;32mFalse\u001b[0m\u001b[0;34m,\u001b[0m\u001b[0;34m\u001b[0m\u001b[0m\n",
      "\u001b[0;31mNameError\u001b[0m: name 'res' is not defined"
     ]
    },
    {
     "data": {
      "image/png": "[encoded data removed]",
      "text/plain": [
       "<matplotlib.figure.Figure at 0x7fc1c8fbe6d8>"
      ]
     },
     "metadata": {},
     "output_type": "display_data"
    }
   ],
   "source": [
    "def colors(Tmin, Tmax):\n",
    "    if Tmax < 7000.:\n",
    "        c = {3000:linestyles['densely dashed'], \n",
    "             3250:linestyles['densely dotted'],\n",
    "             3500:linestyles['densely dashdotted'],\n",
    "             3750:linestyles['densely dashdotdotted']}\n",
    "        return c[Tmin]\n",
    "    else: \n",
    "        return '-'\n",
    "rcParams.update({'errorbar.capsize': 20})\n",
    "# import pylab as plt\n",
    "# params = {'text.usetex': False, 'mathtext.fontset': 'stixsans'}\n",
    "# plt.rcParams.update(params)\n",
    "import matplotlib.pylab as pl\n",
    "from matplotlib import rc\n",
    "rc('text', usetex=True)\n",
    "rc('font', size=13)\n",
    "rc('legend', fontsize=13)\n",
    "rc('text.latex', preamble=r'\\usepackage{cmbright}')\n",
    "\n",
    " \n",
    "fig, (ax1,ax2) = plt.subplots(nrows=1, ncols=2, figsize=(9,7),sharex=True)\n",
    "for label, df in res.groupby(['Tmax','Tmin']):\n",
    "    df.plot(x='age',y='beta',yerr='beta_err',\n",
    "      kind='line', ax=ax2,legend=False,\n",
    "                 markersize=10,linewidth=5,marker='o',alpha=0.75,\n",
    "                # label='{}-{} K'.format(int(label[1]),int(label[0])),\n",
    "                 linestyle=colors(label[1],label[0]))\n",
    "    print(label[0])\n",
    "    df.plot(x='age',y='alpha',yerr='alpha_err',\n",
    "                 kind='line', ax=ax1,\n",
    "                 markersize=10,linewidth=5,marker='o',\n",
    "                 label='{}-{} K'.format(int(label[1]),int(label[0])), \n",
    "                 linestyle=colors(label[1],label[0]),\n",
    "                 alpha=0.75,\n",
    "           )\n",
    "ax1.legend(bbox_to_anchor=(0.6,0.27))\n",
    "\n",
    "ax1.set_xlabel('age (Gyr)')\n",
    "ax1.set_ylabel(r'$\\alpha$')\n",
    "ax2.set_xlabel('age (Gyr)')\n",
    "ax2.set_ylabel(r'$\\log\\beta$')\n",
    "plt.xlim(0,0.8)\n",
    "\n",
    "\n",
    "plt.tight_layout()\n",
    "#plt.savefig('/home/ekaterina/Documents/Flares_in_Clusters_Paper/pic-dump/results/alphabeta.png',dpi=300)\n"
   ]
  },
  {
   "cell_type": "code",
   "execution_count": 37,
   "metadata": {},
   "outputs": [
    {
     "data": {
      "image/png": "[encoded data removed]",
      "text/plain": [
       "<matplotlib.figure.Figure at 0x7fb6de7504a8>"
      ]
     },
     "metadata": {},
     "output_type": "display_data"
    }
   ],
   "source": [
    "#fig, (ax1,ax2) = plt.subplots(nrows=1, ncols=2, figsize=(10,4),sharex=True)\n",
    "\n",
    "plt.figure(figsize=(7,6))\n",
    "pleiades = res[res.age==0.125]\n",
    "tmin = {3249.:31.9,\n",
    "        3499.:32.,\n",
    "        3749.:32.1,\n",
    "        4000.:32.2,\n",
    "        7000.:32.1,}\n",
    "for i, row in pleiades.iterrows():\n",
    "    x = np.linspace(tmin[row.Tmax], np.log10(row.maxenerg),30)\n",
    "    b = 10**(row.beta)/(dur.dur[(dur.Tmax==row.Tmax) & (dur.age==0.63)]*365*24)\n",
    "    b = np.log10(b).values\n",
    "    y = b - (row.alpha-1.)*x\n",
    "    plt.plot(x,y,linestyle=colors(row.Tmin,row.Tmax),c='k',linewidth=3,label='{}-{} K'.format(int(row.Tmin),int(row.Tmax)))\n",
    "m44 = res[res.age==0.63]\n",
    "tmin = {3249.:31.8,\n",
    "        3499.:31.9,\n",
    "        3749.:31.9,\n",
    "        4000.:32.,\n",
    "        7000.:31.9,}\n",
    "for i, row in m44.iterrows():\n",
    "    x = np.linspace(tmin[row.Tmax], np.log10(row.maxenerg),30)\n",
    "    b = 10**(row.beta)/(dur.dur[(dur.Tmax==row.Tmax) & (dur.age==0.63)]*365*24)\n",
    "    b = np.log10(b).values\n",
    "    y = b - (row.alpha-1.)*x\n",
    "    plt.plot(x,y,linestyle=colors(row.Tmin,row.Tmax),c='red',linewidth=3,)\n",
    "plt.legend()#bbox_to_anchor=(0.6,0.27))\n",
    "\n",
    "plt.xlabel('log( $E_{Kp,flare}$ (erg) )')\n",
    "plt.ylabel(r'log( frequency in (h$^{-1}$) )')\n",
    "# ax2.set_xlabel('log(energy in erg)')\n",
    "# ax2.set_ylabel(r'log(frequency in h$^{-1}$)')\n",
    "plt.tight_layout()\n",
    "plt.savefig('/home/ekaterina/Documents/Flares_in_Clusters_Paper/pic-dump/results/slopes.png',dpi=300)\n"
   ]
  },
  {
   "cell_type": "code",
   "execution_count": 40,
   "metadata": {},
   "outputs": [
    {
     "data": {
      "image/png": "[encoded data removed]",
      "text/plain": [
       "<matplotlib.figure.Figure at 0x7fb6de991cf8>"
      ]
     },
     "metadata": {},
     "output_type": "display_data"
    }
   ],
   "source": [
    "fig, (ax1,ax2) = plt.subplots(nrows=1, ncols=2, figsize=(9,7),sharex=True)\n",
    "res = res[res.Tmax != 7000]\n",
    "\n",
    "for label, df in res.groupby(['age']):\n",
    "    df = df.sort_values(by='Tmax')\n",
    "    df['midTbin'] =(df.Tmax+df.Tmin)/2\n",
    "    df['Terr'] = df.Tmax-df.midTbin\n",
    "    df.plot(x='midTbin',y='beta',yerr='beta_err',xerr='Terr',\n",
    "      kind='line', ax=ax2,legend=False,\n",
    "                 markersize=10,linewidth=5,marker='o',alpha=0.75,\n",
    "            label='{} Gyr'.format(label),\n",
    "                       )\n",
    "    \n",
    "    df.plot(x='midTbin',y='alpha',yerr='alpha_err',xerr='Terr',\n",
    "                 kind='line', ax=ax1,\n",
    "                 markersize=10,linewidth=5,marker='o',\n",
    "                label='{} Gyr'.format(label),\n",
    "                 alpha=0.75,\n",
    "           )\n",
    "ax1.legend(bbox_to_anchor=(0.55,0.15))\n",
    "\n",
    "ax1.set_xlabel('$T_{eff}$ (K)')\n",
    "ax1.set_ylabel(r'$\\alpha$')\n",
    "ax2.set_xlabel('$T_{eff}$ in (K)')\n",
    "ax2.set_ylabel(r'$\\log\\beta$')\n",
    "\n",
    "plt.tight_layout()\n",
    "plt.savefig('/home/ekaterina/Documents/Flares_in_Clusters_Paper/pic-dump/results/alphabetaofT.png',dpi=300)\n",
    "#.format(today)"
   ]
  },
  {
   "cell_type": "markdown",
   "metadata": {},
   "source": [
    "### Plot total energy, total number of flares per cluster"
   ]
  },
  {
   "cell_type": "code",
   "execution_count": 4,
   "metadata": {},
   "outputs": [
    {
     "data": {
      "text/plain": [
       "'/work1/eilin/data/CLUSTERS_01/Archive_MA_12072018/stars_shortlist_share'"
      ]
     },
     "execution_count": 4,
     "metadata": {},
     "output_type": "execute_result"
    }
   ],
   "source": [
    "os.getcwd()"
   ]
  },
  {
   "cell_type": "code",
   "execution_count": 7,
   "metadata": {
    "scrolled": true
   },
   "outputs": [
    {
     "data": {
      "text/html": [
       "<div>\n",
       "<style scoped>\n",
       "    .dataframe tbody tr th:only-of-type {\n",
       "        vertical-align: middle;\n",
       "    }\n",
       "\n",
       "    .dataframe tbody tr th {\n",
       "        vertical-align: top;\n",
       "    }\n",
       "\n",
       "    .dataframe thead th {\n",
       "        text-align: right;\n",
       "    }\n",
       "</style>\n",
       "<table border=\"1\" class=\"dataframe\">\n",
       "  <thead>\n",
       "    <tr style=\"text-align: right;\">\n",
       "      <th></th>\n",
       "      <th>Tmin</th>\n",
       "      <th>Tmax</th>\n",
       "      <th>cluster</th>\n",
       "      <th>threshold</th>\n",
       "    </tr>\n",
       "  </thead>\n",
       "  <tbody>\n",
       "    <tr>\n",
       "      <th>0</th>\n",
       "      <td>3000.0</td>\n",
       "      <td>3249.0</td>\n",
       "      <td>Pleiades</td>\n",
       "      <td>1.234378e+32</td>\n",
       "    </tr>\n",
       "    <tr>\n",
       "      <th>1</th>\n",
       "      <td>3250.0</td>\n",
       "      <td>3499.0</td>\n",
       "      <td>Pleiades</td>\n",
       "      <td>1.726234e+32</td>\n",
       "    </tr>\n",
       "    <tr>\n",
       "      <th>2</th>\n",
       "      <td>3500.0</td>\n",
       "      <td>3749.0</td>\n",
       "      <td>Pleiades</td>\n",
       "      <td>1.845931e+32</td>\n",
       "    </tr>\n",
       "    <tr>\n",
       "      <th>3</th>\n",
       "      <td>3750.0</td>\n",
       "      <td>4000.0</td>\n",
       "      <td>Pleiades</td>\n",
       "      <td>2.435808e+32</td>\n",
       "    </tr>\n",
       "    <tr>\n",
       "      <th>4</th>\n",
       "      <td>3000.0</td>\n",
       "      <td>7000.0</td>\n",
       "      <td>Pleiades</td>\n",
       "      <td>1.768141e+32</td>\n",
       "    </tr>\n",
       "    <tr>\n",
       "      <th>5</th>\n",
       "      <td>3000.0</td>\n",
       "      <td>3249.0</td>\n",
       "      <td>M44</td>\n",
       "      <td>3.426318e+32</td>\n",
       "    </tr>\n",
       "    <tr>\n",
       "      <th>6</th>\n",
       "      <td>3250.0</td>\n",
       "      <td>3499.0</td>\n",
       "      <td>M44</td>\n",
       "      <td>1.777936e+32</td>\n",
       "    </tr>\n",
       "    <tr>\n",
       "      <th>7</th>\n",
       "      <td>3500.0</td>\n",
       "      <td>3749.0</td>\n",
       "      <td>M44</td>\n",
       "      <td>1.123365e+32</td>\n",
       "    </tr>\n",
       "    <tr>\n",
       "      <th>8</th>\n",
       "      <td>3750.0</td>\n",
       "      <td>4000.0</td>\n",
       "      <td>M44</td>\n",
       "      <td>1.052825e+32</td>\n",
       "    </tr>\n",
       "    <tr>\n",
       "      <th>9</th>\n",
       "      <td>3000.0</td>\n",
       "      <td>7000.0</td>\n",
       "      <td>M44</td>\n",
       "      <td>1.987380e+32</td>\n",
       "    </tr>\n",
       "    <tr>\n",
       "      <th>10</th>\n",
       "      <td>3000.0</td>\n",
       "      <td>3249.0</td>\n",
       "      <td>M67</td>\n",
       "      <td>NaN</td>\n",
       "    </tr>\n",
       "    <tr>\n",
       "      <th>11</th>\n",
       "      <td>3250.0</td>\n",
       "      <td>3499.0</td>\n",
       "      <td>M67</td>\n",
       "      <td>NaN</td>\n",
       "    </tr>\n",
       "    <tr>\n",
       "      <th>12</th>\n",
       "      <td>3500.0</td>\n",
       "      <td>3749.0</td>\n",
       "      <td>M67</td>\n",
       "      <td>1.298567e+33</td>\n",
       "    </tr>\n",
       "    <tr>\n",
       "      <th>13</th>\n",
       "      <td>3750.0</td>\n",
       "      <td>4000.0</td>\n",
       "      <td>M67</td>\n",
       "      <td>1.368313e+33</td>\n",
       "    </tr>\n",
       "    <tr>\n",
       "      <th>14</th>\n",
       "      <td>3000.0</td>\n",
       "      <td>7000.0</td>\n",
       "      <td>M67</td>\n",
       "      <td>1.976319e+33</td>\n",
       "    </tr>\n",
       "  </tbody>\n",
       "</table>\n",
       "</div>"
      ],
      "text/plain": [
       "      Tmin    Tmax   cluster     threshold\n",
       "0   3000.0  3249.0  Pleiades  1.234378e+32\n",
       "1   3250.0  3499.0  Pleiades  1.726234e+32\n",
       "2   3500.0  3749.0  Pleiades  1.845931e+32\n",
       "3   3750.0  4000.0  Pleiades  2.435808e+32\n",
       "4   3000.0  7000.0  Pleiades  1.768141e+32\n",
       "5   3000.0  3249.0       M44  3.426318e+32\n",
       "6   3250.0  3499.0       M44  1.777936e+32\n",
       "7   3500.0  3749.0       M44  1.123365e+32\n",
       "8   3750.0  4000.0       M44  1.052825e+32\n",
       "9   3000.0  7000.0       M44  1.987380e+32\n",
       "10  3000.0  3249.0       M67           NaN\n",
       "11  3250.0  3499.0       M67           NaN\n",
       "12  3500.0  3749.0       M67  1.298567e+33\n",
       "13  3750.0  4000.0       M67  1.368313e+33\n",
       "14  3000.0  7000.0       M67  1.976319e+33"
      ]
     },
     "execution_count": 7,
     "metadata": {},
     "output_type": "execute_result"
    }
   ],
   "source": [
    "#merge detection thresholds\n",
    "#threshs = pd.read_csv('/work1/eilin/appaloosa/appaloosa/stars_shortlist/share/run_{}_median_detection_thresholds.csv'.format(run))\n",
    "threshs = pd.read_csv('stars_shortlist/share/run_{}_median_detection_thresholds.csv'.format(run))\n",
    "\n",
    "value_vars = ['Pleiades','M44','M67']\n",
    "id_vars = ['Tmin','Tmax']\n",
    "t = pd.melt(threshs, value_vars=value_vars, var_name='cluster',\n",
    "            value_name='threshold', id_vars=id_vars)\n",
    "t"
   ]
  },
  {
   "cell_type": "code",
   "execution_count": 11,
   "metadata": {},
   "outputs": [
    {
     "name": "stdout",
     "output_type": "stream",
     "text": [
      "Nothing in 3000.0-3249.0 for Pleiades\n",
      "Nothing in 3000.0-3249.0 for M44\n",
      "Nothing in 3000.0-3249.0 for M67\n",
      "Nothing in 3250.0-3499.0 for Pleiades\n",
      "Nothing in 3250.0-3499.0 for M44\n",
      "Nothing in 3250.0-3499.0 for M67\n",
      "Nothing in 3500.0-3749.0 for Pleiades\n",
      "Nothing in 3500.0-3749.0 for M44\n",
      "Nothing in 3500.0-3749.0 for M67\n",
      "Nothing in 3750.0-4000.0 for Pleiades\n",
      "Nothing in 3750.0-4000.0 for M44\n",
      "Nothing in 3750.0-4000.0 for M67\n"
     ]
    },
    {
     "ename": "ValueError",
     "evalue": "Empty data passed with indices specified.",
     "output_type": "error",
     "traceback": [
      "\u001b[0;31m---------------------------------------------------------------------------\u001b[0m",
      "\u001b[0;31mValueError\u001b[0m                                Traceback (most recent call last)",
      "\u001b[0;32m/usr/local/lib/python3.5/dist-packages/pandas/core/internals.py\u001b[0m in \u001b[0;36mcreate_block_manager_from_blocks\u001b[0;34m(blocks, axes)\u001b[0m\n\u001b[1;32m   4621\u001b[0m                 blocks = [make_block(values=blocks[0],\n\u001b[0;32m-> 4622\u001b[0;31m                                      placement=slice(0, len(axes[0])))]\n\u001b[0m\u001b[1;32m   4623\u001b[0m \u001b[0;34m\u001b[0m\u001b[0m\n",
      "\u001b[0;32m/usr/local/lib/python3.5/dist-packages/pandas/core/internals.py\u001b[0m in \u001b[0;36mmake_block\u001b[0;34m(values, placement, klass, ndim, dtype, fastpath)\u001b[0m\n\u001b[1;32m   2956\u001b[0m \u001b[0;34m\u001b[0m\u001b[0m\n\u001b[0;32m-> 2957\u001b[0;31m     \u001b[0;32mreturn\u001b[0m \u001b[0mklass\u001b[0m\u001b[0;34m(\u001b[0m\u001b[0mvalues\u001b[0m\u001b[0;34m,\u001b[0m \u001b[0mndim\u001b[0m\u001b[0;34m=\u001b[0m\u001b[0mndim\u001b[0m\u001b[0;34m,\u001b[0m \u001b[0mfastpath\u001b[0m\u001b[0;34m=\u001b[0m\u001b[0mfastpath\u001b[0m\u001b[0;34m,\u001b[0m \u001b[0mplacement\u001b[0m\u001b[0;34m=\u001b[0m\u001b[0mplacement\u001b[0m\u001b[0;34m)\u001b[0m\u001b[0;34m\u001b[0m\u001b[0m\n\u001b[0m\u001b[1;32m   2958\u001b[0m \u001b[0;34m\u001b[0m\u001b[0m\n",
      "\u001b[0;32m/usr/local/lib/python3.5/dist-packages/pandas/core/internals.py\u001b[0m in \u001b[0;36m__init__\u001b[0;34m(self, values, placement, ndim, fastpath)\u001b[0m\n\u001b[1;32m    119\u001b[0m                              'implies %d' % (len(self.values),\n\u001b[0;32m--> 120\u001b[0;31m                                              len(self.mgr_locs)))\n\u001b[0m\u001b[1;32m    121\u001b[0m \u001b[0;34m\u001b[0m\u001b[0m\n",
      "\u001b[0;31mValueError\u001b[0m: Wrong number of items passed 1, placement implies 11",
      "\nDuring handling of the above exception, another exception occurred:\n",
      "\u001b[0;31mValueError\u001b[0m                                Traceback (most recent call last)",
      "\u001b[0;32m<ipython-input-11-00ae98e34129>\u001b[0m in \u001b[0;36m<module>\u001b[0;34m()\u001b[0m\n\u001b[1;32m     58\u001b[0m                                    \u001b[0;34m'tot_en_err'\u001b[0m\u001b[0;34m,\u001b[0m\u001b[0;34m'tot_en'\u001b[0m\u001b[0;34m,\u001b[0m\u001b[0;34m\u001b[0m\u001b[0m\n\u001b[1;32m     59\u001b[0m                                    \u001b[0;34m'tot_flares_p_star'\u001b[0m\u001b[0;34m,\u001b[0m\u001b[0;34m'tot_flares'\u001b[0m\u001b[0;34m,\u001b[0m\u001b[0;34m\u001b[0m\u001b[0m\n\u001b[0;32m---> 60\u001b[0;31m                                    'Tmin','Tmax','FA','FA_err'])\n\u001b[0m\u001b[1;32m     61\u001b[0m \u001b[0;32mfor\u001b[0m \u001b[0mcol\u001b[0m \u001b[0;32min\u001b[0m \u001b[0mdata\u001b[0m\u001b[0;34m.\u001b[0m\u001b[0mcolumns\u001b[0m\u001b[0;34m.\u001b[0m\u001b[0mvalues\u001b[0m\u001b[0;34m:\u001b[0m\u001b[0;34m\u001b[0m\u001b[0m\n\u001b[1;32m     62\u001b[0m     \u001b[0;32mif\u001b[0m \u001b[0mcol\u001b[0m\u001b[0;34m!=\u001b[0m \u001b[0;34m'cluster'\u001b[0m\u001b[0;34m:\u001b[0m\u001b[0;34m\u001b[0m\u001b[0m\n",
      "\u001b[0;32m/usr/local/lib/python3.5/dist-packages/pandas/core/frame.py\u001b[0m in \u001b[0;36m__init__\u001b[0;34m(self, data, index, columns, dtype, copy)\u001b[0m\n\u001b[1;32m    359\u001b[0m             \u001b[0;32melse\u001b[0m\u001b[0;34m:\u001b[0m\u001b[0;34m\u001b[0m\u001b[0m\n\u001b[1;32m    360\u001b[0m                 mgr = self._init_ndarray(data, index, columns, dtype=dtype,\n\u001b[0;32m--> 361\u001b[0;31m                                          copy=copy)\n\u001b[0m\u001b[1;32m    362\u001b[0m         \u001b[0;32melif\u001b[0m \u001b[0misinstance\u001b[0m\u001b[0;34m(\u001b[0m\u001b[0mdata\u001b[0m\u001b[0;34m,\u001b[0m \u001b[0;34m(\u001b[0m\u001b[0mlist\u001b[0m\u001b[0;34m,\u001b[0m \u001b[0mtypes\u001b[0m\u001b[0;34m.\u001b[0m\u001b[0mGeneratorType\u001b[0m\u001b[0;34m)\u001b[0m\u001b[0;34m)\u001b[0m\u001b[0;34m:\u001b[0m\u001b[0;34m\u001b[0m\u001b[0m\n\u001b[1;32m    363\u001b[0m             \u001b[0;32mif\u001b[0m \u001b[0misinstance\u001b[0m\u001b[0;34m(\u001b[0m\u001b[0mdata\u001b[0m\u001b[0;34m,\u001b[0m \u001b[0mtypes\u001b[0m\u001b[0;34m.\u001b[0m\u001b[0mGeneratorType\u001b[0m\u001b[0;34m)\u001b[0m\u001b[0;34m:\u001b[0m\u001b[0;34m\u001b[0m\u001b[0m\n",
      "\u001b[0;32m/usr/local/lib/python3.5/dist-packages/pandas/core/frame.py\u001b[0m in \u001b[0;36m_init_ndarray\u001b[0;34m(self, values, index, columns, dtype, copy)\u001b[0m\n\u001b[1;32m    531\u001b[0m             \u001b[0mvalues\u001b[0m \u001b[0;34m=\u001b[0m \u001b[0mmaybe_infer_to_datetimelike\u001b[0m\u001b[0;34m(\u001b[0m\u001b[0mvalues\u001b[0m\u001b[0;34m)\u001b[0m\u001b[0;34m\u001b[0m\u001b[0m\n\u001b[1;32m    532\u001b[0m \u001b[0;34m\u001b[0m\u001b[0m\n\u001b[0;32m--> 533\u001b[0;31m         \u001b[0;32mreturn\u001b[0m \u001b[0mcreate_block_manager_from_blocks\u001b[0m\u001b[0;34m(\u001b[0m\u001b[0;34m[\u001b[0m\u001b[0mvalues\u001b[0m\u001b[0;34m]\u001b[0m\u001b[0;34m,\u001b[0m \u001b[0;34m[\u001b[0m\u001b[0mcolumns\u001b[0m\u001b[0;34m,\u001b[0m \u001b[0mindex\u001b[0m\u001b[0;34m]\u001b[0m\u001b[0;34m)\u001b[0m\u001b[0;34m\u001b[0m\u001b[0m\n\u001b[0m\u001b[1;32m    534\u001b[0m \u001b[0;34m\u001b[0m\u001b[0m\n\u001b[1;32m    535\u001b[0m     \u001b[0;34m@\u001b[0m\u001b[0mproperty\u001b[0m\u001b[0;34m\u001b[0m\u001b[0m\n",
      "\u001b[0;32m/usr/local/lib/python3.5/dist-packages/pandas/core/internals.py\u001b[0m in \u001b[0;36mcreate_block_manager_from_blocks\u001b[0;34m(blocks, axes)\u001b[0m\n\u001b[1;32m   4629\u001b[0m         \u001b[0mblocks\u001b[0m \u001b[0;34m=\u001b[0m \u001b[0;34m[\u001b[0m\u001b[0mgetattr\u001b[0m\u001b[0;34m(\u001b[0m\u001b[0mb\u001b[0m\u001b[0;34m,\u001b[0m \u001b[0;34m'values'\u001b[0m\u001b[0;34m,\u001b[0m \u001b[0mb\u001b[0m\u001b[0;34m)\u001b[0m \u001b[0;32mfor\u001b[0m \u001b[0mb\u001b[0m \u001b[0;32min\u001b[0m \u001b[0mblocks\u001b[0m\u001b[0;34m]\u001b[0m\u001b[0;34m\u001b[0m\u001b[0m\n\u001b[1;32m   4630\u001b[0m         \u001b[0mtot_items\u001b[0m \u001b[0;34m=\u001b[0m \u001b[0msum\u001b[0m\u001b[0;34m(\u001b[0m\u001b[0mb\u001b[0m\u001b[0;34m.\u001b[0m\u001b[0mshape\u001b[0m\u001b[0;34m[\u001b[0m\u001b[0;36m0\u001b[0m\u001b[0;34m]\u001b[0m \u001b[0;32mfor\u001b[0m \u001b[0mb\u001b[0m \u001b[0;32min\u001b[0m \u001b[0mblocks\u001b[0m\u001b[0;34m)\u001b[0m\u001b[0;34m\u001b[0m\u001b[0m\n\u001b[0;32m-> 4631\u001b[0;31m         \u001b[0mconstruction_error\u001b[0m\u001b[0;34m(\u001b[0m\u001b[0mtot_items\u001b[0m\u001b[0;34m,\u001b[0m \u001b[0mblocks\u001b[0m\u001b[0;34m[\u001b[0m\u001b[0;36m0\u001b[0m\u001b[0;34m]\u001b[0m\u001b[0;34m.\u001b[0m\u001b[0mshape\u001b[0m\u001b[0;34m[\u001b[0m\u001b[0;36m1\u001b[0m\u001b[0;34m:\u001b[0m\u001b[0;34m]\u001b[0m\u001b[0;34m,\u001b[0m \u001b[0maxes\u001b[0m\u001b[0;34m,\u001b[0m \u001b[0me\u001b[0m\u001b[0;34m)\u001b[0m\u001b[0;34m\u001b[0m\u001b[0m\n\u001b[0m\u001b[1;32m   4632\u001b[0m \u001b[0;34m\u001b[0m\u001b[0m\n\u001b[1;32m   4633\u001b[0m \u001b[0;34m\u001b[0m\u001b[0m\n",
      "\u001b[0;32m/usr/local/lib/python3.5/dist-packages/pandas/core/internals.py\u001b[0m in \u001b[0;36mconstruction_error\u001b[0;34m(tot_items, block_shape, axes, e)\u001b[0m\n\u001b[1;32m   4604\u001b[0m         \u001b[0;32mraise\u001b[0m \u001b[0me\u001b[0m\u001b[0;34m\u001b[0m\u001b[0m\n\u001b[1;32m   4605\u001b[0m     \u001b[0;32mif\u001b[0m \u001b[0mblock_shape\u001b[0m\u001b[0;34m[\u001b[0m\u001b[0;36m0\u001b[0m\u001b[0;34m]\u001b[0m \u001b[0;34m==\u001b[0m \u001b[0;36m0\u001b[0m\u001b[0;34m:\u001b[0m\u001b[0;34m\u001b[0m\u001b[0m\n\u001b[0;32m-> 4606\u001b[0;31m         \u001b[0;32mraise\u001b[0m \u001b[0mValueError\u001b[0m\u001b[0;34m(\u001b[0m\u001b[0;34m\"Empty data passed with indices specified.\"\u001b[0m\u001b[0;34m)\u001b[0m\u001b[0;34m\u001b[0m\u001b[0m\n\u001b[0m\u001b[1;32m   4607\u001b[0m     raise ValueError(\"Shape of passed values is {0}, indices imply {1}\".format(\n\u001b[1;32m   4608\u001b[0m         passed, implied))\n",
      "\u001b[0;31mValueError\u001b[0m: Empty data passed with indices specified."
     ]
    }
   ],
   "source": [
    "#os.chdir('/home/ekaterina/Documents/appaloosa/stars_shortlist')\n",
    "\n",
    "# locs2 = [('Pleiades','share/run_05/clusterenergies_Pleiades.csv'.format(run),0.120),\n",
    "#          ('M44','share/run_05/clusterenergies_M44.csv'.format(run),0.8),\n",
    "#          ('M67','share/run_05/clusterenergies_M67.csv'.format(run),4.0)]\n",
    "Tlims = [(3000.0,3249.0,'red'),(3250.0,3499.0,'orangered'),\n",
    "         (3500.0,3749.0,'gold'),(3750.0,4000.0,'c')]#,(3000.0,7000.0,'black')]\n",
    "#Tlims = [(3000.0, 7000.0,'blue')]\n",
    "dats = []\n",
    "for Tmin, Tmax, color in Tlims:\n",
    "    locs2 = [('Pleiades','clusterenergies_Pleiades_run_05_{}_{}.csv'.format(Tmin,Tmax),0.125),\n",
    "             ('M44','clusterenergies_M44_run_05_{}_{}.csv'.format(Tmin,Tmax),0.63),\n",
    "             ('M67','clusterenergies_M67_run_05_{}_{}.csv'.format(Tmin,Tmax),4.3)]\n",
    "    for (name, value, age) in locs2:\n",
    "        try:\n",
    "            df = pd.read_csv(value,\n",
    "                         usecols = ['clustered','clusterederr','clusterenergy',\n",
    "                                    'clusterenergy_err','rel_energ_err','Teff',\n",
    "                                    'stars_in_bin','Tmin','Tmax','L_bol','L_bol_err',\n",
    "                                    'count_true','energ_true'],\n",
    "                         )\n",
    "            df['cluster'] = name\n",
    "            \n",
    "        except (FileNotFoundError, OSError):\n",
    "            print('Nothing in {}-{} for {}'.format(Tmin,Tmax,name))\n",
    "            continue\n",
    "        #select color bin:\n",
    "        print(df.shape)\n",
    "        df = df[(df.Tmin == Tmin) & (df.Tmax == Tmax)]\n",
    "        df = df[df.count_true < 5.]\n",
    "        \n",
    "        \n",
    "        df = df.dropna(how='any')\n",
    "        print(df.shape)\n",
    "        if df.shape[0] == 0:\n",
    "            print('No high probability events.')\n",
    "            continue\n",
    "        detthr = t[(t.Tmin==Tmin) & (t.Tmax==Tmax)].threshold.max()\n",
    "        df = df[df.energ_true > detthr]\n",
    "        #if (df.stars_in_bin != df.stars_in_bin.iloc[0]).any(): \n",
    "         #   raise ValueError('The number of stars in your bin is ambiguous.')\n",
    "        #normalization constant\n",
    "        if df.shape[0] == 0:\n",
    "            print('No high energy events.')\n",
    "            continue\n",
    "        n_stars = df.stars_in_bin.iloc[0]\n",
    "        FAerr = np.sqrt( df.clusterenergy_err**2 + ( df.energ_true * df.L_bol_err /  df.L_bol )**2 ) /  df.L_bol\n",
    "        dats.append([ age, n_stars, detthr,\n",
    "                    np.sqrt((df.clusterenergy_err**2).sum())/n_stars,\n",
    "                    df.energ_true.sum()/n_stars, \n",
    "                    df.shape[0]/n_stars,\n",
    "                    df.shape[0],\n",
    "                    Tmin,Tmax,\n",
    "                    (df.energ_true/df.L_bol).sum()/n_stars,\n",
    "                     np.sqrt((FAerr**2).sum())/n_stars,])\n",
    "dats = np.asarray(dats) \n",
    "data = pd.DataFrame(dats, columns=['age','n_stars','threshold',\n",
    "                                   'tot_en_err','tot_en',\n",
    "                                   'tot_flares_p_star','tot_flares',\n",
    "                                   'Tmin','Tmax','FA','FA_err'])\n",
    "for col in data.columns.values:\n",
    "    if col!= 'cluster':\n",
    "        data[col] = data[col].astype('float')\n",
    "dur = pd.read_csv('/work1/eilin/appaloosa/appaloosa/stars_shortlist/share/dur.csv')\n",
    "print(dur)\n",
    "data = data.merge(dur, how='left', on=['Tmin','Tmax','age'])\n",
    "data['dursec'] = data.dur*365*24*60*60\n",
    "data['FA'] = data.FA/data.dursec\n",
    "data['FA_err'] = data.FA_err/data.dursec\n",
    "data['tot_flares_p_yr'] = data.tot_flares/data.dur\n",
    "data['tot_flares_p_yr_err'] = np.sqrt(data.tot_flares)/data.dur\n",
    "data.sort_values(by='age')\n",
    "\n",
    "\n",
    "\n",
    "\n",
    "data.to_csv('/work1/eilin/appaloosa/appaloosa/stars_shortlist/share/all_FAFR.csv')"
   ]
  },
  {
   "cell_type": "code",
   "execution_count": 24,
   "metadata": {},
   "outputs": [],
   "source": [
    "data = pd.read_csv('stars_shortlist/share/all_FAFR.csv')\n"
   ]
  },
  {
   "cell_type": "code",
   "execution_count": 45,
   "metadata": {},
   "outputs": [
    {
     "name": "stdout",
     "output_type": "stream",
     "text": [
      "3249.0\n",
      "3499.0\n",
      "3749.0\n",
      "4000.0\n"
     ]
    },
    {
     "data": {
      "image/png": "[encoded data removed]",
      "text/plain": [
       "<matplotlib.figure.Figure at 0x7fc1c5ea2e10>"
      ]
     },
     "metadata": {},
     "output_type": "display_data"
    }
   ],
   "source": [
    "fig, (ax2,ax1) = plt.subplots(nrows=1, ncols=2,figsize=(9,4.25))\n",
    "time = np.arange(0.12,4,0.01)\n",
    "skum1 = 0.00000005*np.sqrt(1/time)\n",
    "skumno1 = 0.0005/time\n",
    "skum2 = 0.01*np.sqrt(1/time)\n",
    "skumno = 1/time\n",
    "data = data[data.Tmax != 7000.]\n",
    "for label, df in data.groupby(['Tmax','Tmin']):\n",
    "    df = df.sort_values(by='age')\n",
    "\n",
    "    df['FA_FR'] =df.FA/df.tot_flares\n",
    "    df['FA_FR_err'] =1/(df.tot_flares)*np.sqrt((df.FA_FR)**2 * df.tot_flares + df.FA_err**2)\n",
    "\n",
    "    df.plot(x='age',y='FA',yerr='FA_err',\n",
    "                 kind='line', ax=ax1,linewidth=3,alpha=0.7,\n",
    "                 markersize=100,capsize=5,loglog=True,\n",
    "                  linestyle=colors(label[1],label[0]),\n",
    "               label=r'{:.0f}-{:.0f} K, $>${:.1E}'.format(label[1],label[0],df.threshold.max()),)\n",
    "    df.plot(x='age',y='tot_flares_p_yr',yerr='tot_flares_p_yr_err',\n",
    "                 kind='line', ax=ax2,linewidth=3,alpha=0.7,\n",
    "                 markersize=100,capsize=5,legend=False,loglog=True,\n",
    "                 \n",
    "                 #label='{:.0f}-{:.0f} K'.format(label[1],label[0]), \n",
    "                    linestyle=colors(label[1],label[0]),)\n",
    "#     df.plot(x='age',y='FA_FR',yerr='FA_FR_err',\n",
    "#                  kind='line', ax=ax3,linewidth=3,alpha=0.7,\n",
    "#                  markersize=100,capsize=5,loglog=True,legend=False,\n",
    "#              linestyle=colors(label[1],label[0]),\n",
    "#                  )\n",
    "           \n",
    "    print(label[0])\n",
    "A = np.power(10,np.arange(-2.5,2.8,0.45))\n",
    "B = np.power(10,np.arange(-1.3,3.8,0.35))\n",
    "for a in A[5:]:\n",
    "    ax1.plot(time, a*skum1,linewidth=2,linestyle=linestyles['loosely dotted'],color='k',alpha=0.6)#,label=r'$t^{-1/2}$')   \n",
    "for a in B[6:-3]:    \n",
    "    ax2.plot(time, a*skum2,linewidth=2,linestyle=linestyles['loosely dotted'],color='k',alpha=0.6,) \n",
    "#ax2.plot(time, skumno,linewidth=2,linestyle='dashed',color='k') \n",
    "#ax1.plot(time, skumno1,linewidth=2,linestyle='dashed',color='k') \n",
    "ax1.set_xlabel('age (Gyr)')\n",
    "ax2.set_xlabel('age (Gyr)')\n",
    "#ax3.set_xlabel('age (Gyr)')\n",
    "#ax3.set_ylabel(r'FA per flare')\n",
    "ax1.set_ylabel(r'FA')# in erg$\\cdot$yr$^{-1}$')\n",
    "ax2.set_ylabel(r'FR (yr$^{-1}$)')\n",
    "# plt.text(x=0.11,y=2e32,s='Pleiades')\n",
    "# plt.text(x=0.14,y=1e32,s='NGC 1647')\n",
    "# plt.text(x=0.6,y=2e32,s='Praesepe')\n",
    "# plt.text(x=3.4,y=4e32,s='M67')\n",
    "ax1.legend(loc=1)\n",
    "plt.tight_layout()\n",
    "#plt.savefig('/home/ekaterina/Documents/Presenting/CS20_Poster_Flares/FAFR_160718.svg')\n",
    "#plt.savefig('/home/ekaterina/Documents/Flares_in_Clusters_Paper/pic-dump/results/FAFR1e33.png',dpi=300)"
   ]
  },
  {
   "cell_type": "code",
   "execution_count": 10,
   "metadata": {},
   "outputs": [
    {
     "data": {
      "image/png": "[encoded data removed]",
      "text/plain": [
       "<matplotlib.figure.Figure at 0x7fc1c45afeb8>"
      ]
     },
     "metadata": {},
     "output_type": "display_data"
    }
   ],
   "source": [
    "fig, (ax1,ax2,ax3) = plt.subplots(nrows=1, ncols=3,figsize=(13,4))\n",
    "\n",
    "data = data[data.Tmax != 7000.]\n",
    "for label, df in data.groupby(['age']):\n",
    "    df = df.sort_values(by='Tmax')\n",
    "\n",
    "    df['midTbin'] =(df.Tmax+df.Tmin)/2\n",
    "    df['Terr'] = df.Tmax-df.midTbin\n",
    "    df['FA_FR'] =df.FA/df.tot_flares\n",
    "    df['FA_FR_err'] =1/(df.tot_flares)*np.sqrt((df.FA_FR)**2 * df.tot_flares + df.FA_err**2)\n",
    "    df.plot(x='midTbin',y='FA',yerr='FA_err',xerr='Terr',\n",
    "                 kind='line', ax=ax1,linewidth=3,alpha=0.7,\n",
    "                 markersize=100,capsize=5,logy=True,\n",
    "                 label='{} Gyr'.format(label))#, color=colors(label[1],label[0]))\n",
    "    df.plot(x='midTbin',y='tot_flares_p_yr',yerr='tot_flares_p_yr_err',\n",
    "                 kind='line', ax=ax2,linewidth=3,alpha=0.7,xerr='Terr',\n",
    "                 markersize=100,capsize=5,legend=False,logy=True,\n",
    "                 #label='{:.0f}-{:.0f} K'.format(label[1],label[0]), \n",
    "                    #color=colors(label[1],label[0]),\n",
    "           )\n",
    "    df.plot(x='midTbin',y='FA_FR',yerr='FA_FR_err',xerr='Terr',\n",
    "                 kind='line', ax=ax3,linewidth=3,alpha=0.7,\n",
    "                 markersize=100,capsize=5,logy=True,legend=False\n",
    "                 )\n",
    "           \n",
    "   # print(label[0])\n",
    "\n",
    "#ax2.plot(time, skumno,linewidth=2,linestyle='dashed',color='k') \n",
    "#ax1.plot(time, skumno1,linewidth=2,linestyle='dashed',color='k') \n",
    "ax1.set_xlabel(r'$T_{eff}$ (K)')\n",
    "ax2.set_xlabel(r'$T_{eff}$ (K)')\n",
    "ax3.set_xlabel(r'$T_{eff}$ (K)')\n",
    "ax1.set_ylabel(r'FA ')# in erg$\\cdot$yr$^{-1}$')\n",
    "ax2.set_ylabel(r'FR in (yr$^{-1}$)')\n",
    "ax3.set_ylabel(r'FA per flare')\n",
    "# plt.text(x=0.11,y=2e32,s='Pleiades')\n",
    "# plt.text(x=0.14,y=1e32,s='NGC 1647')\n",
    "# plt.text(x=0.6,y=2e32,s='Praesepe')\n",
    "# plt.text(x=3.4,y=4e32,s='M67')\n",
    "ax1.legend()\n",
    "plt.tight_layout()\n",
    "#plt.savefig('/home/ekaterina/Documents/Flares_in_Clusters_Paper/pic-dump/results/FAFRofT.png',dpi=300)"
   ]
  },
  {
   "cell_type": "code",
   "execution_count": 33,
   "metadata": {},
   "outputs": [
    {
     "name": "stdout",
     "output_type": "stream",
     "text": [
      "3000.0\n",
      "3000.0\n",
      "3250.0\n",
      "3500.0\n",
      "3750.0\n"
     ]
    },
    {
     "data": {
      "image/png": "[encoded data removed]",
      "text/plain": [
       "<matplotlib.figure.Figure at 0x7f9353b1dc88>"
      ]
     },
     "metadata": {},
     "output_type": "display_data"
    }
   ],
   "source": [
    "fig, ax = plt.subplots(figsize=(6,4))\n",
    "for label, df in data.groupby(['Tmin','Tmax']):\n",
    "    df = df.sort_values(by='age')\n",
    "    df.plot(x='age',y='tot_flares_p_star',yerr='tot_flares_p_star_err',\n",
    "                 kind='line', ax=ax,capsize=5,\n",
    "                 markersize=50,alpha=0.7,\n",
    "                linewidth=3,loglog=True,\n",
    "                 #linestyle='dashed',\n",
    "                 label='{:.0f}-{:.0f} K'.format(label[0],label[1]), color=colors(label[0],label[1]))\n",
    "    print(label[0])\n",
    "plt.xlabel('age in Gyr')\n",
    "plt.ylabel('total number of flares per star')\n",
    "#plt.ylim(5e-3,20)\n",
    "# plt.text(x=0.11,y=30,s='Pleiades')\n",
    "# plt.text(x=0.14,y=18,s='NGC 1647')\n",
    "# plt.text(x=0.7,y=16,s='Praesepe')\n",
    "# plt.text(x=3.55,y=2.5,s='M67')\n",
    "plt.legend()\n",
    "plt.savefig('share/dated/{}_tot_flares_color_bins_full.jpg'.format(today),dpi=300)"
   ]
  },
  {
   "cell_type": "code",
   "execution_count": 12,
   "metadata": {},
   "outputs": [],
   "source": [
    "import numpy as np\n",
    "import pandas as pd\n",
    "import matplotlib.pyplot as plt\n",
    "%matplotlib inline\n",
    "import os\n",
    "#print(os.getcwd())\n",
    "os.chdir('/home/ekaterina/Documents/appaloosa/stars_shortlist')\n",
    "Tmin,Tmax=3000.0,7000.0\n",
    "\n",
    "locs2 = [('Pleiades','share/run_05/clusterenergies_Pleiades_run_05_{}_{}.csv'.format(Tmin,Tmax),0.120,'green'),\n",
    "         ('M44','share/run_05/clusterenergies_M44_run_05_{}_{}.csv'.format(Tmin,Tmax),0.8,'orange'),\n",
    "         ('M67','share/run_05/clusterenergies_M67_run_05_{}_{}.csv'.format(Tmin,Tmax),4.0,'blue')]\n",
    "for (name, value, age,color) in locs2:\n",
    "    vars()[name] = pd.read_csv(value,\n",
    "                     usecols = ['clustered','clusterederr','clusterenergy',\n",
    "                                'clusterenergy_err','rel_energ_err','Teff',\n",
    "                                'stars_in_bin','Tmin','Tmax','L_bol','L_bol_err',\n",
    "                                'count_true','energ_true','EPIC'],\n",
    "                     )\n",
    "#M67=M67[M67.count_true==1.6]\n",
    "#M44[M44.Teff > 4000].count()#5170K 3 flares???\n",
    "#Pleiades[Pleiades.Teff > 4000].sort_values(by='Teff').count()#4620,5170,4410,\n",
    "#M44.groupby('EPIC').count().shape"
   ]
  },
  {
   "cell_type": "code",
   "execution_count": 14,
   "metadata": {},
   "outputs": [
    {
     "data": {
      "image/png": "[encoded data removed]",
      "text/plain": [
       "<matplotlib.figure.Figure at 0x7f381a420470>"
      ]
     },
     "metadata": {},
     "output_type": "display_data"
    }
   ],
   "source": [
    "\n",
    "import matplotlib as mpl\n",
    "mpl.rcParams['image.cmap'] = 'jet'\n",
    "#import matplotlib.pylab as pl\n",
    "from matplotlib import rc\n",
    "rc('text', usetex=True)\n",
    "rc('font', size=13)\n",
    "rc('legend', fontsize=13)\n",
    "rc('text.latex', preamble=r'\\usepackage{cmbright}')\n",
    "\n",
    "fig, (ax1,ax2,ax3) = plt.subplots(ncols=3, nrows=1,sharey=True,figsize=(10,3),squeeze=True)\n",
    "for (name, value, age,color) in locs2:\n",
    "    x = vars()[name]\n",
    "    if name=='M67': a=20\n",
    "    else: a=1\n",
    "    ax1.hist(np.repeat(x.L_bol_err/x.L_bol,a),label=name,range=(0,2),bins=20,\n",
    "             histtype='barstacked',linewidth=2,stacked=True,color=color,\n",
    "            )\n",
    "    ax1.set_xlabel(r'$\\sigma _{L_{bol}} / L_{bol}$')\n",
    "    ax2.hist(np.repeat(x.clusterederr/x.clustered,a),label=name,range=(0,2),bins=20,\n",
    "             histtype='barstacked',linewidth=2,stacked=True,color=color,\n",
    "            )\n",
    "    ax2.set_xlabel(r'$\\sigma _{ED} / ED$')\n",
    "    ax3.hist(np.repeat(x.rel_energ_err,a),label=name,range=(0,2),bins=20,\n",
    "             histtype='barstacked',linewidth=2,stacked=True,color=color,\n",
    "            )\n",
    "    ax3.set_xlabel(r'$\\sigma _{E_{Kp,flare}} /E_{Kp,flare}$')\n",
    "plt.ylim(.1,350)\n",
    "plt.xlim(0,2)\n",
    "\n",
    "plt.legend(bbox_to_anchor=(0.85,0.80))\n",
    "fig.tight_layout(pad=0)\n",
    "plt.savefig('/home/ekaterina/Documents/Flares_in_Clusters_Paper/pic-dump/relerr.png',dpi=300)"
   ]
  },
  {
   "cell_type": "code",
   "execution_count": 177,
   "metadata": {},
   "outputs": [
    {
     "name": "stdout",
     "output_type": "stream",
     "text": [
      "Pleiades mean relative error on ED         is 0.29$\\pm$0.52.\n",
      "Pleiades mean relative error on energy     is 0.66$\\pm$0.52.\n",
      "Pleiades mean relative error on luminosity is 0.55$\\pm$0.27.\n",
      "M44      mean relative error on ED         is 0.26$\\pm$0.24.\n",
      "M44      mean relative error on energy     is 0.63$\\pm$0.24.\n",
      "M44      mean relative error on luminosity is 0.53$\\pm$0.27.\n",
      "M67      mean relative error on ED         is 0.21$\\pm$nan.\n",
      "M67      mean relative error on energy     is 0.51$\\pm$nan.\n",
      "M67      mean relative error on luminosity is 0.18$\\pm$nan.\n"
     ]
    }
   ],
   "source": [
    "for (name, value, age) in locs2:\n",
    "    x = vars()[name]\n",
    "    x = x[x.count_true < 5.]\n",
    "    print(r'{:8} mean relative error on ED         is {:.2f}$\\pm${:.2f}.'.format(name, (x.clusterederr/x.clustered).mean(),(x.clusterederr/x.clustered).std()))\n",
    "    print(r'{:8} mean relative error on energy     is {:.2f}$\\pm${:.2f}.'.format(name, (x.rel_energ_err).mean(),(x.rel_energ_err).std()))\n",
    "    print(r'{:8} mean relative error on luminosity is {:.2f}$\\pm${:.2f}.'.format(name, (x.L_bol_err/x.L_bol).mean(),(x.L_bol_err/x.L_bol).std()))"
   ]
  },
  {
   "cell_type": "code",
   "execution_count": 182,
   "metadata": {},
   "outputs": [
    {
     "data": {
      "text/html": [
       "<div>\n",
       "<style scoped>\n",
       "    .dataframe tbody tr th:only-of-type {\n",
       "        vertical-align: middle;\n",
       "    }\n",
       "\n",
       "    .dataframe tbody tr th {\n",
       "        vertical-align: top;\n",
       "    }\n",
       "\n",
       "    .dataframe thead th {\n",
       "        text-align: right;\n",
       "    }\n",
       "</style>\n",
       "<table border=\"1\" class=\"dataframe\">\n",
       "  <thead>\n",
       "    <tr style=\"text-align: right;\">\n",
       "      <th></th>\n",
       "      <th>L_bol</th>\n",
       "      <th>L_bol_err</th>\n",
       "      <th>Teff</th>\n",
       "      <th>Tmax</th>\n",
       "      <th>Tmin</th>\n",
       "      <th>clustered</th>\n",
       "      <th>clusterederr</th>\n",
       "      <th>clusterenergy</th>\n",
       "      <th>clusterenergy_err</th>\n",
       "      <th>count_true</th>\n",
       "      <th>energ_true</th>\n",
       "      <th>stars_in_bin</th>\n",
       "      <th>rel_energ_err</th>\n",
       "    </tr>\n",
       "  </thead>\n",
       "  <tbody>\n",
       "    <tr>\n",
       "      <th>563</th>\n",
       "      <td>2.422876e+29</td>\n",
       "      <td>8.089374e+28</td>\n",
       "      <td>3500.0</td>\n",
       "      <td>7000.0</td>\n",
       "      <td>3000.0</td>\n",
       "      <td>7724.401963</td>\n",
       "      <td>1711.638107</td>\n",
       "      <td>6.884107e+33</td>\n",
       "      <td>3.765324e+33</td>\n",
       "      <td>4.000000</td>\n",
       "      <td>2.029237e+34</td>\n",
       "      <td>723</td>\n",
       "      <td>0.546959</td>\n",
       "    </tr>\n",
       "    <tr>\n",
       "      <th>564</th>\n",
       "      <td>1.426695e+29</td>\n",
       "      <td>4.763377e+28</td>\n",
       "      <td>3410.0</td>\n",
       "      <td>7000.0</td>\n",
       "      <td>3000.0</td>\n",
       "      <td>2479.392822</td>\n",
       "      <td>602.477609</td>\n",
       "      <td>1.607760e+33</td>\n",
       "      <td>1.089017e+33</td>\n",
       "      <td>2.666667</td>\n",
       "      <td>1.228252e+35</td>\n",
       "      <td>723</td>\n",
       "      <td>0.677351</td>\n",
       "    </tr>\n",
       "    <tr>\n",
       "      <th>565</th>\n",
       "      <td>1.426695e+29</td>\n",
       "      <td>4.763377e+28</td>\n",
       "      <td>3410.0</td>\n",
       "      <td>7000.0</td>\n",
       "      <td>3000.0</td>\n",
       "      <td>810.774986</td>\n",
       "      <td>779.767652</td>\n",
       "      <td>5.257461e+32</td>\n",
       "      <td>7.340010e+32</td>\n",
       "      <td>2.666667</td>\n",
       "      <td>1.228252e+35</td>\n",
       "      <td>723</td>\n",
       "      <td>1.396113</td>\n",
       "    </tr>\n",
       "    <tr>\n",
       "      <th>566</th>\n",
       "      <td>1.426695e+29</td>\n",
       "      <td>4.763377e+28</td>\n",
       "      <td>3410.0</td>\n",
       "      <td>7000.0</td>\n",
       "      <td>3000.0</td>\n",
       "      <td>1110.087082</td>\n",
       "      <td>303.988372</td>\n",
       "      <td>7.198347e+32</td>\n",
       "      <td>5.097862e+32</td>\n",
       "      <td>2.666667</td>\n",
       "      <td>1.228252e+35</td>\n",
       "      <td>723</td>\n",
       "      <td>0.708199</td>\n",
       "    </tr>\n",
       "    <tr>\n",
       "      <th>567</th>\n",
       "      <td>1.796103e+34</td>\n",
       "      <td>3.101760e+33</td>\n",
       "      <td>6040.0</td>\n",
       "      <td>7000.0</td>\n",
       "      <td>3000.0</td>\n",
       "      <td>184.878830</td>\n",
       "      <td>36.472844</td>\n",
       "      <td>2.792400e+34</td>\n",
       "      <td>1.343557e+34</td>\n",
       "      <td>3.888889</td>\n",
       "      <td>1.462172e+35</td>\n",
       "      <td>723</td>\n",
       "      <td>0.481148</td>\n",
       "    </tr>\n",
       "  </tbody>\n",
       "</table>\n",
       "</div>"
      ],
      "text/plain": [
       "            L_bol     L_bol_err    Teff    Tmax    Tmin    clustered  \\\n",
       "563  2.422876e+29  8.089374e+28  3500.0  7000.0  3000.0  7724.401963   \n",
       "564  1.426695e+29  4.763377e+28  3410.0  7000.0  3000.0  2479.392822   \n",
       "565  1.426695e+29  4.763377e+28  3410.0  7000.0  3000.0   810.774986   \n",
       "566  1.426695e+29  4.763377e+28  3410.0  7000.0  3000.0  1110.087082   \n",
       "567  1.796103e+34  3.101760e+33  6040.0  7000.0  3000.0   184.878830   \n",
       "\n",
       "     clusterederr  clusterenergy  clusterenergy_err  count_true    energ_true  \\\n",
       "563   1711.638107   6.884107e+33       3.765324e+33    4.000000  2.029237e+34   \n",
       "564    602.477609   1.607760e+33       1.089017e+33    2.666667  1.228252e+35   \n",
       "565    779.767652   5.257461e+32       7.340010e+32    2.666667  1.228252e+35   \n",
       "566    303.988372   7.198347e+32       5.097862e+32    2.666667  1.228252e+35   \n",
       "567     36.472844   2.792400e+34       1.343557e+34    3.888889  1.462172e+35   \n",
       "\n",
       "     stars_in_bin  rel_energ_err  \n",
       "563           723       0.546959  \n",
       "564           723       0.677351  \n",
       "565           723       1.396113  \n",
       "566           723       0.708199  \n",
       "567           723       0.481148  "
      ]
     },
     "execution_count": 182,
     "metadata": {},
     "output_type": "execute_result"
    }
   ],
   "source": [
    "Pleiades.sort_values(by='energ_true').tail()"
   ]
  },
  {
   "cell_type": "code",
   "execution_count": 15,
   "metadata": {},
   "outputs": [
    {
     "data": {
      "text/plain": [
       "0.02563202247191011"
      ]
     },
     "execution_count": 15,
     "metadata": {},
     "output_type": "execute_result"
    }
   ],
   "source": [
    "1/178/80*365\n"
   ]
  },
  {
   "cell_type": "code",
   "execution_count": 10,
   "metadata": {},
   "outputs": [
    {
     "data": {
      "text/plain": [
       "0.055"
      ]
     },
     "execution_count": 10,
     "metadata": {},
     "output_type": "execute_result"
    }
   ],
   "source": [
    "0.22/4\n"
   ]
  },
  {
   "cell_type": "code",
   "execution_count": 110,
   "metadata": {},
   "outputs": [
    {
     "data": {
      "text/plain": [
       "0.03389830508474576"
      ]
     },
     "execution_count": 110,
     "metadata": {},
     "output_type": "execute_result"
    }
   ],
   "source": [
    "0.06/1.77"
   ]
  },
  {
   "cell_type": "code",
   "execution_count": 12,
   "metadata": {},
   "outputs": [
    {
     "data": {
      "text/html": [
       "<div>\n",
       "<style scoped>\n",
       "    .dataframe tbody tr th:only-of-type {\n",
       "        vertical-align: middle;\n",
       "    }\n",
       "\n",
       "    .dataframe tbody tr th {\n",
       "        vertical-align: top;\n",
       "    }\n",
       "\n",
       "    .dataframe thead th {\n",
       "        text-align: right;\n",
       "    }\n",
       "</style>\n",
       "<table border=\"1\" class=\"dataframe\">\n",
       "  <thead>\n",
       "    <tr style=\"text-align: right;\">\n",
       "      <th></th>\n",
       "      <th>Tmin</th>\n",
       "      <th>Tmax</th>\n",
       "      <th>age</th>\n",
       "      <th>dur100</th>\n",
       "      <th>dur</th>\n",
       "    </tr>\n",
       "  </thead>\n",
       "  <tbody>\n",
       "    <tr>\n",
       "      <th>0</th>\n",
       "      <td>3000</td>\n",
       "      <td>7000</td>\n",
       "      <td>0.12</td>\n",
       "      <td>122.014</td>\n",
       "      <td>103.712</td>\n",
       "    </tr>\n",
       "    <tr>\n",
       "      <th>1</th>\n",
       "      <td>3000</td>\n",
       "      <td>3249</td>\n",
       "      <td>0.12</td>\n",
       "      <td>51.940</td>\n",
       "      <td>44.149</td>\n",
       "    </tr>\n",
       "    <tr>\n",
       "      <th>2</th>\n",
       "      <td>3250</td>\n",
       "      <td>3499</td>\n",
       "      <td>0.12</td>\n",
       "      <td>25.390</td>\n",
       "      <td>21.582</td>\n",
       "    </tr>\n",
       "    <tr>\n",
       "      <th>3</th>\n",
       "      <td>3500</td>\n",
       "      <td>3749</td>\n",
       "      <td>0.12</td>\n",
       "      <td>20.150</td>\n",
       "      <td>17.128</td>\n",
       "    </tr>\n",
       "    <tr>\n",
       "      <th>4</th>\n",
       "      <td>3750</td>\n",
       "      <td>4000</td>\n",
       "      <td>0.12</td>\n",
       "      <td>8.800</td>\n",
       "      <td>7.480</td>\n",
       "    </tr>\n",
       "    <tr>\n",
       "      <th>5</th>\n",
       "      <td>3000</td>\n",
       "      <td>7000</td>\n",
       "      <td>0.80</td>\n",
       "      <td>131.200</td>\n",
       "      <td>111.520</td>\n",
       "    </tr>\n",
       "    <tr>\n",
       "      <th>6</th>\n",
       "      <td>3000</td>\n",
       "      <td>3249</td>\n",
       "      <td>0.80</td>\n",
       "      <td>43.980</td>\n",
       "      <td>37.383</td>\n",
       "    </tr>\n",
       "    <tr>\n",
       "      <th>7</th>\n",
       "      <td>3250</td>\n",
       "      <td>3499</td>\n",
       "      <td>0.80</td>\n",
       "      <td>24.600</td>\n",
       "      <td>20.910</td>\n",
       "    </tr>\n",
       "    <tr>\n",
       "      <th>8</th>\n",
       "      <td>3500</td>\n",
       "      <td>3749</td>\n",
       "      <td>0.80</td>\n",
       "      <td>24.820</td>\n",
       "      <td>21.097</td>\n",
       "    </tr>\n",
       "    <tr>\n",
       "      <th>9</th>\n",
       "      <td>3750</td>\n",
       "      <td>4000</td>\n",
       "      <td>0.80</td>\n",
       "      <td>12.950</td>\n",
       "      <td>11.008</td>\n",
       "    </tr>\n",
       "    <tr>\n",
       "      <th>10</th>\n",
       "      <td>3000</td>\n",
       "      <td>7000</td>\n",
       "      <td>4.00</td>\n",
       "      <td>31.560</td>\n",
       "      <td>26.826</td>\n",
       "    </tr>\n",
       "    <tr>\n",
       "      <th>11</th>\n",
       "      <td>3000</td>\n",
       "      <td>3249</td>\n",
       "      <td>4.00</td>\n",
       "      <td>0.000</td>\n",
       "      <td>0.000</td>\n",
       "    </tr>\n",
       "    <tr>\n",
       "      <th>12</th>\n",
       "      <td>3250</td>\n",
       "      <td>3499</td>\n",
       "      <td>4.00</td>\n",
       "      <td>0.000</td>\n",
       "      <td>0.000</td>\n",
       "    </tr>\n",
       "    <tr>\n",
       "      <th>13</th>\n",
       "      <td>3500</td>\n",
       "      <td>3749</td>\n",
       "      <td>4.00</td>\n",
       "      <td>1.597</td>\n",
       "      <td>1.357</td>\n",
       "    </tr>\n",
       "    <tr>\n",
       "      <th>14</th>\n",
       "      <td>3750</td>\n",
       "      <td>4000</td>\n",
       "      <td>4.00</td>\n",
       "      <td>9.050</td>\n",
       "      <td>7.693</td>\n",
       "    </tr>\n",
       "  </tbody>\n",
       "</table>\n",
       "</div>"
      ],
      "text/plain": [
       "    Tmin  Tmax   age   dur100      dur\n",
       "0   3000  7000  0.12  122.014  103.712\n",
       "1   3000  3249  0.12   51.940   44.149\n",
       "2   3250  3499  0.12   25.390   21.582\n",
       "3   3500  3749  0.12   20.150   17.128\n",
       "4   3750  4000  0.12    8.800    7.480\n",
       "5   3000  7000  0.80  131.200  111.520\n",
       "6   3000  3249  0.80   43.980   37.383\n",
       "7   3250  3499  0.80   24.600   20.910\n",
       "8   3500  3749  0.80   24.820   21.097\n",
       "9   3750  4000  0.80   12.950   11.008\n",
       "10  3000  7000  4.00   31.560   26.826\n",
       "11  3000  3249  4.00    0.000    0.000\n",
       "12  3250  3499  4.00    0.000    0.000\n",
       "13  3500  3749  4.00    1.597    1.357\n",
       "14  3750  4000  4.00    9.050    7.693"
      ]
     },
     "execution_count": 12,
     "metadata": {},
     "output_type": "execute_result"
    }
   ],
   "source": [
    "dur\n"
   ]
  },
  {
   "cell_type": "code",
   "execution_count": 11,
   "metadata": {},
   "outputs": [
    {
     "name": "stdout",
     "output_type": "stream",
     "text": [
      "['/home/ekaterina/Documents/appaloosa/stars_shortlist/share/run_05/M44_parameter2.csv']\n"
     ]
    },
    {
     "data": {
      "text/plain": [
       "array(['Unnamed: 0', 'angDist', 'gmag', 'rmag', 'imag', 'zmag', 'ymag',\n",
       "       'J', 'H', 'K', 'RAJ2000', 'DEJ2000', 'spec_class', 'T', 'logT',\n",
       "       'BCv', 'Mv', 'logL', 'B-V', 'Bt-Vt', 'V-G', 'U-B', 'V-Rc', 'V-Ic',\n",
       "       'V-Ks', 'J-H', 'H-K', 'Ks-W1', 'W1-W2', 'W1-W3', 'W1-W4', 'Msun',\n",
       "       'logAge', 'b-y', 'M_J', 'M_Ks', 'Mbol', 'i-z', 'z-Y', 'R_Rsun',\n",
       "       '#SpT.1', 'lum_class', 'u_g', 'g_r', 'r_i', 'i_z', 'z_J', 'J_H',\n",
       "       'H_K', 'Jmag_abs', 'T_err', 'R_Rsun_err', 'Mbol_err', '72',\n",
       "       'L_quiet', 'L_quiet_bol', 'L_quiet_err', 'L_quiet_bol_err', 'g_i',\n",
       "       'J_K', 'r_z', 'g_z', 'J-K'], dtype=object)"
      ]
     },
     "execution_count": 11,
     "metadata": {},
     "output_type": "execute_result"
    }
   ],
   "source": [
    "import pandas as pd\n",
    "import glob\n",
    "cluster = 'M44'\n",
    "l = '/home/ekaterina/Documents/appaloosa/stars_shortlist/share/run_05/{0}_parameter2.csv'.format(cluster)\n",
    "\n",
    "print(glob.glob(l))\n",
    "if glob.glob(l) != []:\n",
    "    specs = pd.read_csv(l, index_col='EPIC')\n",
    "specs.columns.values"
   ]
  },
  {
   "cell_type": "code",
   "execution_count": 13,
   "metadata": {},
   "outputs": [],
   "source": [
    "s = specs[['H', 'J', 'K','gmag', 'imag', 'rmag', 'ymag', 'zmag']]"
   ]
  },
  {
   "cell_type": "code",
   "execution_count": 4,
   "metadata": {},
   "outputs": [
    {
     "name": "stdout",
     "output_type": "stream",
     "text": [
      "['Unnamed: 0' 'spec_class' 'T' 'logT' 'BCv' 'Mv' 'logL' 'B-V' 'Bt-Vt'\n",
      " 'V-G' 'U-B' 'V-Rc' 'V-Ic' 'V-Ks' 'J-H' 'H-K' 'Ks-W1' 'W1-W2' 'W1-W3'\n",
      " 'W1-W4' 'Msun' 'logAge' 'b-y' 'M_J' 'M_Ks' 'Mbol' 'i-z' 'z-Y' 'R_Rsun'\n",
      " '#SpT.1' 'lum_class' 'u_g' 'g_r' 'r_i' 'i_z' 'z_J' 'J_H' 'H_K' 'Jmag_abs']\n"
     ]
    }
   ],
   "source": [
    "params=pd.read_csv('/home/ekaterina/Documents/appaloosa/stars_shortlist/static/merged_specs.csv')\n",
    "print(params.columns.values)"
   ]
  },
  {
   "cell_type": "code",
   "execution_count": 14,
   "metadata": {},
   "outputs": [
    {
     "name": "stderr",
     "output_type": "stream",
     "text": [
      "/usr/local/lib/python3.5/dist-packages/ipykernel_launcher.py:1: SettingWithCopyWarning: \n",
      "A value is trying to be set on a copy of a slice from a DataFrame.\n",
      "Try using .loc[row_indexer,col_indexer] = value instead\n",
      "\n",
      "See the caveats in the documentation: http://pandas.pydata.org/pandas-docs/stable/indexing.html#indexing-view-versus-copy\n",
      "  \"\"\"Entry point for launching an IPython kernel.\n",
      "/usr/local/lib/python3.5/dist-packages/ipykernel_launcher.py:2: SettingWithCopyWarning: \n",
      "A value is trying to be set on a copy of a slice from a DataFrame.\n",
      "Try using .loc[row_indexer,col_indexer] = value instead\n",
      "\n",
      "See the caveats in the documentation: http://pandas.pydata.org/pandas-docs/stable/indexing.html#indexing-view-versus-copy\n",
      "  \n",
      "/usr/local/lib/python3.5/dist-packages/ipykernel_launcher.py:3: SettingWithCopyWarning: \n",
      "A value is trying to be set on a copy of a slice from a DataFrame.\n",
      "Try using .loc[row_indexer,col_indexer] = value instead\n",
      "\n",
      "See the caveats in the documentation: http://pandas.pydata.org/pandas-docs/stable/indexing.html#indexing-view-versus-copy\n",
      "  This is separate from the ipykernel package so we can avoid doing imports until\n",
      "/usr/local/lib/python3.5/dist-packages/ipykernel_launcher.py:4: SettingWithCopyWarning: \n",
      "A value is trying to be set on a copy of a slice from a DataFrame.\n",
      "Try using .loc[row_indexer,col_indexer] = value instead\n",
      "\n",
      "See the caveats in the documentation: http://pandas.pydata.org/pandas-docs/stable/indexing.html#indexing-view-versus-copy\n",
      "  after removing the cwd from sys.path.\n",
      "/usr/local/lib/python3.5/dist-packages/ipykernel_launcher.py:6: SettingWithCopyWarning: \n",
      "A value is trying to be set on a copy of a slice from a DataFrame.\n",
      "Try using .loc[row_indexer,col_indexer] = value instead\n",
      "\n",
      "See the caveats in the documentation: http://pandas.pydata.org/pandas-docs/stable/indexing.html#indexing-view-versus-copy\n",
      "  \n",
      "/usr/local/lib/python3.5/dist-packages/ipykernel_launcher.py:7: SettingWithCopyWarning: \n",
      "A value is trying to be set on a copy of a slice from a DataFrame.\n",
      "Try using .loc[row_indexer,col_indexer] = value instead\n",
      "\n",
      "See the caveats in the documentation: http://pandas.pydata.org/pandas-docs/stable/indexing.html#indexing-view-versus-copy\n",
      "  import sys\n",
      "/usr/local/lib/python3.5/dist-packages/ipykernel_launcher.py:8: SettingWithCopyWarning: \n",
      "A value is trying to be set on a copy of a slice from a DataFrame.\n",
      "Try using .loc[row_indexer,col_indexer] = value instead\n",
      "\n",
      "See the caveats in the documentation: http://pandas.pydata.org/pandas-docs/stable/indexing.html#indexing-view-versus-copy\n",
      "  \n",
      "/usr/local/lib/python3.5/dist-packages/ipykernel_launcher.py:9: SettingWithCopyWarning: \n",
      "A value is trying to be set on a copy of a slice from a DataFrame.\n",
      "Try using .loc[row_indexer,col_indexer] = value instead\n",
      "\n",
      "See the caveats in the documentation: http://pandas.pydata.org/pandas-docs/stable/indexing.html#indexing-view-versus-copy\n",
      "  if __name__ == '__main__':\n"
     ]
    }
   ],
   "source": [
    "s['J-H'] = s.J - s.H\n",
    "s['H-K'] = s.H - s.K\n",
    "s['i-z'] = s.imag - s.zmag\n",
    "s['z-Y'] = s.zmag - s.ymag\n",
    "\n",
    "s['g-r'] = s.gmag - s.rmag\n",
    "s['r-i'] = s.rmag - s.imag\n",
    "s['i-z'] = s.imag - s.zmag\n",
    "s['z-J'] = s.zmag - s.J"
   ]
  },
  {
   "cell_type": "code",
   "execution_count": 15,
   "metadata": {},
   "outputs": [
    {
     "data": {
      "text/plain": [
       "H       739\n",
       "J       740\n",
       "K       740\n",
       "gmag    732\n",
       "imag    739\n",
       "rmag    735\n",
       "ymag    734\n",
       "zmag    736\n",
       "J-H     739\n",
       "H-K     739\n",
       "i-z     736\n",
       "z-Y     734\n",
       "g-r     732\n",
       "r-i     734\n",
       "z-J     736\n",
       "dtype: int64"
      ]
     },
     "execution_count": 15,
     "metadata": {},
     "output_type": "execute_result"
    }
   ],
   "source": [
    "s.count()"
   ]
  },
  {
   "cell_type": "code",
   "execution_count": 9,
   "metadata": {},
   "outputs": [
    {
     "name": "stderr",
     "output_type": "stream",
     "text": [
      "/usr/local/lib/python3.5/dist-packages/IPython/core/interactiveshell.py:2728: DtypeWarning: Columns (8,11) have mixed types. Specify dtype option on import or set low_memory=False.\n",
      "  interactivity=interactivity, compiler=compiler, result=result)\n"
     ]
    },
    {
     "data": {
      "text/plain": [
       "array(['angDist', 'id', 'k2_ra', 'k2_dec', 'hip', 'tyc', 'ucac',\n",
       "       'twomass', 'sdss', 'objtype', 'kepflag', 'stpropflag', 'pmRA',\n",
       "       'e_pmRA', 'pmDEC', 'e_pmDEC', 'plx', 'e_plx', 'bmag', 'e_bmag',\n",
       "       'vmag', 'e_vmag', 'umag', 'e_umag', 'gmag', 'e_gmag', 'rmag',\n",
       "       'e_rmag', 'imag', 'e_imag', 'zmag', 'e_zmag', 'jmag', 'e_jmag',\n",
       "       'hmag', 'e_hmag', 'kmag', 'e_kmag', 'kp', 'teff', 'ep_teff',\n",
       "       'em_teff', 'logg', 'ep_logg', 'em_logg', 'feh', 'ep_feh', 'em_feh',\n",
       "       'rad', 'ep_rad', 'em_rad', 'mass', 'ep_mass', 'em_mass', 'rho',\n",
       "       'ep_rho', 'em_rho', 'd', 'ep_d', 'em_d', 'ebv', 'ep_ebv', 'em_ebv',\n",
       "       'nomad', 'mflg', 'prox', 'k2_avail_flag', 'KIC', 'RA', 'Dec',\n",
       "       'umag.1', 'gmag.1', 'rmag.1', 'imag.1', 'zmag.1', 'Jmag', 'Hmag',\n",
       "       'Kmag', 'kepmag', 'pmRA.1', 'pmDec', 'sg', 'v', 'cq', 'aq', 'fc'],\n",
       "      dtype=object)"
      ]
     },
     "execution_count": 9,
     "metadata": {},
     "output_type": "execute_result"
    }
   ],
   "source": [
    "k = pd.read_csv('/home/ekaterina/Documents/Matching_Catalogs/KICEPIC.csv')\n",
    "k.columns.values\n",
    "#k.head()"
   ]
  },
  {
   "cell_type": "code",
   "execution_count": 11,
   "metadata": {},
   "outputs": [
    {
     "data": {
      "text/plain": [
       "0         7.815\n",
       "1        12.795\n",
       "2        13.723\n",
       "3         9.500\n",
       "4        15.309\n",
       "5        12.271\n",
       "6        14.540\n",
       "7        12.938\n",
       "8        13.360\n",
       "9         7.083\n",
       "10       10.668\n",
       "11       10.733\n",
       "12       13.666\n",
       "13       11.076\n",
       "14       14.810\n",
       "15       16.128\n",
       "16       11.694\n",
       "17        9.267\n",
       "18        9.196\n",
       "19        7.991\n",
       "20        7.623\n",
       "21       11.854\n",
       "22       16.283\n",
       "23       10.280\n",
       "24       10.270\n",
       "25       11.433\n",
       "26        8.849\n",
       "27       13.296\n",
       "28       13.825\n",
       "29       14.400\n",
       "          ...  \n",
       "51463    17.486\n",
       "51464    16.266\n",
       "51465    16.996\n",
       "51466    16.452\n",
       "51467    14.322\n",
       "51468    17.578\n",
       "51469    15.205\n",
       "51470    14.905\n",
       "51471    13.332\n",
       "51472    16.776\n",
       "51473    17.334\n",
       "51474    17.280\n",
       "51475    15.787\n",
       "51476    17.782\n",
       "51477    15.053\n",
       "51478    16.409\n",
       "51479    13.985\n",
       "51480    16.060\n",
       "51481    15.051\n",
       "51482    16.119\n",
       "51483    15.633\n",
       "51484    15.189\n",
       "51485    16.352\n",
       "51486    14.702\n",
       "51487    14.337\n",
       "51488    16.028\n",
       "51489    14.595\n",
       "51490    15.612\n",
       "51491    17.802\n",
       "51492    15.289\n",
       "Name: kp, Length: 51493, dtype: float64"
      ]
     },
     "execution_count": 11,
     "metadata": {},
     "output_type": "execute_result"
    }
   ],
   "source": [
    "k.kp"
   ]
  },
  {
   "cell_type": "code",
   "execution_count": 6,
   "metadata": {},
   "outputs": [],
   "source": [
    "k = k[['KIC','id','twomass']]"
   ]
  },
  {
   "cell_type": "code",
   "execution_count": 7,
   "metadata": {},
   "outputs": [
    {
     "data": {
      "text/html": [
       "<div>\n",
       "<style scoped>\n",
       "    .dataframe tbody tr th:only-of-type {\n",
       "        vertical-align: middle;\n",
       "    }\n",
       "\n",
       "    .dataframe tbody tr th {\n",
       "        vertical-align: top;\n",
       "    }\n",
       "\n",
       "    .dataframe thead th {\n",
       "        text-align: right;\n",
       "    }\n",
       "</style>\n",
       "<table border=\"1\" class=\"dataframe\">\n",
       "  <thead>\n",
       "    <tr style=\"text-align: right;\">\n",
       "      <th></th>\n",
       "      <th>KIC</th>\n",
       "      <th>id</th>\n",
       "      <th>twomass</th>\n",
       "    </tr>\n",
       "  </thead>\n",
       "  <tbody>\n",
       "    <tr>\n",
       "      <th>0</th>\n",
       "      <td>11249</td>\n",
       "      <td>211044267</td>\n",
       "      <td>03472682+2340421</td>\n",
       "    </tr>\n",
       "    <tr>\n",
       "      <th>1</th>\n",
       "      <td>12704</td>\n",
       "      <td>211046240</td>\n",
       "      <td>03470853+2342389</td>\n",
       "    </tr>\n",
       "    <tr>\n",
       "      <th>2</th>\n",
       "      <td>12705</td>\n",
       "      <td>211048126</td>\n",
       "      <td>03470943+2344318</td>\n",
       "    </tr>\n",
       "    <tr>\n",
       "      <th>3</th>\n",
       "      <td>12706</td>\n",
       "      <td>211050523</td>\n",
       "      <td>03470988+2346568</td>\n",
       "    </tr>\n",
       "    <tr>\n",
       "      <th>4</th>\n",
       "      <td>11250</td>\n",
       "      <td>211044898</td>\n",
       "      <td>03475424+2341178</td>\n",
       "    </tr>\n",
       "  </tbody>\n",
       "</table>\n",
       "</div>"
      ],
      "text/plain": [
       "     KIC         id           twomass\n",
       "0  11249  211044267  03472682+2340421\n",
       "1  12704  211046240  03470853+2342389\n",
       "2  12705  211048126  03470943+2344318\n",
       "3  12706  211050523  03470988+2346568\n",
       "4  11250  211044898  03475424+2341178"
      ]
     },
     "execution_count": 7,
     "metadata": {},
     "output_type": "execute_result"
    }
   ],
   "source": [
    "k.head()"
   ]
  },
  {
   "cell_type": "code",
   "execution_count": 14,
   "metadata": {},
   "outputs": [
    {
     "data": {
      "text/plain": [
       "[<matplotlib.lines.Line2D at 0x7f6643453208>]"
      ]
     },
     "execution_count": 14,
     "metadata": {},
     "output_type": "execute_result"
    },
    {
     "data": {
      "image/png": "[encoded data removed]",
      "text/plain": [
       "<matplotlib.figure.Figure at 0x7f66433e1b38>"
      ]
     },
     "metadata": {},
     "output_type": "display_data"
    }
   ],
   "source": [
    "x=np.linspace(0,200,100)\n",
    "plt.figure()\n",
    "y1 = np.append(300-x[:-i],[0]*i)\n",
    "plt.plot(x,y1)\n",
    "y = y1.copy()\n",
    "for i in np.arange(10,50,10):\n",
    "\n",
    "    y = y + np.append(300-x[:-i],[0]*i)\n",
    "    plt.plot(x,y1)\n",
    "plt.yscale('log')\n",
    "plt.xscale('log')\n",
    "plt.plot(x,y,color='k')"
   ]
  },
  {
   "cell_type": "code",
   "execution_count": 16,
   "metadata": {},
   "outputs": [
    {
     "data": {
      "text/plain": [
       "1.7677669529663689"
      ]
     },
     "execution_count": 16,
     "metadata": {},
     "output_type": "execute_result"
    }
   ],
   "source": [
    "2**(-2.5)*10\n",
    "\n"
   ]
  },
  {
   "cell_type": "code",
   "execution_count": null,
   "metadata": {},
   "outputs": [],
   "source": []
  }
 ],
 "metadata": {
  "kernelspec": {
   "display_name": "Python 3",
   "language": "python",
   "name": "python3"
  },
  "language_info": {
   "codemirror_mode": {
    "name": "ipython",
    "version": 3
   },
   "file_extension": ".py",
   "mimetype": "text/x-python",
   "name": "python",
   "nbconvert_exporter": "python",
   "pygments_lexer": "ipython3",
   "version": "3.5.2"
  }
 },
 "nbformat": 4,
 "nbformat_minor": 2
}
