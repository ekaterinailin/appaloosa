{
 "cells": [
  {
   "cell_type": "code",
   "execution_count": 11,
   "metadata": {},
   "outputs": [],
   "source": [
    "%matplotlib inline\n",
    "import warnings\n",
    "warnings.filterwarnings(\"ignore\")\n",
    "import time\n",
    "import os\n",
    "import math\n",
    "import numpy as np\n",
    "import pyke as pk\n",
    "import pandas as pd\n",
    "import k2flix\n",
    "import matplotlib.pyplot as plt\n",
    "\n",
    "def collect(oid_list,test):\n",
    "    tpfs, flux, flares = dict(), dict(), dict()\n",
    "    for oid in oid_list:\n",
    "\n",
    "        flares[oid] = pd.read_csv('results/{}/{}_flares.csv'.format(test,oid),\n",
    "                                 usecols=['istart','istop','istart_no_sys_no_thruster','istop_no_sys_no_thruster'])\n",
    "        flux[oid] = pd.read_csv('results/{}/{}_tpf_times_FLUX.csv'.format(test,oid))#,\n",
    "                                #usecols=['flux_gap','time','flux_model'])\n",
    "    return flux, flares\n",
    "\n",
    "os.chdir('/home/ekaterina/Documents/appaloosa/stars_shortlist/M67')\n",
    "oid_list = pd.read_csv('M67_full.txt',names=['EPIC'])\n",
    "oid_list = oid_list.EPIC.tolist()\n",
    "test = 'run_01'\n",
    "flux, flares = collect(oid_list, test)"
   ]
  },
  {
   "cell_type": "markdown",
   "metadata": {},
   "source": [
    "- flare number before/after cleaning\n",
    "- coincidence with flags for cleaned flares\n",
    "- binomial distribution vs. real distribution\n"
   ]
  },
  {
   "cell_type": "code",
   "execution_count": 14,
   "metadata": {},
   "outputs": [],
   "source": [
    "l1, l2 = [], []\n",
    "for oid in oid_list:\n",
    "\n",
    "    l1.append(len(flares[oid].istart.dropna()))\n",
    "    l2.append(len(flares[oid].istart_no_sys_no_thruster.dropna()))\n",
    "\n",
    "c_flares = pd.DataFrame({'before':l1,'after':l2},index=oid_list)\n",
    "c_flares['difference'] = c_flares.before - c_flares.after\n",
    "c_flares.describe()"
   ]
  },
  {
   "cell_type": "code",
   "execution_count": 16,
   "metadata": {},
   "outputs": [
    {
     "data": {
      "text/html": [
       "<div>\n",
       "<style>\n",
       "    .dataframe thead tr:only-child th {\n",
       "        text-align: right;\n",
       "    }\n",
       "\n",
       "    .dataframe thead th {\n",
       "        text-align: left;\n",
       "    }\n",
       "\n",
       "    .dataframe tbody tr th {\n",
       "        vertical-align: top;\n",
       "    }\n",
       "</style>\n",
       "<table border=\"1\" class=\"dataframe\">\n",
       "  <thead>\n",
       "    <tr style=\"text-align: right;\">\n",
       "      <th></th>\n",
       "      <th>after</th>\n",
       "      <th>before</th>\n",
       "      <th>difference</th>\n",
       "    </tr>\n",
       "  </thead>\n",
       "  <tbody>\n",
       "    <tr>\n",
       "      <th>count</th>\n",
       "      <td>75.000000</td>\n",
       "      <td>75.000000</td>\n",
       "      <td>75.000000</td>\n",
       "    </tr>\n",
       "    <tr>\n",
       "      <th>mean</th>\n",
       "      <td>20.746667</td>\n",
       "      <td>37.653333</td>\n",
       "      <td>16.906667</td>\n",
       "    </tr>\n",
       "    <tr>\n",
       "      <th>std</th>\n",
       "      <td>16.969841</td>\n",
       "      <td>26.066699</td>\n",
       "      <td>10.571728</td>\n",
       "    </tr>\n",
       "    <tr>\n",
       "      <th>min</th>\n",
       "      <td>3.000000</td>\n",
       "      <td>11.000000</td>\n",
       "      <td>3.000000</td>\n",
       "    </tr>\n",
       "    <tr>\n",
       "      <th>25%</th>\n",
       "      <td>11.000000</td>\n",
       "      <td>23.000000</td>\n",
       "      <td>10.000000</td>\n",
       "    </tr>\n",
       "    <tr>\n",
       "      <th>50%</th>\n",
       "      <td>15.000000</td>\n",
       "      <td>28.000000</td>\n",
       "      <td>14.000000</td>\n",
       "    </tr>\n",
       "    <tr>\n",
       "      <th>75%</th>\n",
       "      <td>22.000000</td>\n",
       "      <td>38.000000</td>\n",
       "      <td>19.500000</td>\n",
       "    </tr>\n",
       "    <tr>\n",
       "      <th>max</th>\n",
       "      <td>82.000000</td>\n",
       "      <td>129.000000</td>\n",
       "      <td>58.000000</td>\n",
       "    </tr>\n",
       "  </tbody>\n",
       "</table>\n",
       "</div>"
      ],
      "text/plain": [
       "           after      before  difference\n",
       "count  75.000000   75.000000   75.000000\n",
       "mean   20.746667   37.653333   16.906667\n",
       "std    16.969841   26.066699   10.571728\n",
       "min     3.000000   11.000000    3.000000\n",
       "25%    11.000000   23.000000   10.000000\n",
       "50%    15.000000   28.000000   14.000000\n",
       "75%    22.000000   38.000000   19.500000\n",
       "max    82.000000  129.000000   58.000000"
      ]
     },
     "execution_count": 16,
     "metadata": {},
     "output_type": "execute_result"
    }
   ],
   "source": []
  },
  {
   "cell_type": "code",
   "execution_count": null,
   "metadata": {},
   "outputs": [],
   "source": []
  }
 ],
 "metadata": {
  "kernelspec": {
   "display_name": "Python 3",
   "language": "python",
   "name": "python3"
  },
  "language_info": {
   "codemirror_mode": {
    "name": "ipython",
    "version": 3
   },
   "file_extension": ".py",
   "mimetype": "text/x-python",
   "name": "python",
   "nbconvert_exporter": "python",
   "pygments_lexer": "ipython3",
   "version": "3.5.2"
  }
 },
 "nbformat": 4,
 "nbformat_minor": 2
}
