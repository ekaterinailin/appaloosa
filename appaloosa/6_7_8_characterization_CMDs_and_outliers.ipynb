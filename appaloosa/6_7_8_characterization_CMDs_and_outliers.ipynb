{
 "cells": [
  {
   "cell_type": "markdown",
   "metadata": {},
   "source": [
    "## Load parameters and calculate quiescent luminosity, assign spectral class and  if not already"
   ]
  },
  {
   "cell_type": "code",
   "execution_count": null,
   "metadata": {},
   "outputs": [],
   "source": [
    "%matplotlib inline\n",
    "import numpy as np\n",
    "import pandas as pd\n",
    "import warnings\n",
    "import specmatchemp.library\n",
    "import specmatchemp.plots as smplot\n",
    "import glob\n",
    "warnings.filterwarnings(\"ignore\")\n",
    "\n",
    "from f_6_7_8 import merged_spec_class, Mbol_to_Lum, kepler_luminosity, L_quieterr\n",
    "\n",
    "cluster_dict = {'M67':['M67','M67', 15, 4.0, 850],\n",
    "                'Ruprecht_147':['Ruprecht 147','Ruprecht_147', 30, 2.5, 300.],\n",
    "                'M44':['M44','M44', 47, 0.73, 181.5],\n",
    "                'M45':['M45','M45',55.,0.12,120.],\n",
    "                'NGC_1647':['NGC 1647','NGC_1647',0.,0.145,550.],\n",
    "                'Pleiades':['Pleiades','Pleiades',0.,0.100,136.]\n",
    "               }\n",
    "DM = lambda x: 5.*np.log10(float(x))-5. \n",
    "\n",
    "#------------------------------------------------\n",
    "cluster = 'M44'\n",
    "test = 'run_05'\n",
    "#------------------------------------------------\n",
    "\n",
    "basics = cluster_dict[cluster]\n",
    "dm = DM(basics[4])\n",
    "global dm\n",
    "l = '/home/ekaterina/Documents/appaloosa/stars_shortlist/{0}/{0}_parameter.csv'.format(cluster)\n",
    "print(glob.glob(l))\n",
    "\n",
    "# if glob.glob(l) != []:\n",
    "specs = pd.read_csv(l, index_col='EPIC')\n",
    "if 'L_quiet_bol_err' not in specs.columns.values:\n",
    "    wavmin, wavmax = 3480., 9700.\n",
    "    lib = specmatchemp.library.read_hdf(wavlim=[wavmin,wavmax])\n",
    "    specs = merged_spec_class(specs)\n",
    "    specs['L_quiet'] = np.nan\n",
    "    specs['L_quiet_bol'] = np.nan\n",
    "    specs['L_quiet_err'] = np.nan\n",
    "    specs['L_quiet_bol_err'] = np.nan\n",
    "\n",
    "    for oid in specs.index.values:\n",
    "        specs.L_quiet_bol[oid] = Mbol_to_Lum(specs.Mbol[oid])\n",
    "        specs.L_quiet_bol_err[oid] = Mbol_to_Lum(specs.Mbol[oid],\n",
    "                                                 specs.Mbol_err[oid],\n",
    "                                                 err=True,)\n",
    "        specs.L_quiet[oid] = kepler_luminosity(specs['T'][oid],lib)\n",
    "        specs.L_quiet_err[oid] = L_quieterr(specs.L_quiet[oid],\n",
    "                                            specs.R_Rsun[oid],\n",
    "                                            specs.R_Rsun_err[oid],\n",
    "                                            specs['T'][oid],\n",
    "                                            specs['T_err'][oid],\n",
    "                                            lib,)\n",
    "\n",
    "\n",
    "print(specs.columns)\n"
   ]
  },
  {
   "cell_type": "code",
   "execution_count": null,
   "metadata": {},
   "outputs": [],
   "source": [
    "r = specs.L_quiet_err/specs.L_quiet\n",
    "r.head()"
   ]
  },
  {
   "cell_type": "code",
   "execution_count": null,
   "metadata": {},
   "outputs": [],
   "source": [
    "from f_6_7_8 import interactive_CMD\n",
    "crs = {'g_i':('gmag','imag'),\n",
    "       'J_K':('J','K'),\n",
    "       'r_z':('rmag','zmag'),\n",
    "       'g_z':('gmag','zmag'),}\n",
    "\n",
    "# for key, c in crs.items():\n",
    "#     print(c[0],c[1])\n",
    "#     interactive_CMD(specs,cid1=c[0],cid2=c[1])\n",
    "#     input('Plot for {} done?'.format(key))\n",
    "    \n"
   ]
  },
  {
   "cell_type": "code",
   "execution_count": null,
   "metadata": {},
   "outputs": [],
   "source": [
    "outs=pd.Series()\n",
    "import os\n",
    "from f_6_7_8 import CMD\n",
    "for i in [1,2,3,4]:\n",
    "    file = '/home/ekaterina/Documents/appaloosa/stars_shortlist/share/temp/selected-data{}.txt'.format(i)\n",
    "    if os.stat(file).st_size != 0:\n",
    "        df = pd.read_csv(file,header=None,sep=' ').T.dropna(how='any')\n",
    "        df = df.rename(index=str, columns={0:'outlier'})\n",
    "        df.outlier = df.outlier.astype('int')\n",
    "        s = df.outlier\n",
    "        outs = pd.concat([outs,s],ignore_index=True)\n",
    "outs = outs.drop_duplicates()\n",
    "print(outs)\n",
    "for key, c in crs.items():\n",
    "    CMD(specs,cluster,cid1=c[0],cid2=c[1],color=key,ylim=(19,5),outliers=outs)\n",
    "outs.to_csv('/home/ekaterina/Documents/appaloosa/stars_shortlist/{0}/{0}_outliers.csv'.format(cluster))"
   ]
  },
  {
   "cell_type": "code",
   "execution_count": null,
   "metadata": {},
   "outputs": [],
   "source": [
    "from f_6_7_8 import CMD\n",
    "for key, c in crs.items():\n",
    "    CMD(specs,cluster,cid1=c[0],cid2=c[1],color=key,ylim=(18,9))"
   ]
  },
  {
   "cell_type": "code",
   "execution_count": null,
   "metadata": {},
   "outputs": [],
   "source": [
    "print(specs.shape)\n",
    "specs = specs.drop(list(outs))\n",
    "print(specs.shape)"
   ]
  },
  {
   "cell_type": "code",
   "execution_count": null,
   "metadata": {},
   "outputs": [],
   "source": [
    "specs[specs['T']<3000]"
   ]
  },
  {
   "cell_type": "code",
   "execution_count": null,
   "metadata": {},
   "outputs": [],
   "source": [
    "specs = specs.dropna(how='any',subset=['T','L_quiet'])"
   ]
  },
  {
   "cell_type": "code",
   "execution_count": null,
   "metadata": {},
   "outputs": [],
   "source": [
    "print(specs.shape)"
   ]
  },
  {
   "cell_type": "code",
   "execution_count": null,
   "metadata": {},
   "outputs": [],
   "source": [
    "#intermediate save\n",
    "specs.to_csv(l)"
   ]
  },
  {
   "cell_type": "code",
   "execution_count": null,
   "metadata": {},
   "outputs": [],
   "source": [
    "from pandas.api.types import CategoricalDtype\n",
    "from f_6_7_8 import spec_class_hist\n",
    "categor = ['{}{}'.format(c,num) for c in list('OBAFGKM') for num in list(range(10))]\n",
    "type_ = CategoricalDtype(categories=categor, ordered=True)\n",
    "specs.spec_class.astype(type_)\n",
    "s = specs.sort_values(by='spec_class')\n",
    "spec_class_hist(s,cluster,type_)"
   ]
  },
  {
   "cell_type": "code",
   "execution_count": null,
   "metadata": {},
   "outputs": [],
   "source": [
    "#remove all objects with spectral class hotter than F4\n",
    "specs = specs[specs.spec_class > 'F3']\n",
    "specs.shape\n",
    "specs.to_csv(l)"
   ]
  },
  {
   "cell_type": "code",
   "execution_count": null,
   "metadata": {},
   "outputs": [],
   "source": [
    "CMD(specs,cluster,cid1='gmag',cid2='imag',color='g_i',ylim=(21,8))#19,5\n",
    "CMD(specs,cluster,cid1='J',cid2='K',color='J_K',ylim=(18,6))#14,5\n",
    "CMD(specs,cluster,cid1='rmag',cid2='zmag',color='r_z',ylim=(20,8))#18,5\n",
    "CMD(specs,cluster,cid1='gmag',cid2='zmag',color='g_z',ylim=(20,9))#18,5"
   ]
  },
  {
   "cell_type": "code",
   "execution_count": null,
   "metadata": {},
   "outputs": [],
   "source": []
  }
 ],
 "metadata": {
  "kernelspec": {
   "display_name": "Python 3",
   "language": "python",
   "name": "python3"
  },
  "language_info": {
   "codemirror_mode": {
    "name": "ipython",
    "version": 3
   },
   "file_extension": ".py",
   "mimetype": "text/x-python",
   "name": "python",
   "nbconvert_exporter": "python",
   "pygments_lexer": "ipython3",
   "version": "3.5.2"
  }
 },
 "nbformat": 4,
 "nbformat_minor": 2
}
