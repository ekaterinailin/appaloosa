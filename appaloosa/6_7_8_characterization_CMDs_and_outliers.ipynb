{
 "cells": [
  {
   "cell_type": "markdown",
   "metadata": {},
   "source": [
    "## Load parameters and calculate quiescent luminosity, assign spectral class and  if not already"
   ]
  },
  {
   "cell_type": "code",
   "execution_count": 5,
   "metadata": {},
   "outputs": [
    {
     "name": "stdout",
     "output_type": "stream",
     "text": [
      "['/home/ekaterina/Documents/appaloosa/stars_shortlist/M67/M67_parameter.csv']\n",
      "Index(['Unnamed: 0', 'gmag', 'rmag', 'imag', 'zmag', 'ymag', 'J', 'H', 'K',\n",
      "       'RAJ2000', 'DEJ2000', 'spec_class', 'T', 'logT', 'BCv', 'Mv', 'logL',\n",
      "       'B-V', 'Bt-Vt', 'V-G', 'U-B', 'V-Rc', 'V-Ic', 'V-Ks', 'J-H', 'H-K',\n",
      "       'Ks-W1', 'W1-W2', 'W1-W3', 'W1-W4', 'Msun', 'logAge', 'b-y', 'M_J',\n",
      "       'M_Ks', 'Mbol', 'i-z', 'z-Y', 'R_Rsun', '#SpT.1', 'lum_class', 'u_g',\n",
      "       'g_r', 'r_i', 'i_z', 'z_J', 'J_H', 'H_K', 'Jmag_abs', '55', 'L_quiet',\n",
      "       'L_quiet_bol', 'g_z', 'r_z', 'g_i', 'J_K', 'T_err', 'R_Rsun_err',\n",
      "       '55.1', 'L_quiet_err', 'Mbol_err', '55.1.1', 'L_quiet_bol_err'],\n",
      "      dtype='object')\n"
     ]
    }
   ],
   "source": [
    "%matplotlib inline\n",
    "import numpy as np\n",
    "import pandas as pd\n",
    "import warnings\n",
    "import specmatchemp.library\n",
    "import specmatchemp.plots as smplot\n",
    "import glob\n",
    "warnings.filterwarnings(\"ignore\")\n",
    "\n",
    "from f_6_7_8 import merged_spec_class, Mbol_to_Lum, kepler_luminosity, L_quieterr\n",
    "\n",
    "cluster_dict = {'M67':['M67','M67', 15, 4.0, 850],\n",
    "                'Ruprecht_147':['Ruprecht 147','Ruprecht_147', 30, 2.5, 300.],\n",
    "                'M44':['M44','M44', 47, 0.73, 181.5],\n",
    "                'M45':['M45','M45',55.,0.12,120.],\n",
    "                'NGC_1647':['NGC 1647','NGC_1647',0.,0.145,550.],\n",
    "                'Pleiades':['Pleiades','Pleiades',0.,0.100,136.]\n",
    "               }\n",
    "DM = lambda x: 5.*np.log10(float(x))-5. \n",
    "\n",
    "#------------------------------------------------\n",
    "cluster = 'M67'\n",
    "test = 'run_10'\n",
    "#------------------------------------------------\n",
    "\n",
    "basics = cluster_dict[cluster]\n",
    "dm = DM(basics[4])\n",
    "global dm\n",
    "l = '/home/ekaterina/Documents/appaloosa/stars_shortlist/{0}/{0}_parameter.csv'.format(cluster)\n",
    "print(glob.glob(l))\n",
    "\n",
    "# if glob.glob(l) != []:\n",
    "specs = pd.read_csv(l, index_col='EPIC')\n",
    "if 'L_quiet_bol_err' not in specs.columns.values:\n",
    "    wavmin, wavmax = 3480., 9700.\n",
    "    lib = specmatchemp.library.read_hdf(wavlim=[wavmin,wavmax])\n",
    "    specs = merged_spec_class(specs)\n",
    "    specs['L_quiet'] = np.nan\n",
    "    specs['L_quiet_bol'] = np.nan\n",
    "    specs['L_quiet_err'] = np.nan\n",
    "    specs['L_quiet_bol_err'] = np.nan\n",
    "\n",
    "    for oid in specs.index.values:\n",
    "        specs.L_quiet_bol[oid] = Mbol_to_Lum(specs.Mbol[oid])\n",
    "        specs.L_quiet_bol_err[oid] = Mbol_to_Lum(specs.Mbol[oid],\n",
    "                                                 specs.Mbol_err[oid],\n",
    "                                                 err=True,)\n",
    "        specs.L_quiet[oid] = kepler_luminosity(specs['T'][oid],lib)\n",
    "        specs.L_quiet_err[oid] = L_quieterr(specs.L_quiet[oid],\n",
    "                                            specs.R_Rsun[oid],\n",
    "                                            specs.R_Rsun_err[oid],\n",
    "                                            specs['T'][oid],\n",
    "                                            specs['T_err'][oid],\n",
    "                                            lib,)\n",
    "\n",
    "\n",
    "print(specs.columns)\n"
   ]
  },
  {
   "cell_type": "code",
   "execution_count": null,
   "metadata": {},
   "outputs": [],
   "source": [
    "r = specs.L_quiet_err/specs.L_quiet\n",
    "r.head()"
   ]
  },
  {
   "cell_type": "code",
   "execution_count": null,
   "metadata": {},
   "outputs": [],
   "source": [
    "from f_6_7_8 import interactive_CMD\n",
    "crs = {'g_i':('gmag','imag'),\n",
    "       'J_K':('J','K'),\n",
    "       'r_z':('rmag','zmag'),\n",
    "       'g_z':('gmag','zmag'),}\n",
    "\n",
    "# for key, c in crs.items():\n",
    "#     print(c[0],c[1])\n",
    "#     interactive_CMD(specs,cid1=c[0],cid2=c[1])\n",
    "#     input('Plot for {} done?'.format(key))\n",
    "    \n"
   ]
  },
  {
   "cell_type": "code",
   "execution_count": null,
   "metadata": {},
   "outputs": [],
   "source": [
    "outs=pd.Series()\n",
    "import os\n",
    "from f_6_7_8 import CMD\n",
    "for i in [1,2,3,4]:\n",
    "    file = '/home/ekaterina/Documents/appaloosa/stars_shortlist/share/temp/selected-data{}.txt'.format(i)\n",
    "    if os.stat(file).st_size != 0:\n",
    "        df = pd.read_csv(file,header=None,sep=' ').T.dropna(how='any')\n",
    "        df = df.rename(index=str, columns={0:'outlier'})\n",
    "        df.outlier = df.outlier.astype('int')\n",
    "        s = df.outlier\n",
    "        outs = pd.concat([outs,s],ignore_index=True)\n",
    "outs = outs.drop_duplicates()\n",
    "print(outs)\n",
    "for key, c in crs.items():\n",
    "    CMD(specs,cluster,cid1=c[0],cid2=c[1],color=key,ylim=(19,5),outliers=outs)\n",
    "outs.to_csv('/home/ekaterina/Documents/appaloosa/stars_shortlist/{0}/{0}_outliers.csv'.format(cluster))"
   ]
  },
  {
   "cell_type": "code",
   "execution_count": null,
   "metadata": {},
   "outputs": [],
   "source": [
    "from f_6_7_8 import CMD\n",
    "for key, c in crs.items():\n",
    "    CMD(specs,cluster,cid1=c[0],cid2=c[1],color=key,ylim=(18,9))"
   ]
  },
  {
   "cell_type": "code",
   "execution_count": null,
   "metadata": {},
   "outputs": [],
   "source": [
    "print(specs.shape)\n",
    "specs = specs.drop(list(outs))\n",
    "print(specs.shape)"
   ]
  },
  {
   "cell_type": "code",
   "execution_count": 2,
   "metadata": {},
   "outputs": [
    {
     "data": {
      "text/html": [
       "<div>\n",
       "<style scoped>\n",
       "    .dataframe tbody tr th:only-of-type {\n",
       "        vertical-align: middle;\n",
       "    }\n",
       "\n",
       "    .dataframe tbody tr th {\n",
       "        vertical-align: top;\n",
       "    }\n",
       "\n",
       "    .dataframe thead th {\n",
       "        text-align: right;\n",
       "    }\n",
       "</style>\n",
       "<table border=\"1\" class=\"dataframe\">\n",
       "  <thead>\n",
       "    <tr style=\"text-align: right;\">\n",
       "      <th></th>\n",
       "      <th>Unnamed: 0</th>\n",
       "      <th>gmag</th>\n",
       "      <th>rmag</th>\n",
       "      <th>imag</th>\n",
       "      <th>zmag</th>\n",
       "      <th>ymag</th>\n",
       "      <th>J</th>\n",
       "      <th>H</th>\n",
       "      <th>K</th>\n",
       "      <th>RAJ2000</th>\n",
       "      <th>...</th>\n",
       "      <th>J_K</th>\n",
       "      <th>g_z</th>\n",
       "      <th>g_i</th>\n",
       "      <th>T_err</th>\n",
       "      <th>R_Rsun_err</th>\n",
       "      <th>59.1</th>\n",
       "      <th>L_quiet_err</th>\n",
       "      <th>Mbol_err</th>\n",
       "      <th>59</th>\n",
       "      <th>L_quiet_bol_err</th>\n",
       "    </tr>\n",
       "    <tr>\n",
       "      <th>EPIC</th>\n",
       "      <th></th>\n",
       "      <th></th>\n",
       "      <th></th>\n",
       "      <th></th>\n",
       "      <th></th>\n",
       "      <th></th>\n",
       "      <th></th>\n",
       "      <th></th>\n",
       "      <th></th>\n",
       "      <th></th>\n",
       "      <th></th>\n",
       "      <th></th>\n",
       "      <th></th>\n",
       "      <th></th>\n",
       "      <th></th>\n",
       "      <th></th>\n",
       "      <th></th>\n",
       "      <th></th>\n",
       "      <th></th>\n",
       "      <th></th>\n",
       "      <th></th>\n",
       "    </tr>\n",
       "  </thead>\n",
       "  <tbody>\n",
       "  </tbody>\n",
       "</table>\n",
       "<p>0 rows × 63 columns</p>\n",
       "</div>"
      ],
      "text/plain": [
       "Empty DataFrame\n",
       "Columns: [Unnamed: 0, gmag, rmag, imag, zmag, ymag, J, H, K, RAJ2000, DEJ2000, spec_class, T, logT, BCv, Mv, logL, B-V, Bt-Vt, V-G, U-B, V-Rc, V-Ic, V-Ks, J-H, H-K, Ks-W1, W1-W2, W1-W3, W1-W4, Msun, logAge, b-y, M_J, M_Ks, Mbol, i-z, z-Y, R_Rsun, #SpT.1, lum_class, u_g, g_r, r_i, i_z, z_J, J_H, H_K, Jmag_abs, 59, L_quiet, L_quiet_bol, r_z, J_K, g_z, g_i, T_err, R_Rsun_err, 59.1, L_quiet_err, Mbol_err, 59, L_quiet_bol_err]\n",
       "Index: []\n",
       "\n",
       "[0 rows x 63 columns]"
      ]
     },
     "execution_count": 2,
     "metadata": {},
     "output_type": "execute_result"
    }
   ],
   "source": [
    "specs[specs['T']<3000]"
   ]
  },
  {
   "cell_type": "code",
   "execution_count": null,
   "metadata": {},
   "outputs": [],
   "source": [
    "specs = specs.dropna(how='any',subset=['T','L_quiet'])"
   ]
  },
  {
   "cell_type": "code",
   "execution_count": 3,
   "metadata": {},
   "outputs": [
    {
     "name": "stdout",
     "output_type": "stream",
     "text": [
      "(155, 63)\n"
     ]
    }
   ],
   "source": [
    "print(specs.shape)"
   ]
  },
  {
   "cell_type": "code",
   "execution_count": 4,
   "metadata": {},
   "outputs": [],
   "source": [
    "#intermediate save\n",
    "specs.to_csv(l)"
   ]
  },
  {
   "cell_type": "code",
   "execution_count": null,
   "metadata": {},
   "outputs": [],
   "source": [
    "from pandas.api.types import CategoricalDtype\n",
    "from f_6_7_8 import spec_class_hist\n",
    "categor = ['{}{}'.format(c,num) for c in list('OBAFGKM') for num in list(range(10))]\n",
    "type_ = CategoricalDtype(categories=categor, ordered=True)\n",
    "specs.spec_class.astype(type_)\n",
    "s = specs.sort_values(by='spec_class')\n",
    "spec_class_hist(s,cluster,type_)"
   ]
  },
  {
   "cell_type": "code",
   "execution_count": null,
   "metadata": {},
   "outputs": [],
   "source": [
    "#remove all objects with spectral class hotter than F4\n",
    "specs = specs[specs.spec_class > 'F3']\n",
    "specs.shape\n",
    "specs.to_csv(l)"
   ]
  },
  {
   "cell_type": "code",
   "execution_count": null,
   "metadata": {},
   "outputs": [],
   "source": [
    "CMD(specs,cluster,cid1='gmag',cid2='imag',color='g_i',ylim=(21,8))#19,5\n",
    "CMD(specs,cluster,cid1='J',cid2='K',color='J_K',ylim=(18,6))#14,5\n",
    "CMD(specs,cluster,cid1='rmag',cid2='zmag',color='r_z',ylim=(20,8))#18,5\n",
    "CMD(specs,cluster,cid1='gmag',cid2='zmag',color='g_z',ylim=(20,9))#18,5"
   ]
  },
  {
   "cell_type": "code",
   "execution_count": null,
   "metadata": {},
   "outputs": [],
   "source": []
  }
 ],
 "metadata": {
  "kernelspec": {
   "display_name": "Python 3",
   "language": "python",
   "name": "python3"
  },
  "language_info": {
   "codemirror_mode": {
    "name": "ipython",
    "version": 3
   },
   "file_extension": ".py",
   "mimetype": "text/x-python",
   "name": "python",
   "nbconvert_exporter": "python",
   "pygments_lexer": "ipython3",
   "version": "3.5.2"
  }
 },
 "nbformat": 4,
 "nbformat_minor": 2
}
