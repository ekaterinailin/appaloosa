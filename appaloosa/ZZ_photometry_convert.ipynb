{
 "cells": [
  {
   "cell_type": "markdown",
   "metadata": {},
   "source": [
    "[SDSS to Pan-STARRS](http://iopscience.iop.org/article/10.3847/0004-637X/822/2/66/pdf)"
   ]
  },
  {
   "cell_type": "code",
   "execution_count": 1,
   "metadata": {},
   "outputs": [],
   "source": [
    "import numpy as np\n",
    "import pandas as pd\n",
    "import matplotlib.pyplot as plt\n",
    "%matplotlib inline\n",
    "\n",
    "def PS_to_SDSS(params,band):\n",
    "    '''\n",
    "    Converts PS1 grizy photometry to SDSS grizy.\n",
    "    \n",
    "    Input:\n",
    "    -----------\n",
    "    params - dataframe: Target list with at least g and i magnitude \n",
    "                        in PS1 given with gmag and imag as columns.\n",
    "    band - str: One of the following: u, g, r, i, z, y, found in\n",
    "                params with band+mag column.\n",
    "                \n",
    "    Return:\n",
    "    ------------\n",
    "    sdss - series: same length as params containing the converted SDSS\n",
    "                   band magnitude\n",
    "    '''\n",
    "    x = params.gmag-params.imag\n",
    "    df = pd.read_csv('stars_shortlist/static/SDSS_to_PS.csv')\n",
    "    df = df[df.Band==band].iloc[0]\n",
    "    band+='mag'\n",
    "    sdss = params[band] - df.a_0 - df.a_1*x - df.a_2*(x**2) - df.a_3*(x**3)\n",
    "\n",
    "    return sdss"
   ]
  },
  {
   "cell_type": "code",
   "execution_count": 3,
   "metadata": {},
   "outputs": [
    {
     "data": {
      "image/png": "[encoded data removed]",
      "text/plain": [
       "<matplotlib.figure.Figure at 0x7f19a2b369e8>"
      ]
     },
     "metadata": {},
     "output_type": "display_data"
    }
   ],
   "source": [
    "cluster = 'M44'\n",
    "test = 'run_06'\n",
    "params = pd.read_csv('stars_shortlist/{0}/{0}_parameter.csv'.format(cluster))\n",
    "oid_list = params.EPIC.tolist()\n",
    "b = ['g','r','i','z','y']\n",
    "for band in b:\n",
    "    sdssb = 'SDSS_{}'.format(band)\n",
    "    ps1b = 'PS1_{}'.format(band)\n",
    "    params[sdssb] = PS_to_SDSS(params, band)\n",
    "    old = params['{}mag'.format(band)]\n",
    "    params[ps1b] = old\n",
    "    dif = params[ps1b]-params[sdssb]\n",
    "    dif.hist(label='{0}'.format(band),alpha=0.5,bins=np.linspace(-.6,.3,40))\n",
    "plt.legend()\n",
    "\n",
    "    \n",
    "\n",
    "params.to_csv('stars_shortlist/{0}/{0}_parameter.csv'.format(cluster))"
   ]
  },
  {
   "cell_type": "raw",
   "metadata": {},
   "source": []
  },
  {
   "cell_type": "code",
   "execution_count": null,
   "metadata": {},
   "outputs": [],
   "source": []
  }
 ],
 "metadata": {
  "kernelspec": {
   "display_name": "Python 3",
   "language": "python",
   "name": "python3"
  },
  "language_info": {
   "codemirror_mode": {
    "name": "ipython",
    "version": 3
   },
   "file_extension": ".py",
   "mimetype": "text/x-python",
   "name": "python",
   "nbconvert_exporter": "python",
   "pygments_lexer": "ipython3",
   "version": "3.5.2"
  }
 },
 "nbformat": 4,
 "nbformat_minor": 2
}
