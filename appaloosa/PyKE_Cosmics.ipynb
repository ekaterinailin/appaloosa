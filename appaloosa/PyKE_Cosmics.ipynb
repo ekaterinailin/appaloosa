{
 "cells": [
  {
   "cell_type": "code",
   "execution_count": 1,
   "metadata": {
    "collapsed": false,
    "deletable": true,
    "editable": true
   },
   "outputs": [],
   "source": [
    "%matplotlib inline\n",
    "import warnings\n",
    "warnings.filterwarnings(\"ignore\")\n",
    "from appaloosa import RunLC\n",
    "import os\n",
    "import numpy as np\n",
    "import pyke as pk\n",
    "import pandas as pd\n",
    "oid=211410963\n",
    "loc = 'stars_shortlist/M67'\n",
    "tpf_loc = 'stars_shortlist/M67/ktwo{}-c05_lpd-targ.fits.gz'.format(oid)\n",
    "lc_loc = 'stars_shortlist/M67/hlsp_everest_k2_llc_{}-c05_kepler_v2.0_lc.fits'.format(oid)\n"
   ]
  },
  {
   "cell_type": "code",
   "execution_count": null,
   "metadata": {
    "collapsed": false,
    "deletable": true,
    "editable": true
   },
   "outputs": [],
   "source": [
    "os.chdir('/home/ekaterina/Documents/appaloosa')\n",
    "RunLC(lc_loc, dbmode='everest', display=True, debug=True, dofake=False, writeout=True)"
   ]
  },
  {
   "cell_type": "code",
   "execution_count": 2,
   "metadata": {
    "collapsed": false,
    "deletable": true,
    "editable": true
   },
   "outputs": [
    {
     "data": {
      "text/html": [
       "<div>\n",
       "<style>\n",
       "    .dataframe thead tr:only-child th {\n",
       "        text-align: right;\n",
       "    }\n",
       "\n",
       "    .dataframe thead th {\n",
       "        text-align: left;\n",
       "    }\n",
       "\n",
       "    .dataframe tbody tr th {\n",
       "        vertical-align: top;\n",
       "    }\n",
       "</style>\n",
       "<table border=\"1\" class=\"dataframe\">\n",
       "  <thead>\n",
       "    <tr style=\"text-align: right;\">\n",
       "      <th></th>\n",
       "      <th>Unnamed: 0</th>\n",
       "      <th>flux_gap</th>\n",
       "      <th>flux_model</th>\n",
       "      <th>time</th>\n",
       "    </tr>\n",
       "  </thead>\n",
       "  <tbody>\n",
       "    <tr>\n",
       "      <th>0</th>\n",
       "      <td>0</td>\n",
       "      <td>602.901787</td>\n",
       "      <td>606.787976</td>\n",
       "      <td>2306.611021</td>\n",
       "    </tr>\n",
       "    <tr>\n",
       "      <th>1</th>\n",
       "      <td>1</td>\n",
       "      <td>606.946295</td>\n",
       "      <td>609.228221</td>\n",
       "      <td>2306.631453</td>\n",
       "    </tr>\n",
       "    <tr>\n",
       "      <th>2</th>\n",
       "      <td>2</td>\n",
       "      <td>604.881634</td>\n",
       "      <td>610.677717</td>\n",
       "      <td>2306.651885</td>\n",
       "    </tr>\n",
       "    <tr>\n",
       "      <th>3</th>\n",
       "      <td>3</td>\n",
       "      <td>607.185952</td>\n",
       "      <td>611.281474</td>\n",
       "      <td>2306.672317</td>\n",
       "    </tr>\n",
       "    <tr>\n",
       "      <th>4</th>\n",
       "      <td>4</td>\n",
       "      <td>602.350398</td>\n",
       "      <td>611.184463</td>\n",
       "      <td>2306.692750</td>\n",
       "    </tr>\n",
       "  </tbody>\n",
       "</table>\n",
       "</div>"
      ],
      "text/plain": [
       "   Unnamed: 0    flux_gap  flux_model         time\n",
       "0           0  602.901787  606.787976  2306.611021\n",
       "1           1  606.946295  609.228221  2306.631453\n",
       "2           2  604.881634  610.677717  2306.651885\n",
       "3           3  607.185952  611.281474  2306.672317\n",
       "4           4  602.350398  611.184463  2306.692750"
      ]
     },
     "execution_count": 2,
     "metadata": {},
     "output_type": "execute_result"
    }
   ],
   "source": [
    "os.chdir('/home/ekaterina/Documents/appaloosa/stars_shortlist/M67/results/test_11')\n",
    "flux = pd.read_csv(str(oid)+'_flux.csv')#,usecols=['time','flux_gap','flux_model'])\n",
    "flares = pd.read_csv(str(oid)+'_flares.csv')#,usecols=['istart','istop'])\n",
    "#flux.plot(x='time',y=['flux_gap','flux_model'])\n",
    "#flux.plot(x='time',y='flux_model')\n",
    "# for index, row in flares.iterrows():\n",
    "#     print(flux.loc[row.istart:row.istop])\n",
    "flux.head()"
   ]
  },
  {
   "cell_type": "code",
   "execution_count": 6,
   "metadata": {
    "collapsed": false,
    "deletable": true,
    "editable": true
   },
   "outputs": [
    {
     "data": {
      "text/plain": [
       "array([ 2306.61102064,  2306.63145297,  2306.65188509, ...,  2381.39138211,\n",
       "        2381.41181404,  2381.43224587])"
      ]
     },
     "execution_count": 6,
     "metadata": {},
     "output_type": "execute_result"
    }
   ],
   "source": [
    "os.chdir('/home/ekaterina/Documents/appaloosa/stars_shortlist/M67')\n",
    "tpf = pk.KeplerTargetPixelFile('ktwo{}-c05_lpd-targ.fits.gz'.format(oid))\n",
    "apmask = tpf.pipeline_mask*0.01\n",
    "#d = tpf.flux*tpf.pipeline_mask\n",
    "tpf.time\n"
   ]
  },
  {
   "cell_type": "code",
   "execution_count": 11,
   "metadata": {
    "collapsed": false,
    "deletable": true,
    "editable": true
   },
   "outputs": [
    {
     "data": {
      "text/html": [
       "<div>\n",
       "<style>\n",
       "    .dataframe thead tr:only-child th {\n",
       "        text-align: right;\n",
       "    }\n",
       "\n",
       "    .dataframe thead th {\n",
       "        text-align: left;\n",
       "    }\n",
       "\n",
       "    .dataframe tbody tr th {\n",
       "        vertical-align: top;\n",
       "    }\n",
       "</style>\n",
       "<table border=\"1\" class=\"dataframe\">\n",
       "  <thead>\n",
       "    <tr style=\"text-align: right;\">\n",
       "      <th></th>\n",
       "      <th>Unnamed: 0</th>\n",
       "      <th>flux_gap</th>\n",
       "      <th>flux_model</th>\n",
       "      <th>time</th>\n",
       "      <th>tpf_time</th>\n",
       "    </tr>\n",
       "  </thead>\n",
       "  <tbody>\n",
       "    <tr>\n",
       "      <th>645</th>\n",
       "      <td>645</td>\n",
       "      <td>597.718434</td>\n",
       "      <td>600.178740</td>\n",
       "      <td>2319.789712</td>\n",
       "      <td>2319.77</td>\n",
       "    </tr>\n",
       "    <tr>\n",
       "      <th>646</th>\n",
       "      <td>646</td>\n",
       "      <td>597.603123</td>\n",
       "      <td>599.826590</td>\n",
       "      <td>2319.810144</td>\n",
       "      <td>2319.81</td>\n",
       "    </tr>\n",
       "    <tr>\n",
       "      <th>647</th>\n",
       "      <td>647</td>\n",
       "      <td>598.377805</td>\n",
       "      <td>599.522437</td>\n",
       "      <td>2319.830576</td>\n",
       "      <td>2319.83</td>\n",
       "    </tr>\n",
       "    <tr>\n",
       "      <th>648</th>\n",
       "      <td>648</td>\n",
       "      <td>593.212411</td>\n",
       "      <td>599.292055</td>\n",
       "      <td>2319.851008</td>\n",
       "      <td>2319.85</td>\n",
       "    </tr>\n",
       "    <tr>\n",
       "      <th>649</th>\n",
       "      <td>649</td>\n",
       "      <td>601.506722</td>\n",
       "      <td>599.161222</td>\n",
       "      <td>2319.871440</td>\n",
       "      <td>2319.87</td>\n",
       "    </tr>\n",
       "    <tr>\n",
       "      <th>650</th>\n",
       "      <td>650</td>\n",
       "      <td>601.171965</td>\n",
       "      <td>599.155651</td>\n",
       "      <td>2319.891872</td>\n",
       "      <td>2319.89</td>\n",
       "    </tr>\n",
       "    <tr>\n",
       "      <th>651</th>\n",
       "      <td>651</td>\n",
       "      <td>605.808730</td>\n",
       "      <td>599.284957</td>\n",
       "      <td>2319.912304</td>\n",
       "      <td>2319.91</td>\n",
       "    </tr>\n",
       "    <tr>\n",
       "      <th>652</th>\n",
       "      <td>652</td>\n",
       "      <td>598.498308</td>\n",
       "      <td>599.521451</td>\n",
       "      <td>2319.932736</td>\n",
       "      <td>2319.93</td>\n",
       "    </tr>\n",
       "    <tr>\n",
       "      <th>653</th>\n",
       "      <td>653</td>\n",
       "      <td>601.549201</td>\n",
       "      <td>599.832178</td>\n",
       "      <td>2319.953168</td>\n",
       "      <td>2319.95</td>\n",
       "    </tr>\n",
       "    <tr>\n",
       "      <th>654</th>\n",
       "      <td>654</td>\n",
       "      <td>603.733520</td>\n",
       "      <td>600.184182</td>\n",
       "      <td>2319.973600</td>\n",
       "      <td>2319.97</td>\n",
       "    </tr>\n",
       "  </tbody>\n",
       "</table>\n",
       "</div>"
      ],
      "text/plain": [
       "     Unnamed: 0    flux_gap  flux_model         time tpf_time\n",
       "645         645  597.718434  600.178740  2319.789712  2319.77\n",
       "646         646  597.603123  599.826590  2319.810144  2319.81\n",
       "647         647  598.377805  599.522437  2319.830576  2319.83\n",
       "648         648  593.212411  599.292055  2319.851008  2319.85\n",
       "649         649  601.506722  599.161222  2319.871440  2319.87\n",
       "650         650  601.171965  599.155651  2319.891872  2319.89\n",
       "651         651  605.808730  599.284957  2319.912304  2319.91\n",
       "652         652  598.498308  599.521451  2319.932736  2319.93\n",
       "653         653  601.549201  599.832178  2319.953168  2319.95\n",
       "654         654  603.733520  600.184182  2319.973600  2319.97"
      ]
     },
     "execution_count": 11,
     "metadata": {},
     "output_type": "execute_result"
    }
   ],
   "source": [
    "import math\n",
    "import timeit\n",
    "def find_nearest(array,value):\n",
    "    idx = np.searchsorted(array, value, side=\"left\")\n",
    "    if idx > 0 and (idx == len(array) or math.fabs(value - array[idx-1]) < math.fabs(value - array[idx])):\n",
    "        return array[idx-1]\n",
    "    else:\n",
    "        return array[idx]\n",
    "    \n",
    "flux['tpf_time'] = 'Nan'\n",
    "for id_,row in flux.iterrows():\n",
    "    try:\n",
    "        flux['tpf_time'].iloc[id_] = find_nearest(tpf.time, row.time)\n",
    "        #timeit.timeit(find_nearest(tpf.time, row.time))\n",
    "        #flux['tpf_time'].iloc[id_] = tpf.time[np.argmin(abs(tpf.time[id_:]-row.time))]\n",
    "        #print(tpf.time[max(0,id_-5):min(id_+5,len(tpf.time))])\n",
    "    except ValueError:\n",
    "        pass\n",
    "    \n",
    "\n",
    "flux.iloc[645:655]"
   ]
  },
  {
   "cell_type": "code",
   "execution_count": 17,
   "metadata": {
    "collapsed": false,
    "deletable": true,
    "editable": true
   },
   "outputs": [
    {
     "name": "stdout",
     "output_type": "stream",
     "text": [
      "   Unnamed: 0    flux_gap  flux_model       time tpf_time  isflare\n",
      "0           0  602.901787  606.787976  2306.6110  2306.61    False\n",
      "1           1  606.946295  609.228221  2306.6315  2306.63    False\n",
      "2           2  604.881634  610.677717  2306.6519  2306.65    False\n",
      "3           3  607.185952  611.281474  2306.6723  2306.67    False\n",
      "4           4  602.350398  611.184463  2306.6927  2306.69    False\n"
     ]
    }
   ],
   "source": [
    "flux['isflare'] = False\n",
    "print(flux.head())\n",
    "for id_, row in flares.iterrows():\n",
    "    flux['isflare'].iloc[row.istart:row.istop+1] = True\n",
    "flux.to_csv('{}_tpf_times_FLUX.csv'.format(oid))\n",
    "#flux.iloc[1574:1603]"
   ]
  },
  {
   "cell_type": "code",
   "execution_count": 16,
   "metadata": {
    "collapsed": false,
    "deletable": true,
    "editable": true
   },
   "outputs": [],
   "source": [
    "flux_648 = pd.read_csv('211410963_tpf_times_FLUX.csv')\n",
    "flux_648.time = flux_648.time.round(decimals=4)\n",
    "flux.time = flux.time.round(decimals=4)\n",
    "a = flux.merge(flux_648, on='time')\n",
    "#print(flux.head())\n",
    "#print(flux_648.head())\n",
    "#print(a.head())\n",
    "s = a[(a.isflare_x == a.isflare_y)]\n",
    "#print(s.info())\n",
    "p = a[(a.isflare_x == True)]\n",
    "#print(p.info())\n",
    "t = s[s.isflare_x == True]\n",
    "#print(t)"
   ]
  },
  {
   "cell_type": "code",
   "execution_count": 14,
   "metadata": {
    "collapsed": false,
    "deletable": true,
    "editable": true
   },
   "outputs": [
    {
     "name": "stdout",
     "output_type": "stream",
     "text": [
      "1268\n",
      "1269\n",
      "1270\n",
      "1271\n",
      "1272\n",
      "1273\n",
      "1274\n",
      "1275\n",
      "1450\n",
      "1451\n",
      "1452\n",
      "1597\n",
      "1598\n",
      "1599\n",
      "1600\n",
      "1743\n",
      "1743\n",
      "1744\n",
      "1817\n",
      "1818\n",
      "1819\n",
      "1820\n",
      "1821\n",
      "1822\n",
      "1829\n",
      "1830\n",
      "1831\n",
      "1832\n",
      "1833\n",
      "1834\n"
     ]
    }
   ],
   "source": [
    "select_isflare = flux[flux.isflare==True]\n",
    "isflare_tpf_times = select_isflare.tpf_time.tolist()\n",
    "\n",
    "for i in isflare_tpf_times[35:65]:\n",
    "    id_ = np.where(tpf.time == i)[0][0]\n",
    "    print(id_)"
   ]
  },
  {
   "cell_type": "code",
   "execution_count": 25,
   "metadata": {
    "collapsed": false,
    "deletable": true,
    "editable": true
   },
   "outputs": [],
   "source": [
    "import k2flix\n",
    "tpf2 = k2flix.TargetPixelFile('ktwo{}-c05_lpd-targ.fits.gz'.format(oid))\n",
    "for i in range(1508,1530):\n",
    "    print(tpf2.quality_flags(i))\n",
    "    "
   ]
  },
  {
   "cell_type": "code",
   "execution_count": 25,
   "metadata": {
    "collapsed": false,
    "deletable": true,
    "editable": true
   },
   "outputs": [
    {
     "name": "stdout",
     "output_type": "stream",
     "text": [
      "[]\n",
      "[]\n",
      "[]\n",
      "[]\n",
      "[]\n",
      "[]\n",
      "[]\n",
      "[]\n",
      "[]\n",
      "[]\n",
      "[]\n",
      "[]\n",
      "['Cosmic ray']\n",
      "['Thruster firing']\n",
      "[]\n",
      "[]\n",
      "[]\n",
      "[]\n",
      "[]\n",
      "[]\n",
      "[]\n",
      "[]\n"
     ]
    }
   ],
   "source": [
    "tpf2.save_movie(output_fn='test.gif', start=1508, stop=1530, step=1,\n",
    "               binning=1, fps=3, dpi=None, stretch='log',\n",
    "               min_cut=None, max_cut=None, min_percent=60, max_percent=100,\n",
    "               cmap='gray', time_format='frameno', show_flags=True, data_col='FLUX',\n",
    "               ignore_bad_frames=True,)"
   ]
  },
  {
   "cell_type": "code",
   "execution_count": null,
   "metadata": {
    "collapsed": false,
    "deletable": true,
    "editable": true
   },
   "outputs": [],
   "source": [
    "import sys\n",
    "import numpy as np\n",
    "import matplotlib.pyplot as plt\n",
    "from matplotlib.animation import FuncAnimation\n",
    "\n",
    "#fig, ax = plt.subplots()\n",
    "#print(type(ax))\n",
    "#fig.set_tight_layout(True)\n",
    "\n",
    "# Query the figure's on-screen size and DPI. Note that when saving the figure to\n",
    "# a file, we need to provide a DPI for that separately.\n",
    "\n",
    "# Plot a scatter that persists (isn't redrawn) and the initial line.\n",
    "#x = np.arange(0, 20, 0.1)\n",
    "#ax.scatter(x, x + np.random.normal(0, 3.0, len(x)))\n",
    "#line, = ax.plot(x, x - 5, 'r-', linewidth=2)\n",
    "#ax = tpf.plot(0)[1]\n",
    "fig, line = tpf.plot(0)\n",
    "print(type(line))\n",
    "print('fig size: {0} DPI, size in inches {1}'.format(\n",
    "    fig.get_dpi(), fig.get_size_inches()))\n",
    "\n",
    "def update(i):\n",
    "    label = 'timestep {}'.format(i)\n",
    "    print(label)\n",
    "    # Update the line and the axes (with a new xlabel). Return a tuple of\n",
    "    # \"artists\" that have to be redrawn for this frame.\n",
    "    #line.set_ydata(x - 5 + i)\n",
    "    #print(type(fig),type(line))\n",
    "    figure, line = tpf.plot(i)\n",
    "    print(figure,fig, line)\n",
    "    line.set_xlabel(label)\n",
    "    return line, figure\n",
    "\n",
    "if __name__ == '__main__':\n",
    "    # FuncAnimation will call the 'update' function for each frame; here\n",
    "    # animating over 10 frames, with an interval of 200ms between frames.\n",
    "    anim = FuncAnimation(fig, update, frames=np.arange(0, 10))#, interval=200)\n",
    "#     if len(sys.argv) > 1 and sys.argv[1] == 'save':\n",
    "    anim.save('line.gif', dpi=80, writer='imagemagick')\n",
    "#     else:\n",
    "#         # plt.show() will just loop the animation forever.\n",
    "    plt.show()"
   ]
  },
  {
   "cell_type": "code",
   "execution_count": null,
   "metadata": {
    "collapsed": false,
    "deletable": true,
    "editable": true
   },
   "outputs": [],
   "source": [
    "print(type(fig),type(line))"
   ]
  },
  {
   "cell_type": "code",
   "execution_count": null,
   "metadata": {
    "collapsed": false,
    "deletable": true,
    "editable": true
   },
   "outputs": [],
   "source": [
    "from IPython.display import Image\n",
    "with open('line.gif','rb') as f:\n",
    "    display(Image(data=f.read(), format='png'))"
   ]
  },
  {
   "cell_type": "code",
   "execution_count": null,
   "metadata": {
    "collapsed": false,
    "deletable": true,
    "editable": true
   },
   "outputs": [],
   "source": [
    "%matplotlib inline\n",
    "import matplotlib.pyplot as plt\n",
    "#plot = tpf.plot(1200, aperture_mask=apmask)\n",
    "#plot[0]\n",
    "\n",
    "for i in isflare_tpf_times[:3]:\n",
    "    id_ = np.where(tpf.time == i)[0][0]\n",
    "    print(id_)\n",
    "    #print(type(tpf.plot(id_, aperture_mask=apmask)[1]))\n"
   ]
  },
  {
   "cell_type": "code",
   "execution_count": null,
   "metadata": {
    "collapsed": true,
    "deletable": true,
    "editable": true
   },
   "outputs": [],
   "source": []
  }
 ],
 "metadata": {
  "kernelspec": {
   "display_name": "Python 3",
   "language": "python",
   "name": "python3"
  },
  "language_info": {
   "codemirror_mode": {
    "name": "ipython",
    "version": 3
   },
   "file_extension": ".py",
   "mimetype": "text/x-python",
   "name": "python",
   "nbconvert_exporter": "python",
   "pygments_lexer": "ipython3",
   "version": "3.5.2"
  }
 },
 "nbformat": 4,
 "nbformat_minor": 2
}
