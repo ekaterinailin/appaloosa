{
 "cells": [
  {
   "cell_type": "code",
   "execution_count": 1,
   "metadata": {},
   "outputs": [],
   "source": [
    "import warnings\n",
    "warnings.filterwarnings(\"ignore\")\n",
    "\n",
    "from appaloosa import RunLC\n",
    "import os\n",
    "import pandas as pd\n",
    "\n",
    "def RunLC_cluster(oid,C='05',cluster='M67'):\n",
    "    folder = 'stars_shortlist'\n",
    "    loc = '{}/{}'.format(folder,cluster)\n",
    "    tpf_loc = '{}/{}/ktwo{}-c05_lpd-targ.fits.gz'.format(folder,cluster,oid)\n",
    "    lc_loc = '{}/{}/hlsp_everest_k2_llc_{}-c{}_kepler_v2.0_lc.fits'.format(folder,cluster,oid,C)\n",
    "    os.chdir('/home/ekaterina/Documents/appaloosa')\n",
    "    print(os.getcwd())\n",
    "    RunLC(lc_loc, dbmode='everest', display=False, debug=False, dofake=False, writeout=True)\n",
    "    return"
   ]
  },
  {
   "cell_type": "code",
   "execution_count": 3,
   "metadata": {},
   "outputs": [],
   "source": [
    "cluster = 'NGC_1647'\n",
    "C = '13'\n",
    "test = 'run_01'\n",
    "os.chdir('/home/ekaterina/Documents/appaloosa')\n",
    "print(os.getcwd())\n",
    "params = pd.read_csv('stars_shortlist/{0}/{0}_parameter.csv'.format(cluster))\n",
    "oid_list = params.EPIC.tolist()\n",
    "#os.chdir('/home/ekaterina/Documents/appaloosa/appaloosa')\n",
    "for oid in oid_list:\n",
    "    RunLC_cluster(oid, C=C, cluster=cluster)\n",
    "    for item in ['flares','flux']:\n",
    "        os.rename(\"/home/ekaterina/Documents/appaloosa/{}_{}.csv\".format(oid,item),\n",
    "                  \"/home/ekaterina/Documents/appaloosa/stars_shortlist/{}/results/{}/{}_{}.csv\".format(cluster,test,oid,item))\n",
    "\n",
    "os.rename('/home/ekaterina/Documents/appaloosa/flarelist.txt',\n",
    "          '/home/ekaterina/Documents/appaloosa/stars_shortlist/{0}/results/{1}/{0}_{1}_flarelist.txt'.format(cluster,test))"
   ]
  },
  {
   "cell_type": "code",
   "execution_count": null,
   "metadata": {},
   "outputs": [],
   "source": []
  }
 ],
 "metadata": {
  "kernelspec": {
   "display_name": "Python 3",
   "language": "python",
   "name": "python3"
  },
  "language_info": {
   "codemirror_mode": {
    "name": "ipython",
    "version": 3
   },
   "file_extension": ".py",
   "mimetype": "text/x-python",
   "name": "python",
   "nbconvert_exporter": "python",
   "pygments_lexer": "ipython3",
   "version": "3.5.2"
  }
 },
 "nbformat": 4,
 "nbformat_minor": 2
}
