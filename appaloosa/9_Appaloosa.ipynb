{
 "cells": [
  {
   "cell_type": "code",
   "execution_count": 2,
   "metadata": {},
   "outputs": [],
   "source": [
    "import warnings\n",
    "warnings.filterwarnings(\"ignore\")\n",
    "\n",
    "from appaloosa import RunLC\n",
    "import os\n",
    "import pandas as pd\n",
    "\n",
    "def RunLC_cluster(oid,run,C='05',cluster='M67',LCtype='everest'):\n",
    "    folder = 'stars_shortlist'\n",
    "    loc = '{}/{}/results/{}'.format(folder,cluster,run)\n",
    "    tpf_loc = '{}/{}/ktwo{}-c05_lpd-targ.fits.gz'.format(folder,cluster,oid)\n",
    "    if LCtype == 'everest':\n",
    "        lc_loc = '{}/{}/hlsp_everest_k2_llc_{}-c{}_kepler_v2.0_lc.fits'.format(folder,cluster,oid,C)\n",
    "    elif LCtype == 'k2sc':\n",
    "        lc_loc = '{}/{}/hlsp_k2sc_k2_llc_{}-c{}_kepler_v2_lc.fits'.format(folder,cluster,oid,C)\n",
    "    home = '/home/ekaterina/Documents/appaloosa'\n",
    "    #os.chdir(home)\n",
    "    fakes = RunLC(lc_loc, dbmode=LCtype, display=False, debug=False, \n",
    "                  dofake=True, writeout=True, respath='{}/{}'.format(home,loc),\n",
    "                  nfake=20, iterations=5, )\n",
    "    return fakes"
   ]
  },
  {
   "cell_type": "code",
   "execution_count": 3,
   "metadata": {},
   "outputs": [
    {
     "name": "stdout",
     "output_type": "stream",
     "text": [
      "/home/ekaterina/Documents/appaloosa\n"
     ]
    }
   ],
   "source": [
    "cluster = 'M67'\n",
    "C = '05'\n",
    "test = 'run_10'\n",
    "LCtype = 'everest'\n",
    "os.chdir('/home/ekaterina/Documents/appaloosa')\n",
    "print(os.getcwd())\n",
    "params = pd.read_csv('stars_shortlist/{0}/{0}_parameter.csv'.format(cluster))\n",
    "#print(params.tail())\n",
    "oid_list = params.EPIC.tolist()\n",
    "params.EPIC.to_csv('stars_shortlist/{0}/{0}_IDs_{1}.txt'.format(cluster, test),\n",
    "                  header=False, index=False)"
   ]
  },
  {
   "cell_type": "code",
   "execution_count": 4,
   "metadata": {},
   "outputs": [
    {
     "name": "stdout",
     "output_type": "stream",
     "text": [
      "\n",
      "This is the 0th light curve in the current pipeline.\n",
      "\n",
      "/home/ekaterina/Documents/appaloosa\n",
      "\n",
      "This is the 1th light curve in the current pipeline.\n",
      "\n",
      "/home/ekaterina/Documents/appaloosa/stars_shortlist/M67/results/run_10\n"
     ]
    },
    {
     "ename": "IndexError",
     "evalue": "index 50 is out of bounds for axis 1 with size 50",
     "output_type": "error",
     "traceback": [
      "\u001b[0;31m---------------------------------------------------------------------------\u001b[0m",
      "\u001b[0;31mIndexError\u001b[0m                                Traceback (most recent call last)",
      "\u001b[0;32m<ipython-input-4-0290c1b7a636>\u001b[0m in \u001b[0;36m<module>\u001b[0;34m()\u001b[0m\n\u001b[1;32m      3\u001b[0m     \u001b[0mprint\u001b[0m\u001b[0;34m(\u001b[0m\u001b[0;34m'\\nThis is the {}th light curve in the current pipeline.\\n'\u001b[0m\u001b[0;34m.\u001b[0m\u001b[0mformat\u001b[0m\u001b[0;34m(\u001b[0m\u001b[0mi\u001b[0m\u001b[0;34m)\u001b[0m\u001b[0;34m)\u001b[0m\u001b[0;34m\u001b[0m\u001b[0m\n\u001b[1;32m      4\u001b[0m     \u001b[0mprint\u001b[0m\u001b[0;34m(\u001b[0m\u001b[0mos\u001b[0m\u001b[0;34m.\u001b[0m\u001b[0mgetcwd\u001b[0m\u001b[0;34m(\u001b[0m\u001b[0;34m)\u001b[0m\u001b[0;34m)\u001b[0m\u001b[0;34m\u001b[0m\u001b[0m\n\u001b[0;32m----> 5\u001b[0;31m     \u001b[0mRunLC_cluster\u001b[0m\u001b[0;34m(\u001b[0m\u001b[0moid\u001b[0m\u001b[0;34m,\u001b[0m \u001b[0mrun\u001b[0m\u001b[0;34m=\u001b[0m\u001b[0mtest\u001b[0m\u001b[0;34m,\u001b[0m \u001b[0mC\u001b[0m\u001b[0;34m=\u001b[0m\u001b[0mC\u001b[0m\u001b[0;34m,\u001b[0m \u001b[0mcluster\u001b[0m\u001b[0;34m=\u001b[0m\u001b[0mcluster\u001b[0m\u001b[0;34m,\u001b[0m\u001b[0mLCtype\u001b[0m\u001b[0;34m=\u001b[0m\u001b[0mLCtype\u001b[0m\u001b[0;34m)\u001b[0m\u001b[0;34m\u001b[0m\u001b[0m\n\u001b[0m\u001b[1;32m      6\u001b[0m  \u001b[0;31m#   for item in ['flares','flux']:\u001b[0m\u001b[0;34m\u001b[0m\u001b[0;34m\u001b[0m\u001b[0m\n\u001b[1;32m      7\u001b[0m  \u001b[0;31m#       os.rename(\"/home/ekaterina/Documents/appaloosa/{}_{}.csv\".format(oid,item),\u001b[0m\u001b[0;34m\u001b[0m\u001b[0;34m\u001b[0m\u001b[0m\n",
      "\u001b[0;32m<ipython-input-2-4483507fced9>\u001b[0m in \u001b[0;36mRunLC_cluster\u001b[0;34m(oid, run, C, cluster, LCtype)\u001b[0m\n\u001b[1;32m     18\u001b[0m     fakes = RunLC(lc_loc, dbmode=LCtype, display=False, debug=False, \n\u001b[1;32m     19\u001b[0m                   \u001b[0mdofake\u001b[0m\u001b[0;34m=\u001b[0m\u001b[0;32mTrue\u001b[0m\u001b[0;34m,\u001b[0m \u001b[0mwriteout\u001b[0m\u001b[0;34m=\u001b[0m\u001b[0;32mTrue\u001b[0m\u001b[0;34m,\u001b[0m \u001b[0mrespath\u001b[0m\u001b[0;34m=\u001b[0m\u001b[0;34m'{}/{}'\u001b[0m\u001b[0;34m.\u001b[0m\u001b[0mformat\u001b[0m\u001b[0;34m(\u001b[0m\u001b[0mhome\u001b[0m\u001b[0;34m,\u001b[0m\u001b[0mloc\u001b[0m\u001b[0;34m)\u001b[0m\u001b[0;34m,\u001b[0m\u001b[0;34m\u001b[0m\u001b[0m\n\u001b[0;32m---> 20\u001b[0;31m                   nfake=20, iterations=50, )\n\u001b[0m\u001b[1;32m     21\u001b[0m     \u001b[0;32mreturn\u001b[0m \u001b[0mfakes\u001b[0m\u001b[0;34m\u001b[0m\u001b[0m\n",
      "\u001b[0;32m~/Documents/appaloosa/appaloosa/appaloosa.py\u001b[0m in \u001b[0;36mRunLC\u001b[0;34m(file, objectid, ftype, lctype, display, readfile, debug, dofake, dbmode, gapwindow, maxgap, verbosefake, nfake, iterations, respath, writeout)\u001b[0m\n\u001b[1;32m   1361\u001b[0m         \u001b[0mbinmids\u001b[0m \u001b[0;34m=\u001b[0m \u001b[0mnp\u001b[0m\u001b[0;34m.\u001b[0m\u001b[0mconcatenate\u001b[0m\u001b[0;34m(\u001b[0m\u001b[0;34m(\u001b[0m\u001b[0;34m[\u001b[0m\u001b[0;36m0\u001b[0m\u001b[0;34m]\u001b[0m\u001b[0;34m,\u001b[0m\u001b[0;34m(\u001b[0m\u001b[0mbins\u001b[0m\u001b[0;34m[\u001b[0m\u001b[0;36m1\u001b[0m\u001b[0;34m:\u001b[0m\u001b[0;34m]\u001b[0m\u001b[0;34m+\u001b[0m\u001b[0mbins\u001b[0m\u001b[0;34m[\u001b[0m\u001b[0;34m:\u001b[0m\u001b[0;34m-\u001b[0m\u001b[0;36m1\u001b[0m\u001b[0;34m]\u001b[0m\u001b[0;34m)\u001b[0m\u001b[0;34m/\u001b[0m\u001b[0;36m2\u001b[0m\u001b[0;34m)\u001b[0m\u001b[0;34m)\u001b[0m \u001b[0;31m#add a zero intercept for aesthetics\u001b[0m\u001b[0;34m\u001b[0m\u001b[0m\n\u001b[1;32m   1362\u001b[0m \u001b[0;34m\u001b[0m\u001b[0m\n\u001b[0;32m-> 1363\u001b[0;31m         dffake = pd.DataFrame({'ed_bins': binmids[frac_recovered.index.values],\n\u001b[0m\u001b[1;32m   1364\u001b[0m                                \u001b[0;34m'frac_recovered'\u001b[0m\u001b[0;34m:\u001b[0m \u001b[0mfrac_recovered\u001b[0m\u001b[0;34m,\u001b[0m\u001b[0;34m\u001b[0m\u001b[0m\n\u001b[1;32m   1365\u001b[0m                                'frac_rec_sm': wiener(frac_recovered,3)})\n",
      "\u001b[0;31mIndexError\u001b[0m: index 50 is out of bounds for axis 1 with size 50"
     ]
    }
   ],
   "source": [
    "#os.chdir('/home/ekaterina/Documents/appaloosa/appaloosa')\n",
    "for i, oid in enumerate(oid_list):\n",
    "    print('\\nThis is the {}th light curve in the current pipeline.\\n'.format(i))\n",
    "    print(os.getcwd())\n",
    "    RunLC_cluster(oid, run=test, C=C, cluster=cluster,LCtype=LCtype)\n",
    " #   for item in ['flares','flux']:\n",
    " #       os.rename(\"/home/ekaterina/Documents/appaloosa/{}_{}.csv\".format(oid,item),\n",
    " #                 \"/home/ekaterina/Documents/appaloosa/stars_shortlist/{}/results/{}/{}_{}.csv\".format(cluster,test,oid,item))\n",
    "\n",
    "os.rename('/home/ekaterina/Documents/appaloosa/stars_shortlist/{0}/results/{1}/flarelist.txt'.format(cluster,test),\n",
    "          '/home/ekaterina/Documents/appaloosa/stars_shortlist/{0}/results/{1}/{0}_{1}_flarelist.txt'.format(cluster,test))"
   ]
  },
  {
   "cell_type": "code",
   "execution_count": null,
   "metadata": {},
   "outputs": [],
   "source": [
    "import numpy as np\n",
    "import matplotlib.pyplot as plt\n",
    "%matplotlib inline\n",
    "from matplotlib import rc, rcParams\n",
    "rcParams.update({'font.size':12})\n",
    "rc('font',**{'family':'sans-serif','sans-serif':['Helvetica']})\n",
    "rc('text', usetex=True)\n",
    "\n",
    "\n",
    "false = fakes[fakes.rec_fake!=0.].sort_values(by='istart_rec')\n",
    "false['ed_ratio']=false.ed_rec/false.ed_fake\n",
    "false = false.sort_values(by='ed_ratio')\n",
    "print(false[false.ed_ratio>1].shape[0]/false.shape[0])\n",
    "falsepos = false[false.ed_ratio>1.]\n",
    "\n",
    "\n",
    "f, (ax1, ax2,ax3) = plt.subplots(3, sharex=True,figsize=(6,9))\n",
    "\n",
    "ax1.hist(fakes.ed_fake, bins=(1,10,100,1000,10000,100000),\n",
    "         histtype='step',linewidth=2,color='k')\n",
    "ax1.set_title('EPIC 211099781')\n",
    "ax1.set_ylabel('\\# injected flares')\n",
    "\n",
    "ax2.scatter(falsepos.ed_rec,falsepos.ed_ratio, \n",
    "            s=falsepos.ed_rec_err/falsepos.ed_rec*1e3,\n",
    "            color='k',alpha=0.75)\n",
    "plt.xscale('log')\n",
    "ax2.set_yscale('log')\n",
    "\n",
    "plt.xlabel('recovered ED in s')\n",
    "ax2.set_ylabel('recovered fraction\\n of injected ED')\n",
    "\n",
    "\n",
    "ax3.hist(fakes.ed_rec, bins=(1,10,100,1000,10000,100000),\n",
    "         histtype='step',linewidth=2,color='k')\n",
    "\n",
    "ax3.set_ylabel('\\# recovered flares')\n",
    "\n",
    "\n",
    "f.subplots_adjust(hspace=0)\n",
    "plt.setp([a.get_xticklabels() for a in f.axes[:-1]], visible=False)\n",
    "\n",
    "plt.savefig('/home/ekaterina/Documents/Flares_in_Clusters_Paper/pic-dump/false_positives.jpg',dpi=300)"
   ]
  },
  {
   "cell_type": "code",
   "execution_count": null,
   "metadata": {},
   "outputs": [],
   "source": [
    "import numpy as np\n",
    "import matplotlib.pyplot as plt\n",
    "%matplotlib inline\n",
    "from matplotlib import rc, rcParams\n",
    "rcParams.update({'font.size':12})\n",
    "rc('font',**{'family':'sans-serif','sans-serif':['Helvetica']})\n",
    "rc('text', usetex=True)\n",
    "\n",
    "f = fakes[fakes.rec_fake!=0.].sort_values(by='istart_rec')\n",
    "f['ed_ratio']=f.ed_rec/f.ed_fake\n",
    "f = f.sort_values(by='ed_ratio')\n",
    "f = f[f.ed_ratio<1.5]\n",
    "f = f[f.ed_rec>1]\n",
    "\n",
    "\n",
    "plt.figure(figsize=(7,5))\n",
    "\n",
    "plt.scatter(f.ed_rec,f.ed_ratio,s=f.ed_rec_err/f.ed_rec*1e3, alpha=0.5,color='k',\n",
    "            label='$\\sigma_{ED}/ED$')\n",
    "plt.xscale('log')\n",
    "plt.yscale('log')\n",
    "plt.xlabel('recovered ED in s')\n",
    "plt.ylabel('recovered fraction of injected ED')\n",
    "plt.title('EPIC 211099781')\n",
    "plt.legend(loc='best', frameon=False)\n",
    "plt.savefig('/home/ekaterina/Documents/Flares_in_Clusters_Paper/pic-dump/energy_underestimate.jpg',dpi=300)"
   ]
  },
  {
   "cell_type": "code",
   "execution_count": null,
   "metadata": {},
   "outputs": [],
   "source": [
    "false = fakes[fakes.rec_fake!=0.].sort_values(by='istart_rec')\n",
    "false['ed_ratio']=false.ed_rec/false.ed_fake\n",
    "false.ed_ratio = false.ed_ratio.astype('float')\n",
    "false = false.sort_values(by='ed_ratio')\n",
    "overall_false_pos = false[false.ed_ratio>1.].shape[0]/false.shape[0]\n",
    "#false = false[false.ed_ratio>1.]\n",
    "\n",
    "bins = np.power(10,np.arange(0,6,0.15))\n",
    "false['range1'], bins = pd.cut(false.ed_rec, bins, retbins=True,include_lowest=True)\n",
    "m = pd.DataFrame()\n",
    "m['mean_fp_rate'] = false.groupby('range1').ed_ratio.apply(lambda x: x[x > 1.].shape[0])/false.groupby('range1').ed_ratio.size()\n",
    "m['summe'] = false.groupby('range1').ed_ratio.size()\n",
    "plt.figure(figsize=(7,5))\n",
    "m['binmids'] = (bins[1:]+bins[:-1])/2.\n",
    "m = m.dropna(how='any')\n",
    "plt.plot(m.binmids,m.mean_fp_rate)\n",
    "plt.xscale('log')\n",
    "plt.xlabel('recovered ED in s')\n",
    "plt.ylabel('false positive rate')\n"
   ]
  },
  {
   "cell_type": "code",
   "execution_count": null,
   "metadata": {},
   "outputs": [],
   "source": [
    "f = fakes[fakes.rec_fake!=0.].sort_values(by='istart_rec')\n",
    "f['ed_ratio']=f.ed_rec/f.ed_fake\n",
    "f = f.sort_values(by='ed_ratio')\n",
    "f = f[f.ed_ratio<1.5]\n",
    "f = f[f.ed_rec>1]\n",
    "\n",
    "bins = np.power(10,np.arange(0,6,0.15))\n",
    "f['range1'], bins = pd.cut(f.ed_rec, bins, retbins=True,include_lowest=True)\n",
    "m = pd.DataFrame()\n",
    "m['mean_ED_corr'] = f.groupby('range1').ed_ratio.mean()\n",
    "m['std_ED_corr'] = f.groupby('range1').ed_ratio.std()\n",
    "m['binmids'] = (bins[1:]+bins[:-1])/2.\n",
    "m = m.dropna(how='any')\n",
    "plt.errorbar(m.binmids,m.mean_ED_corr,yerr=m.std_ED_corr)\n",
    "plt.xscale('log')\n",
    "plt.xlabel('recovered ED in s')\n",
    "plt.ylabel('mean fraction of injected energy')\n"
   ]
  }
 ],
 "metadata": {
  "kernelspec": {
   "display_name": "Python 3",
   "language": "python",
   "name": "python3"
  },
  "language_info": {
   "codemirror_mode": {
    "name": "ipython",
    "version": 3
   },
   "file_extension": ".py",
   "mimetype": "text/x-python",
   "name": "python",
   "nbconvert_exporter": "python",
   "pygments_lexer": "ipython3",
   "version": "3.5.2"
  }
 },
 "nbformat": 4,
 "nbformat_minor": 2
}
