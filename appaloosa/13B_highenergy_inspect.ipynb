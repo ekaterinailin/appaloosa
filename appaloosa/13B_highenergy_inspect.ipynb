{
 "cells": [
  {
   "cell_type": "code",
   "execution_count": 15,
   "metadata": {},
   "outputs": [],
   "source": [
    "import os, time \n",
    "from collections import OrderedDict\n",
    "\n",
    "import numpy as np\n",
    "import pandas as pd\n",
    "\n",
    "import matplotlib.pyplot as plt\n",
    "from matplotlib.transforms import blended_transform_factory\n",
    "from matplotlib import rc, rcParams\n",
    "from linfitODR import linfit\n",
    "from scipy.optimize import fmin\n",
    "%matplotlib inline\n",
    "\n",
    "#Style stuff:\n",
    "\n",
    "rcParams.update({'errorbar.capsize': 0})\n",
    "rc('text', usetex=True)\n",
    "rc('font', size=11)\n",
    "rc('legend', fontsize=11)\n",
    "rcParams.update({'font.size':11})\n",
    "rc('font',**{'family':'sans-serif','sans-serif':['Helvetica']})\n",
    "\n",
    "linestyles = OrderedDict(\n",
    "    [('solid',               (0, ())),\n",
    "     ('loosely dotted',      (0, (1, 10))),\n",
    "     ('dotted',              (0, (1, 5))),\n",
    "     ('densely dotted',      (0, (1, 1))),\n",
    "\n",
    "     ('loosely dashed',      (0, (5, 10))),\n",
    "     ('dashed',              (0, (5, 5))),\n",
    "     ('densely dashed',      (0, (5, 1))),\n",
    "\n",
    "     ('loosely dashdotted',  (0, (3, 10, 1, 10))),\n",
    "     ('dashdotted',          (0, (3, 5, 1, 5))),\n",
    "     ('densely dashdotted',  (0, (3, 1, 1, 1))),\n",
    "\n",
    "     ('loosely dashdotdotted', (0, (3, 10, 1, 10, 1, 10))),\n",
    "     ('dashdotdotted',         (0, (3, 5, 1, 5, 1, 5))),\n",
    "     ('densely dashdotdotted', (0, (3, 1, 1, 1, 1, 1)))])\n",
    "\n",
    "def load(usecols=None, saturated=False):\n",
    "    trange = {'M44': [\n",
    "                       (3e3,7e3,'o', 5e28, 5e36, 0.630),   \n",
    "                       (3e3,3.249e3,'o', 5e28, 5e36, 0.630),\n",
    "                       (3.25e3,3.499e3,'o', 5e28, 5e36, 0.630),\n",
    "                       (3.5e3,3.749e3,'o', 5e28, 5e36, 0.630),\n",
    "                       (3.75e3,4e3,'o', 5e28, 5e36, 0.630),\n",
    "                     ],\n",
    "#               'M44 - no binaries': [\n",
    "#                        (3e3,7e3,'s', 5e28, 5e36, 0.630),   \n",
    "#                        (3e3,3.249e3,'s', 5e28, 5e36, 0.630),\n",
    "#                        (3.25e3,3.499e3,'s', 5e28, 5e36, 0.630),\n",
    "#                        (3.5e3,3.749e3,'s', 5e28, 5e36, 0.630),\n",
    "#                        (3.75e3,4e3,'s', 5e28, 5e36, 0.630),\n",
    "#                      ],\n",
    "\n",
    "\n",
    "         'Pleiades': [\n",
    "                      (3e3,7e3,'v', 5e28, 5e36, 0.125),\n",
    "                      (3e3,3.249e3,'v', 5e28, 5e36, 0.125),\n",
    "                      (3.25e3,3.499e3,'v', 5e28, 5e36, 0.125),\n",
    "                      (3.5e3,3.749e3,'v', 5e28, 5e36, 0.125),\n",
    "                      (3.75e3,4e3,'v', 5e28, 5e36, 0.125),\n",
    "                      ],}\n",
    "\n",
    "    df = pd.DataFrame()\n",
    "    loc = 'stars_shortlist/share/'\n",
    "    for key in trange.keys():\n",
    "         for (Tmin,Tmax,color,emin,emax,age) in trange[key]:\n",
    "            if key == 'M44 - no binaries':\n",
    "                df2 = pd.read_csv('{}{}_{}_{}_{}_FFD_nobin.csv'.format(loc,test,key[:3],Tmin,Tmax),\n",
    "                                 usecols=usecols)\n",
    "                                  \n",
    "                df2['nobin'] = True\n",
    "                df2['clr'] = color\n",
    "            else:\n",
    "                df2 = pd.read_csv('{}{}_{}_{}_{}_FFD.csv'.format(loc,test,key,Tmin,Tmax),\n",
    "                                 usecols=usecols)\n",
    "                df2['nobin'] = False\n",
    "                df2['clr'] = color\n",
    "\n",
    "            df2['age'] = age\n",
    "            df = df.append(df2)\n",
    "    print(df.columns.values)\n",
    "    if saturated == True:\n",
    "        dft = pd.read_csv('{}run_06_saturated.csv'.format(loc),usecols=['EPIC','istart','istop','saturated'])\n",
    "\n",
    "        print(df.shape,dft.shape)\n",
    "        df = df.merge(dft, how='inner',on=['EPIC','istart','istop'])\n",
    "    return df\n",
    "\n",
    "def linestyles(Tmin, Tmax):\n",
    "    if Tmax < 7000.:\n",
    "        c = {3000:linestyles['densely dashed'], \n",
    "             3250:linestyles['densely dotted'],\n",
    "             3500:linestyles['densely dashdotted'],\n",
    "             3750:linestyles['densely dashdotdotted']}\n",
    "        return c[Tmin]\n",
    "    else: \n",
    "        return '-'\n",
    "\n",
    "def markers(Tmin, Tmax):\n",
    "    if Tmax < 7000.:\n",
    "        c = {3000:'o', \n",
    "             3250:'x',\n",
    "             3500:'^',\n",
    "             3750:'D'}\n",
    "        return c[Tmin]\n",
    "    else: \n",
    "        return '-'\n",
    "\n",
    "\n",
    "def colorize(age):\n",
    "    if age==0.125:\n",
    "        return 'k'\n",
    "    elif age == 0.63:\n",
    "        return 'r'\n",
    "\n",
    "def multicolorize(age):\n",
    "    c = []\n",
    "    for a in age:\n",
    "        if a==0.125:\n",
    "            c.append('k')\n",
    "        elif a == 0.63:\n",
    "            c.append('r')\n",
    "    print(c)\n",
    "    return c\n",
    "    \n",
    "Tlims = [(3000.0,3249.0,'red'),(3250.0,3499.0,'orangered'),\n",
    "         (3500.0,3749.0,'gold'),(3750.0,4000.0,'c')]"
   ]
  },
  {
   "cell_type": "code",
   "execution_count": 2,
   "metadata": {},
   "outputs": [
    {
     "ename": "NameError",
     "evalue": "name 'test' is not defined",
     "output_type": "error",
     "traceback": [
      "\u001b[0;31m---------------------------------------------------------------------------\u001b[0m",
      "\u001b[0;31mNameError\u001b[0m                                 Traceback (most recent call last)",
      "\u001b[0;32m<ipython-input-2-795c9b92f760>\u001b[0m in \u001b[0;36m<module>\u001b[0;34m()\u001b[0m\n\u001b[0;32m----> 1\u001b[0;31m \u001b[0mdf\u001b[0m \u001b[0;34m=\u001b[0m \u001b[0mload\u001b[0m\u001b[0;34m(\u001b[0m\u001b[0msaturated\u001b[0m\u001b[0;34m=\u001b[0m\u001b[0;32mTrue\u001b[0m\u001b[0;34m)\u001b[0m\u001b[0;34m\u001b[0m\u001b[0m\n\u001b[0m\u001b[1;32m      2\u001b[0m \u001b[0mdf\u001b[0m\u001b[0;34m.\u001b[0m\u001b[0msaturated\u001b[0m\u001b[0;34m.\u001b[0m\u001b[0mvalue_counts\u001b[0m\u001b[0;34m(\u001b[0m\u001b[0;34m)\u001b[0m\u001b[0;34m\u001b[0m\u001b[0m\n",
      "\u001b[0;32m<ipython-input-1-f06d0b6af04d>\u001b[0m in \u001b[0;36mload\u001b[0;34m(usecols, saturated)\u001b[0m\n\u001b[1;32m     75\u001b[0m                 \u001b[0mdf2\u001b[0m\u001b[0;34m[\u001b[0m\u001b[0;34m'clr'\u001b[0m\u001b[0;34m]\u001b[0m \u001b[0;34m=\u001b[0m \u001b[0mcolor\u001b[0m\u001b[0;34m\u001b[0m\u001b[0m\n\u001b[1;32m     76\u001b[0m             \u001b[0;32melse\u001b[0m\u001b[0;34m:\u001b[0m\u001b[0;34m\u001b[0m\u001b[0m\n\u001b[0;32m---> 77\u001b[0;31m                 df2 = pd.read_csv('{}{}_{}_{}_{}_FFD.csv'.format(loc,test,key,Tmin,Tmax),\n\u001b[0m\u001b[1;32m     78\u001b[0m                                  usecols=usecols)\n\u001b[1;32m     79\u001b[0m                 \u001b[0mdf2\u001b[0m\u001b[0;34m[\u001b[0m\u001b[0;34m'nobin'\u001b[0m\u001b[0;34m]\u001b[0m \u001b[0;34m=\u001b[0m \u001b[0;32mFalse\u001b[0m\u001b[0;34m\u001b[0m\u001b[0m\n",
      "\u001b[0;31mNameError\u001b[0m: name 'test' is not defined"
     ]
    }
   ],
   "source": [
    "df = load(saturated=True)\n",
    "df.saturated.value_counts()"
   ]
  },
  {
   "cell_type": "code",
   "execution_count": 4,
   "metadata": {},
   "outputs": [
    {
     "name": "stdout",
     "output_type": "stream",
     "text": [
      "/work1/eilin/appaloosa/appaloosa/stars_shortlist/share/run_06_Pleiades_3000.0_7000.0_FFD.csv\n",
      "/work1/eilin/appaloosa/appaloosa/stars_shortlist/share/run_06_Pleiades_3000.0_3249.0_FFD.csv\n",
      "/work1/eilin/appaloosa/appaloosa/stars_shortlist/share/run_06_Pleiades_3250.0_3499.0_FFD.csv\n",
      "/work1/eilin/appaloosa/appaloosa/stars_shortlist/share/run_06_Pleiades_3500.0_3749.0_FFD.csv\n",
      "/work1/eilin/appaloosa/appaloosa/stars_shortlist/share/run_06_Pleiades_3750.0_4000.0_FFD.csv\n",
      "/work1/eilin/appaloosa/appaloosa/stars_shortlist/share/run_06_M44_3000.0_7000.0_FFD.csv\n",
      "/work1/eilin/appaloosa/appaloosa/stars_shortlist/share/run_06_M44_3000.0_3249.0_FFD.csv\n",
      "/work1/eilin/appaloosa/appaloosa/stars_shortlist/share/run_06_M44_3250.0_3499.0_FFD.csv\n",
      "/work1/eilin/appaloosa/appaloosa/stars_shortlist/share/run_06_M44_3500.0_3749.0_FFD.csv\n",
      "/work1/eilin/appaloosa/appaloosa/stars_shortlist/share/run_06_M44_3750.0_4000.0_FFD.csv\n",
      "(1583, 11)\n"
     ]
    },
    {
     "name": "stderr",
     "output_type": "stream",
     "text": [
      "/home/eilin/.local/lib/python3.4/site-packages/pandas/core/generic.py:3110: SettingWithCopyWarning: \n",
      "A value is trying to be set on a copy of a slice from a DataFrame.\n",
      "Try using .loc[row_indexer,col_indexer] = value instead\n",
      "\n",
      "See the caveats in the documentation: http://pandas.pydata.org/pandas-docs/stable/indexing.html#indexing-view-versus-copy\n",
      "  self[name] = value\n"
     ]
    }
   ],
   "source": [
    "trange = {'M44': [\n",
    "                   (3e3,7e3,'k', 5e28, 5e36, 0.630),   \n",
    "                   (3e3,3.249e3,'red', 5e28, 5e36, 0.630),\n",
    "                   (3.25e3,3.499e3,'orange', 5e28, 5e36, 0.630),\n",
    "                   (3.5e3,3.749e3,'green', 5e28, 5e36, 0.630),\n",
    "                   (3.75e3,4e3,'c', 5e28, 5e36, 0.630),\n",
    "                 ],\n",
    "\n",
    "     'Pleiades': [\n",
    "                  (3e3,7e3,'k', 5e28, 5e36, 0.125),\n",
    "                  (3e3,3.249e3,'red', 5e28, 5e36, 0.125),\n",
    "                  (3.25e3,3.499e3,'orange', 5e28, 5e36, 0.125),\n",
    "                  (3.5e3,3.749e3,'green', 5e28, 5e36, 0.125),\n",
    "                  (3.75e3,4e3,'c', 5e28, 5e36, 0.125),\n",
    "                  ],}\n",
    "df = pd.DataFrame()\n",
    "loc = '/work1/eilin/appaloosa/appaloosa/stars_shortlist/share/'\n",
    "test = 'run_06'\n",
    "for key in trange.keys():\n",
    "    \n",
    "    for (Tmin,Tmax,color,emin,emax,age) in trange[key]:\n",
    "        print('{}{}_{}_{}_{}_FFD.csv'.format(loc,test,key,Tmin,Tmax))\n",
    "        df2 = pd.read_csv('{}{}_{}_{}_{}_FFD.csv'.format(loc,test,key,Tmin,Tmax),\n",
    "                         usecols = ['Tmax','Tmin','alpha',\n",
    "                                'alpha_err','beta','beta_err',\n",
    "                                'maxenerg','n_obj','nflares',\n",
    "                                   'cluster',])\n",
    "        df2['age'] = age\n",
    "        df = df.append(df2)\n",
    "print(df.shape)\n",
    "newres = df.drop_duplicates()\n",
    "newres.alpha = -newres.alpha"
   ]
  },
  {
   "cell_type": "code",
   "execution_count": 5,
   "metadata": {
    "scrolled": true
   },
   "outputs": [
    {
     "name": "stdout",
     "output_type": "stream",
     "text": [
      "(1583, 20)\n",
      "3249.0 (1, 20)\n",
      "3249.0 (2, 20)\n",
      "3499.0 (0, 20)\n",
      "3499.0 (1, 20)\n",
      "3749.0 (2, 20)\n",
      "3749.0 (3, 20)\n",
      "4000.0 (0, 20)\n",
      "4000.0 (3, 20)\n",
      "7000.0 (3, 20)\n",
      "7000.0 (21, 20)\n"
     ]
    },
    {
     "data": {
      "image/png": "[encoded data removed]",
      "text/plain": [
       "<matplotlib.figure.Figure at 0x7fd4ca6b53c8>"
      ]
     },
     "metadata": {},
     "output_type": "display_data"
    }
   ],
   "source": [
    "df = pd.DataFrame()\n",
    "for key in trange.keys():\n",
    "     for (Tmin,Tmax,color,emin,emax,age) in trange[key]:\n",
    "        df2 = pd.read_csv('{}{}_{}_{}_{}_FFD.csv'.format(loc,test,key,Tmin,Tmax))\n",
    "\n",
    "        df2['age'] = age\n",
    "        df = df.append(df2)\n",
    "    \n",
    "print(df.shape)    \n",
    "fig, ax = plt.subplots(ncols=1, nrows=5,figsize=(8,32), sharex=True)\n",
    "i=0\n",
    "for name, g in df.groupby('Tmax'):\n",
    "    for cluster, f in g.groupby('cluster'):\n",
    "        f=f.sort_values(by='logE')\n",
    "        f1 = f[f.logE<34.2]\n",
    "        f2 = f[f.logE>34.2]\n",
    "        print(name,f2.shape)\n",
    "        if f1.shape[0] > 0:\n",
    "            f1.plot(x='logE', y='count_per_yr',kind='scatter',ax=ax[i])\n",
    "        if f2.shape[0] > 0:\n",
    "            f2.plot(x='logE', y='count_per_yr',kind='scatter',ax=ax[i],color='black')\n",
    "        ax[i].fill_between(f.logE, f.count_per_yr-f.low_yerr, f.count_per_yr+f.high_yerr,\n",
    "                         alpha=0.2,color='r')\n",
    "        \n",
    "    i+=1\n",
    "    \n",
    "\n",
    "plt.tick_params(axis = 'both', labelsize = 13)\n",
    "\n",
    "#plt.tight_layout()\n",
    "plt.subplots_adjust(hspace=0)"
   ]
  },
  {
   "cell_type": "code",
   "execution_count": 31,
   "metadata": {
    "scrolled": true
   },
   "outputs": [
    {
     "name": "stdout",
     "output_type": "stream",
     "text": [
      "ff 24\n",
      "ff 24\n"
     ]
    }
   ],
   "source": [
    "def import_flares(cluster, test, oid):\n",
    "    \n",
    "    oid = int(float(oid))\n",
    "    \n",
    "    loc = 'stars_shortlist/{}/results/{}/results'.format(cluster,test)\n",
    "    flux = pd.read_csv('{}/{}_flux.csv'.format(loc,oid))#, names= ['time','flux_gap','error','flux_model'])\n",
    "    flares = pd.read_csv('{}/{}_flares.csv'.format(loc,oid))#, names= ['istart','istop'])\n",
    "\n",
    "    return flux, flares\n",
    "\n",
    "def print_susp(oid, cluster, test):\n",
    "\n",
    "    try:\n",
    "        flux, flares = import_flares(cluster, test, oid)\n",
    "        l = flares.shape[0]\n",
    "        maxid = flux.shape[0]-1\n",
    "        fig, ax = plt.subplots(ncols=l,nrows=1,figsize=(5*l,3.5))\n",
    "        if l == 1:\n",
    "            ax = [ax]\n",
    "        flares.istart = flares.istart.astype(int)\n",
    "        flares.istop = flares.istop.astype(int)\n",
    "\n",
    "        for i, row in flares.iterrows():\n",
    "            i_ = row.istart.astype(int)\n",
    "            f_ = row.istop.astype(int)\n",
    "        \n",
    "            ax[i].plot(flux.time.iloc[i_-50:f_+50],\n",
    "                     (flux.flux_gap-flux.flux_model).iloc[i_-50:f_+50],\n",
    "                     linewidth=2,\n",
    "                     color='green',)\n",
    "            flare = (flux.flux_gap-flux.flux_model).iloc[i_:f_+1]\n",
    "            ax[i].plot(flux.time.iloc[i_:f_+1],\n",
    "                     flare,\n",
    "                     linewidth=2,\n",
    "                     color='red',)\n",
    "            ax[i].set_xlim(flux.time.iloc[max(i_-50,0)],flux.time.iloc[min(f_+50,maxid)])\n",
    "            ax[i].set_ylim(flare.min()*(-.2),flare.max()*1.1)\n",
    "            ax[i].set_title('EPIC {}: {}-{}'.format(oid,i_,f_))\n",
    "        plt.savefig('{}_highenerg.png'.format(oid),dpi=300)\n",
    "        plt.close()\n",
    "    except (FileNotFoundError, OSError):\n",
    "        pass\n",
    "    return\n",
    "\n",
    "\n",
    "df = pd.DataFrame()\n",
    "for key in trange.keys():\n",
    "     for (Tmin,Tmax,color,emin,emax,age) in trange[key]:\n",
    "        if Tmax == 7000.:\n",
    "            df2 = pd.read_csv('{}{}_{}_{}_{}_energs.csv'.format(loc,test,key,Tmin,Tmax))\n",
    "\n",
    "            df2['age'] = age\n",
    "            df = df.append(df2)\n",
    "            \n",
    "\n",
    "for cluster in ['M44','Pleiades']:\n",
    "    \n",
    "    flarelist = list(set(df[df.energ_true>10**34.2].EPIC.tolist()))\n",
    "    print('ff',len(flarelist))\n",
    "    for i in flarelist:\n",
    "        print_susp(int(i),cluster, test)"
   ]
  },
  {
   "cell_type": "markdown",
   "metadata": {},
   "source": [
    "## Saturation investigation\n"
   ]
  },
  {
   "cell_type": "code",
   "execution_count": 16,
   "metadata": {
    "scrolled": true
   },
   "outputs": [
    {
     "name": "stdout",
     "output_type": "stream",
     "text": [
      "(804, 21)\n"
     ]
    }
   ],
   "source": [
    "from astropy.io import fits\n",
    "dfsat = df.copy()\n",
    "dfsat = dfsat[dfsat.Tmax==7000]\n",
    "print(dfsat.shape)\n",
    "flag = []\n",
    "for i,row in dfsat.iterrows():\n",
    "    epic = int(row.EPIC)\n",
    "    try:\n",
    "        hdul = fits.open('stars_shortlist/M44/ktwo{}-c05_lpd-targ.fits.gz'.format(epic))\n",
    "    except:\n",
    "        hdul = fits.open('stars_shortlist/Pleiades/ktwo{}-c04_lpd-targ.fits.gz'.format(epic))\n",
    "\n",
    "    #plt.imshow(hdul[1].data['FLUX'][0])\n",
    "    x = np.where(hdul[2].data == 3)\n",
    "    maxfill = []\n",
    "    ii = np.arange(-2,5)\n",
    "    for j in ii:\n",
    "        maxfill.append(max(hdul[1].data['FLUX'][int(row.istart)+j][x])/10093.)\n",
    "    maxfill = np.asarray(maxfill)\n",
    "    if maxfill.mean()>10: \n",
    "        flag.append(i)\n"
   ]
  },
  {
   "cell_type": "code",
   "execution_count": 17,
   "metadata": {
    "scrolled": true
   },
   "outputs": [
    {
     "name": "stderr",
     "output_type": "stream",
     "text": [
      "/home/eilin/.local/lib/python3.4/site-packages/pandas/core/indexing.py:179: SettingWithCopyWarning: \n",
      "A value is trying to be set on a copy of a slice from a DataFrame\n",
      "\n",
      "See the caveats in the documentation: http://pandas.pydata.org/pandas-docs/stable/indexing.html#indexing-view-versus-copy\n",
      "  self._setitem_with_indexer(indexer, value)\n"
     ]
    }
   ],
   "source": [
    "df['saturated1'] = False\n",
    "df.saturated1.loc[flag] = True\n",
    "df.to_csv('stars_shortlist/share/run_06_saturated10.csv')"
   ]
  },
  {
   "cell_type": "code",
   "execution_count": 18,
   "metadata": {},
   "outputs": [
    {
     "data": {
      "text/plain": [
       "False    1547\n",
       "True       36\n",
       "Name: saturated1, dtype: int64"
      ]
     },
     "execution_count": 18,
     "metadata": {},
     "output_type": "execute_result"
    }
   ],
   "source": [
    "df.saturated1.value_counts()"
   ]
  },
  {
   "cell_type": "markdown",
   "metadata": {},
   "source": [
    "## Create table for paper"
   ]
  },
  {
   "cell_type": "code",
   "execution_count": 143,
   "metadata": {},
   "outputs": [],
   "source": [
    "from astropy.io import fits\n",
    "art = pd.read_csv('stars_shortlist/share/High_Energy_Flares/DropHighEnergy.csv')\n",
    "\n",
    "def get(oid, cl='Pleiades',camp=4):\n",
    "    alt = ('M44',5)\n",
    "    fit = []\n",
    "    try:\n",
    "        hdu = fits.open('stars_shortlist/{}/hlsp_k2sc_k2_llc_{}-c0{}_kepler_v2_lc.fits'.format(cl,oid,camp))\n",
    "    except:\n",
    "        hdu = fits.open('stars_shortlist/{}/hlsp_k2sc_k2_llc_{}-c0{}_kepler_v2_lc.fits'.format(alt[0],oid,alt[1]))\n",
    "    data_rec = hdu[1].data\n",
    "    return pd.DataFrame({'time':np.array(data_rec['time']).byteswap().newbyteorder(),})\n",
    "\n",
    "art['t_0']= art.apply(lambda x: get(x.EPIC).time[int(np.nan_to_num(x.istart))], axis=1)\n",
    "art['t_f']= art.apply(lambda x: get(x.EPIC).time[int(np.nan_to_num(x.istop))], axis=1)\n",
    "arts = art.copy()"
   ]
  },
  {
   "cell_type": "code",
   "execution_count": 144,
   "metadata": {},
   "outputs": [
    {
     "data": {
      "text/html": [
       "<div>\n",
       "<style>\n",
       "    .dataframe thead tr:only-child th {\n",
       "        text-align: right;\n",
       "    }\n",
       "\n",
       "    .dataframe thead th {\n",
       "        text-align: left;\n",
       "    }\n",
       "\n",
       "    .dataframe tbody tr th {\n",
       "        vertical-align: top;\n",
       "    }\n",
       "</style>\n",
       "<table border=\"1\" class=\"dataframe\">\n",
       "  <thead>\n",
       "    <tr style=\"text-align: right;\">\n",
       "      <th></th>\n",
       "      <th>EPIC</th>\n",
       "      <th>$t_0$</th>\n",
       "      <th>$t_f$</th>\n",
       "      <th>note</th>\n",
       "    </tr>\n",
       "  </thead>\n",
       "  <tbody>\n",
       "    <tr>\n",
       "      <th>29</th>\n",
       "      <td>210966700</td>\n",
       "      <td>2258.671619</td>\n",
       "      <td>2258.732914</td>\n",
       "      <td>flagged cadences</td>\n",
       "    </tr>\n",
       "    <tr>\n",
       "      <th>3</th>\n",
       "      <td>211038389</td>\n",
       "      <td>2251.643200</td>\n",
       "      <td>2251.867949</td>\n",
       "      <td>whole CCD flashes</td>\n",
       "    </tr>\n",
       "    <tr>\n",
       "      <th>4</th>\n",
       "      <td>211038389</td>\n",
       "      <td>2252.051835</td>\n",
       "      <td>2252.215290</td>\n",
       "      <td>no flares in LC</td>\n",
       "    </tr>\n",
       "    <tr>\n",
       "      <th>5</th>\n",
       "      <td>211060530</td>\n",
       "      <td>NaN</td>\n",
       "      <td>NaN</td>\n",
       "      <td>Bright CCD row</td>\n",
       "    </tr>\n",
       "    <tr>\n",
       "      <th>7</th>\n",
       "      <td>211066337</td>\n",
       "      <td>2279.471032</td>\n",
       "      <td>2279.532327</td>\n",
       "      <td>No brightening visible</td>\n",
       "    </tr>\n",
       "    <tr>\n",
       "      <th>8</th>\n",
       "      <td>211066337</td>\n",
       "      <td>2236.993468</td>\n",
       "      <td>2237.034332</td>\n",
       "      <td>No brightening visible</td>\n",
       "    </tr>\n",
       "    <tr>\n",
       "      <th>11</th>\n",
       "      <td>211089323</td>\n",
       "      <td>NaN</td>\n",
       "      <td>NaN</td>\n",
       "      <td>saturated</td>\n",
       "    </tr>\n",
       "    <tr>\n",
       "      <th>12</th>\n",
       "      <td>211091848</td>\n",
       "      <td>2243.245708</td>\n",
       "      <td>2243.286571</td>\n",
       "      <td>No brightening visible</td>\n",
       "    </tr>\n",
       "    <tr>\n",
       "      <th>13</th>\n",
       "      <td>211096368</td>\n",
       "      <td>2274.996528</td>\n",
       "      <td>2275.078254</td>\n",
       "      <td>Bright CCD row</td>\n",
       "    </tr>\n",
       "    <tr>\n",
       "      <th>15</th>\n",
       "      <td>211114329</td>\n",
       "      <td>2271.094166</td>\n",
       "      <td>2271.135030</td>\n",
       "      <td>No brightening visible</td>\n",
       "    </tr>\n",
       "    <tr>\n",
       "      <th>17</th>\n",
       "      <td>211120842</td>\n",
       "      <td>2243.654339</td>\n",
       "      <td>2243.695202</td>\n",
       "      <td>dropout CCD row</td>\n",
       "    </tr>\n",
       "    <tr>\n",
       "      <th>19</th>\n",
       "      <td>211909748</td>\n",
       "      <td>2317.909660</td>\n",
       "      <td>2317.950524</td>\n",
       "      <td>flagged cadences</td>\n",
       "    </tr>\n",
       "    <tr>\n",
       "      <th>21</th>\n",
       "      <td>211936906</td>\n",
       "      <td>2336.012180</td>\n",
       "      <td>2336.093907</td>\n",
       "      <td>funny transit</td>\n",
       "    </tr>\n",
       "    <tr>\n",
       "      <th>22</th>\n",
       "      <td>211955036</td>\n",
       "      <td>2338.463959</td>\n",
       "      <td>2338.484391</td>\n",
       "      <td>saturated</td>\n",
       "    </tr>\n",
       "    <tr>\n",
       "      <th>23</th>\n",
       "      <td>211955036</td>\n",
       "      <td>2338.647844</td>\n",
       "      <td>2338.770434</td>\n",
       "      <td>saturated</td>\n",
       "    </tr>\n",
       "    <tr>\n",
       "      <th>24</th>\n",
       "      <td>211972627</td>\n",
       "      <td>NaN</td>\n",
       "      <td>NaN</td>\n",
       "      <td>broken pixel</td>\n",
       "    </tr>\n",
       "    <tr>\n",
       "      <th>25</th>\n",
       "      <td>211975426</td>\n",
       "      <td>2331.435440</td>\n",
       "      <td>2331.476304</td>\n",
       "      <td>funny transit</td>\n",
       "    </tr>\n",
       "    <tr>\n",
       "      <th>26</th>\n",
       "      <td>212034371</td>\n",
       "      <td>2316.070632</td>\n",
       "      <td>2316.111496</td>\n",
       "      <td>No brightening visible</td>\n",
       "    </tr>\n",
       "    <tr>\n",
       "      <th>27</th>\n",
       "      <td>212034371</td>\n",
       "      <td>2338.361678</td>\n",
       "      <td>2338.422973</td>\n",
       "      <td>contamination</td>\n",
       "    </tr>\n",
       "    <tr>\n",
       "      <th>28</th>\n",
       "      <td>212034371</td>\n",
       "      <td>2343.857791</td>\n",
       "      <td>2343.898654</td>\n",
       "      <td>No brightening visible</td>\n",
       "    </tr>\n",
       "  </tbody>\n",
       "</table>\n",
       "</div>"
      ],
      "text/plain": [
       "         EPIC        $t_0$        $t_f$                    note\n",
       "29  210966700  2258.671619  2258.732914        flagged cadences\n",
       "3   211038389  2251.643200  2251.867949       whole CCD flashes\n",
       "4   211038389  2252.051835  2252.215290         no flares in LC\n",
       "5   211060530          NaN          NaN          Bright CCD row\n",
       "7   211066337  2279.471032  2279.532327  No brightening visible\n",
       "8   211066337  2236.993468  2237.034332  No brightening visible\n",
       "11  211089323          NaN          NaN               saturated\n",
       "12  211091848  2243.245708  2243.286571  No brightening visible\n",
       "13  211096368  2274.996528  2275.078254          Bright CCD row\n",
       "15  211114329  2271.094166  2271.135030  No brightening visible\n",
       "17  211120842  2243.654339  2243.695202         dropout CCD row\n",
       "19  211909748  2317.909660  2317.950524        flagged cadences\n",
       "21  211936906  2336.012180  2336.093907           funny transit\n",
       "22  211955036  2338.463959  2338.484391               saturated\n",
       "23  211955036  2338.647844  2338.770434               saturated\n",
       "24  211972627          NaN          NaN            broken pixel\n",
       "25  211975426  2331.435440  2331.476304           funny transit\n",
       "26  212034371  2316.070632  2316.111496  No brightening visible\n",
       "27  212034371  2338.361678  2338.422973           contamination\n",
       "28  212034371  2343.857791  2343.898654  No brightening visible"
      ]
     },
     "execution_count": 144,
     "metadata": {},
     "output_type": "execute_result"
    }
   ],
   "source": [
    "arts = arts[arts.checkTPFifflare==0]\n",
    "arts['t_0'][arts.istart.isnull()] = np.nan\n",
    "arts['t_f'][arts.istop.isnull()] = np.nan\n",
    "artss = arts[['EPIC','t_0','t_f','note']]\n",
    "artss = artss.rename(index=str, columns={'t_0':'$t_0$',\n",
    "                                         't_f':'$t_f$',})\n",
    "artss = artss.sort_values('EPIC')\n",
    "artss"
   ]
  },
  {
   "cell_type": "code",
   "execution_count": 50,
   "metadata": {},
   "outputs": [],
   "source": [
    "artss.to_latex('stars_shortlist/share/Paper/DropHighEnergy.tex',\n",
    "            escape=False,col_space=10,index=False,na_rep='',column_format='cccc')"
   ]
  },
  {
   "cell_type": "code",
   "execution_count": 20,
   "metadata": {},
   "outputs": [
    {
     "data": {
      "text/plain": [
       "42.57"
      ]
     },
     "execution_count": 20,
     "metadata": {},
     "output_type": "execute_result"
    }
   ],
   "source": [
    "258*0.165\n"
   ]
  },
  {
   "cell_type": "code",
   "execution_count": 21,
   "metadata": {},
   "outputs": [
    {
     "data": {
      "text/plain": [
       "0.02349072116513977"
      ]
     },
     "execution_count": 21,
     "metadata": {},
     "output_type": "execute_result"
    }
   ],
   "source": [
    "1/42.57"
   ]
  },
  {
   "cell_type": "code",
   "execution_count": null,
   "metadata": {},
   "outputs": [],
   "source": []
  }
 ],
 "metadata": {
  "kernelspec": {
   "display_name": "Python 3",
   "language": "python",
   "name": "python3"
  },
  "language_info": {
   "codemirror_mode": {
    "name": "ipython",
    "version": 3
   },
   "file_extension": ".py",
   "mimetype": "text/x-python",
   "name": "python",
   "nbconvert_exporter": "python",
   "pygments_lexer": "ipython3",
   "version": "3.4.6"
  }
 },
 "nbformat": 4,
 "nbformat_minor": 2
}
