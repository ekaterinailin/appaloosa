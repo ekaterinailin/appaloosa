{
 "cells": [
  {
   "cell_type": "markdown",
   "metadata": {},
   "source": [
    "# Test for systematics that become visible by comparison of multiple light curves in a campaign\n",
    "\n",
    "## Run the LCs through appaloosa"
   ]
  },
  {
   "cell_type": "code",
   "execution_count": 18,
   "metadata": {},
   "outputs": [
    {
     "name": "stderr",
     "output_type": "stream",
     "text": [
      "/home/ekaterina/Documents/appaloosa/appaloosa/appaloosa.py:271: FutureWarning: pd.rolling_std is deprecated for ndarrays and will be removed in a future version\n",
      "  error = np.ones_like(time[isrl]) * np.nanmedian(rolling_std(flux_raw[isrl], win_size, center=True))\n",
      "/home/ekaterina/Documents/appaloosa/appaloosa/detrend.py:112: FutureWarning: pd.rolling_median is deprecated for ndarrays and will be removed in a future version\n",
      "  flux_sm = rolling_median(np.array(flux[x], dtype='float'), krnl)\n",
      "/home/ekaterina/Documents/appaloosa/appaloosa/detrend.py:74: FutureWarning: pd.rolling_median is deprecated for ndarrays and will be removed in a future version\n",
      "  flux_sm = rolling_median(flux[dl[i]:dr[i]], krnl)\n",
      "/home/ekaterina/Documents/appaloosa/appaloosa/detrend.py:359: FutureWarning: pd.rolling_median is deprecated for ndarrays and will be removed in a future version\n",
      "  flux_i_sm = rolling_median(flux_i, nptsmooth, center=True)\n",
      "/home/ekaterina/Documents/appaloosa/appaloosa/detrend.py:359: FutureWarning: pd.rolling_median is deprecated for ndarrays and will be removed in a future version\n",
      "  flux_i_sm = rolling_median(flux_i, nptsmooth, center=True)\n",
      "/home/ekaterina/Documents/appaloosa/appaloosa/appaloosa.py:703: FutureWarning: pd.rolling_std is deprecated for ndarrays and will be removed in a future version\n",
      "  sig_i = np.nanmedian(rolling_std(flux, std_window, center=True))\n",
      "/usr/local/lib/python3.5/dist-packages/scipy/optimize/minpack.py:779: OptimizeWarning: Covariance of the parameters could not be estimated\n",
      "  category=OptimizeWarning)\n"
     ]
    },
    {
     "name": "stdout",
     "output_type": "stream",
     "text": [
      "228682441\t2018-03-02 14:45:12.534226\t5\tstars_shortlist/M67/hlsp_everest_k2_llc_228682441-c05_kepler_v2.0_lc.fits\t5\t68.935625\t29.424381432364804\t2306.61103845\n",
      "\n"
     ]
    },
    {
     "name": "stderr",
     "output_type": "stream",
     "text": [
      "/home/ekaterina/Documents/appaloosa/appaloosa/appaloosa.py:271: FutureWarning: pd.rolling_std is deprecated for ndarrays and will be removed in a future version\n",
      "  error = np.ones_like(time[isrl]) * np.nanmedian(rolling_std(flux_raw[isrl], win_size, center=True))\n",
      "/home/ekaterina/Documents/appaloosa/appaloosa/detrend.py:112: FutureWarning: pd.rolling_median is deprecated for ndarrays and will be removed in a future version\n",
      "  flux_sm = rolling_median(np.array(flux[x], dtype='float'), krnl)\n",
      "/home/ekaterina/Documents/appaloosa/appaloosa/detrend.py:74: FutureWarning: pd.rolling_median is deprecated for ndarrays and will be removed in a future version\n",
      "  flux_sm = rolling_median(flux[dl[i]:dr[i]], krnl)\n",
      "/home/ekaterina/Documents/appaloosa/appaloosa/detrend.py:359: FutureWarning: pd.rolling_median is deprecated for ndarrays and will be removed in a future version\n",
      "  flux_i_sm = rolling_median(flux_i, nptsmooth, center=True)\n",
      "/home/ekaterina/Documents/appaloosa/appaloosa/detrend.py:359: FutureWarning: pd.rolling_median is deprecated for ndarrays and will be removed in a future version\n",
      "  flux_i_sm = rolling_median(flux_i, nptsmooth, center=True)\n",
      "/home/ekaterina/Documents/appaloosa/appaloosa/appaloosa.py:703: FutureWarning: pd.rolling_std is deprecated for ndarrays and will be removed in a future version\n",
      "  sig_i = np.nanmedian(rolling_std(flux, std_window, center=True))\n",
      "/usr/local/lib/python3.5/dist-packages/scipy/optimize/minpack.py:779: OptimizeWarning: Covariance of the parameters could not be estimated\n",
      "  category=OptimizeWarning)\n"
     ]
    },
    {
     "name": "stdout",
     "output_type": "stream",
     "text": [
      "211410963\t2018-03-02 14:45:13.072755\t15\tstars_shortlist/M67/hlsp_everest_k2_llc_211410963-c05_kepler_v2.0_lc.fits\t5\t68.935625\t29.424381432364804\t2306.61102064\n",
      "\n"
     ]
    },
    {
     "name": "stderr",
     "output_type": "stream",
     "text": [
      "/home/ekaterina/Documents/appaloosa/appaloosa/aflare.py:88: RuntimeWarning: divide by zero encountered in true_divide\n",
      "  flare = np.piecewise(t, [(t<= tpeak) * (t-tpeak)/fwhm > -1.,\n",
      "/home/ekaterina/Documents/appaloosa/appaloosa/aflare.py:88: RuntimeWarning: invalid value encountered in true_divide\n",
      "  flare = np.piecewise(t, [(t<= tpeak) * (t-tpeak)/fwhm > -1.,\n",
      "/home/ekaterina/Documents/appaloosa/appaloosa/aflare.py:88: RuntimeWarning: invalid value encountered in greater\n",
      "  flare = np.piecewise(t, [(t<= tpeak) * (t-tpeak)/fwhm > -1.,\n",
      "/home/ekaterina/Documents/appaloosa/appaloosa/aflare.py:95: RuntimeWarning: divide by zero encountered in true_divide\n",
      "  lambda x: (_fd[0]*np.exp( ((x-tpeak)/fwhm)*_fd[1] ) +\n",
      "/home/ekaterina/Documents/appaloosa/appaloosa/aflare.py:96: RuntimeWarning: divide by zero encountered in true_divide\n",
      "  _fd[2]*np.exp( ((x-tpeak)/fwhm)*_fd[3] ))]\n",
      "/home/ekaterina/Documents/appaloosa/appaloosa/appaloosa.py:271: FutureWarning: pd.rolling_std is deprecated for ndarrays and will be removed in a future version\n",
      "  error = np.ones_like(time[isrl]) * np.nanmedian(rolling_std(flux_raw[isrl], win_size, center=True))\n",
      "/home/ekaterina/Documents/appaloosa/appaloosa/detrend.py:112: FutureWarning: pd.rolling_median is deprecated for ndarrays and will be removed in a future version\n",
      "  flux_sm = rolling_median(np.array(flux[x], dtype='float'), krnl)\n",
      "/home/ekaterina/Documents/appaloosa/appaloosa/detrend.py:74: FutureWarning: pd.rolling_median is deprecated for ndarrays and will be removed in a future version\n",
      "  flux_sm = rolling_median(flux[dl[i]:dr[i]], krnl)\n",
      "/home/ekaterina/Documents/appaloosa/appaloosa/detrend.py:359: FutureWarning: pd.rolling_median is deprecated for ndarrays and will be removed in a future version\n",
      "  flux_i_sm = rolling_median(flux_i, nptsmooth, center=True)\n",
      "/home/ekaterina/Documents/appaloosa/appaloosa/detrend.py:359: FutureWarning: pd.rolling_median is deprecated for ndarrays and will be removed in a future version\n",
      "  flux_i_sm = rolling_median(flux_i, nptsmooth, center=True)\n",
      "/home/ekaterina/Documents/appaloosa/appaloosa/appaloosa.py:703: FutureWarning: pd.rolling_std is deprecated for ndarrays and will be removed in a future version\n",
      "  sig_i = np.nanmedian(rolling_std(flux, std_window, center=True))\n",
      "/usr/local/lib/python3.5/dist-packages/scipy/optimize/minpack.py:779: OptimizeWarning: Covariance of the parameters could not be estimated\n",
      "  category=OptimizeWarning)\n"
     ]
    },
    {
     "name": "stdout",
     "output_type": "stream",
     "text": [
      "211411112\t2018-03-02 14:45:13.754801\t13\tstars_shortlist/M67/hlsp_everest_k2_llc_211411112-c05_kepler_v2.0_lc.fits\t5\t68.935625\t29.424381432364804\t2306.61102002\n",
      "\n"
     ]
    },
    {
     "name": "stderr",
     "output_type": "stream",
     "text": [
      "/home/ekaterina/Documents/appaloosa/appaloosa/appaloosa.py:271: FutureWarning: pd.rolling_std is deprecated for ndarrays and will be removed in a future version\n",
      "  error = np.ones_like(time[isrl]) * np.nanmedian(rolling_std(flux_raw[isrl], win_size, center=True))\n",
      "/home/ekaterina/Documents/appaloosa/appaloosa/detrend.py:112: FutureWarning: pd.rolling_median is deprecated for ndarrays and will be removed in a future version\n",
      "  flux_sm = rolling_median(np.array(flux[x], dtype='float'), krnl)\n",
      "/home/ekaterina/Documents/appaloosa/appaloosa/detrend.py:74: FutureWarning: pd.rolling_median is deprecated for ndarrays and will be removed in a future version\n",
      "  flux_sm = rolling_median(flux[dl[i]:dr[i]], krnl)\n",
      "/home/ekaterina/Documents/appaloosa/appaloosa/detrend.py:359: FutureWarning: pd.rolling_median is deprecated for ndarrays and will be removed in a future version\n",
      "  flux_i_sm = rolling_median(flux_i, nptsmooth, center=True)\n",
      "/home/ekaterina/Documents/appaloosa/appaloosa/detrend.py:359: FutureWarning: pd.rolling_median is deprecated for ndarrays and will be removed in a future version\n",
      "  flux_i_sm = rolling_median(flux_i, nptsmooth, center=True)\n",
      "/home/ekaterina/Documents/appaloosa/appaloosa/appaloosa.py:703: FutureWarning: pd.rolling_std is deprecated for ndarrays and will be removed in a future version\n",
      "  sig_i = np.nanmedian(rolling_std(flux, std_window, center=True))\n"
     ]
    },
    {
     "name": "stdout",
     "output_type": "stream",
     "text": [
      "211416648\t2018-03-02 14:45:14.340156\t15\tstars_shortlist/M67/hlsp_everest_k2_llc_211416648-c05_kepler_v2.0_lc.fits\t5\t68.935625\t29.424381432364804\t2306.61101947\n",
      "\n"
     ]
    },
    {
     "name": "stderr",
     "output_type": "stream",
     "text": [
      "/usr/local/lib/python3.5/dist-packages/scipy/optimize/minpack.py:779: OptimizeWarning: Covariance of the parameters could not be estimated\n",
      "  category=OptimizeWarning)\n",
      "/home/ekaterina/Documents/appaloosa/appaloosa/appaloosa.py:271: FutureWarning: pd.rolling_std is deprecated for ndarrays and will be removed in a future version\n",
      "  error = np.ones_like(time[isrl]) * np.nanmedian(rolling_std(flux_raw[isrl], win_size, center=True))\n",
      "/home/ekaterina/Documents/appaloosa/appaloosa/detrend.py:112: FutureWarning: pd.rolling_median is deprecated for ndarrays and will be removed in a future version\n",
      "  flux_sm = rolling_median(np.array(flux[x], dtype='float'), krnl)\n",
      "/home/ekaterina/Documents/appaloosa/appaloosa/detrend.py:74: FutureWarning: pd.rolling_median is deprecated for ndarrays and will be removed in a future version\n",
      "  flux_sm = rolling_median(flux[dl[i]:dr[i]], krnl)\n",
      "/home/ekaterina/Documents/appaloosa/appaloosa/detrend.py:359: FutureWarning: pd.rolling_median is deprecated for ndarrays and will be removed in a future version\n",
      "  flux_i_sm = rolling_median(flux_i, nptsmooth, center=True)\n",
      "/home/ekaterina/Documents/appaloosa/appaloosa/detrend.py:359: FutureWarning: pd.rolling_median is deprecated for ndarrays and will be removed in a future version\n",
      "  flux_i_sm = rolling_median(flux_i, nptsmooth, center=True)\n",
      "/home/ekaterina/Documents/appaloosa/appaloosa/appaloosa.py:703: FutureWarning: pd.rolling_std is deprecated for ndarrays and will be removed in a future version\n",
      "  sig_i = np.nanmedian(rolling_std(flux, std_window, center=True))\n",
      "/home/ekaterina/Documents/appaloosa/appaloosa/aflare.py:88: RuntimeWarning: divide by zero encountered in true_divide\n",
      "  flare = np.piecewise(t, [(t<= tpeak) * (t-tpeak)/fwhm > -1.,\n",
      "/home/ekaterina/Documents/appaloosa/appaloosa/aflare.py:88: RuntimeWarning: invalid value encountered in true_divide\n",
      "  flare = np.piecewise(t, [(t<= tpeak) * (t-tpeak)/fwhm > -1.,\n",
      "/home/ekaterina/Documents/appaloosa/appaloosa/aflare.py:88: RuntimeWarning: invalid value encountered in greater\n",
      "  flare = np.piecewise(t, [(t<= tpeak) * (t-tpeak)/fwhm > -1.,\n",
      "/home/ekaterina/Documents/appaloosa/appaloosa/aflare.py:95: RuntimeWarning: divide by zero encountered in true_divide\n",
      "  lambda x: (_fd[0]*np.exp( ((x-tpeak)/fwhm)*_fd[1] ) +\n",
      "/home/ekaterina/Documents/appaloosa/appaloosa/aflare.py:96: RuntimeWarning: divide by zero encountered in true_divide\n",
      "  _fd[2]*np.exp( ((x-tpeak)/fwhm)*_fd[3] ))]\n",
      "/usr/local/lib/python3.5/dist-packages/scipy/optimize/minpack.py:779: OptimizeWarning: Covariance of the parameters could not be estimated\n",
      "  category=OptimizeWarning)\n"
     ]
    },
    {
     "name": "stdout",
     "output_type": "stream",
     "text": [
      "211396422\t2018-03-02 14:45:15.135825\t5\tstars_shortlist/M67/hlsp_everest_k2_llc_211396422-c05_kepler_v2.0_lc.fits\t5\t68.935625\t29.424381432364804\t2306.6110411\n",
      "\n"
     ]
    },
    {
     "name": "stderr",
     "output_type": "stream",
     "text": [
      "/home/ekaterina/Documents/appaloosa/appaloosa/appaloosa.py:271: FutureWarning: pd.rolling_std is deprecated for ndarrays and will be removed in a future version\n",
      "  error = np.ones_like(time[isrl]) * np.nanmedian(rolling_std(flux_raw[isrl], win_size, center=True))\n",
      "/home/ekaterina/Documents/appaloosa/appaloosa/detrend.py:112: FutureWarning: pd.rolling_median is deprecated for ndarrays and will be removed in a future version\n",
      "  flux_sm = rolling_median(np.array(flux[x], dtype='float'), krnl)\n",
      "/home/ekaterina/Documents/appaloosa/appaloosa/detrend.py:74: FutureWarning: pd.rolling_median is deprecated for ndarrays and will be removed in a future version\n",
      "  flux_sm = rolling_median(flux[dl[i]:dr[i]], krnl)\n",
      "/home/ekaterina/Documents/appaloosa/appaloosa/detrend.py:359: FutureWarning: pd.rolling_median is deprecated for ndarrays and will be removed in a future version\n",
      "  flux_i_sm = rolling_median(flux_i, nptsmooth, center=True)\n",
      "/home/ekaterina/Documents/appaloosa/appaloosa/detrend.py:359: FutureWarning: pd.rolling_median is deprecated for ndarrays and will be removed in a future version\n",
      "  flux_i_sm = rolling_median(flux_i, nptsmooth, center=True)\n",
      "/home/ekaterina/Documents/appaloosa/appaloosa/appaloosa.py:703: FutureWarning: pd.rolling_std is deprecated for ndarrays and will be removed in a future version\n",
      "  sig_i = np.nanmedian(rolling_std(flux, std_window, center=True))\n",
      "/usr/local/lib/python3.5/dist-packages/scipy/optimize/minpack.py:779: OptimizeWarning: Covariance of the parameters could not be estimated\n",
      "  category=OptimizeWarning)\n"
     ]
    },
    {
     "name": "stdout",
     "output_type": "stream",
     "text": [
      "211412571\t2018-03-02 14:45:15.736016\t22\tstars_shortlist/M67/hlsp_everest_k2_llc_211412571-c05_kepler_v2.0_lc.fits\t5\t68.935625\t29.424381432364804\t2306.61101854\n",
      "\n"
     ]
    },
    {
     "name": "stderr",
     "output_type": "stream",
     "text": [
      "/home/ekaterina/Documents/appaloosa/appaloosa/aflare.py:88: RuntimeWarning: divide by zero encountered in true_divide\n",
      "  flare = np.piecewise(t, [(t<= tpeak) * (t-tpeak)/fwhm > -1.,\n",
      "/home/ekaterina/Documents/appaloosa/appaloosa/aflare.py:88: RuntimeWarning: invalid value encountered in true_divide\n",
      "  flare = np.piecewise(t, [(t<= tpeak) * (t-tpeak)/fwhm > -1.,\n",
      "/home/ekaterina/Documents/appaloosa/appaloosa/aflare.py:88: RuntimeWarning: invalid value encountered in greater\n",
      "  flare = np.piecewise(t, [(t<= tpeak) * (t-tpeak)/fwhm > -1.,\n",
      "/home/ekaterina/Documents/appaloosa/appaloosa/aflare.py:95: RuntimeWarning: divide by zero encountered in true_divide\n",
      "  lambda x: (_fd[0]*np.exp( ((x-tpeak)/fwhm)*_fd[1] ) +\n",
      "/home/ekaterina/Documents/appaloosa/appaloosa/aflare.py:96: RuntimeWarning: divide by zero encountered in true_divide\n",
      "  _fd[2]*np.exp( ((x-tpeak)/fwhm)*_fd[3] ))]\n",
      "/home/ekaterina/Documents/appaloosa/appaloosa/aflare.py:95: RuntimeWarning: overflow encountered in exp\n",
      "  lambda x: (_fd[0]*np.exp( ((x-tpeak)/fwhm)*_fd[1] ) +\n",
      "/home/ekaterina/Documents/appaloosa/appaloosa/appaloosa.py:271: FutureWarning: pd.rolling_std is deprecated for ndarrays and will be removed in a future version\n",
      "  error = np.ones_like(time[isrl]) * np.nanmedian(rolling_std(flux_raw[isrl], win_size, center=True))\n",
      "/home/ekaterina/Documents/appaloosa/appaloosa/detrend.py:112: FutureWarning: pd.rolling_median is deprecated for ndarrays and will be removed in a future version\n",
      "  flux_sm = rolling_median(np.array(flux[x], dtype='float'), krnl)\n",
      "/home/ekaterina/Documents/appaloosa/appaloosa/detrend.py:74: FutureWarning: pd.rolling_median is deprecated for ndarrays and will be removed in a future version\n",
      "  flux_sm = rolling_median(flux[dl[i]:dr[i]], krnl)\n",
      "/home/ekaterina/Documents/appaloosa/appaloosa/detrend.py:359: FutureWarning: pd.rolling_median is deprecated for ndarrays and will be removed in a future version\n",
      "  flux_i_sm = rolling_median(flux_i, nptsmooth, center=True)\n",
      "/home/ekaterina/Documents/appaloosa/appaloosa/detrend.py:359: FutureWarning: pd.rolling_median is deprecated for ndarrays and will be removed in a future version\n",
      "  flux_i_sm = rolling_median(flux_i, nptsmooth, center=True)\n",
      "/home/ekaterina/Documents/appaloosa/appaloosa/appaloosa.py:703: FutureWarning: pd.rolling_std is deprecated for ndarrays and will be removed in a future version\n",
      "  sig_i = np.nanmedian(rolling_std(flux, std_window, center=True))\n",
      "/usr/local/lib/python3.5/dist-packages/scipy/optimize/minpack.py:779: OptimizeWarning: Covariance of the parameters could not be estimated\n",
      "  category=OptimizeWarning)\n"
     ]
    },
    {
     "name": "stdout",
     "output_type": "stream",
     "text": [
      "211418561\t2018-03-02 14:45:16.363096\t14\tstars_shortlist/M67/hlsp_everest_k2_llc_211418561-c05_kepler_v2.0_lc.fits\t5\t68.935625\t29.424381432364804\t2306.61101919\n",
      "\n"
     ]
    },
    {
     "name": "stderr",
     "output_type": "stream",
     "text": [
      "/home/ekaterina/Documents/appaloosa/appaloosa/appaloosa.py:271: FutureWarning: pd.rolling_std is deprecated for ndarrays and will be removed in a future version\n",
      "  error = np.ones_like(time[isrl]) * np.nanmedian(rolling_std(flux_raw[isrl], win_size, center=True))\n",
      "/home/ekaterina/Documents/appaloosa/appaloosa/detrend.py:112: FutureWarning: pd.rolling_median is deprecated for ndarrays and will be removed in a future version\n",
      "  flux_sm = rolling_median(np.array(flux[x], dtype='float'), krnl)\n",
      "/home/ekaterina/Documents/appaloosa/appaloosa/detrend.py:74: FutureWarning: pd.rolling_median is deprecated for ndarrays and will be removed in a future version\n",
      "  flux_sm = rolling_median(flux[dl[i]:dr[i]], krnl)\n",
      "/home/ekaterina/Documents/appaloosa/appaloosa/detrend.py:359: FutureWarning: pd.rolling_median is deprecated for ndarrays and will be removed in a future version\n",
      "  flux_i_sm = rolling_median(flux_i, nptsmooth, center=True)\n",
      "/home/ekaterina/Documents/appaloosa/appaloosa/detrend.py:359: FutureWarning: pd.rolling_median is deprecated for ndarrays and will be removed in a future version\n",
      "  flux_i_sm = rolling_median(flux_i, nptsmooth, center=True)\n",
      "/home/ekaterina/Documents/appaloosa/appaloosa/appaloosa.py:703: FutureWarning: pd.rolling_std is deprecated for ndarrays and will be removed in a future version\n",
      "  sig_i = np.nanmedian(rolling_std(flux, std_window, center=True))\n",
      "/home/ekaterina/Documents/appaloosa/appaloosa/aflare.py:88: RuntimeWarning: divide by zero encountered in true_divide\n",
      "  flare = np.piecewise(t, [(t<= tpeak) * (t-tpeak)/fwhm > -1.,\n",
      "/home/ekaterina/Documents/appaloosa/appaloosa/aflare.py:88: RuntimeWarning: invalid value encountered in true_divide\n",
      "  flare = np.piecewise(t, [(t<= tpeak) * (t-tpeak)/fwhm > -1.,\n",
      "/home/ekaterina/Documents/appaloosa/appaloosa/aflare.py:88: RuntimeWarning: invalid value encountered in greater\n",
      "  flare = np.piecewise(t, [(t<= tpeak) * (t-tpeak)/fwhm > -1.,\n",
      "/home/ekaterina/Documents/appaloosa/appaloosa/aflare.py:95: RuntimeWarning: divide by zero encountered in true_divide\n",
      "  lambda x: (_fd[0]*np.exp( ((x-tpeak)/fwhm)*_fd[1] ) +\n",
      "/home/ekaterina/Documents/appaloosa/appaloosa/aflare.py:96: RuntimeWarning: divide by zero encountered in true_divide\n",
      "  _fd[2]*np.exp( ((x-tpeak)/fwhm)*_fd[3] ))]\n",
      "/usr/local/lib/python3.5/dist-packages/scipy/optimize/minpack.py:779: OptimizeWarning: Covariance of the parameters could not be estimated\n",
      "  category=OptimizeWarning)\n"
     ]
    },
    {
     "name": "stdout",
     "output_type": "stream",
     "text": [
      "211418176\t2018-03-02 14:45:16.997704\t7\tstars_shortlist/M67/hlsp_everest_k2_llc_211418176-c05_kepler_v2.0_lc.fits\t5\t68.935625\t29.424381432364804\t2306.611019\n",
      "\n"
     ]
    },
    {
     "name": "stderr",
     "output_type": "stream",
     "text": [
      "/home/ekaterina/Documents/appaloosa/appaloosa/appaloosa.py:271: FutureWarning: pd.rolling_std is deprecated for ndarrays and will be removed in a future version\n",
      "  error = np.ones_like(time[isrl]) * np.nanmedian(rolling_std(flux_raw[isrl], win_size, center=True))\n",
      "/home/ekaterina/Documents/appaloosa/appaloosa/detrend.py:112: FutureWarning: pd.rolling_median is deprecated for ndarrays and will be removed in a future version\n",
      "  flux_sm = rolling_median(np.array(flux[x], dtype='float'), krnl)\n",
      "/home/ekaterina/Documents/appaloosa/appaloosa/detrend.py:74: FutureWarning: pd.rolling_median is deprecated for ndarrays and will be removed in a future version\n",
      "  flux_sm = rolling_median(flux[dl[i]:dr[i]], krnl)\n",
      "/home/ekaterina/Documents/appaloosa/appaloosa/detrend.py:359: FutureWarning: pd.rolling_median is deprecated for ndarrays and will be removed in a future version\n",
      "  flux_i_sm = rolling_median(flux_i, nptsmooth, center=True)\n",
      "/home/ekaterina/Documents/appaloosa/appaloosa/detrend.py:359: FutureWarning: pd.rolling_median is deprecated for ndarrays and will be removed in a future version\n",
      "  flux_i_sm = rolling_median(flux_i, nptsmooth, center=True)\n",
      "/home/ekaterina/Documents/appaloosa/appaloosa/appaloosa.py:703: FutureWarning: pd.rolling_std is deprecated for ndarrays and will be removed in a future version\n",
      "  sig_i = np.nanmedian(rolling_std(flux, std_window, center=True))\n"
     ]
    },
    {
     "name": "stdout",
     "output_type": "stream",
     "text": [
      "211403974\t2018-03-02 14:45:17.572362\t4\tstars_shortlist/M67/hlsp_everest_k2_llc_211403974-c05_kepler_v2.0_lc.fits\t5\t68.935625\t29.424381432364804\t2306.61102172\n",
      "\n"
     ]
    },
    {
     "name": "stderr",
     "output_type": "stream",
     "text": [
      "/home/ekaterina/Documents/appaloosa/appaloosa/aflare.py:88: RuntimeWarning: divide by zero encountered in true_divide\n",
      "  flare = np.piecewise(t, [(t<= tpeak) * (t-tpeak)/fwhm > -1.,\n",
      "/home/ekaterina/Documents/appaloosa/appaloosa/aflare.py:88: RuntimeWarning: invalid value encountered in true_divide\n",
      "  flare = np.piecewise(t, [(t<= tpeak) * (t-tpeak)/fwhm > -1.,\n",
      "/home/ekaterina/Documents/appaloosa/appaloosa/aflare.py:88: RuntimeWarning: invalid value encountered in greater\n",
      "  flare = np.piecewise(t, [(t<= tpeak) * (t-tpeak)/fwhm > -1.,\n",
      "/home/ekaterina/Documents/appaloosa/appaloosa/aflare.py:95: RuntimeWarning: divide by zero encountered in true_divide\n",
      "  lambda x: (_fd[0]*np.exp( ((x-tpeak)/fwhm)*_fd[1] ) +\n",
      "/home/ekaterina/Documents/appaloosa/appaloosa/aflare.py:96: RuntimeWarning: divide by zero encountered in true_divide\n",
      "  _fd[2]*np.exp( ((x-tpeak)/fwhm)*_fd[3] ))]\n",
      "/usr/local/lib/python3.5/dist-packages/scipy/optimize/minpack.py:779: OptimizeWarning: Covariance of the parameters could not be estimated\n",
      "  category=OptimizeWarning)\n",
      "/home/ekaterina/Documents/appaloosa/appaloosa/appaloosa.py:271: FutureWarning: pd.rolling_std is deprecated for ndarrays and will be removed in a future version\n",
      "  error = np.ones_like(time[isrl]) * np.nanmedian(rolling_std(flux_raw[isrl], win_size, center=True))\n",
      "/home/ekaterina/Documents/appaloosa/appaloosa/detrend.py:112: FutureWarning: pd.rolling_median is deprecated for ndarrays and will be removed in a future version\n",
      "  flux_sm = rolling_median(np.array(flux[x], dtype='float'), krnl)\n",
      "/home/ekaterina/Documents/appaloosa/appaloosa/detrend.py:74: FutureWarning: pd.rolling_median is deprecated for ndarrays and will be removed in a future version\n",
      "  flux_sm = rolling_median(flux[dl[i]:dr[i]], krnl)\n",
      "/home/ekaterina/Documents/appaloosa/appaloosa/detrend.py:359: FutureWarning: pd.rolling_median is deprecated for ndarrays and will be removed in a future version\n",
      "  flux_i_sm = rolling_median(flux_i, nptsmooth, center=True)\n",
      "/home/ekaterina/Documents/appaloosa/appaloosa/detrend.py:359: FutureWarning: pd.rolling_median is deprecated for ndarrays and will be removed in a future version\n",
      "  flux_i_sm = rolling_median(flux_i, nptsmooth, center=True)\n",
      "/home/ekaterina/Documents/appaloosa/appaloosa/appaloosa.py:703: FutureWarning: pd.rolling_std is deprecated for ndarrays and will be removed in a future version\n",
      "  sig_i = np.nanmedian(rolling_std(flux, std_window, center=True))\n",
      "/usr/local/lib/python3.5/dist-packages/scipy/optimize/minpack.py:779: OptimizeWarning: Covariance of the parameters could not be estimated\n",
      "  category=OptimizeWarning)\n",
      "/home/ekaterina/Documents/appaloosa/appaloosa/aflare.py:88: RuntimeWarning: divide by zero encountered in true_divide\n",
      "  flare = np.piecewise(t, [(t<= tpeak) * (t-tpeak)/fwhm > -1.,\n",
      "/home/ekaterina/Documents/appaloosa/appaloosa/aflare.py:88: RuntimeWarning: invalid value encountered in true_divide\n",
      "  flare = np.piecewise(t, [(t<= tpeak) * (t-tpeak)/fwhm > -1.,\n",
      "/home/ekaterina/Documents/appaloosa/appaloosa/aflare.py:88: RuntimeWarning: invalid value encountered in greater\n",
      "  flare = np.piecewise(t, [(t<= tpeak) * (t-tpeak)/fwhm > -1.,\n",
      "/home/ekaterina/Documents/appaloosa/appaloosa/aflare.py:95: RuntimeWarning: divide by zero encountered in true_divide\n",
      "  lambda x: (_fd[0]*np.exp( ((x-tpeak)/fwhm)*_fd[1] ) +\n",
      "/home/ekaterina/Documents/appaloosa/appaloosa/aflare.py:96: RuntimeWarning: divide by zero encountered in true_divide\n",
      "  _fd[2]*np.exp( ((x-tpeak)/fwhm)*_fd[3] ))]\n",
      "/home/ekaterina/Documents/appaloosa/appaloosa/appaloosa.py:271: FutureWarning: pd.rolling_std is deprecated for ndarrays and will be removed in a future version\n",
      "  error = np.ones_like(time[isrl]) * np.nanmedian(rolling_std(flux_raw[isrl], win_size, center=True))\n",
      "/home/ekaterina/Documents/appaloosa/appaloosa/detrend.py:112: FutureWarning: pd.rolling_median is deprecated for ndarrays and will be removed in a future version\n",
      "  flux_sm = rolling_median(np.array(flux[x], dtype='float'), krnl)\n",
      "/home/ekaterina/Documents/appaloosa/appaloosa/detrend.py:74: FutureWarning: pd.rolling_median is deprecated for ndarrays and will be removed in a future version\n",
      "  flux_sm = rolling_median(flux[dl[i]:dr[i]], krnl)\n"
     ]
    },
    {
     "name": "stdout",
     "output_type": "stream",
     "text": [
      "211417817\t2018-03-02 14:45:18.477134\t9\tstars_shortlist/M67/hlsp_everest_k2_llc_211417817-c05_kepler_v2.0_lc.fits\t5\t68.935625\t29.424381432364804\t2306.61101863\n",
      "\n"
     ]
    },
    {
     "name": "stderr",
     "output_type": "stream",
     "text": [
      "/home/ekaterina/Documents/appaloosa/appaloosa/detrend.py:359: FutureWarning: pd.rolling_median is deprecated for ndarrays and will be removed in a future version\n",
      "  flux_i_sm = rolling_median(flux_i, nptsmooth, center=True)\n",
      "/home/ekaterina/Documents/appaloosa/appaloosa/detrend.py:359: FutureWarning: pd.rolling_median is deprecated for ndarrays and will be removed in a future version\n",
      "  flux_i_sm = rolling_median(flux_i, nptsmooth, center=True)\n",
      "/home/ekaterina/Documents/appaloosa/appaloosa/appaloosa.py:703: FutureWarning: pd.rolling_std is deprecated for ndarrays and will be removed in a future version\n",
      "  sig_i = np.nanmedian(rolling_std(flux, std_window, center=True))\n",
      "/usr/local/lib/python3.5/dist-packages/scipy/optimize/minpack.py:779: OptimizeWarning: Covariance of the parameters could not be estimated\n",
      "  category=OptimizeWarning)\n",
      "/home/ekaterina/Documents/appaloosa/appaloosa/aflare.py:88: RuntimeWarning: divide by zero encountered in true_divide\n",
      "  flare = np.piecewise(t, [(t<= tpeak) * (t-tpeak)/fwhm > -1.,\n",
      "/home/ekaterina/Documents/appaloosa/appaloosa/aflare.py:88: RuntimeWarning: invalid value encountered in true_divide\n",
      "  flare = np.piecewise(t, [(t<= tpeak) * (t-tpeak)/fwhm > -1.,\n",
      "/home/ekaterina/Documents/appaloosa/appaloosa/aflare.py:88: RuntimeWarning: invalid value encountered in greater\n",
      "  flare = np.piecewise(t, [(t<= tpeak) * (t-tpeak)/fwhm > -1.,\n",
      "/home/ekaterina/Documents/appaloosa/appaloosa/aflare.py:95: RuntimeWarning: divide by zero encountered in true_divide\n",
      "  lambda x: (_fd[0]*np.exp( ((x-tpeak)/fwhm)*_fd[1] ) +\n",
      "/home/ekaterina/Documents/appaloosa/appaloosa/aflare.py:96: RuntimeWarning: divide by zero encountered in true_divide\n",
      "  _fd[2]*np.exp( ((x-tpeak)/fwhm)*_fd[3] ))]\n"
     ]
    },
    {
     "name": "stdout",
     "output_type": "stream",
     "text": [
      "211413212\t2018-03-02 14:45:19.016409\t47\tstars_shortlist/M67/hlsp_everest_k2_llc_211413212-c05_kepler_v2.0_lc.fits\t5\t68.935625\t29.424381432364804\t2306.61101805\n",
      "\n"
     ]
    },
    {
     "name": "stderr",
     "output_type": "stream",
     "text": [
      "/home/ekaterina/Documents/appaloosa/appaloosa/appaloosa.py:271: FutureWarning: pd.rolling_std is deprecated for ndarrays and will be removed in a future version\n",
      "  error = np.ones_like(time[isrl]) * np.nanmedian(rolling_std(flux_raw[isrl], win_size, center=True))\n",
      "/home/ekaterina/Documents/appaloosa/appaloosa/detrend.py:112: FutureWarning: pd.rolling_median is deprecated for ndarrays and will be removed in a future version\n",
      "  flux_sm = rolling_median(np.array(flux[x], dtype='float'), krnl)\n",
      "/home/ekaterina/Documents/appaloosa/appaloosa/detrend.py:74: FutureWarning: pd.rolling_median is deprecated for ndarrays and will be removed in a future version\n",
      "  flux_sm = rolling_median(flux[dl[i]:dr[i]], krnl)\n",
      "/home/ekaterina/Documents/appaloosa/appaloosa/detrend.py:359: FutureWarning: pd.rolling_median is deprecated for ndarrays and will be removed in a future version\n",
      "  flux_i_sm = rolling_median(flux_i, nptsmooth, center=True)\n",
      "/home/ekaterina/Documents/appaloosa/appaloosa/detrend.py:359: FutureWarning: pd.rolling_median is deprecated for ndarrays and will be removed in a future version\n",
      "  flux_i_sm = rolling_median(flux_i, nptsmooth, center=True)\n",
      "/home/ekaterina/Documents/appaloosa/appaloosa/appaloosa.py:703: FutureWarning: pd.rolling_std is deprecated for ndarrays and will be removed in a future version\n",
      "  sig_i = np.nanmedian(rolling_std(flux, std_window, center=True))\n",
      "/usr/local/lib/python3.5/dist-packages/scipy/optimize/minpack.py:779: OptimizeWarning: Covariance of the parameters could not be estimated\n",
      "  category=OptimizeWarning)\n"
     ]
    },
    {
     "name": "stdout",
     "output_type": "stream",
     "text": [
      "211427268\t2018-03-02 14:45:19.882666\t12\tstars_shortlist/M67/hlsp_everest_k2_llc_211427268-c05_kepler_v2.0_lc.fits\t5\t68.935625\t29.424381432364804\t2306.61102921\n",
      "\n"
     ]
    },
    {
     "name": "stderr",
     "output_type": "stream",
     "text": [
      "/home/ekaterina/Documents/appaloosa/appaloosa/appaloosa.py:271: FutureWarning: pd.rolling_std is deprecated for ndarrays and will be removed in a future version\n",
      "  error = np.ones_like(time[isrl]) * np.nanmedian(rolling_std(flux_raw[isrl], win_size, center=True))\n",
      "/home/ekaterina/Documents/appaloosa/appaloosa/detrend.py:112: FutureWarning: pd.rolling_median is deprecated for ndarrays and will be removed in a future version\n",
      "  flux_sm = rolling_median(np.array(flux[x], dtype='float'), krnl)\n",
      "/home/ekaterina/Documents/appaloosa/appaloosa/detrend.py:74: FutureWarning: pd.rolling_median is deprecated for ndarrays and will be removed in a future version\n",
      "  flux_sm = rolling_median(flux[dl[i]:dr[i]], krnl)\n",
      "/home/ekaterina/Documents/appaloosa/appaloosa/detrend.py:359: FutureWarning: pd.rolling_median is deprecated for ndarrays and will be removed in a future version\n",
      "  flux_i_sm = rolling_median(flux_i, nptsmooth, center=True)\n",
      "/home/ekaterina/Documents/appaloosa/appaloosa/detrend.py:359: FutureWarning: pd.rolling_median is deprecated for ndarrays and will be removed in a future version\n",
      "  flux_i_sm = rolling_median(flux_i, nptsmooth, center=True)\n",
      "/home/ekaterina/Documents/appaloosa/appaloosa/appaloosa.py:703: FutureWarning: pd.rolling_std is deprecated for ndarrays and will be removed in a future version\n",
      "  sig_i = np.nanmedian(rolling_std(flux, std_window, center=True))\n",
      "/usr/local/lib/python3.5/dist-packages/scipy/optimize/minpack.py:779: OptimizeWarning: Covariance of the parameters could not be estimated\n",
      "  category=OptimizeWarning)\n"
     ]
    },
    {
     "name": "stdout",
     "output_type": "stream",
     "text": [
      "211395699\t2018-03-02 14:45:20.469454\t13\tstars_shortlist/M67/hlsp_everest_k2_llc_211395699-c05_kepler_v2.0_lc.fits\t5\t68.935625\t29.424381432364804\t2306.61104284\n",
      "\n"
     ]
    },
    {
     "name": "stderr",
     "output_type": "stream",
     "text": [
      "/home/ekaterina/Documents/appaloosa/appaloosa/appaloosa.py:271: FutureWarning: pd.rolling_std is deprecated for ndarrays and will be removed in a future version\n",
      "  error = np.ones_like(time[isrl]) * np.nanmedian(rolling_std(flux_raw[isrl], win_size, center=True))\n",
      "/home/ekaterina/Documents/appaloosa/appaloosa/detrend.py:112: FutureWarning: pd.rolling_median is deprecated for ndarrays and will be removed in a future version\n",
      "  flux_sm = rolling_median(np.array(flux[x], dtype='float'), krnl)\n",
      "/home/ekaterina/Documents/appaloosa/appaloosa/detrend.py:74: FutureWarning: pd.rolling_median is deprecated for ndarrays and will be removed in a future version\n",
      "  flux_sm = rolling_median(flux[dl[i]:dr[i]], krnl)\n",
      "/home/ekaterina/Documents/appaloosa/appaloosa/detrend.py:359: FutureWarning: pd.rolling_median is deprecated for ndarrays and will be removed in a future version\n",
      "  flux_i_sm = rolling_median(flux_i, nptsmooth, center=True)\n",
      "/home/ekaterina/Documents/appaloosa/appaloosa/detrend.py:359: FutureWarning: pd.rolling_median is deprecated for ndarrays and will be removed in a future version\n",
      "  flux_i_sm = rolling_median(flux_i, nptsmooth, center=True)\n",
      "/home/ekaterina/Documents/appaloosa/appaloosa/appaloosa.py:703: FutureWarning: pd.rolling_std is deprecated for ndarrays and will be removed in a future version\n",
      "  sig_i = np.nanmedian(rolling_std(flux, std_window, center=True))\n",
      "/usr/local/lib/python3.5/dist-packages/scipy/optimize/minpack.py:779: OptimizeWarning: Covariance of the parameters could not be estimated\n",
      "  category=OptimizeWarning)\n",
      "/home/ekaterina/Documents/appaloosa/appaloosa/aflare.py:88: RuntimeWarning: divide by zero encountered in true_divide\n",
      "  flare = np.piecewise(t, [(t<= tpeak) * (t-tpeak)/fwhm > -1.,\n",
      "/home/ekaterina/Documents/appaloosa/appaloosa/aflare.py:88: RuntimeWarning: invalid value encountered in true_divide\n",
      "  flare = np.piecewise(t, [(t<= tpeak) * (t-tpeak)/fwhm > -1.,\n",
      "/home/ekaterina/Documents/appaloosa/appaloosa/aflare.py:88: RuntimeWarning: invalid value encountered in greater\n",
      "  flare = np.piecewise(t, [(t<= tpeak) * (t-tpeak)/fwhm > -1.,\n",
      "/home/ekaterina/Documents/appaloosa/appaloosa/aflare.py:95: RuntimeWarning: divide by zero encountered in true_divide\n",
      "  lambda x: (_fd[0]*np.exp( ((x-tpeak)/fwhm)*_fd[1] ) +\n",
      "/home/ekaterina/Documents/appaloosa/appaloosa/aflare.py:96: RuntimeWarning: divide by zero encountered in true_divide\n",
      "  _fd[2]*np.exp( ((x-tpeak)/fwhm)*_fd[3] ))]\n",
      "/home/ekaterina/Documents/appaloosa/appaloosa/appaloosa.py:271: FutureWarning: pd.rolling_std is deprecated for ndarrays and will be removed in a future version\n",
      "  error = np.ones_like(time[isrl]) * np.nanmedian(rolling_std(flux_raw[isrl], win_size, center=True))\n",
      "/home/ekaterina/Documents/appaloosa/appaloosa/detrend.py:112: FutureWarning: pd.rolling_median is deprecated for ndarrays and will be removed in a future version\n",
      "  flux_sm = rolling_median(np.array(flux[x], dtype='float'), krnl)\n",
      "/home/ekaterina/Documents/appaloosa/appaloosa/detrend.py:74: FutureWarning: pd.rolling_median is deprecated for ndarrays and will be removed in a future version\n",
      "  flux_sm = rolling_median(flux[dl[i]:dr[i]], krnl)\n"
     ]
    },
    {
     "name": "stdout",
     "output_type": "stream",
     "text": [
      "211411894\t2018-03-02 14:45:21.028381\t6\tstars_shortlist/M67/hlsp_everest_k2_llc_211411894-c05_kepler_v2.0_lc.fits\t5\t68.935625\t29.424381432364804\t2306.61101788\n",
      "\n"
     ]
    },
    {
     "name": "stderr",
     "output_type": "stream",
     "text": [
      "/home/ekaterina/Documents/appaloosa/appaloosa/detrend.py:359: FutureWarning: pd.rolling_median is deprecated for ndarrays and will be removed in a future version\n",
      "  flux_i_sm = rolling_median(flux_i, nptsmooth, center=True)\n",
      "/home/ekaterina/Documents/appaloosa/appaloosa/detrend.py:359: FutureWarning: pd.rolling_median is deprecated for ndarrays and will be removed in a future version\n",
      "  flux_i_sm = rolling_median(flux_i, nptsmooth, center=True)\n",
      "/home/ekaterina/Documents/appaloosa/appaloosa/appaloosa.py:703: FutureWarning: pd.rolling_std is deprecated for ndarrays and will be removed in a future version\n",
      "  sig_i = np.nanmedian(rolling_std(flux, std_window, center=True))\n",
      "/home/ekaterina/Documents/appaloosa/appaloosa/aflare.py:88: RuntimeWarning: divide by zero encountered in true_divide\n",
      "  flare = np.piecewise(t, [(t<= tpeak) * (t-tpeak)/fwhm > -1.,\n",
      "/home/ekaterina/Documents/appaloosa/appaloosa/aflare.py:88: RuntimeWarning: invalid value encountered in true_divide\n",
      "  flare = np.piecewise(t, [(t<= tpeak) * (t-tpeak)/fwhm > -1.,\n",
      "/home/ekaterina/Documents/appaloosa/appaloosa/aflare.py:88: RuntimeWarning: invalid value encountered in greater\n",
      "  flare = np.piecewise(t, [(t<= tpeak) * (t-tpeak)/fwhm > -1.,\n",
      "/usr/local/lib/python3.5/dist-packages/scipy/optimize/minpack.py:779: OptimizeWarning: Covariance of the parameters could not be estimated\n",
      "  category=OptimizeWarning)\n",
      "/home/ekaterina/Documents/appaloosa/appaloosa/appaloosa.py:271: FutureWarning: pd.rolling_std is deprecated for ndarrays and will be removed in a future version\n",
      "  error = np.ones_like(time[isrl]) * np.nanmedian(rolling_std(flux_raw[isrl], win_size, center=True))\n",
      "/home/ekaterina/Documents/appaloosa/appaloosa/detrend.py:112: FutureWarning: pd.rolling_median is deprecated for ndarrays and will be removed in a future version\n",
      "  flux_sm = rolling_median(np.array(flux[x], dtype='float'), krnl)\n",
      "/home/ekaterina/Documents/appaloosa/appaloosa/detrend.py:74: FutureWarning: pd.rolling_median is deprecated for ndarrays and will be removed in a future version\n",
      "  flux_sm = rolling_median(flux[dl[i]:dr[i]], krnl)\n",
      "/home/ekaterina/Documents/appaloosa/appaloosa/detrend.py:359: FutureWarning: pd.rolling_median is deprecated for ndarrays and will be removed in a future version\n",
      "  flux_i_sm = rolling_median(flux_i, nptsmooth, center=True)\n"
     ]
    },
    {
     "name": "stdout",
     "output_type": "stream",
     "text": [
      "211406540\t2018-03-02 14:45:21.534381\t3\tstars_shortlist/M67/hlsp_everest_k2_llc_211406540-c05_kepler_v2.0_lc.fits\t5\t68.935625\t29.424381432364804\t2306.6110533\n",
      "\n"
     ]
    },
    {
     "name": "stderr",
     "output_type": "stream",
     "text": [
      "/home/ekaterina/Documents/appaloosa/appaloosa/detrend.py:359: FutureWarning: pd.rolling_median is deprecated for ndarrays and will be removed in a future version\n",
      "  flux_i_sm = rolling_median(flux_i, nptsmooth, center=True)\n",
      "/home/ekaterina/Documents/appaloosa/appaloosa/appaloosa.py:703: FutureWarning: pd.rolling_std is deprecated for ndarrays and will be removed in a future version\n",
      "  sig_i = np.nanmedian(rolling_std(flux, std_window, center=True))\n",
      "/usr/local/lib/python3.5/dist-packages/scipy/optimize/minpack.py:779: OptimizeWarning: Covariance of the parameters could not be estimated\n",
      "  category=OptimizeWarning)\n"
     ]
    },
    {
     "name": "stdout",
     "output_type": "stream",
     "text": [
      "211407971\t2018-03-02 14:45:22.012253\t12\tstars_shortlist/M67/hlsp_everest_k2_llc_211407971-c05_kepler_v2.0_lc.fits\t5\t68.935625\t29.424381432364804\t2306.61101844\n",
      "\n"
     ]
    },
    {
     "name": "stderr",
     "output_type": "stream",
     "text": [
      "/home/ekaterina/Documents/appaloosa/appaloosa/appaloosa.py:271: FutureWarning: pd.rolling_std is deprecated for ndarrays and will be removed in a future version\n",
      "  error = np.ones_like(time[isrl]) * np.nanmedian(rolling_std(flux_raw[isrl], win_size, center=True))\n",
      "/home/ekaterina/Documents/appaloosa/appaloosa/detrend.py:112: FutureWarning: pd.rolling_median is deprecated for ndarrays and will be removed in a future version\n",
      "  flux_sm = rolling_median(np.array(flux[x], dtype='float'), krnl)\n",
      "/home/ekaterina/Documents/appaloosa/appaloosa/detrend.py:74: FutureWarning: pd.rolling_median is deprecated for ndarrays and will be removed in a future version\n",
      "  flux_sm = rolling_median(flux[dl[i]:dr[i]], krnl)\n",
      "/home/ekaterina/Documents/appaloosa/appaloosa/detrend.py:359: FutureWarning: pd.rolling_median is deprecated for ndarrays and will be removed in a future version\n",
      "  flux_i_sm = rolling_median(flux_i, nptsmooth, center=True)\n",
      "/home/ekaterina/Documents/appaloosa/appaloosa/detrend.py:359: FutureWarning: pd.rolling_median is deprecated for ndarrays and will be removed in a future version\n",
      "  flux_i_sm = rolling_median(flux_i, nptsmooth, center=True)\n",
      "/home/ekaterina/Documents/appaloosa/appaloosa/appaloosa.py:703: FutureWarning: pd.rolling_std is deprecated for ndarrays and will be removed in a future version\n",
      "  sig_i = np.nanmedian(rolling_std(flux, std_window, center=True))\n",
      "/usr/local/lib/python3.5/dist-packages/scipy/optimize/minpack.py:779: OptimizeWarning: Covariance of the parameters could not be estimated\n",
      "  category=OptimizeWarning)\n"
     ]
    },
    {
     "name": "stdout",
     "output_type": "stream",
     "text": [
      "211411722\t2018-03-02 14:45:22.551300\t7\tstars_shortlist/M67/hlsp_everest_k2_llc_211411722-c05_kepler_v2.0_lc.fits\t5\t68.935625\t29.424381432364804\t2306.61105339\n",
      "\n"
     ]
    },
    {
     "name": "stderr",
     "output_type": "stream",
     "text": [
      "/home/ekaterina/Documents/appaloosa/appaloosa/appaloosa.py:271: FutureWarning: pd.rolling_std is deprecated for ndarrays and will be removed in a future version\n",
      "  error = np.ones_like(time[isrl]) * np.nanmedian(rolling_std(flux_raw[isrl], win_size, center=True))\n",
      "/home/ekaterina/Documents/appaloosa/appaloosa/detrend.py:112: FutureWarning: pd.rolling_median is deprecated for ndarrays and will be removed in a future version\n",
      "  flux_sm = rolling_median(np.array(flux[x], dtype='float'), krnl)\n",
      "/home/ekaterina/Documents/appaloosa/appaloosa/detrend.py:74: FutureWarning: pd.rolling_median is deprecated for ndarrays and will be removed in a future version\n",
      "  flux_sm = rolling_median(flux[dl[i]:dr[i]], krnl)\n",
      "/home/ekaterina/Documents/appaloosa/appaloosa/detrend.py:359: FutureWarning: pd.rolling_median is deprecated for ndarrays and will be removed in a future version\n",
      "  flux_i_sm = rolling_median(flux_i, nptsmooth, center=True)\n",
      "/home/ekaterina/Documents/appaloosa/appaloosa/detrend.py:359: FutureWarning: pd.rolling_median is deprecated for ndarrays and will be removed in a future version\n",
      "  flux_i_sm = rolling_median(flux_i, nptsmooth, center=True)\n",
      "/home/ekaterina/Documents/appaloosa/appaloosa/appaloosa.py:703: FutureWarning: pd.rolling_std is deprecated for ndarrays and will be removed in a future version\n",
      "  sig_i = np.nanmedian(rolling_std(flux, std_window, center=True))\n",
      "/home/ekaterina/Documents/appaloosa/appaloosa/aflare.py:95: RuntimeWarning: overflow encountered in exp\n",
      "  lambda x: (_fd[0]*np.exp( ((x-tpeak)/fwhm)*_fd[1] ) +\n",
      "/usr/local/lib/python3.5/dist-packages/scipy/optimize/minpack.py:779: OptimizeWarning: Covariance of the parameters could not be estimated\n",
      "  category=OptimizeWarning)\n"
     ]
    },
    {
     "name": "stdout",
     "output_type": "stream",
     "text": [
      "211427574\t2018-03-02 14:45:23.090805\t6\tstars_shortlist/M67/hlsp_everest_k2_llc_211427574-c05_kepler_v2.0_lc.fits\t5\t68.935625\t29.424381432364804\t2306.61103736\n",
      "\n"
     ]
    },
    {
     "name": "stderr",
     "output_type": "stream",
     "text": [
      "/home/ekaterina/Documents/appaloosa/appaloosa/appaloosa.py:271: FutureWarning: pd.rolling_std is deprecated for ndarrays and will be removed in a future version\n",
      "  error = np.ones_like(time[isrl]) * np.nanmedian(rolling_std(flux_raw[isrl], win_size, center=True))\n",
      "/home/ekaterina/Documents/appaloosa/appaloosa/detrend.py:112: FutureWarning: pd.rolling_median is deprecated for ndarrays and will be removed in a future version\n",
      "  flux_sm = rolling_median(np.array(flux[x], dtype='float'), krnl)\n",
      "/home/ekaterina/Documents/appaloosa/appaloosa/detrend.py:74: FutureWarning: pd.rolling_median is deprecated for ndarrays and will be removed in a future version\n",
      "  flux_sm = rolling_median(flux[dl[i]:dr[i]], krnl)\n",
      "/home/ekaterina/Documents/appaloosa/appaloosa/detrend.py:359: FutureWarning: pd.rolling_median is deprecated for ndarrays and will be removed in a future version\n",
      "  flux_i_sm = rolling_median(flux_i, nptsmooth, center=True)\n",
      "/home/ekaterina/Documents/appaloosa/appaloosa/detrend.py:359: FutureWarning: pd.rolling_median is deprecated for ndarrays and will be removed in a future version\n",
      "  flux_i_sm = rolling_median(flux_i, nptsmooth, center=True)\n",
      "/home/ekaterina/Documents/appaloosa/appaloosa/appaloosa.py:703: FutureWarning: pd.rolling_std is deprecated for ndarrays and will be removed in a future version\n",
      "  sig_i = np.nanmedian(rolling_std(flux, std_window, center=True))\n",
      "/home/ekaterina/Documents/appaloosa/appaloosa/aflare.py:88: RuntimeWarning: divide by zero encountered in true_divide\n",
      "  flare = np.piecewise(t, [(t<= tpeak) * (t-tpeak)/fwhm > -1.,\n",
      "/home/ekaterina/Documents/appaloosa/appaloosa/aflare.py:88: RuntimeWarning: invalid value encountered in true_divide\n",
      "  flare = np.piecewise(t, [(t<= tpeak) * (t-tpeak)/fwhm > -1.,\n",
      "/home/ekaterina/Documents/appaloosa/appaloosa/aflare.py:88: RuntimeWarning: invalid value encountered in greater\n",
      "  flare = np.piecewise(t, [(t<= tpeak) * (t-tpeak)/fwhm > -1.,\n",
      "/home/ekaterina/Documents/appaloosa/appaloosa/aflare.py:95: RuntimeWarning: divide by zero encountered in true_divide\n",
      "  lambda x: (_fd[0]*np.exp( ((x-tpeak)/fwhm)*_fd[1] ) +\n",
      "/home/ekaterina/Documents/appaloosa/appaloosa/aflare.py:96: RuntimeWarning: divide by zero encountered in true_divide\n",
      "  _fd[2]*np.exp( ((x-tpeak)/fwhm)*_fd[3] ))]\n",
      "/usr/local/lib/python3.5/dist-packages/scipy/optimize/minpack.py:779: OptimizeWarning: Covariance of the parameters could not be estimated\n",
      "  category=OptimizeWarning)\n"
     ]
    },
    {
     "name": "stdout",
     "output_type": "stream",
     "text": [
      "211409099\t2018-03-02 14:45:23.649025\t4\tstars_shortlist/M67/hlsp_everest_k2_llc_211409099-c05_kepler_v2.0_lc.fits\t5\t68.935625\t29.424381432364804\t2306.61105375\n",
      "\n"
     ]
    },
    {
     "name": "stderr",
     "output_type": "stream",
     "text": [
      "/home/ekaterina/Documents/appaloosa/appaloosa/appaloosa.py:271: FutureWarning: pd.rolling_std is deprecated for ndarrays and will be removed in a future version\n",
      "  error = np.ones_like(time[isrl]) * np.nanmedian(rolling_std(flux_raw[isrl], win_size, center=True))\n",
      "/home/ekaterina/Documents/appaloosa/appaloosa/detrend.py:112: FutureWarning: pd.rolling_median is deprecated for ndarrays and will be removed in a future version\n",
      "  flux_sm = rolling_median(np.array(flux[x], dtype='float'), krnl)\n",
      "/home/ekaterina/Documents/appaloosa/appaloosa/detrend.py:74: FutureWarning: pd.rolling_median is deprecated for ndarrays and will be removed in a future version\n",
      "  flux_sm = rolling_median(flux[dl[i]:dr[i]], krnl)\n",
      "/home/ekaterina/Documents/appaloosa/appaloosa/detrend.py:359: FutureWarning: pd.rolling_median is deprecated for ndarrays and will be removed in a future version\n",
      "  flux_i_sm = rolling_median(flux_i, nptsmooth, center=True)\n",
      "/home/ekaterina/Documents/appaloosa/appaloosa/detrend.py:359: FutureWarning: pd.rolling_median is deprecated for ndarrays and will be removed in a future version\n",
      "  flux_i_sm = rolling_median(flux_i, nptsmooth, center=True)\n",
      "/home/ekaterina/Documents/appaloosa/appaloosa/appaloosa.py:703: FutureWarning: pd.rolling_std is deprecated for ndarrays and will be removed in a future version\n",
      "  sig_i = np.nanmedian(rolling_std(flux, std_window, center=True))\n"
     ]
    },
    {
     "name": "stdout",
     "output_type": "stream",
     "text": [
      "211405388\t2018-03-02 14:45:24.240178\t8\tstars_shortlist/M67/hlsp_everest_k2_llc_211405388-c05_kepler_v2.0_lc.fits\t5\t68.935625\t29.424381432364804\t2306.61105354\n",
      "\n"
     ]
    },
    {
     "name": "stderr",
     "output_type": "stream",
     "text": [
      "/home/ekaterina/Documents/appaloosa/appaloosa/aflare.py:88: RuntimeWarning: divide by zero encountered in true_divide\n",
      "  flare = np.piecewise(t, [(t<= tpeak) * (t-tpeak)/fwhm > -1.,\n",
      "/home/ekaterina/Documents/appaloosa/appaloosa/aflare.py:88: RuntimeWarning: invalid value encountered in true_divide\n",
      "  flare = np.piecewise(t, [(t<= tpeak) * (t-tpeak)/fwhm > -1.,\n",
      "/home/ekaterina/Documents/appaloosa/appaloosa/aflare.py:88: RuntimeWarning: invalid value encountered in greater\n",
      "  flare = np.piecewise(t, [(t<= tpeak) * (t-tpeak)/fwhm > -1.,\n",
      "/home/ekaterina/Documents/appaloosa/appaloosa/aflare.py:95: RuntimeWarning: divide by zero encountered in true_divide\n",
      "  lambda x: (_fd[0]*np.exp( ((x-tpeak)/fwhm)*_fd[1] ) +\n",
      "/home/ekaterina/Documents/appaloosa/appaloosa/aflare.py:96: RuntimeWarning: divide by zero encountered in true_divide\n",
      "  _fd[2]*np.exp( ((x-tpeak)/fwhm)*_fd[3] ))]\n",
      "/usr/local/lib/python3.5/dist-packages/scipy/optimize/minpack.py:779: OptimizeWarning: Covariance of the parameters could not be estimated\n",
      "  category=OptimizeWarning)\n",
      "/home/ekaterina/Documents/appaloosa/appaloosa/appaloosa.py:271: FutureWarning: pd.rolling_std is deprecated for ndarrays and will be removed in a future version\n",
      "  error = np.ones_like(time[isrl]) * np.nanmedian(rolling_std(flux_raw[isrl], win_size, center=True))\n",
      "/home/ekaterina/Documents/appaloosa/appaloosa/detrend.py:112: FutureWarning: pd.rolling_median is deprecated for ndarrays and will be removed in a future version\n",
      "  flux_sm = rolling_median(np.array(flux[x], dtype='float'), krnl)\n",
      "/home/ekaterina/Documents/appaloosa/appaloosa/detrend.py:74: FutureWarning: pd.rolling_median is deprecated for ndarrays and will be removed in a future version\n",
      "  flux_sm = rolling_median(flux[dl[i]:dr[i]], krnl)\n",
      "/home/ekaterina/Documents/appaloosa/appaloosa/detrend.py:359: FutureWarning: pd.rolling_median is deprecated for ndarrays and will be removed in a future version\n",
      "  flux_i_sm = rolling_median(flux_i, nptsmooth, center=True)\n",
      "/home/ekaterina/Documents/appaloosa/appaloosa/detrend.py:359: FutureWarning: pd.rolling_median is deprecated for ndarrays and will be removed in a future version\n",
      "  flux_i_sm = rolling_median(flux_i, nptsmooth, center=True)\n",
      "/home/ekaterina/Documents/appaloosa/appaloosa/appaloosa.py:703: FutureWarning: pd.rolling_std is deprecated for ndarrays and will be removed in a future version\n",
      "  sig_i = np.nanmedian(rolling_std(flux, std_window, center=True))\n",
      "/usr/local/lib/python3.5/dist-packages/scipy/optimize/minpack.py:779: OptimizeWarning: Covariance of the parameters could not be estimated\n",
      "  category=OptimizeWarning)\n"
     ]
    },
    {
     "name": "stdout",
     "output_type": "stream",
     "text": [
      "211411477\t2018-03-02 14:45:25.630503\t10\tstars_shortlist/M67/hlsp_everest_k2_llc_211411477-c05_kepler_v2.0_lc.fits\t5\t68.935625\t29.424381432364804\t2306.61105357\n",
      "\n"
     ]
    },
    {
     "name": "stderr",
     "output_type": "stream",
     "text": [
      "/home/ekaterina/Documents/appaloosa/appaloosa/aflare.py:88: RuntimeWarning: divide by zero encountered in true_divide\n",
      "  flare = np.piecewise(t, [(t<= tpeak) * (t-tpeak)/fwhm > -1.,\n",
      "/home/ekaterina/Documents/appaloosa/appaloosa/aflare.py:88: RuntimeWarning: invalid value encountered in true_divide\n",
      "  flare = np.piecewise(t, [(t<= tpeak) * (t-tpeak)/fwhm > -1.,\n",
      "/home/ekaterina/Documents/appaloosa/appaloosa/aflare.py:88: RuntimeWarning: invalid value encountered in greater\n",
      "  flare = np.piecewise(t, [(t<= tpeak) * (t-tpeak)/fwhm > -1.,\n",
      "/home/ekaterina/Documents/appaloosa/appaloosa/aflare.py:95: RuntimeWarning: divide by zero encountered in true_divide\n",
      "  lambda x: (_fd[0]*np.exp( ((x-tpeak)/fwhm)*_fd[1] ) +\n",
      "/home/ekaterina/Documents/appaloosa/appaloosa/aflare.py:96: RuntimeWarning: divide by zero encountered in true_divide\n",
      "  _fd[2]*np.exp( ((x-tpeak)/fwhm)*_fd[3] ))]\n"
     ]
    }
   ],
   "source": [
    "for oid in oid_list:\n",
    "    RunLC_test(oid)"
   ]
  },
  {
   "cell_type": "code",
   "execution_count": 93,
   "metadata": {},
   "outputs": [],
   "source": [
    "import pandas as pd\n",
    "import numpy as np\n",
    "import os\n",
    "from appaloosa import RunLC\n",
    "%matplotlib inline\n",
    "import matplotlib.pyplot as plt\n",
    "from matplotlib import rcParams\n",
    "rcParams['font.family'] = 'monospace'\n",
    "#rcParams['font.sans-serif'] = ['Tahoma']\n",
    "\n",
    "def RunLC_test(oid):\n",
    "    loc = 'stars_shortlist/M67'\n",
    "    tpf_loc = 'stars_shortlist/M67/ktwo{}-c05_lpd-targ.fits.gz'.format(oid)\n",
    "    lc_loc = 'stars_shortlist/M67/hlsp_everest_k2_llc_{}-c05_kepler_v2.0_lc.fits'.format(oid)\n",
    "    os.chdir('/home/ekaterina/Documents/appaloosa')\n",
    "    RunLC(lc_loc, dbmode='everest', display=False, debug=False, dofake=False, writeout=True)\n",
    "    return\n",
    "\n",
    "def display_overlay(oid_list,location, start, stop):\n",
    "\n",
    "    os.chdir(location)\n",
    "    all_flux={}\n",
    "    fig = plt.figure()\n",
    "    ax = fig.add_subplot(111)\n",
    "    for idx, oid in enumerate(oid_list):\n",
    "        flux = pd.read_csv(str(oid)+'_flux.csv',\n",
    "                          usecols = ['flux_gap','time'])\n",
    "        s = start\n",
    "        t = stop\n",
    "        mean = flux.flux_gap.median()\n",
    "        plt.plot(list(flux.time)[s:t],list(flux.flux_gap/mean)[s:t],label='EPIC {}'.format(oid))\n",
    "    plt.show()\n",
    "    return\n",
    "    \n",
    "def edges_to_bool(start_stop):\n",
    "    \n",
    "    rangeflare = []\n",
    "    for i,row in start_stop.iterrows():\n",
    "            rangeflare.append(list(range(row.istart,row.istop)))\n",
    "    isflare = np.zeros(start_stop.istop.iloc[-1]+1)\n",
    "    rangeflare = [item for sublist in rangeflare for item in sublist]\n",
    "\n",
    "    np.put(isflare,rangeflare,np.ones_like(rangeflare))\n",
    "\n",
    "    return isflare\n",
    "\n",
    "def create_inflated_binoms(oid_list,p,maxlen,display=False):\n",
    "\n",
    "    inflated_binoms={}\n",
    "    for i in [1,3,5]:\n",
    "        binom = 0\n",
    "        for oid in oid_list:\n",
    "            not_inflated = np.random.binomial(1,p[oid]/i,maxlen//i)\n",
    "            inflated = [item for sublist in [[j]*i for j in not_inflated] for item in sublist]\n",
    "            binom = np.add(inflated,binom)\n",
    "        inflated_binoms[i]=binom\n",
    "    if display == True:\n",
    "        plt.plot(inflated_binoms[3])\n",
    "    \n",
    "    return inflated_binoms\n",
    "\n",
    "def remove_systematics(seq,maxlen):\n",
    "    \n",
    "    #create cleaned data frame:\n",
    "    systematics = list(seq[5<seq.sum(axis=1)].index)\n",
    "    remove = sorted(list(set([item for sublist in [[i-1,i,i+1] for i in systematics] for item in sublist])))\n",
    "    seq_drop = seq.drop(labels=remove)\n",
    "    \n",
    "    #overlap dirty, overlap clean:\n",
    "    od = [seq[seq.sum(axis=1)>=i].shape[0] for i in range(21)]\n",
    "    oc = [seq_drop[seq_drop.sum(axis=1)>=i].shape[0] for i in range(21)]\n",
    "\n",
    "    #Calculate the binomial probability for cleaned version\n",
    "    p = seq.sum()/maxlen\n",
    "    return od, oc, p\n",
    "\n",
    "def display_comparison(inflated_binoms, overlap_dirty,overlap_clean):\n",
    "    fig = plt.figure()\n",
    "    ax = fig.add_subplot(111)\n",
    "    for i,binom in inflated_binoms.items():\n",
    "        overlap_binom, edges = np.histogram(binom, bins=21, range=(0,21))\n",
    "        #print(overlap_binom)\n",
    "        overlap_binom = np.cumsum(overlap_binom[::-1])[::-1]\n",
    "        #print(overlap_binom,'\\n',overlap)\n",
    "        ax.plot(overlap_binom,label='{}-times inflated binomial distribution'.format(i))\n",
    "    ax.plot(overlap_dirty,label='Real distribution with systematic errors')\n",
    "    ax.plot(overlap_clean,label='Real distribution - systematics removed')\n",
    "    #ax.plot(np.array(overlap)-overlap_binom,label='real-random')\n",
    "    ax.legend(bbox_to_anchor=(1.05, 1), loc=2, borderaxespad=0.)\n",
    "    ax.set_yscale('log')\n",
    "    fig.show()\n",
    "    return\n",
    "\n",
    "def generate_sequence(oid_list,location):\n",
    "\n",
    "    os.chdir(location)\n",
    "\n",
    "    all_isflare = {}\n",
    "    for oid in oid_list:\n",
    "\n",
    "        start_stop = pd.read_csv(str(oid)+'_flares.csv',\n",
    "                                usecols = ['istart','istop'])\n",
    "        all_isflare[oid] = edges_to_bool(start_stop)\n",
    "\n",
    "    maxlen = max([len(val) for key,val in all_isflare.items()])\n",
    "\n",
    "    for key, val in all_isflare.items():\n",
    "        all_isflare[key] = np.concatenate((val,np.zeros(maxlen-len(val))))\n",
    "        #print(len(val))\n",
    "    seq = pd.DataFrame(all_isflare)\n",
    "    return maxlen, seq\n",
    "    "
   ]
  },
  {
   "cell_type": "code",
   "execution_count": 82,
   "metadata": {},
   "outputs": [],
   "source": [
    "os.chdir('/home/ekaterina/Documents/appaloosa')\n",
    "oid_list = pd.read_csv('stars_shortlist/M67/M67_short.txt',names=['EPIC'])\n",
    "oid_list = oid_list.EPIC.tolist()\n"
   ]
  },
  {
   "cell_type": "markdown",
   "metadata": {},
   "source": [
    "## Use the results or jump in here if LCs have been processed earlier\n",
    "\n",
    "### Import the flare candidates first and reframe as boolean arrays of flare/not flare in time domain"
   ]
  },
  {
   "cell_type": "code",
   "execution_count": 83,
   "metadata": {},
   "outputs": [],
   "source": [
    "location = '/home/ekaterina/Documents/appaloosa/stars_shortlist/M67/results/test_01'\n",
    "maxlen, seq = generate_sequence(oid_list, location)\n"
   ]
  },
  {
   "cell_type": "markdown",
   "metadata": {},
   "source": [
    "### Remove systematics as time intervals where flares overlap for more than 30% of all LCs"
   ]
  },
  {
   "cell_type": "code",
   "execution_count": 84,
   "metadata": {},
   "outputs": [],
   "source": [
    "overlap_dirty, overlap_clean, p = remove_systematics(seq,maxlen)"
   ]
  },
  {
   "cell_type": "markdown",
   "metadata": {},
   "source": [
    "### Introduce a binomial distribution for comparison, also some where flare time point occur in clusters of 3 or 5 time points"
   ]
  },
  {
   "cell_type": "code",
   "execution_count": 86,
   "metadata": {},
   "outputs": [
    {
     "data": {
      "image/png": "[encoded data removed]",
      "text/plain": [
       "<matplotlib.figure.Figure at 0x7f0ae0fb49b0>"
      ]
     },
     "metadata": {},
     "output_type": "display_data"
    }
   ],
   "source": [
    "inflated_binoms = create_inflated_binoms(oid_list, p, maxlen,display=True)"
   ]
  },
  {
   "cell_type": "markdown",
   "metadata": {},
   "source": [
    "### Now compare the cleaned version with the uncleaned one and also the (inflated) binomials:"
   ]
  },
  {
   "cell_type": "code",
   "execution_count": 87,
   "metadata": {},
   "outputs": [
    {
     "name": "stderr",
     "output_type": "stream",
     "text": [
      "/usr/local/lib/python3.5/dist-packages/matplotlib/figure.py:403: UserWarning: matplotlib is currently using a non-GUI backend, so cannot show the figure\n",
      "  \"matplotlib is currently using a non-GUI backend, \"\n"
     ]
    },
    {
     "data": {
      "image/png": "[encoded data removed]",
      "text/plain": [
       "<matplotlib.figure.Figure at 0x7f0ae0881518>"
      ]
     },
     "metadata": {},
     "output_type": "display_data"
    }
   ],
   "source": [
    "display_comparison(inflated_binoms, overlap_dirty, overlap_clean)"
   ]
  },
  {
   "cell_type": "markdown",
   "metadata": {},
   "source": [
    "## Appendix: Example of a systematic in a light curve"
   ]
  },
  {
   "cell_type": "code",
   "execution_count": 88,
   "metadata": {},
   "outputs": [
    {
     "data": {
      "image/png": "[encoded data removed]",
      "text/plain": [
       "<matplotlib.figure.Figure at 0x7f0ae0ba84e0>"
      ]
     },
     "metadata": {},
     "output_type": "display_data"
    },
    {
     "data": {
      "image/png": "[encoded data removed]",
      "text/plain": [
       "<matplotlib.figure.Figure at 0x7f0ae0ba8b38>"
      ]
     },
     "metadata": {},
     "output_type": "display_data"
    }
   ],
   "source": [
    "#FCOR\n",
    "display_overlay(oid_list,location, 1330, 1360)\n",
    "#FLUX\n",
    "display_overlay(oid_list, location, 1310, 1330)\n"
   ]
  },
  {
   "cell_type": "markdown",
   "metadata": {},
   "source": [
    "## WRAP-UP: Do all steps in one!"
   ]
  },
  {
   "cell_type": "code",
   "execution_count": 94,
   "metadata": {},
   "outputs": [],
   "source": [
    "def wrap(location, oid_list, display=False):\n",
    "    maxlen, seq = generate_sequence(oid_list, location)\n",
    "    overlap_dirty, overlap_clean, p = remove_systematics(seq,maxlen)\n",
    "    inflated_binoms = create_inflated_binoms(oid_list, p, maxlen,display=display)\n",
    "    if display == True:\n",
    "        display_comparison(inflated_binoms, overlap_dirty, overlap_clean)\n",
    "        #FCOR\n",
    "        display_overlay(oid_list,location, 1330, 1360)\n",
    "        #FLUX\n",
    "        display_overlay(oid_list, location, 1310, 1330)\n",
    "    return overlap_dirty\n",
    "\n",
    "loc = '/home/ekaterina/Documents/appaloosa/stars_shortlist/M67/results/test_11'\n",
    "\n",
    "d11 = wrap(loc,oid_list,display=False)"
   ]
  },
  {
   "cell_type": "code",
   "execution_count": 96,
   "metadata": {},
   "outputs": [
    {
     "name": "stderr",
     "output_type": "stream",
     "text": [
      "/usr/local/lib/python3.5/dist-packages/matplotlib/figure.py:403: UserWarning: matplotlib is currently using a non-GUI backend, so cannot show the figure\n",
      "  \"matplotlib is currently using a non-GUI backend, \"\n"
     ]
    },
    {
     "data": {
      "image/png": "[encoded data removed]",
      "text/plain": [
       "<matplotlib.figure.Figure at 0x7f0ae0a691d0>"
      ]
     },
     "metadata": {},
     "output_type": "display_data"
    }
   ],
   "source": [
    "d01 = wrap(location,oid_list,display=False)\n",
    "\n",
    "f = plt.figure()\n",
    "ax = f.add_subplot(111)\n",
    "ax.plot(d11,label='EVEREST with correction')\n",
    "ax.plot(d01, label = 'EVEREST without correction')\n",
    "ax.legend(bbox_to_anchor=(1.05, 1), loc=2, borderaxespad=0.)\n",
    "ax.set_yscale('log')\n",
    "f.show()    "
   ]
  },
  {
   "cell_type": "code",
   "execution_count": null,
   "metadata": {},
   "outputs": [],
   "source": []
  }
 ],
 "metadata": {
  "kernelspec": {
   "display_name": "Python 3",
   "language": "python",
   "name": "python3"
  },
  "language_info": {
   "codemirror_mode": {
    "name": "ipython",
    "version": 3
   },
   "file_extension": ".py",
   "mimetype": "text/x-python",
   "name": "python",
   "nbconvert_exporter": "python",
   "pygments_lexer": "ipython3",
   "version": "3.5.2"
  }
 },
 "nbformat": 4,
 "nbformat_minor": 2
}
