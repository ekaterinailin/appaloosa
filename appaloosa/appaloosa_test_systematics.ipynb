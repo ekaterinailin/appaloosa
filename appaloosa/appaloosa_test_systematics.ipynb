{
 "cells": [
  {
   "cell_type": "markdown",
   "metadata": {},
   "source": [
    "# Test for systematics that become visible by comparison of multiple light curves in a campaign\n",
    "\n",
    "## Run the LCs through appaloosa"
   ]
  },
  {
   "cell_type": "code",
   "execution_count": 148,
   "metadata": {},
   "outputs": [],
   "source": [
    "import pandas as pd\n",
    "import numpy as np\n",
    "import os\n",
    "from appaloosa import RunLC\n",
    "%matplotlib inline\n",
    "import matplotlib.pyplot as plt\n",
    "from matplotlib import rcParams\n",
    "rcParams['font.family'] = 'monospace'\n",
    "#rcParams['font.sans-serif'] = ['Tahoma']\n",
    "\n",
    "def RunLC_test(oid):\n",
    "    loc = 'stars_shortlist/M67'\n",
    "    tpf_loc = 'stars_shortlist/M67/ktwo{}-c05_lpd-targ.fits.gz'.format(oid)\n",
    "    lc_loc = 'stars_shortlist/M67/hlsp_everest_k2_llc_{}-c05_kepler_v2.0_lc.fits'.format(oid)\n",
    "    os.chdir('/home/ekaterina/Documents/appaloosa')\n",
    "    RunLC(lc_loc, dbmode='everest', display=False, debug=False, dofake=False, writeout=True)\n",
    "    return"
   ]
  },
  {
   "cell_type": "code",
   "execution_count": 147,
   "metadata": {},
   "outputs": [],
   "source": [
    "os.chdir('/home/ekaterina/Documents/appaloosa')\n",
    "oid_list = pd.read_csv('stars_shortlist/M67/M67_short.txt',names=['EPIC'])\n",
    "oid_list = oid_list.EPIC.tolist()\n",
    "\n",
    "for oid in listoid_list(oid_list):\n",
    "    RunLC_test(oid)"
   ]
  },
  {
   "cell_type": "markdown",
   "metadata": {},
   "source": [
    "## Use the results or jump in here if LCs have been processed earlier\n",
    "\n",
    "### Import the flare candidates first and reframe as boolean arrays of flare/not flare in time domain"
   ]
  },
  {
   "cell_type": "code",
   "execution_count": 150,
   "metadata": {},
   "outputs": [
    {
     "data": {
      "text/html": [
       "<div>\n",
       "<style>\n",
       "    .dataframe thead tr:only-child th {\n",
       "        text-align: right;\n",
       "    }\n",
       "\n",
       "    .dataframe thead th {\n",
       "        text-align: left;\n",
       "    }\n",
       "\n",
       "    .dataframe tbody tr th {\n",
       "        vertical-align: top;\n",
       "    }\n",
       "</style>\n",
       "<table border=\"1\" class=\"dataframe\">\n",
       "  <thead>\n",
       "    <tr style=\"text-align: right;\">\n",
       "      <th></th>\n",
       "      <th>211395699</th>\n",
       "      <th>211396422</th>\n",
       "      <th>211403974</th>\n",
       "      <th>211405388</th>\n",
       "      <th>211406540</th>\n",
       "      <th>211407971</th>\n",
       "      <th>211409099</th>\n",
       "      <th>211410963</th>\n",
       "      <th>211411112</th>\n",
       "      <th>211411477</th>\n",
       "      <th>...</th>\n",
       "      <th>211411894</th>\n",
       "      <th>211412571</th>\n",
       "      <th>211413212</th>\n",
       "      <th>211416648</th>\n",
       "      <th>211417817</th>\n",
       "      <th>211418176</th>\n",
       "      <th>211418561</th>\n",
       "      <th>211427268</th>\n",
       "      <th>211427574</th>\n",
       "      <th>228682441</th>\n",
       "    </tr>\n",
       "  </thead>\n",
       "  <tbody>\n",
       "    <tr>\n",
       "      <th>0</th>\n",
       "      <td>0.0</td>\n",
       "      <td>0.0</td>\n",
       "      <td>0.0</td>\n",
       "      <td>0.0</td>\n",
       "      <td>0.0</td>\n",
       "      <td>0.0</td>\n",
       "      <td>0.0</td>\n",
       "      <td>0.0</td>\n",
       "      <td>0.0</td>\n",
       "      <td>0.0</td>\n",
       "      <td>...</td>\n",
       "      <td>0.0</td>\n",
       "      <td>0.0</td>\n",
       "      <td>0.0</td>\n",
       "      <td>0.0</td>\n",
       "      <td>0.0</td>\n",
       "      <td>0.0</td>\n",
       "      <td>0.0</td>\n",
       "      <td>0.0</td>\n",
       "      <td>0.0</td>\n",
       "      <td>0.0</td>\n",
       "    </tr>\n",
       "    <tr>\n",
       "      <th>1</th>\n",
       "      <td>0.0</td>\n",
       "      <td>0.0</td>\n",
       "      <td>0.0</td>\n",
       "      <td>0.0</td>\n",
       "      <td>0.0</td>\n",
       "      <td>0.0</td>\n",
       "      <td>0.0</td>\n",
       "      <td>0.0</td>\n",
       "      <td>0.0</td>\n",
       "      <td>0.0</td>\n",
       "      <td>...</td>\n",
       "      <td>0.0</td>\n",
       "      <td>0.0</td>\n",
       "      <td>0.0</td>\n",
       "      <td>0.0</td>\n",
       "      <td>0.0</td>\n",
       "      <td>0.0</td>\n",
       "      <td>0.0</td>\n",
       "      <td>0.0</td>\n",
       "      <td>0.0</td>\n",
       "      <td>0.0</td>\n",
       "    </tr>\n",
       "    <tr>\n",
       "      <th>2</th>\n",
       "      <td>0.0</td>\n",
       "      <td>0.0</td>\n",
       "      <td>0.0</td>\n",
       "      <td>0.0</td>\n",
       "      <td>0.0</td>\n",
       "      <td>0.0</td>\n",
       "      <td>0.0</td>\n",
       "      <td>0.0</td>\n",
       "      <td>0.0</td>\n",
       "      <td>0.0</td>\n",
       "      <td>...</td>\n",
       "      <td>0.0</td>\n",
       "      <td>0.0</td>\n",
       "      <td>0.0</td>\n",
       "      <td>0.0</td>\n",
       "      <td>0.0</td>\n",
       "      <td>0.0</td>\n",
       "      <td>0.0</td>\n",
       "      <td>0.0</td>\n",
       "      <td>0.0</td>\n",
       "      <td>0.0</td>\n",
       "    </tr>\n",
       "    <tr>\n",
       "      <th>3</th>\n",
       "      <td>0.0</td>\n",
       "      <td>0.0</td>\n",
       "      <td>0.0</td>\n",
       "      <td>0.0</td>\n",
       "      <td>0.0</td>\n",
       "      <td>0.0</td>\n",
       "      <td>0.0</td>\n",
       "      <td>0.0</td>\n",
       "      <td>0.0</td>\n",
       "      <td>0.0</td>\n",
       "      <td>...</td>\n",
       "      <td>0.0</td>\n",
       "      <td>0.0</td>\n",
       "      <td>0.0</td>\n",
       "      <td>0.0</td>\n",
       "      <td>0.0</td>\n",
       "      <td>0.0</td>\n",
       "      <td>0.0</td>\n",
       "      <td>0.0</td>\n",
       "      <td>0.0</td>\n",
       "      <td>0.0</td>\n",
       "    </tr>\n",
       "    <tr>\n",
       "      <th>4</th>\n",
       "      <td>0.0</td>\n",
       "      <td>0.0</td>\n",
       "      <td>0.0</td>\n",
       "      <td>0.0</td>\n",
       "      <td>0.0</td>\n",
       "      <td>0.0</td>\n",
       "      <td>0.0</td>\n",
       "      <td>0.0</td>\n",
       "      <td>0.0</td>\n",
       "      <td>0.0</td>\n",
       "      <td>...</td>\n",
       "      <td>0.0</td>\n",
       "      <td>0.0</td>\n",
       "      <td>0.0</td>\n",
       "      <td>0.0</td>\n",
       "      <td>0.0</td>\n",
       "      <td>0.0</td>\n",
       "      <td>0.0</td>\n",
       "      <td>0.0</td>\n",
       "      <td>0.0</td>\n",
       "      <td>0.0</td>\n",
       "    </tr>\n",
       "  </tbody>\n",
       "</table>\n",
       "<p>5 rows × 21 columns</p>\n",
       "</div>"
      ],
      "text/plain": [
       "   211395699  211396422  211403974  211405388  211406540  211407971  \\\n",
       "0        0.0        0.0        0.0        0.0        0.0        0.0   \n",
       "1        0.0        0.0        0.0        0.0        0.0        0.0   \n",
       "2        0.0        0.0        0.0        0.0        0.0        0.0   \n",
       "3        0.0        0.0        0.0        0.0        0.0        0.0   \n",
       "4        0.0        0.0        0.0        0.0        0.0        0.0   \n",
       "\n",
       "   211409099  211410963  211411112  211411477    ...      211411894  \\\n",
       "0        0.0        0.0        0.0        0.0    ...            0.0   \n",
       "1        0.0        0.0        0.0        0.0    ...            0.0   \n",
       "2        0.0        0.0        0.0        0.0    ...            0.0   \n",
       "3        0.0        0.0        0.0        0.0    ...            0.0   \n",
       "4        0.0        0.0        0.0        0.0    ...            0.0   \n",
       "\n",
       "   211412571  211413212  211416648  211417817  211418176  211418561  \\\n",
       "0        0.0        0.0        0.0        0.0        0.0        0.0   \n",
       "1        0.0        0.0        0.0        0.0        0.0        0.0   \n",
       "2        0.0        0.0        0.0        0.0        0.0        0.0   \n",
       "3        0.0        0.0        0.0        0.0        0.0        0.0   \n",
       "4        0.0        0.0        0.0        0.0        0.0        0.0   \n",
       "\n",
       "   211427268  211427574  228682441  \n",
       "0        0.0        0.0        0.0  \n",
       "1        0.0        0.0        0.0  \n",
       "2        0.0        0.0        0.0  \n",
       "3        0.0        0.0        0.0  \n",
       "4        0.0        0.0        0.0  \n",
       "\n",
       "[5 rows x 21 columns]"
      ]
     },
     "execution_count": 150,
     "metadata": {},
     "output_type": "execute_result"
    }
   ],
   "source": [
    "os.chdir('/home/ekaterina/Documents/appaloosa/stars_shortlist/M67/results/test_01')\n",
    "\n",
    "def edges_to_bool(df):\n",
    "    rangeflare = []\n",
    "    for i,row in start_stop.iterrows():\n",
    "            rangeflare.append(list(range(row.istart,row.istop)))\n",
    "    isflare = np.zeros(start_stop.istop.iloc[-1]+1)\n",
    "    rangeflare = [item for sublist in rangeflare for item in sublist]\n",
    "\n",
    "    np.put(isflare,rangeflare,np.ones_like(rangeflare))\n",
    "    \n",
    "    return isflare\n",
    "\n",
    "all_isflare = {}\n",
    "for idx, oid in enumerate(oid_list):\n",
    "    \n",
    "    start_stop = pd.read_csv(str(oid)+'_flares.csv')\n",
    "    all_isflare[oid] = edges_to_bool(start_stop)\n",
    "#print(all_isflare)\n",
    "maxlen = max([len(val) for key,val in all_isflare.items()])\n",
    "\n",
    "for key, val in all_isflare.items():\n",
    "    all_isflare[key] = np.concatenate((val,np.zeros(maxlen-len(val))))\n",
    "    #print(len(val))\n",
    "seq = pd.DataFrame(all_isflare)\n",
    "seq.head()\n"
   ]
  },
  {
   "cell_type": "markdown",
   "metadata": {},
   "source": [
    "### Remove systematics as time intervals where flares overlap for more than 30% of all LCs"
   ]
  },
  {
   "cell_type": "code",
   "execution_count": 151,
   "metadata": {},
   "outputs": [],
   "source": [
    "df = seq[5<seq.sum(axis=1)]\n",
    "\n",
    "systematics = list(df.index)\n",
    "remove = sorted(list(set([item for sublist in [[i-1,i,i+1] for i in systematics] for item in sublist])))\n",
    "seq_drop = seq.drop(labels=remove)\n",
    "\n",
    "overlap_dirty = [seq[seq.sum(axis=1)>=i].shape[0] for i in range(21)]\n",
    "overlap_clean = [seq_drop[seq_drop.sum(axis=1)>=i].shape[0] for i in range(21)]\n",
    "\n",
    "#Calculate the binomial probability for cleaned version\n",
    "p = seq.sum()/maxlen"
   ]
  },
  {
   "cell_type": "markdown",
   "metadata": {},
   "source": [
    "### Introduce a binomial distribution for comparison, also some where flare time point occur in clusters of 3 or 5 time points"
   ]
  },
  {
   "cell_type": "code",
   "execution_count": 152,
   "metadata": {},
   "outputs": [
    {
     "data": {
      "text/plain": [
       "[<matplotlib.lines.Line2D at 0x7f8b30eb2080>]"
      ]
     },
     "execution_count": 152,
     "metadata": {},
     "output_type": "execute_result"
    },
    {
     "data": {
      "image/png": "[encoded data removed]",
      "text/plain": [
       "<matplotlib.figure.Figure at 0x7f8b30aa9438>"
      ]
     },
     "metadata": {},
     "output_type": "display_data"
    }
   ],
   "source": [
    "binom = 0\n",
    "inflated_binoms={}\n",
    "for i in [1,3,5]:\n",
    "    for oid in oid_list:\n",
    "        not_inflated = np.random.binomial(1,p[oid]/i,maxlen//i)\n",
    "        _ = [[j]*i for j in not_inflated]\n",
    "        \n",
    "        inflated = [item for sublist in _ for item in sublist]\n",
    "        #print(inflated[:5])\n",
    "        binom = np.add(inflated,binom)\n",
    "    inflated_binoms[i]=(binom)\n",
    "plt.plot(inflated_binoms[3])"
   ]
  },
  {
   "cell_type": "markdown",
   "metadata": {},
   "source": [
    "### Now compare the cleaned version with the uncleaned one and also the (inflated) binomials:"
   ]
  },
  {
   "cell_type": "code",
   "execution_count": 153,
   "metadata": {},
   "outputs": [
    {
     "name": "stderr",
     "output_type": "stream",
     "text": [
      "/usr/local/lib/python3.5/dist-packages/matplotlib/figure.py:403: UserWarning: matplotlib is currently using a non-GUI backend, so cannot show the figure\n",
      "  \"matplotlib is currently using a non-GUI backend, \"\n"
     ]
    },
    {
     "data": {
      "image/png": "[encoded data removed]",
      "text/plain": [
       "<matplotlib.figure.Figure at 0x7f8b30cdfc18>"
      ]
     },
     "metadata": {},
     "output_type": "display_data"
    }
   ],
   "source": [
    "\n",
    "fig = plt.figure()\n",
    "ax = fig.add_subplot(111)\n",
    "for i,binom in inflated_binoms.items():\n",
    "    overlap_binom, edges = np.histogram(binom, bins=21, range=(0,21))\n",
    "    #print(overlap_binom)\n",
    "    overlap_binom = np.cumsum(overlap_binom[::-1])[::-1]\n",
    "    #print(overlap_binom,'\\n',overlap)\n",
    "    ax.plot(overlap_binom,label='{}-times inflated binomial distribution'.format(i))\n",
    "ax.plot(overlap_dirty,label='Real distribution with systematic errors')\n",
    "ax.plot(overlap_clean,label='Real distribution - systematics removed')\n",
    "#ax.plot(np.array(overlap)-overlap_binom,label='real-random')\n",
    "ax.legend(bbox_to_anchor=(1.05, 1), loc=2, borderaxespad=0.)\n",
    "ax.set_yscale('log')\n",
    "fig.show()"
   ]
  },
  {
   "cell_type": "markdown",
   "metadata": {},
   "source": [
    "## Appendix: Example of a systematic in a light curve"
   ]
  },
  {
   "cell_type": "code",
   "execution_count": 155,
   "metadata": {},
   "outputs": [
    {
     "data": {
      "image/png": "[encoded data removed]",
      "text/plain": [
       "<matplotlib.figure.Figure at 0x7f8b313122e8>"
      ]
     },
     "metadata": {},
     "output_type": "display_data"
    }
   ],
   "source": [
    "all_flux={}\n",
    "fig = plt.figure()\n",
    "ax = fig.add_subplot(111)\n",
    "for idx, oid in enumerate(oid_list):\n",
    "    flux = pd.read_csv(str(oid)+'_flux.csv',\n",
    "                      usecols = ['flux_gap','time'])\n",
    "    s = 1310\n",
    "    t = 1330\n",
    "    mean = flux.flux_gap.median()\n",
    "    plt.plot(list(flux.time)[s:t],list(flux.flux_gap/mean)[s:t],label='EPIC {}'.format(oid))\n",
    "plt.show()"
   ]
  },
  {
   "cell_type": "code",
   "execution_count": null,
   "metadata": {},
   "outputs": [],
   "source": []
  }
 ],
 "metadata": {
  "kernelspec": {
   "display_name": "Python 3",
   "language": "python",
   "name": "python3"
  },
  "language_info": {
   "codemirror_mode": {
    "name": "ipython",
    "version": 3
   },
   "file_extension": ".py",
   "mimetype": "text/x-python",
   "name": "python",
   "nbconvert_exporter": "python",
   "pygments_lexer": "ipython3",
   "version": "3.5.2"
  }
 },
 "nbformat": 4,
 "nbformat_minor": 2
}
