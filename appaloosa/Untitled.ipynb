{
 "cells": [
  {
   "cell_type": "code",
   "execution_count": 1,
   "metadata": {},
   "outputs": [],
   "source": [
    "from astropy.io import fits\n",
    "import pandas as pd\n",
    "import numpy as np\n",
    "211938860\n",
    "file = '/home/ekaterina/Documents/appaloosa/stars_shortlist/Pleiades/hlsp_k2sc_k2_llc_211018587-c04_kepler_v2_lc.fits'\n",
    "hdu = fits.open(file)\n",
    "data_rec = hdu[1].data\n",
    "lc = pd.DataFrame({'time':np.array(data_rec['TIME']).byteswap().newbyteorder(),\n",
    "                      'flux_raw':np.array(data_rec['FLUX']).byteswap().newbyteorder(),})"
   ]
  },
  {
   "cell_type": "code",
   "execution_count": 26,
   "metadata": {},
   "outputs": [
    {
     "data": {
      "text/plain": [
       "0      0.165\n",
       "1      0.165\n",
       "2      0.165\n",
       "3      0.150\n",
       "4      0.150\n",
       "5      0.160\n",
       "6      0.160\n",
       "7      0.155\n",
       "8      0.155\n",
       "9      0.145\n",
       "10     0.145\n",
       "11     0.070\n",
       "12     0.070\n",
       "13     0.295\n",
       "14     0.375\n",
       "15     0.375\n",
       "16     0.765\n",
       "17     0.765\n",
       "18     0.280\n",
       "19     0.255\n",
       "20     0.135\n",
       "21     0.295\n",
       "22     0.295\n",
       "23     0.280\n",
       "24     0.595\n",
       "25     0.595\n",
       "26     0.215\n",
       "27     0.215\n",
       "28     0.160\n",
       "29     0.095\n",
       "       ...  \n",
       "86     0.025\n",
       "87     0.160\n",
       "88     0.175\n",
       "89     0.310\n",
       "90     0.310\n",
       "91     0.160\n",
       "92     0.160\n",
       "93     0.150\n",
       "94     0.125\n",
       "95     0.115\n",
       "96     0.075\n",
       "97     0.060\n",
       "98     0.050\n",
       "99     0.050\n",
       "100    0.085\n",
       "101    0.085\n",
       "102    0.075\n",
       "103    0.110\n",
       "104    0.110\n",
       "105    0.315\n",
       "106    0.315\n",
       "107    0.215\n",
       "108    0.275\n",
       "109    0.275\n",
       "110    0.275\n",
       "111    0.275\n",
       "112    0.275\n",
       "113    0.275\n",
       "114    0.275\n",
       "115    0.275\n",
       "Name: Mbol, Length: 116, dtype: float64"
      ]
     },
     "execution_count": 26,
     "metadata": {},
     "output_type": "execute_result"
    }
   ],
   "source": [
    "p = pd.read_csv('/home/ekaterina/Documents/appaloosa/stars_shortlist/static/merged_specs.csv')\n",
    "dif = p.Mbol.diff().fillna(method='bfill').fillna(method='ffill').rolling(2).max()/2.\n",
    "p['M_bol_err'] = dif.fillna(method='bfill')"
   ]
  },
  {
   "cell_type": "code",
   "execution_count": 5,
   "metadata": {},
   "outputs": [
    {
     "data": {
      "text/html": [
       "<div>\n",
       "<style scoped>\n",
       "    .dataframe tbody tr th:only-of-type {\n",
       "        vertical-align: middle;\n",
       "    }\n",
       "\n",
       "    .dataframe tbody tr th {\n",
       "        vertical-align: top;\n",
       "    }\n",
       "\n",
       "    .dataframe thead th {\n",
       "        text-align: right;\n",
       "    }\n",
       "</style>\n",
       "<table border=\"1\" class=\"dataframe\">\n",
       "  <thead>\n",
       "    <tr style=\"text-align: right;\">\n",
       "      <th></th>\n",
       "      <th>flux_raw</th>\n",
       "      <th>time</th>\n",
       "    </tr>\n",
       "  </thead>\n",
       "  <tbody>\n",
       "    <tr>\n",
       "      <th>0</th>\n",
       "      <td>5.752362e+06</td>\n",
       "      <td>2228.800225</td>\n",
       "    </tr>\n",
       "    <tr>\n",
       "      <th>1</th>\n",
       "      <td>5.753924e+06</td>\n",
       "      <td>2228.820657</td>\n",
       "    </tr>\n",
       "    <tr>\n",
       "      <th>2</th>\n",
       "      <td>5.753816e+06</td>\n",
       "      <td>2228.841090</td>\n",
       "    </tr>\n",
       "    <tr>\n",
       "      <th>3</th>\n",
       "      <td>5.754397e+06</td>\n",
       "      <td>2228.861522</td>\n",
       "    </tr>\n",
       "    <tr>\n",
       "      <th>4</th>\n",
       "      <td>5.753682e+06</td>\n",
       "      <td>2228.881954</td>\n",
       "    </tr>\n",
       "  </tbody>\n",
       "</table>\n",
       "</div>"
      ],
      "text/plain": [
       "       flux_raw         time\n",
       "0  5.752362e+06  2228.800225\n",
       "1  5.753924e+06  2228.820657\n",
       "2  5.753816e+06  2228.841090\n",
       "3  5.754397e+06  2228.861522\n",
       "4  5.753682e+06  2228.881954"
      ]
     },
     "execution_count": 5,
     "metadata": {},
     "output_type": "execute_result"
    }
   ],
   "source": [
    "lc.head()"
   ]
  },
  {
   "cell_type": "code",
   "execution_count": 9,
   "metadata": {},
   "outputs": [
    {
     "data": {
      "text/plain": [
       "<astropy.io.fits.hdu.table.BinTableHDU at 0x7fda7047b0f0>"
      ]
     },
     "execution_count": 9,
     "metadata": {},
     "output_type": "execute_result"
    }
   ],
   "source": [
    "hdu[1].columns"
   ]
  },
  {
   "cell_type": "code",
   "execution_count": 20,
   "metadata": {},
   "outputs": [
    {
     "data": {
      "text/plain": [
       "array([5647979.91007671, 5647896.31230533, 5647831.74578876, ...,\n",
       "       5770077.49686954, 5770184.20786717, 5770293.42383748])"
      ]
     },
     "execution_count": 20,
     "metadata": {},
     "output_type": "execute_result"
    }
   ],
   "source": [
    "hdu[1].data['trtime']"
   ]
  },
  {
   "cell_type": "code",
   "execution_count": 22,
   "metadata": {},
   "outputs": [
    {
     "data": {
      "text/plain": [
       "array([60.75252533, 60.80658722, 60.80142975, ..., 62.37527847,\n",
       "       62.38790894, 62.40031815])"
      ]
     },
     "execution_count": 22,
     "metadata": {},
     "output_type": "execute_result"
    }
   ],
   "source": [
    "hdu[1].data['error']"
   ]
  },
  {
   "cell_type": "code",
   "execution_count": null,
   "metadata": {},
   "outputs": [],
   "source": []
  }
 ],
 "metadata": {
  "kernelspec": {
   "display_name": "Python 3",
   "language": "python",
   "name": "python3"
  },
  "language_info": {
   "codemirror_mode": {
    "name": "ipython",
    "version": 3
   },
   "file_extension": ".py",
   "mimetype": "text/x-python",
   "name": "python",
   "nbconvert_exporter": "python",
   "pygments_lexer": "ipython3",
   "version": "3.5.2"
  }
 },
 "nbformat": 4,
 "nbformat_minor": 2
}
