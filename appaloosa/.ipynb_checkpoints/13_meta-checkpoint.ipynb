{
 "cells": [
  {
   "cell_type": "code",
   "execution_count": 20,
   "metadata": {},
   "outputs": [],
   "source": [
    "import os \n",
    "import pandas as pd\n",
    "import time\n",
    "%matplotlib inline\n",
    "import matplotlib.pyplot as plt\n",
    "import numpy as np\n",
    "#Prep:----------------------------------\n",
    "os.chdir('/home/ekaterina/Documents/appaloosa/stars_shortlist/share')\n",
    "today = time.strftime(\"%d_%b_%Y\", time.gmtime())\n",
    "run = '03'\n",
    "locs = [#('M67','M67_run_02_cum_FFD.csv',4.0),\n",
    "        ('M44','M44_run_{}_cum_FFD.csv'.format(run),0.794),\n",
    "       # ('NGC_1647','NGC_1647_run_{}_cum_FFD.csv'.format(run),0.145),\n",
    "        ('Pleiades','Pleiades_run_{}_cum_FFD.csv'.format(run),0.120)]\n",
    "frames = []\n",
    "for (key, value,age) in locs:\n",
    "    df = pd.read_csv(value,\n",
    "                     usecols = ['Tmax','Tmin','alpha',\n",
    "                                'alpha_err','beta','beta_err',\n",
    "                                'minenerg','maxenerg'],\n",
    "                     )\n",
    "    frames.append(df)\n",
    "res = pd.concat(frames, keys=[x[2] for x in locs])\n",
    "res = res.reset_index()\n",
    "res = res.drop('level_1',axis=1)\n",
    "res = res.rename(index=str, columns={'level_0':'age'})\n",
    "ages = {4.0:'M67',0.794:'M44',0.145:'NGC_1647',0.120:'Pleiades'}\n",
    "res['cluster'] = [ages[i] for i in res.age]\n",
    "res = res.dropna(how='any')\n",
    "#Transform alpha to conventional value\n",
    "res.alpha = -res.alpha+1.\n",
    "res = res[(res.Tmax==7000) & (res.Tmin ==3000)]\n",
    "#Prep end. ------------------------------"
   ]
  },
  {
   "cell_type": "code",
   "execution_count": 21,
   "metadata": {},
   "outputs": [
    {
     "data": {
      "text/html": [
       "<div>\n",
       "<style scoped>\n",
       "    .dataframe tbody tr th:only-of-type {\n",
       "        vertical-align: middle;\n",
       "    }\n",
       "\n",
       "    .dataframe tbody tr th {\n",
       "        vertical-align: top;\n",
       "    }\n",
       "\n",
       "    .dataframe thead th {\n",
       "        text-align: right;\n",
       "    }\n",
       "</style>\n",
       "<table border=\"1\" class=\"dataframe\">\n",
       "  <thead>\n",
       "    <tr style=\"text-align: right;\">\n",
       "      <th></th>\n",
       "      <th>age</th>\n",
       "      <th>Tmax</th>\n",
       "      <th>Tmin</th>\n",
       "      <th>alpha</th>\n",
       "      <th>alpha_err</th>\n",
       "      <th>beta</th>\n",
       "      <th>beta_err</th>\n",
       "      <th>maxenerg</th>\n",
       "      <th>minenerg</th>\n",
       "      <th>cluster</th>\n",
       "    </tr>\n",
       "  </thead>\n",
       "  <tbody>\n",
       "    <tr>\n",
       "      <th>3</th>\n",
       "      <td>0.794</td>\n",
       "      <td>7000.0</td>\n",
       "      <td>3000.0</td>\n",
       "      <td>1.486802</td>\n",
       "      <td>0.046656</td>\n",
       "      <td>17.262451</td>\n",
       "      <td>1.506435</td>\n",
       "      <td>1.737964e+34</td>\n",
       "      <td>5.000000e+30</td>\n",
       "      <td>M44</td>\n",
       "    </tr>\n",
       "    <tr>\n",
       "      <th>7</th>\n",
       "      <td>0.120</td>\n",
       "      <td>7000.0</td>\n",
       "      <td>3000.0</td>\n",
       "      <td>1.751699</td>\n",
       "      <td>0.127046</td>\n",
       "      <td>25.443620</td>\n",
       "      <td>4.140365</td>\n",
       "      <td>2.886804e+33</td>\n",
       "      <td>5.000000e+28</td>\n",
       "      <td>Pleiades</td>\n",
       "    </tr>\n",
       "  </tbody>\n",
       "</table>\n",
       "</div>"
      ],
      "text/plain": [
       "     age    Tmax    Tmin     alpha  alpha_err       beta  beta_err  \\\n",
       "3  0.794  7000.0  3000.0  1.486802   0.046656  17.262451  1.506435   \n",
       "7  0.120  7000.0  3000.0  1.751699   0.127046  25.443620  4.140365   \n",
       "\n",
       "       maxenerg      minenerg   cluster  \n",
       "3  1.737964e+34  5.000000e+30       M44  \n",
       "7  2.886804e+33  5.000000e+28  Pleiades  "
      ]
     },
     "execution_count": 21,
     "metadata": {},
     "output_type": "execute_result"
    }
   ],
   "source": [
    "#CHECK THESE PARAMETERS before proceeding\n",
    "res = res[(res.Tmax-res.Tmin >= 1000)]\n",
    "res = res[res.alpha<3.]\n",
    "res"
   ]
  },
  {
   "cell_type": "markdown",
   "metadata": {},
   "source": [
    "### Plot alpha(t)"
   ]
  },
  {
   "cell_type": "code",
   "execution_count": 24,
   "metadata": {},
   "outputs": [
    {
     "name": "stdout",
     "output_type": "stream",
     "text": [
      "       minenerg      maxenerg   cluster    Tmin    Tmax\n",
      "7  5.000000e+28  2.886804e+33  Pleiades  3000.0  7000.0\n",
      "3  5.000000e+30  1.737964e+34       M44  3000.0  7000.0\n"
     ]
    },
    {
     "data": {
      "text/plain": [
       "<matplotlib.legend.Legend at 0x7fd1a2961c18>"
      ]
     },
     "execution_count": 24,
     "metadata": {},
     "output_type": "execute_result"
    },
    {
     "data": {
      "image/png": "[encoded data removed]",
      "text/plain": [
       "<matplotlib.figure.Figure at 0x7fd1a2961f98>"
      ]
     },
     "metadata": {},
     "output_type": "display_data"
    }
   ],
   "source": [
    "\n",
    "\n",
    "def colors(mini, maxi):\n",
    "    cmin = {3000:'maroon',3500:'tomato',4000:'coral',\n",
    "            4500:'gold',5000:'lime',5500:'darkgreen',\n",
    "            6000: 'c',6500:'midnightblue'}\n",
    "    if (mini==3000.) & (maxi==7000.):\n",
    "        return 'black'\n",
    "    elif (mini==3000.) & (maxi==4500.):\n",
    "        return 'red'\n",
    "    elif (mini==4500.) & (maxi==5500.):\n",
    "        return 'orange'\n",
    "    elif (mini==5500.) & (maxi==7000.):\n",
    "        return 'green'\n",
    "    else:\n",
    "        return cmin[mini]\n",
    "    \n",
    "fig, ax = plt.subplots(figsize=(8,6))\n",
    "for label, df in res.groupby(['Tmin','Tmax']):\n",
    "    df.plot(x='age',y='alpha',yerr='alpha_err',\n",
    "                 kind='line',logx=True, ax=ax,\n",
    "                 markersize=100,\n",
    "                 label=label, color=colors(label[0],label[1]))\n",
    "    print(df[['minenerg','maxenerg','cluster','Tmin','Tmax']].sort_values(by='minenerg'))\n",
    "\n",
    "plt.xlabel('age in Gyr')\n",
    "plt.ylabel('alpha')\n",
    "# plt.text(x=0.11,y=2.03,s='Pleiades')\n",
    "# plt.text(x=0.14,y=2.0,s='NGC 1647')\n",
    "# plt.text(x=0.7,y=1.95,s='Praesepe')\n",
    "#plt.text(x=3.4,y=1.9,s='M67')\n",
    "plt.legend()\n",
    "#plt.savefig('/home/ekaterina/Documents/appaloosa/stars_shortlist/share/dated/{}_alpha.jpg'.format(today),dpi=300)"
   ]
  },
  {
   "cell_type": "markdown",
   "metadata": {},
   "source": [
    "### Plot beta(t)"
   ]
  },
  {
   "cell_type": "code",
   "execution_count": 25,
   "metadata": {},
   "outputs": [
    {
     "name": "stdout",
     "output_type": "stream",
     "text": [
      "3000.0\n"
     ]
    },
    {
     "data": {
      "image/png": "[encoded data removed]",
      "text/plain": [
       "<matplotlib.figure.Figure at 0x7fd1a2a08e10>"
      ]
     },
     "metadata": {},
     "output_type": "display_data"
    }
   ],
   "source": [
    "fig, ax = plt.subplots(figsize=(8,6))\n",
    "for label, df in res.groupby(['Tmin','Tmax']):\n",
    "    df.plot(x='age',y='beta',yerr='beta_err',\n",
    "                 kind='line', ax=ax,\n",
    "                 markersize=100,logx=True,\n",
    "                 label='{:.0f}-{:.0f} K'.format(label[0],label[1]), color=colors(label[0],label[1]))\n",
    "    print(label[0])\n",
    "plt.xlabel('age in Gyr')\n",
    "plt.ylabel('beta')\n",
    "# plt.text(x=0.11,y=36,s='Pleiades')\n",
    "# plt.text(x=0.14,y=34,s='NGC 1647')\n",
    "# plt.text(x=0.7,y=38,s='Praesepe')\n",
    "# plt.text(x=3.4,y=36,s='M67')\n",
    "plt.legend()\n",
    "plt.savefig('/home/ekaterina/Documents/appaloosa/stars_shortlist/share/dated/{}_beta.jpg'.format(today),dpi=300)"
   ]
  },
  {
   "cell_type": "markdown",
   "metadata": {},
   "source": [
    "### Plot total energy, total number of flares per cluster"
   ]
  },
  {
   "cell_type": "code",
   "execution_count": 15,
   "metadata": {},
   "outputs": [
    {
     "data": {
      "text/html": [
       "<div>\n",
       "<style scoped>\n",
       "    .dataframe tbody tr th:only-of-type {\n",
       "        vertical-align: middle;\n",
       "    }\n",
       "\n",
       "    .dataframe tbody tr th {\n",
       "        vertical-align: top;\n",
       "    }\n",
       "\n",
       "    .dataframe thead th {\n",
       "        text-align: right;\n",
       "    }\n",
       "</style>\n",
       "<table border=\"1\" class=\"dataframe\">\n",
       "  <thead>\n",
       "    <tr style=\"text-align: right;\">\n",
       "      <th></th>\n",
       "      <th>age</th>\n",
       "      <th>n_stars</th>\n",
       "      <th>tot_en_err</th>\n",
       "      <th>tot_en</th>\n",
       "      <th>tot_flares_p_star</th>\n",
       "      <th>tot_flares</th>\n",
       "      <th>Tmin</th>\n",
       "      <th>Tmax</th>\n",
       "      <th>FA_pstar</th>\n",
       "      <th>FA_pstar_err</th>\n",
       "      <th>tot_flares_p_star_err</th>\n",
       "    </tr>\n",
       "  </thead>\n",
       "  <tbody>\n",
       "    <tr>\n",
       "      <th>1</th>\n",
       "      <td>0.120</td>\n",
       "      <td>123.0</td>\n",
       "      <td>1.452879e+32</td>\n",
       "      <td>6.992841e+32</td>\n",
       "      <td>1.609756</td>\n",
       "      <td>198.0</td>\n",
       "      <td>3000.0</td>\n",
       "      <td>7000.0</td>\n",
       "      <td>38.713544</td>\n",
       "      <td>4.631089</td>\n",
       "      <td>1.268762</td>\n",
       "    </tr>\n",
       "    <tr>\n",
       "      <th>0</th>\n",
       "      <td>0.145</td>\n",
       "      <td>77.0</td>\n",
       "      <td>4.259618e+31</td>\n",
       "      <td>4.195133e+32</td>\n",
       "      <td>0.519481</td>\n",
       "      <td>40.0</td>\n",
       "      <td>3000.0</td>\n",
       "      <td>7000.0</td>\n",
       "      <td>2.951087</td>\n",
       "      <td>0.843249</td>\n",
       "      <td>0.720750</td>\n",
       "    </tr>\n",
       "    <tr>\n",
       "      <th>2</th>\n",
       "      <td>0.800</td>\n",
       "      <td>83.0</td>\n",
       "      <td>2.022491e+31</td>\n",
       "      <td>4.104610e+32</td>\n",
       "      <td>2.168675</td>\n",
       "      <td>180.0</td>\n",
       "      <td>3000.0</td>\n",
       "      <td>7000.0</td>\n",
       "      <td>843.663780</td>\n",
       "      <td>133.539580</td>\n",
       "      <td>1.472642</td>\n",
       "    </tr>\n",
       "    <tr>\n",
       "      <th>3</th>\n",
       "      <td>4.000</td>\n",
       "      <td>66.0</td>\n",
       "      <td>1.390814e+31</td>\n",
       "      <td>1.241724e+32</td>\n",
       "      <td>1.530303</td>\n",
       "      <td>101.0</td>\n",
       "      <td>3000.0</td>\n",
       "      <td>7000.0</td>\n",
       "      <td>0.114889</td>\n",
       "      <td>0.049947</td>\n",
       "      <td>1.237054</td>\n",
       "    </tr>\n",
       "  </tbody>\n",
       "</table>\n",
       "</div>"
      ],
      "text/plain": [
       "     age  n_stars    tot_en_err        tot_en  tot_flares_p_star  tot_flares  \\\n",
       "1  0.120    123.0  1.452879e+32  6.992841e+32           1.609756       198.0   \n",
       "0  0.145     77.0  4.259618e+31  4.195133e+32           0.519481        40.0   \n",
       "2  0.800     83.0  2.022491e+31  4.104610e+32           2.168675       180.0   \n",
       "3  4.000     66.0  1.390814e+31  1.241724e+32           1.530303       101.0   \n",
       "\n",
       "     Tmin    Tmax    FA_pstar  FA_pstar_err  tot_flares_p_star_err  \n",
       "1  3000.0  7000.0   38.713544      4.631089               1.268762  \n",
       "0  3000.0  7000.0    2.951087      0.843249               0.720750  \n",
       "2  3000.0  7000.0  843.663780    133.539580               1.472642  \n",
       "3  3000.0  7000.0    0.114889      0.049947               1.237054  "
      ]
     },
     "execution_count": 15,
     "metadata": {},
     "output_type": "execute_result"
    }
   ],
   "source": [
    "os.chdir('/home/ekaterina/Documents/appaloosa/stars_shortlist')\n",
    "locs2 = [('NGC_1647','NGC_1647/results/run_{}/clusterenergies.csv'.format(run),.145),\n",
    "         ('Pleiades','Pleiades/results/run_{}/clusterenergies.csv'.format(run),0.120),\n",
    "         ('M44','M44/results/run_{}/clusterenergies.csv'.format(run),0.8),\n",
    "         ('M67','M67/results/run_{}/clusterenergies.csv'.format(run),4.0)]\n",
    "#Tlims = [(3000,4500,'red'),(4500,5500,'orange'),(5500,7000,'green'),(3000,7000,'black')]\n",
    "Tlims = [(3000,7000,'black')]\n",
    "dats = []\n",
    "for Tmin, Tmax, color in Tlims:\n",
    "    for (name, value, age) in locs2:\n",
    "        df = pd.read_csv(value,\n",
    "                         usecols = ['clustered','clusterederr','clusterenergy',\n",
    "                                    'clusterenergy_err','rel_energ_err','Teff',\n",
    "                                    'stars_in_bin','Tmin','Tmax','L_bol','L_bol_err'],\n",
    "                         )\n",
    "        #select color bin:\n",
    "        df = df[(df.Tmin == Tmin) & (df.Tmax == Tmax)]\n",
    "        #check if correct\n",
    "        df = df.dropna(how='any')\n",
    "\n",
    "        if (df.stars_in_bin != df.stars_in_bin.iloc[0]).any(): \n",
    "            raise ValueError('The number of stars in your bin is ambiguous.')\n",
    "        #normalization constant\n",
    "        n_stars = df.stars_in_bin.iloc[0]\n",
    "        FAerr = np.sqrt( df.clusterenergy_err**2 + ( df.clusterenergy * df.L_bol_err /  df.L_bol )**2 ) /  df.L_bol\n",
    "        dats.append([age, n_stars,\n",
    "                    np.sqrt((df.clusterenergy_err**2).sum())/n_stars,\n",
    "                    df.clusterenergy.sum()/n_stars, \n",
    "                    df.shape[0]/n_stars,\n",
    "                    df.shape[0],\n",
    "                    Tmin,Tmax,\n",
    "                    (df.clusterenergy/df.L_bol).sum()/n_stars,\n",
    "                     np.sqrt((FAerr**2).sum())/n_stars,\n",
    "                    ]\n",
    "                    )\n",
    "dats = np.asarray(dats) \n",
    "data = pd.DataFrame(dats, columns=['age','n_stars',\n",
    "                                   'tot_en_err','tot_en',\n",
    "                                   'tot_flares_p_star','tot_flares',\n",
    "                                   'Tmin','Tmax','FA_pstar','FA_pstar_err'])\n",
    "data['tot_flares_p_star_err'] = np.sqrt(data.tot_flares_p_star)\n",
    "data.sort_values(by='age').head()"
   ]
  },
  {
   "cell_type": "code",
   "execution_count": 18,
   "metadata": {},
   "outputs": [
    {
     "name": "stdout",
     "output_type": "stream",
     "text": [
      "3000.0\n"
     ]
    },
    {
     "data": {
      "image/png": "[encoded data removed]",
      "text/plain": [
       "<matplotlib.figure.Figure at 0x7fd1a29e0f98>"
      ]
     },
     "metadata": {},
     "output_type": "display_data"
    }
   ],
   "source": [
    "fig, ax = plt.subplots(figsize=(8,6))\n",
    "for label, df in data.groupby(['Tmin','Tmax']):\n",
    "    df = df.sort_values(by='age')\n",
    "    df.plot(x='age',y='FA_pstar',yerr='FA_pstar_err',\n",
    "                 kind='line', ax=ax,linewidth=3,alpha=0.7,\n",
    "                 markersize=100,capsize=5,\n",
    "                 label='{:.0f}-{:.0f} K'.format(label[0],label[1]), color=colors(label[0],label[1]))\n",
    "    print(label[0])\n",
    "plt.xlabel('age in Gyr')\n",
    "plt.ylabel('FA per star')\n",
    "# plt.text(x=0.11,y=2e32,s='Pleiades')\n",
    "# plt.text(x=0.14,y=1e32,s='NGC 1647')\n",
    "# plt.text(x=0.6,y=2e32,s='Praesepe')\n",
    "# plt.text(x=3.4,y=4e32,s='M67')\n",
    "plt.legend()\n",
    "plt.savefig('share/dated/{}_tot_en_color_bins.jpg'.format(today),dpi=300)"
   ]
  },
  {
   "cell_type": "code",
   "execution_count": 17,
   "metadata": {},
   "outputs": [
    {
     "name": "stdout",
     "output_type": "stream",
     "text": [
      "3000.0\n"
     ]
    },
    {
     "data": {
      "image/png": "[encoded data removed]",
      "text/plain": [
       "<matplotlib.figure.Figure at 0x7fd1a2b83780>"
      ]
     },
     "metadata": {},
     "output_type": "display_data"
    }
   ],
   "source": [
    "fig, ax = plt.subplots(figsize=(8,6))\n",
    "for label, df in data.groupby(['Tmin','Tmax']):\n",
    "    df = df.sort_values(by='age')\n",
    "    df.plot(x='age',y='tot_flares_p_star',yerr='tot_flares_p_star_err',\n",
    "                 kind='line', ax=ax,capsize=5,\n",
    "                 markersize=50,loglog=True,alpha=0.7,\n",
    "                linewidth=3,\n",
    "                 linestyle='dashed',\n",
    "                 label='{:.0f}-{:.0f} K'.format(label[0],label[1]), color=colors(label[0],label[1]))\n",
    "    print(label[0])\n",
    "plt.xlabel('age in Gyr')\n",
    "plt.ylabel('total number of flares per star')\n",
    "plt.ylim(5e-1,4e1)\n",
    "plt.text(x=0.11,y=30,s='Pleiades')\n",
    "plt.text(x=0.14,y=18,s='NGC 1647')\n",
    "plt.text(x=0.7,y=16,s='Praesepe')\n",
    "plt.text(x=3.55,y=2.5,s='M67')\n",
    "plt.legend()\n",
    "plt.savefig('share/dated/{}_tot_flares_color_bins.jpg'.format(today),dpi=300)"
   ]
  },
  {
   "cell_type": "code",
   "execution_count": null,
   "metadata": {},
   "outputs": [],
   "source": []
  }
 ],
 "metadata": {
  "kernelspec": {
   "display_name": "Python 3",
   "language": "python",
   "name": "python3"
  },
  "language_info": {
   "codemirror_mode": {
    "name": "ipython",
    "version": 3
   },
   "file_extension": ".py",
   "mimetype": "text/x-python",
   "name": "python",
   "nbconvert_exporter": "python",
   "pygments_lexer": "ipython3",
   "version": "3.5.2"
  }
 },
 "nbformat": 4,
 "nbformat_minor": 2
}
