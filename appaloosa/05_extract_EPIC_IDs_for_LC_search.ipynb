{
 "cells": [
  {
   "cell_type": "code",
   "execution_count": 2,
   "metadata": {},
   "outputs": [],
   "source": [
    "import pandas as pd\n",
    "import numpy as np"
   ]
  },
  {
   "cell_type": "markdown",
   "metadata": {},
   "source": [
    "# Pleiades"
   ]
  },
  {
   "cell_type": "code",
   "execution_count": null,
   "metadata": {},
   "outputs": [],
   "source": [
    "loc = 'stars_shortlist/Pleiades/results/run_06/catalog'\n",
    "df1 = pd.read_csv('{}/Rebull_norotate.tsv'.format(loc), sep='\\t',skiprows=55)\n",
    "df1.head()"
   ]
  },
  {
   "cell_type": "code",
   "execution_count": null,
   "metadata": {},
   "outputs": [],
   "source": [
    "df2 = pd.read_csv('{}/Rebull_rotate.tsv'.format(loc), sep='\\t',skiprows=75)\n",
    "df2.head()"
   ]
  },
  {
   "cell_type": "code",
   "execution_count": null,
   "metadata": {
    "scrolled": true
   },
   "outputs": [],
   "source": [
    "mergecols = list(set(df1.columns.values.tolist()) & set(df2.columns.values.tolist()))\n",
    "df3 = df2.merge(df1, on=mergecols, how='outer')\n",
    "df3.head()"
   ]
  },
  {
   "cell_type": "code",
   "execution_count": null,
   "metadata": {},
   "outputs": [],
   "source": [
    "df6 = pd.read_json('{}/panstarrs_search.json'.format(loc),encoding=\"utf8\",lines=True,chunksize=1000)\n",
    "for line in df6"
   ]
  },
  {
   "cell_type": "code",
   "execution_count": null,
   "metadata": {},
   "outputs": [],
   "source": [
    "df3 = df3.drop(['Fig','_RAJ2000','_DEJ2000'], axis=1)\n",
    "df3.to_csv('{}/Pleiades_init.csv'.format(loc))"
   ]
  },
  {
   "cell_type": "markdown",
   "metadata": {},
   "source": [
    "#  M44"
   ]
  },
  {
   "cell_type": "code",
   "execution_count": null,
   "metadata": {},
   "outputs": [],
   "source": [
    "loc = 'stars_shortlist/M44/results/run_06/catalog'\n",
    "df4 = pd.read_csv('{}/Douglas.tsv'.format(loc), sep='\\t',skiprows=103)\n",
    "df4 = df4.rename(index=str,columns={'_RA':'RAJ2000','_DE':'DEJ2000'})\n",
    "df4 = df4.drop(['_RAJ2000','_DEJ2000'],axis=1)\n",
    "df4.head()"
   ]
  },
  {
   "cell_type": "code",
   "execution_count": null,
   "metadata": {},
   "outputs": [],
   "source": [
    "df4.to_csv('{}/M44_init.csv'.format(loc))"
   ]
  },
  {
   "cell_type": "markdown",
   "metadata": {},
   "source": [
    "# M67"
   ]
  },
  {
   "cell_type": "code",
   "execution_count": null,
   "metadata": {},
   "outputs": [],
   "source": [
    "loc = 'stars_shortlist/M67/results/run_06/catalog'\n",
    "df5 = pd.read_csv('{}/Gonzalez.tsv'.format(loc), sep='\\t',skiprows=59)\n",
    "df5 = df5.rename(index=str,columns={'_RA':'RAJ2000','_DE':'DEJ2000'})\n",
    "df5 = df5.drop(['_RAJ2000','_DEJ2000','SimbadName'],axis=1)\n",
    "df5.head()"
   ]
  },
  {
   "cell_type": "code",
   "execution_count": null,
   "metadata": {},
   "outputs": [],
   "source": [
    "df5.Class = df5.Class.str.strip()\n",
    "df5 = df5[df5.Class.isin(['M','SM','BM']) ]\n",
    "df5.to_csv('{}/M67_init.csv'.format(loc))"
   ]
  },
  {
   "cell_type": "markdown",
   "metadata": {},
   "source": [
    "# Any cluster: \n",
    "## Merge Pan-STARRS with K2 and initial sample from Rebull; Douglas; Gonzalez"
   ]
  },
  {
   "cell_type": "code",
   "execution_count": 22,
   "metadata": {},
   "outputs": [
    {
     "name": "stdout",
     "output_type": "stream",
     "text": [
      "(794, 71)\n",
      "(794, 130)\n"
     ]
    }
   ],
   "source": [
    "cluster = 'M44'\n",
    "test =  'run_06'\n",
    "campaign = 5\n",
    "loc = 'stars_shortlist/{}/results/{}/catalog'.format(cluster,test)\n",
    "df5 = pd.read_csv('{}/{}_init_PS1.csv'.format(loc,cluster))\n",
    "#df5 = df5.rename(index=str, columns={})\n",
    "df6 = pd.read_csv('{}/{}_init_K2search.csv'.format(loc,cluster),skiprows=[1])\n",
    "df6 = df6.rename(index=str, columns={'K2 ID':'EPIC', 'J Mag':'J', 'H Mag': 'H',  'K Mag': 'K'})\n",
    "df6 = df6[df6['Campaign'] == campaign]\n",
    "grouped = df5.groupby('EPIC')\n",
    "df7 = grouped.apply(lambda x: x[x.angDist == x.angDist.min()])\n",
    "print(df7.shape)\n",
    "df8 = df7.merge(df6, how='right', on='EPIC')\n",
    "print(df8.shape)"
   ]
  },
  {
   "cell_type": "code",
   "execution_count": 19,
   "metadata": {
    "scrolled": true
   },
   "outputs": [
    {
     "data": {
      "text/plain": [
       "array(['angDist', 'col1', 'EPIC', 'Name', 'RAJ2000', 'DEJ2000', 'OName',\n",
       "       'Vmag', 'Ksmag', '(V-K)0', 'Prot', 'Per2', 'Per3', 'Per4', 'Amp',\n",
       "       'LC', 'Mm', 'LPer', 'H10', 'vsini', 'PapIII', 'PapII', 'f_EPIC',\n",
       "       't', 'objID', 'RAJ2000.1', 'DEJ2000.1', 'errHalfMaj', 'errHalfMin',\n",
       "       'errPosAng', 'f_objID', 'Qual', 'Epoch', 'Ns', 'Nd', 'gmag',\n",
       "       'e_gmag', 'gKmag', 'e_gKmag', 'gFlags', 'rmag', 'e_rmag', 'rKmag',\n",
       "       'e_rKmag', 'rFlags', 'imag', 'e_imag', 'iKmag', 'e_iKmag',\n",
       "       'iFlags', 'zmag', 'e_zmag', 'zKmag', 'e_zKmag', 'zFlags', 'ymag',\n",
       "       'e_ymag', 'yKmag', 'e_yKmag', 'yFlags', 'Dataset Name', 'Campaign',\n",
       "       'Object type', 'Data Release', 'RA (J2000)', 'Dec (J2000)',\n",
       "       'Target Type', 'Archive Class', 'Ref', 'Actual Start Time',\n",
       "       'Actual End Time', 'Investigation ID', 'RA PM', 'RA PM Err',\n",
       "       'Dec PM', 'Dec PM Err', 'Plx', 'Plx Err', 'U Mag', 'U Mag Err',\n",
       "       'B Mag', 'B Mag Err', 'V Mag', 'V Mag Err', 'G Mag', 'G Mag Err',\n",
       "       'R Mag', 'R Mag Err', 'I Mag', 'I Mag Err', 'Z Mag', 'Z Mag Err',\n",
       "       'J', 'J Mag Err', 'H', 'H Mag Err', 'K', 'K Mag Err', 'KEP Mag',\n",
       "       'Kep Flag', 'Hip ID', 'Tyc ID', 'SDSS ID', 'UCAC ID', '2MASS ID',\n",
       "       '2MASS Flag', 'Processing Date', 'crowding', 'contamination',\n",
       "       'flux fraction', 'cdpp3', 'cdpp6', 'cdpp12', 'Module', 'Output',\n",
       "       'Channel', 'Nearest Neighbor', 'Nomad ID',\n",
       "       'High-Level Science Products'], dtype=object)"
      ]
     },
     "execution_count": 19,
     "metadata": {},
     "output_type": "execute_result"
    }
   ],
   "source": [
    "df8.columns.values"
   ]
  },
  {
   "cell_type": "code",
   "execution_count": 20,
   "metadata": {},
   "outputs": [],
   "source": [
    "from PS_to_SDSS import wrap\n",
    "df8.to_csv('{}/{}_parameter.csv'.format(loc,cluster))\n",
    "wrap(cluster, test)"
   ]
  },
  {
   "cell_type": "code",
   "execution_count": 21,
   "metadata": {},
   "outputs": [
    {
     "data": {
      "text/plain": [
       "array(['Unnamed: 0', 'Unnamed: 0.1', 'angDist', 'col1', 'EPIC', 'Name',\n",
       "       'RAJ2000', 'DEJ2000', 'OName', 'Vmag', 'Ksmag', '(V-K)0', 'Prot',\n",
       "       'Per2', 'Per3', 'Per4', 'Amp', 'LC', 'Mm', 'LPer', 'H10', 'vsini',\n",
       "       'PapIII', 'PapII', 'f_EPIC', 't', 'objID', 'RAJ2000.1',\n",
       "       'DEJ2000.1', 'errHalfMaj', 'errHalfMin', 'errPosAng', 'f_objID',\n",
       "       'Qual', 'Epoch', 'Ns', 'Nd', 'gmag', 'e_gmag', 'gKmag', 'e_gKmag',\n",
       "       'gFlags', 'rmag', 'e_rmag', 'rKmag', 'e_rKmag', 'rFlags', 'imag',\n",
       "       'e_imag', 'iKmag', 'e_iKmag', 'iFlags', 'zmag', 'e_zmag', 'zKmag',\n",
       "       'e_zKmag', 'zFlags', 'ymag', 'e_ymag', 'yKmag', 'e_yKmag',\n",
       "       'yFlags', 'Dataset Name', 'Campaign', 'Object type',\n",
       "       'Data Release', 'RA (J2000)', 'Dec (J2000)', 'Target Type',\n",
       "       'Archive Class', 'Ref', 'Actual Start Time', 'Actual End Time',\n",
       "       'Investigation ID', 'RA PM', 'RA PM Err', 'Dec PM', 'Dec PM Err',\n",
       "       'Plx', 'Plx Err', 'U Mag', 'U Mag Err', 'B Mag', 'B Mag Err',\n",
       "       'V Mag', 'V Mag Err', 'G Mag', 'G Mag Err', 'R Mag', 'R Mag Err',\n",
       "       'I Mag', 'I Mag Err', 'Z Mag', 'Z Mag Err', 'J', 'J Mag Err', 'H',\n",
       "       'H Mag Err', 'K', 'K Mag Err', 'KEP Mag', 'Kep Flag', 'Hip ID',\n",
       "       'Tyc ID', 'SDSS ID', 'UCAC ID', '2MASS ID', '2MASS Flag',\n",
       "       'Processing Date', 'crowding', 'contamination', 'flux fraction',\n",
       "       'cdpp3', 'cdpp6', 'cdpp12', 'Module', 'Output', 'Channel',\n",
       "       'Nearest Neighbor', 'Nomad ID', 'High-Level Science Products',\n",
       "       'SDSS_g', 'PS1_g', 'SDSS_r', 'PS1_r', 'SDSS_i', 'PS1_i', 'SDSS_z',\n",
       "       'PS1_z', 'SDSS_y', 'PS1_y'], dtype=object)"
      ]
     },
     "execution_count": 21,
     "metadata": {},
     "output_type": "execute_result"
    }
   ],
   "source": [
    "df8 = pd.read_csv('{}/{}_parameter.csv'.format(loc,cluster))\n",
    "df8.columns.values"
   ]
  },
  {
   "cell_type": "code",
   "execution_count": null,
   "metadata": {},
   "outputs": [],
   "source": []
  }
 ],
 "metadata": {
  "kernelspec": {
   "display_name": "Python 3",
   "language": "python",
   "name": "python3"
  },
  "language_info": {
   "codemirror_mode": {
    "name": "ipython",
    "version": 3
   },
   "file_extension": ".py",
   "mimetype": "text/x-python",
   "name": "python",
   "nbconvert_exporter": "python",
   "pygments_lexer": "ipython3",
   "version": "3.4.6"
  }
 },
 "nbformat": 4,
 "nbformat_minor": 2
}
