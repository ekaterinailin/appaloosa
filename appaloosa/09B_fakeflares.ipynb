{
 "cells": [
  {
   "cell_type": "code",
   "execution_count": 1,
   "metadata": {},
   "outputs": [],
   "source": [
    "import numpy as np\n",
    "import pandas as pd\n",
    "import matplotlib.pyplot as plt\n",
    "from fakescorr import fakescorr, find_nearest\n",
    "%matplotlib inline\n",
    "from matplotlib import rc, rcParams\n",
    "rcParams.update({'font.size':12})\n",
    "rc('font',**{'family':'sans-serif','sans-serif':['Helvetica']})\n",
    "rc('text', usetex=True)\n",
    "\n",
    "def recovery(fakes, ID, save=False, figure=False):\n",
    "    f = fakes.copy()\n",
    "    f['ed_ratio']=f.ed_rec/f.ed_fake\n",
    "    f = f.sort_values(by='ed_fake')[(f.ed_fake < 1e6) & (f.ed_ratio < 1.2)]\n",
    "    \n",
    "    lmax = np.log10(f.ed_fake.max())\n",
    "    lmin = np.log10(f.ed_fake.min())\n",
    "    bins = np.power(10,np.linspace(lmin,lmax,f.shape[0]/100))\n",
    "    m = pd.DataFrame()\n",
    "    f['range1'], bins = pd.cut(f.ed_fake, bins, retbins=True,include_lowest=True)\n",
    "    m['mean_ed_fake'] = f.groupby('range1').ed_fake.mean()\n",
    "    m['mean_rec_fake'] = f.groupby('range1').rec_fake.mean()\n",
    "    m['std_rec_fake'] = f.groupby('range1').rec_fake.std()\n",
    "    m = m.dropna(how='any')\n",
    "    if figure == True:\n",
    "        m.plot(x='mean_ed_fake', y='mean_rec_fake', yerr='std_rec_fake',loglog=True,\n",
    "          label=('recovery rate'))\n",
    "    threshold = m.mean_ed_fake[m.mean_rec_fake == find_nearest(m.mean_rec_fake.tolist(), 0.2)[0]].tolist()[0]\n",
    "    return  threshold, m\n",
    "\n",
    "def EDratio(fakes, ID, save=False, figure=False):\n",
    "    f = fakes[fakes.rec_fake!=0.]\n",
    "    f['ed_ratio']=f.ed_rec/f.ed_fake\n",
    "    f = f.sort_values(by='ed_ratio')\n",
    "    f = f[f.ed_ratio<1.5]\n",
    "    if figure==True:\n",
    "        plt.figure(figsize=(7,5))\n",
    "        plt.scatter(f.ed_rec,f.ed_ratio,s=f.ed_rec_err/f.ed_rec*1e3, alpha=0.5,color='k',\n",
    "                    label='$\\sigma_{ED}/ED$')\n",
    "        plt.axhline(y=1.,color='r')\n",
    "        plt.axhline(y=1.1,color='r',linestyle='dashed')\n",
    "        plt.xscale('log')\n",
    "        plt.yscale('log')\n",
    "        plt.ylim((0.1,1.5))\n",
    "        plt.xlim((1,1e6))\n",
    "        plt.xlabel('recovered ED (s)')\n",
    "        plt.ylabel('recovered ratio of injected ED')\n",
    "        plt.title('EPIC {}'.format(ID))\n",
    "        plt.legend(loc=4, frameon=False)\n",
    "    if save == True:\n",
    "        plt.savefig('stars_shortlist/share/corrected/ed_ratio_{}.png'.format(ID),\n",
    "                    dpi=300)\n",
    "    return \n",
    "\n"
   ]
  },
  {
   "cell_type": "code",
   "execution_count": 45,
   "metadata": {
    "scrolled": true
   },
   "outputs": [
    {
     "name": "stderr",
     "output_type": "stream",
     "text": [
      "/usr/lib/python3.4/site-packages/ipykernel_launcher.py:19: SettingWithCopyWarning: \n",
      "A value is trying to be set on a copy of a slice from a DataFrame\n",
      "\n",
      "See the caveats in the documentation: http://pandas.pydata.org/pandas-docs/stable/indexing.html#indexing-view-versus-copy\n"
     ]
    }
   ],
   "source": [
    "test = 'run_05'\n",
    "Cs = ['Pleiades','M44','M67']\n",
    "Tlims = [(3000.0,3249.0,'red'),(3250.0,3499.0,'orange'),\n",
    "         (3500.0,3749.0,'green'),(3750.0,4000.0,'c'),(3000.0,7000.0,'black')]\n",
    "threshs = pd.DataFrame(Tlims,columns=['Tmin','Tmax','color'])\n",
    "for cl in Cs:\n",
    "    params = pd.read_csv('stars_shortlist/{0}/{0}_parameter.csv'.format(cl))\n",
    "    if cl not in threshs.columns:\n",
    "        threshs[cl]=np.nan\n",
    "    for Tmin,Tmax,color in Tlims:\n",
    "        Tb = params[(params['T'] <= Tmax) & (params['T'] >= Tmin)]\n",
    "\n",
    "        Ethresh = Tb.thresh20p*Tb.L_quiet\n",
    "        threshs[cl][(threshs.Tmin==Tmin) & (threshs.Tmax==Tmax)] = Ethresh.median()\n",
    "threshs.to_csv('stars_shortlist/share/{}_median_detection_thresholds.csv'.format(test))\n",
    "threshs"
   ]
  },
  {
   "cell_type": "code",
   "execution_count": 61,
   "metadata": {
    "scrolled": true
   },
   "outputs": [
    {
     "name": "stdout",
     "output_type": "stream",
     "text": [
      "1.2343776486636319e+32 4.009543006740184e+33\n",
      "1.7262338415391115e+32 1.5615779822979037e+34\n",
      "1.8459308318630368e+32 3.992002058304531e+33\n",
      "2.4358078513825543e+32 2.1904812042451434e+32\n",
      "1.768140957422684e+32 1.2914630793262393e+35\n"
     ]
    },
    {
     "data": {
      "image/png": "[encoded data removed]",
      "text/plain": [
       "<matplotlib.figure.Figure at 0x7fe1b1976b70>"
      ]
     },
     "metadata": {},
     "output_type": "display_data"
    }
   ],
   "source": [
    "cluster = 'Pleiades'\n",
    "test = 'run_05'\n",
    "c = '04'\n",
    "params = pd.read_csv('stars_shortlist/{0}/{0}_parameter.csv'.format(cluster))\n",
    "plt.figure(figsize=(7,5))\n",
    "for Tmin,Tmax,color in Tlims:\n",
    "    Tb = params[(params['T'] <= Tmax) & (params['T'] >= Tmin)]\n",
    "\n",
    "    Ethresh = Tb.thresh20p*Tb.L_quiet\n",
    "    if Ethresh.shape[0]!=0:\n",
    "        Ethresh.hist(bins=np.power(10,np.arange(31,35,0.2)),histtype='step',\n",
    "                 color=color,linewidth=3,grid=False,label='{}-{}K'.format(Tmin,Tmax))\n",
    "    plt.xscale('log')\n",
    "    plt.xlabel('flare energy detection threshold (erg)')\n",
    "    plt.legend()\n",
    "    plt.savefig('stars_shortlist/share/{}_{}_median_detection_thresholds.png'.format(test,cluster))\n",
    "    print(Ethresh.median(),Ethresh.std())"
   ]
  },
  {
   "cell_type": "code",
   "execution_count": 35,
   "metadata": {
    "scrolled": true
   },
   "outputs": [
    {
     "name": "stderr",
     "output_type": "stream",
     "text": [
      "/home/eilin/.local/lib/python3.4/site-packages/pandas/core/frame.py:1942: UserWarning: Boolean Series key will be reindexed to match DataFrame index.\n",
      "  \"DataFrame index.\", UserWarning)\n",
      "/usr/lib/python3.4/site-packages/ipykernel_launcher.py:18: DeprecationWarning: object of type <class 'float'> cannot be safely interpreted as an integer.\n",
      "/usr/lib/python3.4/site-packages/ipykernel_launcher.py:9: SettingWithCopyWarning: \n",
      "A value is trying to be set on a copy of a slice from a DataFrame\n",
      "\n",
      "See the caveats in the documentation: http://pandas.pydata.org/pandas-docs/stable/indexing.html#indexing-view-versus-copy\n",
      "  if __name__ == '__main__':\n"
     ]
    }
   ],
   "source": [
    "#snippet to calculate thresholds initially: DO NOT USE!\n",
    "for ID in oid_list:\n",
    "    try:\n",
    "        #path = 'stars_shortlist/{}/results/{}/fakes/{}_k2sc_allfakes.csv'.format(cluster,test,ID)\n",
    "        path = '/home/eilin/research/k2_cluster_flares/aprun/k2sc_{}/{}-c{}_kepler_v2_lc.fits_all_fakes.csv'.format(test[-2:],ID,c)\n",
    "        df = pd.read_csv(path)\n",
    "        threshold, m = recovery(df,ID)\n",
    "        if 'thresh20p' not in params.columns:\n",
    "            params['thresh20p'] = np.nan\n",
    "        params['thresh20p'][params.EPIC==ID] = threshold\n",
    "    except (FileNotFoundError, OSError):\n",
    "        print('OF')\n",
    "        continue"
   ]
  },
  {
   "cell_type": "code",
   "execution_count": null,
   "metadata": {},
   "outputs": [],
   "source": []
  }
 ],
 "metadata": {
  "kernelspec": {
   "display_name": "Python 3",
   "language": "python",
   "name": "python3"
  },
  "language_info": {
   "codemirror_mode": {
    "name": "ipython",
    "version": 3
   },
   "file_extension": ".py",
   "mimetype": "text/x-python",
   "name": "python",
   "nbconvert_exporter": "python",
   "pygments_lexer": "ipython3",
   "version": "3.4.6"
  }
 },
 "nbformat": 4,
 "nbformat_minor": 2
}
