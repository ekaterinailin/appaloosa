{
 "cells": [
  {
   "cell_type": "code",
   "execution_count": null,
   "metadata": {},
   "outputs": [],
   "source": [
    "import warnings\n",
    "warnings.filterwarnings(\"ignore\")\n",
    "\n",
    "from appaloosa import RunLC\n",
    "import os, glob\n",
    "import pandas as pd\n",
    "\n",
    "\n",
    "def import_flares(cluster, test, oid):\n",
    "    \n",
    "    objectid = str(oid)\n",
    "    loc = 'stars_shortlist/{}/results/{}'.format(cluster,test)\n",
    "    flux = pd.read_csv('{}/{}_flux.csv'.format(loc,oid))#, names= ['time','flux_gap','error','flux_model'])\n",
    "    flares = pd.read_csv('{}/{}_flares.csv'.format(loc,oid))#, names= ['istart','istop'])\n",
    "    return flux, flares\n",
    "\n",
    "def RunLC_cluster(oid,run,C='05',cluster='M67',LCtype='everest'):\n",
    "    folder = 'stars_shortlist'\n",
    "    loc = '{}/{}/results/{}'.format(folder,cluster,run)\n",
    "    tpf_loc = '{}/{}/ktwo{}-c05_lpd-targ.fits.gz'.format(folder,cluster,oid)\n",
    "\n",
    "    if LCtype == 'everest':\n",
    "        lc_loc = '{}/{}/hlsp_everest_k2_llc_{}-c{}_kepler_v2.0_lc.fits'.format(folder,cluster,oid,C)\n",
    "        mode = 3\n",
    "    elif LCtype == 'k2sc':\n",
    "        mode = 1\n",
    "        lc_loc = fetch(oid,C,LCtype,cluster)\n",
    "\n",
    "    fakes = RunLC(lc_loc, dbmode=LCtype, display=False, debug=False, \n",
    "                  dofake=True, writeout=False, respath=loc,\n",
    "                  nfake=20, iterations=20, mode=mode)\n",
    "    return fakes\n",
    "\n",
    "def fetch(ID,C,dbmode,cluster):\n",
    "    if dbmode=='k2sc':\n",
    "        myfile = 'hlsp_k2sc_k2_llc_{}-c{}_kepler_v2_lc.fits'.format(ID,C)\n",
    "        if glob.glob(myfile)==[]:\n",
    "            os.system('wget -q http://archive.stsci.edu/hlsps/k2sc/v2/c{2}/{0}00000/hlsp_k2sc_k2_llc_{1}-c{2}_kepler_v2_lc.fits'.format(str(ID)[:4],ID,C))\n",
    "            myfile_new = 'stars_shortlist/{}/{}'.format(cluster,myfile)\n",
    "            os.rename(myfile, myfile_new)\n",
    "    elif dbmode=='everest':\n",
    "        myfile = 'hlsp_everest_k2_llc_{}-c{}_kepler_v2.0_lc.fits'.format(ID,C)\n",
    "        #analogous to k2sc\n",
    "    return myfile_new"
   ]
  },
  {
   "cell_type": "code",
   "execution_count": null,
   "metadata": {},
   "outputs": [],
   "source": [
    "#k2sc run 5\n",
    "clusters = {'M44':{'C':'05','test':'run_05','LCtype':'k2sc'},\n",
    "            'M67':{'C':'05','test':'run_05','LCtype':'k2sc'},\n",
    "            'Pleiades':{'C':'04','test':'run_05','LCtype':'k2sc'}}"
   ]
  },
  {
   "cell_type": "code",
   "execution_count": null,
   "metadata": {},
   "outputs": [],
   "source": [
    "#k2sc run 6\n",
    "clusters = {'M44':{'C':'05','test':'run_06','LCtype':'k2sc'},\n",
    "            'M67':{'C':'05','test':'run_06','LCtype':'k2sc'},\n",
    "            'Pleiades':{'C':'04','test':'run_06','LCtype':'k2sc'}}"
   ]
  },
  {
   "cell_type": "code",
   "execution_count": null,
   "metadata": {},
   "outputs": [],
   "source": [
    "cluster = 'M67'\n",
    "\n",
    "C = clusters[cluster]['C']\n",
    "test = clusters[cluster]['test']\n",
    "LCtype = clusters[cluster]['LCtype']\n",
    "params = pd.read_csv('stars_shortlist/{0}/{0}_parameter.csv'.format(cluster))\n",
    "oid_list = params.EPIC.tolist()\n",
    "print(len(oid_list))\n"
   ]
  },
  {
   "cell_type": "code",
   "execution_count": null,
   "metadata": {},
   "outputs": [
    {
     "name": "stdout",
     "output_type": "stream",
     "text": [
      "Fake flare injection run 0\n"
     ]
    }
   ],
   "source": [
    "for i, oid in enumerate(oid_list):\n",
    "    print('\\nThis is the {}th light curve in the current pipeline.\\n'.format(i))\n",
    "    print(os.getcwd())\n",
    "    print(oid)\n",
    "    fakes = RunLC_cluster(oid, run=test, C=C, cluster=cluster,LCtype=LCtype)\n",
    "    fakes.to_csv(\"stars_shortlist/{}/results/{}/fakes/{}_{}_allfakes.csv\".format(cluster,test,oid,LCtype))\n",
    "#     for item in ['flares','flux']:\n",
    "#         os.rename(\"{}_{}.csv\".format(oid,item),\n",
    "#                   \"stars_shortlist/{}/results/{}/{}_{}.csv\".format(cluster,test,oid,item))\n",
    "\n",
    "os.rename('flarelist.txt',\n",
    "          'stars_shortlist/{0}/results/{0}_{1}_flarelist.txt'.format(cluster,test))"
   ]
  },
  {
   "cell_type": "code",
   "execution_count": null,
   "metadata": {},
   "outputs": [],
   "source": [
    "import numpy as np\n",
    "import matplotlib.pyplot as plt\n",
    "%matplotlib inline\n",
    "from matplotlib import rc, rcParams\n",
    "rcParams.update({'font.size':12})\n",
    "rc('font',**{'family':'sans-serif','sans-serif':['Helvetica']})\n",
    "rc('text', usetex=True)\n",
    "\n",
    "def falsepos(fakes, ID, save=False):\n",
    "    false = fakes[fakes.rec_fake!=0.].sort_values(by='istart_rec')\n",
    "    false['ed_ratio']=false.ed_rec/false.ed_fake\n",
    "    false = false.sort_values(by='ed_ratio')\n",
    "    #print(false[false.ed_ratio>1].shape[0]/false.shape[0])\n",
    "    falsepos = false[false.ed_ratio>1.]\n",
    "\n",
    "\n",
    "    f, (ax1, ax2) = plt.subplots(2, sharex=True,figsize=(6,6))\n",
    "\n",
    "    ax1.hist(fakes.ed_fake, bins=(1,10,100,1000,10000,100000,1000000),\n",
    "             histtype='step',linewidth=2,color='k',label='injected')\n",
    "    \n",
    "    ax1.hist(fakes.ed_rec, bins=(1,10,100,1000,10000,100000,1000000),\n",
    "             histtype='step',linewidth=2,color='k',label='recovered',linestyle='dashed')\n",
    "\n",
    "    ax1.set_title('EPIC {}'.format(ID))\n",
    "    ax1.set_ylabel('\\# flares')\n",
    "    ax1.legend()\n",
    "    ax2.scatter(falsepos.ed_rec,falsepos.ed_ratio, \n",
    "                s=falsepos.ed_rec_err/falsepos.ed_rec*1e3,\n",
    "                color='k',alpha=0.75)\n",
    "    ax2.axhline(y=1.,color='r')\n",
    "    ax2.axhline(y=1.1,color='r',linestyle='dashed')\n",
    "    plt.xscale('log')\n",
    "    ax2.set_yscale('log')\n",
    "\n",
    "    plt.xlabel('recovered ED in s')\n",
    "    ax2.set_ylabel('recovered fraction\\n of injected ED')\n",
    "\n",
    "\n",
    "    #ax3.set_ylabel('\\# recovered flares')\n",
    "\n",
    "\n",
    "    f.subplots_adjust(hspace=0)\n",
    "    plt.setp([a.get_xticklabels() for a in f.axes[:-1]], visible=False)\n",
    "    if save == True:\n",
    "        plt.savefig('/work1/eilin/appaloosa/appaloosa/stars_shortlist/share/corrected/false_positives_{}.jpg'.format(LCtype),dpi=300)\n",
    "    return"
   ]
  },
  {
   "cell_type": "code",
   "execution_count": null,
   "metadata": {},
   "outputs": [],
   "source": [
    "import numpy as np\n",
    "import matplotlib.pyplot as plt\n",
    "%matplotlib inline\n",
    "from matplotlib import rc, rcParams\n",
    "rcParams.update({'font.size':12})\n",
    "rc('font',**{'family':'sans-serif','sans-serif':['Helvetica']})\n",
    "rc('text', usetex=True)\n",
    "\n",
    "def ratio(fakes, ID, save=False):\n",
    "    f = fakes[fakes.rec_fake!=0.].sort_values(by='istart_rec')\n",
    "    f['ed_ratio']=f.ed_rec/f.ed_fake\n",
    "    f = f.sort_values(by='ed_ratio')\n",
    "    f = f[f.ed_ratio<1.5]\n",
    "    f = f[f.ed_rec>1]\n",
    "\n",
    "\n",
    "    plt.figure(figsize=(7,5))\n",
    "\n",
    "    plt.scatter(f.ed_rec,f.ed_ratio,s=f.ed_rec_err/f.ed_rec*1e3, alpha=0.5,color='k',\n",
    "                label='$\\sigma_{ED}/ED$')\n",
    "    plt.axhline(y=1.,color='r')\n",
    "    plt.axhline(y=1.1,color='r',linestyle='dashed')\n",
    "    plt.xscale('log')\n",
    "    plt.yscale('log')\n",
    "    plt.ylim((0.1,1.5))\n",
    "    plt.xlim((10,1e7))\n",
    "    plt.xlabel('recovered ED in s')\n",
    "    plt.ylabel('recovered fraction of injected ED')\n",
    "    plt.title('EPIC {}'.format(ID))\n",
    "    plt.legend(loc=4, frameon=False)\n",
    "    if save == True:\n",
    "        plt.savefig('/work1/eilin/appaloosa/appaloosa/stars_shortlist/share/corrected/ed_ratio_{}.jpg'.format(ID),dpi=300)\n",
    "    return "
   ]
  },
  {
   "cell_type": "code",
   "execution_count": null,
   "metadata": {},
   "outputs": [],
   "source": [
    "def fprate(fakes, LCtype, save=False):\n",
    "    false = fakes[fakes.rec_fake!=0.].sort_values(by='istart_rec')\n",
    "    false['ed_ratio']=false.ed_rec/false.ed_fake\n",
    "    false.ed_ratio = false.ed_ratio.astype('float')\n",
    "    false = false.sort_values(by='ed_ratio')\n",
    "    overall_false_pos = false[false.ed_ratio>1.].shape[0]/false.shape[0]\n",
    "    #false = false[false.ed_ratio>1.]\n",
    "\n",
    "    bins = np.power(10,np.arange(0,7,0.05))\n",
    "    false['range1'], bins = pd.cut(false.ed_rec, bins, retbins=True,include_lowest=True)\n",
    "    m = pd.DataFrame()\n",
    "    m['mean_fp_rate'] = false.groupby('range1').ed_ratio.apply(lambda x: x[x > 1.].shape[0])/false.groupby('range1').ed_ratio.size()\n",
    "    m['summe'] = false.groupby('range1').ed_ratio.size()\n",
    "    plt.figure(figsize=(7,5))\n",
    "    m['binmids'] = (bins[1:]+bins[:-1])/2.\n",
    "    m = m.dropna(how='any')\n",
    "    plt.plot(m.binmids,m.mean_fp_rate)\n",
    "    plt.xscale('log')\n",
    "    plt.xlabel('recovered ED in s')\n",
    "    plt.ylabel('false positive rate')\n",
    "    if save == True:\n",
    "        plt.savefig('/work1/eilin/appaloosa/appaloosa/stars_shortlist/share/corrected/false_positives_ratio_{}.jpg'.format(LCtype),dpi=300)\n",
    "    return"
   ]
  },
  {
   "cell_type": "code",
   "execution_count": null,
   "metadata": {},
   "outputs": [],
   "source": [
    "def ratio_mean(fakes, LCtype, oid, save=False,plot=False):\n",
    "    f = fakes[fakes.rec_fake!=0.].sort_values(by='istart_rec')\n",
    "    f['ed_ratio']=f.ed_rec/f.ed_fake\n",
    "    f = f.sort_values(by='ed_ratio')\n",
    "    f = f[f.ed_ratio<1.5]\n",
    "    f = f[f.ed_rec>1]\n",
    "\n",
    "    bins = np.power(10,np.arange(1,8,0.05))\n",
    "    f['range1'], bins = pd.cut(f.ed_rec, bins, retbins=True,include_lowest=True)\n",
    "    m = pd.DataFrame()\n",
    "    m['mean_ED_corr'] = f.groupby('range1').ed_ratio.mean()\n",
    "    m['std_ED_corr'] = f.groupby('range1').ed_ratio.std()\n",
    "    m['binmids'] = (bins[1:]+bins[:-1])/2.\n",
    "    m = m.dropna(how='any')\n",
    "    if plot==True:\n",
    "        plt.errorbar(m.binmids,m.mean_ED_corr,yerr=m.std_ED_corr)\n",
    "        plt.xscale('log')\n",
    "        plt.xlabel('recovered ED in s')\n",
    "        plt.ylabel('mean fraction of injected energy')\n",
    "    if save == True:\n",
    "        plt.savefig('/work1/eilin/appaloosa/appaloosa/stars_shortlist/share/corrected/energy_underestimate_{}.jpg'.format(LCtype),dpi=300)\n",
    "    return [m.binmids[m.mean_ED_corr>0.5].min(), m.binmids[m.mean_ED_corr>0.75].min(), m.binmids[m.mean_ED_corr>0.95].min()]\n"
   ]
  },
  {
   "cell_type": "code",
   "execution_count": null,
   "metadata": {
    "scrolled": true
   },
   "outputs": [],
   "source": [
    "from fakescorr import fakedf, fakescorr\n",
    "LCtype = 'k2sc'\n",
    "test = 'run_05'\n",
    "#oid = 211005924\n",
    "C = '05'\n",
    "save=False\n",
    "cluster = 'M44'\n",
    "specs = pd.read_csv('stars_shortlist/{0}/{0}_parameter.csv'.format(cluster))\n",
    "oid_list = specs.EPIC.tolist()\n",
    "oid = oid_list[9]\n",
    "fakes = pd.read_csv('/home/eilin/research/k2_cluster_flares/aprun/k2sc_05/{}-c{}_kepler_v2_lc.fits_all_fakes.csv'.format(oid,C))\n",
    "# falsepos(fakes, oid, save=save)\n",
    "# fprate(fakes, LCtype, save=save)\n",
    "# ratio(fakes, oid, save=save)\n",
    "flux, flares = import_flares(cluster, test, oid)\n",
    "# fakescorr(flares, oid, C, cluster, test, LCtype)\n",
    "# flares\n",
    "m = fakedf(oid,C,cluster,test,LCtype,mode='numcorr')\n",
    "print(m)\n",
    "flares = fakescorr(flares, oid, C, cluster, test, LCtype)\n",
    "flares.myed/flares.ED_true"
   ]
  },
  {
   "cell_type": "code",
   "execution_count": null,
   "metadata": {
    "scrolled": true
   },
   "outputs": [],
   "source": [
    "L, Ethres, ID, T, rat = [], [], [], [], []\n",
    "cluster='M44'\n",
    "specs = pd.read_csv('/work1/eilin/appaloosa/appaloosa/stars_shortlist/{0}/{0}_parameter.csv'.format(cluster))\n",
    "oid_list = specs.EPIC.tolist()\n",
    "#oid_list.remove(211073598)\n",
    "for oid in oid_list:\n",
    "    tL = specs.L_quiet[specs.EPIC==oid].values[0]\n",
    "    L.append(tL)\n",
    "    m = fakedf(oid,C,cluster,test,LCtype,mode='numcorr')\n",
    "    fakes = pd.read_csv('/home/eilin/research/k2_cluster_flares/aprun/k2sc_05/{}-c{}_kepler_v2_lc.fits_all_fakes.csv'.format(oid,C))\n",
    "    trat = ratio_mean(fakes, LCtype, oid)\n",
    "    rat.append(np.asarray(trat)*tL)\n",
    "    EDthres = np.asarray([m.mean_ed_fake[m.mean_rec_fake >= key/100].min() for key in trat])\n",
    "\n",
    "    Ethres.append(EDthres*tL)\n",
    "    ID.append(oid)\n",
    "    T.append(specs['T'][specs.EPIC==oid].values[0])\n",
    "#t = pd.DataFrame({'EPIC':ID,'L':L,'Ethres':Ethres,'Teff':T}).dropna(how='any')\n",
    "\n",
    "\n",
    "\n",
    "E = np.asarray(Ethres).T\n",
    "ethres50, ethres75, ethres95, = E[0], E[1], E[2]"
   ]
  },
  {
   "cell_type": "code",
   "execution_count": null,
   "metadata": {},
   "outputs": [],
   "source": [
    "R = np.asarray(rat).T\n",
    "rat50, rat75, rat95, = R[0], R[1], R[2]\n"
   ]
  },
  {
   "cell_type": "code",
   "execution_count": null,
   "metadata": {},
   "outputs": [],
   "source": [
    "tall = pd.DataFrame({'EPIC':ID,\n",
    "                  'L':L,\n",
    "                  'ethres50':ethres50,\n",
    "                  'ethres75':ethres75,\n",
    "                  'ethres95':ethres95,\n",
    "                  'rat50':rat50,\n",
    "                  'rat75':rat75,\n",
    "                  'rat95':rat95,\n",
    "                  'T_eff':T,})\n",
    "                  #'rat':rat})\n",
    "ethres50[:5],ethres75[:5]"
   ]
  },
  {
   "cell_type": "code",
   "execution_count": null,
   "metadata": {},
   "outputs": [],
   "source": [
    "tall.to_csv('/work1/eilin/appaloosa/appaloosa/stars_shortlist/share/thresholds/{}_fakechar.csv'.format(cluster))"
   ]
  },
  {
   "cell_type": "code",
   "execution_count": null,
   "metadata": {},
   "outputs": [],
   "source": [
    "cluster = 'M67'\n",
    "C='05'\n",
    "test='06'"
   ]
  },
  {
   "cell_type": "code",
   "execution_count": null,
   "metadata": {},
   "outputs": [],
   "source": [
    "tall = pd.read_csv('/work1/eilin/appaloosa/appaloosa/stars_shortlist/share/thresholds/{}_fakechar.csv'.format(cluster))"
   ]
  },
  {
   "cell_type": "code",
   "execution_count": null,
   "metadata": {},
   "outputs": [],
   "source": [
    "print(tall.shape)\n",
    "#tall = tall.dropna(how='any',subset=['ethres50'])\n",
    "print(tall.shape)"
   ]
  },
  {
   "cell_type": "code",
   "execution_count": null,
   "metadata": {
    "scrolled": true
   },
   "outputs": [],
   "source": [
    "%matplotlib inline\n",
    "\n",
    "from matplotlib import rc\n",
    "rc('text',usetex=True)\n",
    "rc('font',size=13)\n",
    "rc('legend',fontsize=13)\n",
    "#rc('text.latex',preamble=r'\\usepackage{cmbright}')\n",
    "#plt.figure()\n",
    "p = ['50','75','95']\n",
    "for perc in p:\n",
    "    fig, ax = plt.subplots(figsize=(7,5))\n",
    "    t=tall[['L','ethres{}'.format(perc),'rat{}'.format(perc),'T_eff']].dropna(how='any')\n",
    "    ax.scatter(t['rat{}'.format(perc)],t['ethres{}'.format(perc)],#,kind='scatter',\n",
    "          # ylim=(0,1e36),xlim=(5,250000),\n",
    "           c=t['T_eff'],\n",
    "           cmap='gist_rainbow',\n",
    "    #       figsize=(16,10),\n",
    "           alpha=0.75,\n",
    "           s=15,\n",
    "       #    loglog=True,\n",
    "      #     xlabel='50\\% energy recovery ratio',\n",
    "              )\n",
    "    #cax = plt.axes([0.85, 0.1, 0.075, 0.8])\n",
    "    ax.set_xscale('log')\n",
    "    ax.set_yscale('log')\n",
    "    ax.set_xlabel(r'{}\\% energy ratio threshold (erg)'.format(perc))\n",
    "    ax.set_ylabel(r'{}\\% recovery rate (erg)'.format(perc))\n",
    "    l = np.linspace(1e31,1e34,100000)\n",
    "    ax.plot(l,l)\n",
    "    plt.ylim(5e29,1e36)\n",
    "    plt.xlim(4e30,3e34)\n",
    "    plt.savefig('stars_shortlist/share/thresholds/{}_{}_{}.png'.format(cluster,test,perc),dpi=300)\n"
   ]
  },
  {
   "cell_type": "code",
   "execution_count": null,
   "metadata": {
    "scrolled": true
   },
   "outputs": [],
   "source": [
    "\n",
    "rc('text',usetex=True)\n",
    "rc('font',size=13)\n",
    "rc('legend',fontsize=13)\n",
    "for perc in p:\n",
    "    fig, ax = plt.subplots(figsize=(7,5))\n",
    "    t=tall[['L','ethres{}'.format(perc),'rat{}'.format(perc),'T_eff']].dropna(how='any')\n",
    "    ax.scatter(t['L'],t['ethres{}'.format(perc)],#,kind='scatter',\n",
    "          # ylim=(0,1e36),xlim=(5,250000),\n",
    "           c=t['T_eff'],\n",
    "           cmap='gist_rainbow',\n",
    "    #       figsize=(16,10),\n",
    "           alpha=0.75,\n",
    "           s=15,\n",
    "       #    loglog=True,\n",
    "      #     xlabel='50\\% energy recovery ratio',\n",
    "              )\n",
    "    #cax = plt.axes([0.85, 0.1, 0.075, 0.8])\n",
    "    ax.set_xscale('log')\n",
    "    ax.set_yscale('log')\n",
    "    ax.set_xlabel(r'L (erg)')\n",
    "    ax.set_ylabel(r'{}\\% recovery rate (erg)'.format(perc))\n",
    "    l = np.linspace(1e29,1e33,100000)\n",
    "    ax.plot(l,l)\n",
    "    plt.ylim(1e29,1e36)\n",
    "    plt.xlim(4e28,1e33)\n",
    "    plt.savefig('stars_shortlist/share/thresholds/{}_{}_{}_L.png'.format(cluster,test,perc),dpi=300)\n"
   ]
  },
  {
   "cell_type": "code",
   "execution_count": null,
   "metadata": {
    "scrolled": true
   },
   "outputs": [],
   "source": [
    "for perc in p:\n",
    "    fig, ax = plt.subplots(figsize=(7,5))\n",
    "    t=tall[['L','ethres{}'.format(perc),'rat{}'.format(perc),'T_eff']].dropna(how='any')\n",
    "    ax.scatter(t['L'],t['rat{}'.format(perc)],#,kind='scatter',\n",
    "          # ylim=(0,1e36),xlim=(5,250000),\n",
    "           c=t['T_eff'],\n",
    "           cmap='gist_rainbow',\n",
    "    #       figsize=(16,10),\n",
    "           alpha=0.75,\n",
    "           s=15,\n",
    "       #    loglog=True,\n",
    "      #     xlabel='50\\% energy recovery ratio',\n",
    "              )\n",
    "    #cax = plt.axes([0.85, 0.1, 0.075, 0.8])\n",
    "    ax.set_xscale('log')\n",
    "    ax.set_yscale('log')\n",
    "    ax.set_xlabel('L (erg)'.format(perc))\n",
    "    ax.set_ylabel(r'{}\\% energy ratio threshold (erg)'.format(perc))\n",
    "    l = np.linspace(1e29,1e33,100000)\n",
    "    ax.plot(l,l)\n",
    "    plt.ylim(1e29,1e35)\n",
    "    plt.xlim(4e28,1e33)\n",
    "    plt.savefig('stars_shortlist/share/thresholds/{}_{}_{}_L_ratio.png'.format(cluster,test,perc),dpi=300)\n"
   ]
  },
  {
   "cell_type": "code",
   "execution_count": null,
   "metadata": {},
   "outputs": [],
   "source": [
    "fig, ax = plt.subplots(figsize=(7,5))\n",
    "t=tall[['L','ethres75','rat50','T_eff']].dropna(how='any')\n",
    "ax.scatter(t['rat50'],t['ethres75'],#,kind='scatter',\n",
    "      # ylim=(0,1e36),xlim=(5,250000),\n",
    "       c=t['T_eff'],\n",
    "       cmap='gist_rainbow',\n",
    "#       figsize=(16,10),\n",
    "       alpha=0.75,\n",
    "       s=15,\n",
    "   #    loglog=True,\n",
    "  #     xlabel='50\\% energy recovery ratio',\n",
    "          )\n",
    "#cax = plt.axes([0.85, 0.1, 0.075, 0.8])\n",
    "ax.set_xscale('log')\n",
    "ax.set_yscale('log')\n",
    "ax.set_xlabel(r'75\\% energy ratio threshold in erg')\n",
    "ax.set_ylabel(r'50\\% recovery rate in erg')\n",
    "l = np.linspace(1e31,1e34,100000)\n",
    "ax.plot(l,l)\n",
    "plt.ylim(5e29,1e36)\n",
    "plt.xlim(4e30,3e34)\n",
    "plt.savefig('stars_shortlist/share/thresholds/{}_{}_7550.png'.format(cluster,test,perc),dpi=300)\n"
   ]
  },
  {
   "cell_type": "code",
   "execution_count": null,
   "metadata": {},
   "outputs": [],
   "source": [
    "\n",
    "\n",
    "cluster = 'Pleiades'\n",
    "flux,flares = import_flares(cluster, test, oid)\n",
    "flares.columns.values"
   ]
  },
  {
   "cell_type": "code",
   "execution_count": null,
   "metadata": {},
   "outputs": [],
   "source": [
    "fakes = fakes[(fakes.rec_fake != 0.) &  (fakes.ed_rec/fakes.ed_fake > 100)].sort_values(by='istart_rec')\n",
    "fakes.head()"
   ]
  },
  {
   "cell_type": "code",
   "execution_count": null,
   "metadata": {},
   "outputs": [],
   "source": [
    "start = 0\n",
    "f = fakes.iloc[start:]#start+40]\n",
    "\n",
    "for i, row in f.iterrows():\n",
    "    b,e = int(row.istart_rec), int(row.istop_rec)\n",
    "    plt.plot(flux.time.iloc[b:e],\n",
    "             flux.flux_gap.iloc[b:e]+float(i)+100.,\n",
    "             color='r',linewidth=3)\n",
    "plt.plot(flux.time.iloc[int(f.istart_rec.iloc[0]):e],\n",
    "         flux.flux_gap.iloc[int(f.istart_rec.iloc[0]):e],\n",
    "         color='k',linewidth=.3)"
   ]
  },
  {
   "cell_type": "code",
   "execution_count": null,
   "metadata": {},
   "outputs": [],
   "source": [
    "a = np.array( [item for i, row in fakes.iterrows() \n",
    "                       for item in np.arange(row.istart_rec, row.istop_rec,1) ])\n",
    "plt.hist(a,bins=int(max(a))//100)"
   ]
  },
  {
   "cell_type": "code",
   "execution_count": null,
   "metadata": {},
   "outputs": [],
   "source": [
    "fakes.iloc[start:start+20]"
   ]
  },
  {
   "cell_type": "code",
   "execution_count": null,
   "metadata": {},
   "outputs": [],
   "source": []
  }
 ],
 "metadata": {
  "kernelspec": {
   "display_name": "Python 3",
   "language": "python",
   "name": "python3"
  },
  "language_info": {
   "codemirror_mode": {
    "name": "ipython",
    "version": 3
   },
   "file_extension": ".py",
   "mimetype": "text/x-python",
   "name": "python",
   "nbconvert_exporter": "python",
   "pygments_lexer": "ipython3",
   "version": "3.5.2"
  }
 },
 "nbformat": 4,
 "nbformat_minor": 2
}
