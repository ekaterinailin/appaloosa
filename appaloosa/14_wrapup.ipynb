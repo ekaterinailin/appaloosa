{
 "cells": [
  {
   "cell_type": "code",
   "execution_count": 64,
   "metadata": {},
   "outputs": [
    {
     "name": "stderr",
     "output_type": "stream",
     "text": [
      "/usr/lib/python3.4/site-packages/ipykernel_launcher.py:16: SettingWithCopyWarning: \n",
      "A value is trying to be set on a copy of a slice from a DataFrame\n",
      "\n",
      "See the caveats in the documentation: http://pandas.pydata.org/pandas-docs/stable/indexing.html#indexing-view-versus-copy\n",
      "  app.launch_new_instance()\n",
      "/usr/lib/python3.4/site-packages/ipykernel_launcher.py:17: SettingWithCopyWarning: \n",
      "A value is trying to be set on a copy of a slice from a DataFrame\n",
      "\n",
      "See the caveats in the documentation: http://pandas.pydata.org/pandas-docs/stable/indexing.html#indexing-view-versus-copy\n"
     ]
    },
    {
     "data": {
      "text/html": [
       "<div>\n",
       "<style>\n",
       "    .dataframe thead tr:only-child th {\n",
       "        text-align: right;\n",
       "    }\n",
       "\n",
       "    .dataframe thead th {\n",
       "        text-align: left;\n",
       "    }\n",
       "\n",
       "    .dataframe tbody tr th {\n",
       "        vertical-align: top;\n",
       "    }\n",
       "</style>\n",
       "<table border=\"1\" class=\"dataframe\">\n",
       "  <thead>\n",
       "    <tr style=\"text-align: right;\">\n",
       "      <th></th>\n",
       "      <th>note</th>\n",
       "      <th>targets</th>\n",
       "    </tr>\n",
       "    <tr>\n",
       "      <th>cluster</th>\n",
       "      <th></th>\n",
       "      <th></th>\n",
       "    </tr>\n",
       "  </thead>\n",
       "  <tbody>\n",
       "    <tr>\n",
       "      <th>M44</th>\n",
       "      <td>good</td>\n",
       "      <td>769</td>\n",
       "    </tr>\n",
       "    <tr>\n",
       "      <th>M44</th>\n",
       "      <td>CMD</td>\n",
       "      <td>16</td>\n",
       "    </tr>\n",
       "    <tr>\n",
       "      <th>M44</th>\n",
       "      <td>missing photometry</td>\n",
       "      <td>7</td>\n",
       "    </tr>\n",
       "    <tr>\n",
       "      <th>M44</th>\n",
       "      <td>T &lt; 3000 K</td>\n",
       "      <td>2</td>\n",
       "    </tr>\n",
       "    <tr>\n",
       "      <th>Pleiades</th>\n",
       "      <td>good</td>\n",
       "      <td>761</td>\n",
       "    </tr>\n",
       "    <tr>\n",
       "      <th>Pleiades</th>\n",
       "      <td>earlier than F4</td>\n",
       "      <td>31</td>\n",
       "    </tr>\n",
       "    <tr>\n",
       "      <th>Pleiades</th>\n",
       "      <td>CMD</td>\n",
       "      <td>29</td>\n",
       "    </tr>\n",
       "    <tr>\n",
       "      <th>Pleiades</th>\n",
       "      <td>T &lt; 3000 K</td>\n",
       "      <td>5</td>\n",
       "    </tr>\n",
       "  </tbody>\n",
       "</table>\n",
       "</div>"
      ],
      "text/plain": [
       "                        note  targets\n",
       "cluster                              \n",
       "M44                     good      769\n",
       "M44                     CMD        16\n",
       "M44       missing photometry        7\n",
       "M44               T < 3000 K        2\n",
       "Pleiades                good      761\n",
       "Pleiades     earlier than F4       31\n",
       "Pleiades                CMD        29\n",
       "Pleiades          T < 3000 K        5"
      ]
     },
     "execution_count": 64,
     "metadata": {},
     "output_type": "execute_result"
    }
   ],
   "source": [
    "import pandas as pd\n",
    "%matplotlib inline\n",
    "cl = ['Pleiades','M44']\n",
    "df = pd.DataFrame()\n",
    "for c in cl:\n",
    "    d = pd.read_csv('stars_shortlist/{0}/results/run_06/catalog/{0}_parameter.csv'.format(c),\n",
    "                    usecols=['EPIC','todrop','whydrop'])\n",
    "    d['cluster'] = c\n",
    "    df = df.append(d, ignore_index=True)\n",
    "    \n",
    "r = pd.DataFrame(columns=['note','cluster','targets'])  \n",
    "for name, d in df.groupby('cluster'):\n",
    "    c = d.whydrop.value_counts().reset_index().rename(index=str, columns={'whydrop':'targets',\n",
    "                                                                          'index':'note'})\n",
    "    c['cluster'] = name\n",
    "    c.note[c.note=='    '] = 'good'\n",
    "    c.note[c.note=='    noLum'] = 'missing photometry'\n",
    "    r = r.merge(c, on=['cluster','note','targets'],how='outer')\n",
    "\n",
    "r.set_index('cluster')\n"
   ]
  },
  {
   "cell_type": "code",
   "execution_count": null,
   "metadata": {},
   "outputs": [],
   "source": []
  }
 ],
 "metadata": {
  "kernelspec": {
   "display_name": "Python 3.4",
   "language": "python",
   "name": "python_3.4"
  },
  "language_info": {
   "codemirror_mode": {
    "name": "ipython",
    "version": 3
   },
   "file_extension": ".py",
   "mimetype": "text/x-python",
   "name": "python",
   "nbconvert_exporter": "python",
   "pygments_lexer": "ipython3",
   "version": "3.4.6"
  }
 },
 "nbformat": 4,
 "nbformat_minor": 2
}
