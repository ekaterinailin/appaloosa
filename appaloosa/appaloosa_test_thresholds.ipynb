{
 "cells": [
  {
   "cell_type": "markdown",
   "metadata": {},
   "source": [
    "# Test different parameters systematically for sigma clipping in appaloosa\n",
    "\n",
    "First, execute the following cell for different parameters, then store the results in folders accordingly, add the record to the spreadsheet. Before, execute cell below to load necessary modules."
   ]
  },
  {
   "cell_type": "code",
   "execution_count": 2,
   "metadata": {},
   "outputs": [
    {
     "name": "stderr",
     "output_type": "stream",
     "text": [
      "/home/ekaterina/Documents/appaloosa/appaloosa/appaloosa.py:271: FutureWarning: pd.rolling_std is deprecated for ndarrays and will be removed in a future version\n",
      "  error = np.ones_like(time[isrl]) * np.nanmedian(rolling_std(flux_raw[isrl], win_size, center=True))\n",
      "/home/ekaterina/Documents/appaloosa/appaloosa/detrend.py:112: FutureWarning: pd.rolling_median is deprecated for ndarrays and will be removed in a future version\n",
      "  flux_sm = rolling_median(np.array(flux[x], dtype='float'), krnl)\n",
      "/home/ekaterina/Documents/appaloosa/appaloosa/detrend.py:74: FutureWarning: pd.rolling_median is deprecated for ndarrays and will be removed in a future version\n",
      "  flux_sm = rolling_median(flux[dl[i]:dr[i]], krnl)\n",
      "/home/ekaterina/Documents/appaloosa/appaloosa/detrend.py:359: FutureWarning: pd.rolling_median is deprecated for ndarrays and will be removed in a future version\n",
      "  flux_i_sm = rolling_median(flux_i, nptsmooth, center=True)\n",
      "/home/ekaterina/Documents/appaloosa/appaloosa/detrend.py:359: FutureWarning: pd.rolling_median is deprecated for ndarrays and will be removed in a future version\n",
      "  flux_i_sm = rolling_median(flux_i, nptsmooth, center=True)\n",
      "/home/ekaterina/Documents/appaloosa/appaloosa/appaloosa.py:703: FutureWarning: pd.rolling_std is deprecated for ndarrays and will be removed in a future version\n",
      "  sig_i = np.nanmedian(rolling_std(flux, std_window, center=True))\n",
      "/usr/local/lib/python3.5/dist-packages/scipy/optimize/minpack.py:779: OptimizeWarning: Covariance of the parameters could not be estimated\n",
      "  category=OptimizeWarning)\n",
      "/home/ekaterina/Documents/appaloosa/appaloosa/aflare.py:88: RuntimeWarning: divide by zero encountered in true_divide\n",
      "  flare = np.piecewise(t, [(t<= tpeak) * (t-tpeak)/fwhm > -1.,\n",
      "/home/ekaterina/Documents/appaloosa/appaloosa/aflare.py:88: RuntimeWarning: invalid value encountered in true_divide\n",
      "  flare = np.piecewise(t, [(t<= tpeak) * (t-tpeak)/fwhm > -1.,\n",
      "/home/ekaterina/Documents/appaloosa/appaloosa/aflare.py:88: RuntimeWarning: invalid value encountered in greater\n",
      "  flare = np.piecewise(t, [(t<= tpeak) * (t-tpeak)/fwhm > -1.,\n",
      "/home/ekaterina/Documents/appaloosa/appaloosa/aflare.py:95: RuntimeWarning: divide by zero encountered in true_divide\n",
      "  lambda x: (_fd[0]*np.exp( ((x-tpeak)/fwhm)*_fd[1] ) +\n",
      "/home/ekaterina/Documents/appaloosa/appaloosa/aflare.py:96: RuntimeWarning: divide by zero encountered in true_divide\n",
      "  _fd[2]*np.exp( ((x-tpeak)/fwhm)*_fd[3] ))]\n"
     ]
    },
    {
     "name": "stdout",
     "output_type": "stream",
     "text": [
      "228682441\t2018-03-01 11:43:15.856751\t9\tstars_shortlist/M67/hlsp_everest_k2_llc_228682441-c05_kepler_v2.0_lc.fits\t5\t68.1263888889\t29.424381432364804\t2306.61103845\n",
      "\n"
     ]
    },
    {
     "name": "stderr",
     "output_type": "stream",
     "text": [
      "/home/ekaterina/Documents/appaloosa/appaloosa/appaloosa.py:271: FutureWarning: pd.rolling_std is deprecated for ndarrays and will be removed in a future version\n",
      "  error = np.ones_like(time[isrl]) * np.nanmedian(rolling_std(flux_raw[isrl], win_size, center=True))\n",
      "/home/ekaterina/Documents/appaloosa/appaloosa/detrend.py:112: FutureWarning: pd.rolling_median is deprecated for ndarrays and will be removed in a future version\n",
      "  flux_sm = rolling_median(np.array(flux[x], dtype='float'), krnl)\n",
      "/home/ekaterina/Documents/appaloosa/appaloosa/detrend.py:74: FutureWarning: pd.rolling_median is deprecated for ndarrays and will be removed in a future version\n",
      "  flux_sm = rolling_median(flux[dl[i]:dr[i]], krnl)\n",
      "/home/ekaterina/Documents/appaloosa/appaloosa/detrend.py:359: FutureWarning: pd.rolling_median is deprecated for ndarrays and will be removed in a future version\n",
      "  flux_i_sm = rolling_median(flux_i, nptsmooth, center=True)\n",
      "/home/ekaterina/Documents/appaloosa/appaloosa/detrend.py:359: FutureWarning: pd.rolling_median is deprecated for ndarrays and will be removed in a future version\n",
      "  flux_i_sm = rolling_median(flux_i, nptsmooth, center=True)\n",
      "/home/ekaterina/Documents/appaloosa/appaloosa/appaloosa.py:703: FutureWarning: pd.rolling_std is deprecated for ndarrays and will be removed in a future version\n",
      "  sig_i = np.nanmedian(rolling_std(flux, std_window, center=True))\n",
      "/usr/local/lib/python3.5/dist-packages/scipy/optimize/minpack.py:779: OptimizeWarning: Covariance of the parameters could not be estimated\n",
      "  category=OptimizeWarning)\n"
     ]
    },
    {
     "name": "stdout",
     "output_type": "stream",
     "text": [
      "211410963\t2018-03-01 11:43:16.391841\t20\tstars_shortlist/M67/hlsp_everest_k2_llc_211410963-c05_kepler_v2.0_lc.fits\t5\t68.1263888889\t29.424381432364804\t2306.61102064\n",
      "\n"
     ]
    },
    {
     "name": "stderr",
     "output_type": "stream",
     "text": [
      "/home/ekaterina/Documents/appaloosa/appaloosa/aflare.py:88: RuntimeWarning: divide by zero encountered in true_divide\n",
      "  flare = np.piecewise(t, [(t<= tpeak) * (t-tpeak)/fwhm > -1.,\n",
      "/home/ekaterina/Documents/appaloosa/appaloosa/aflare.py:88: RuntimeWarning: invalid value encountered in true_divide\n",
      "  flare = np.piecewise(t, [(t<= tpeak) * (t-tpeak)/fwhm > -1.,\n",
      "/home/ekaterina/Documents/appaloosa/appaloosa/aflare.py:88: RuntimeWarning: invalid value encountered in greater\n",
      "  flare = np.piecewise(t, [(t<= tpeak) * (t-tpeak)/fwhm > -1.,\n",
      "/home/ekaterina/Documents/appaloosa/appaloosa/appaloosa.py:271: FutureWarning: pd.rolling_std is deprecated for ndarrays and will be removed in a future version\n",
      "  error = np.ones_like(time[isrl]) * np.nanmedian(rolling_std(flux_raw[isrl], win_size, center=True))\n",
      "/home/ekaterina/Documents/appaloosa/appaloosa/detrend.py:112: FutureWarning: pd.rolling_median is deprecated for ndarrays and will be removed in a future version\n",
      "  flux_sm = rolling_median(np.array(flux[x], dtype='float'), krnl)\n",
      "/home/ekaterina/Documents/appaloosa/appaloosa/detrend.py:74: FutureWarning: pd.rolling_median is deprecated for ndarrays and will be removed in a future version\n",
      "  flux_sm = rolling_median(flux[dl[i]:dr[i]], krnl)\n",
      "/home/ekaterina/Documents/appaloosa/appaloosa/detrend.py:359: FutureWarning: pd.rolling_median is deprecated for ndarrays and will be removed in a future version\n",
      "  flux_i_sm = rolling_median(flux_i, nptsmooth, center=True)\n",
      "/home/ekaterina/Documents/appaloosa/appaloosa/detrend.py:359: FutureWarning: pd.rolling_median is deprecated for ndarrays and will be removed in a future version\n",
      "  flux_i_sm = rolling_median(flux_i, nptsmooth, center=True)\n",
      "/home/ekaterina/Documents/appaloosa/appaloosa/appaloosa.py:703: FutureWarning: pd.rolling_std is deprecated for ndarrays and will be removed in a future version\n",
      "  sig_i = np.nanmedian(rolling_std(flux, std_window, center=True))\n",
      "/home/ekaterina/Documents/appaloosa/appaloosa/aflare.py:95: RuntimeWarning: overflow encountered in exp\n",
      "  lambda x: (_fd[0]*np.exp( ((x-tpeak)/fwhm)*_fd[1] ) +\n",
      "/home/ekaterina/Documents/appaloosa/appaloosa/aflare.py:96: RuntimeWarning: overflow encountered in exp\n",
      "  _fd[2]*np.exp( ((x-tpeak)/fwhm)*_fd[3] ))]\n",
      "/usr/local/lib/python3.5/dist-packages/scipy/optimize/minpack.py:779: OptimizeWarning: Covariance of the parameters could not be estimated\n",
      "  category=OptimizeWarning)\n",
      "/home/ekaterina/Documents/appaloosa/appaloosa/aflare.py:88: RuntimeWarning: divide by zero encountered in true_divide\n",
      "  flare = np.piecewise(t, [(t<= tpeak) * (t-tpeak)/fwhm > -1.,\n",
      "/home/ekaterina/Documents/appaloosa/appaloosa/aflare.py:88: RuntimeWarning: invalid value encountered in true_divide\n",
      "  flare = np.piecewise(t, [(t<= tpeak) * (t-tpeak)/fwhm > -1.,\n",
      "/home/ekaterina/Documents/appaloosa/appaloosa/aflare.py:88: RuntimeWarning: invalid value encountered in greater\n",
      "  flare = np.piecewise(t, [(t<= tpeak) * (t-tpeak)/fwhm > -1.,\n"
     ]
    },
    {
     "name": "stdout",
     "output_type": "stream",
     "text": [
      "211411112\t2018-03-01 11:43:17.022388\t19\tstars_shortlist/M67/hlsp_everest_k2_llc_211411112-c05_kepler_v2.0_lc.fits\t5\t68.1263888889\t29.424381432364804\t2306.61102002\n",
      "\n"
     ]
    },
    {
     "name": "stderr",
     "output_type": "stream",
     "text": [
      "/home/ekaterina/Documents/appaloosa/appaloosa/aflare.py:95: RuntimeWarning: divide by zero encountered in true_divide\n",
      "  lambda x: (_fd[0]*np.exp( ((x-tpeak)/fwhm)*_fd[1] ) +\n",
      "/home/ekaterina/Documents/appaloosa/appaloosa/aflare.py:96: RuntimeWarning: divide by zero encountered in true_divide\n",
      "  _fd[2]*np.exp( ((x-tpeak)/fwhm)*_fd[3] ))]\n",
      "/home/ekaterina/Documents/appaloosa/appaloosa/appaloosa.py:271: FutureWarning: pd.rolling_std is deprecated for ndarrays and will be removed in a future version\n",
      "  error = np.ones_like(time[isrl]) * np.nanmedian(rolling_std(flux_raw[isrl], win_size, center=True))\n",
      "/home/ekaterina/Documents/appaloosa/appaloosa/detrend.py:112: FutureWarning: pd.rolling_median is deprecated for ndarrays and will be removed in a future version\n",
      "  flux_sm = rolling_median(np.array(flux[x], dtype='float'), krnl)\n",
      "/home/ekaterina/Documents/appaloosa/appaloosa/detrend.py:74: FutureWarning: pd.rolling_median is deprecated for ndarrays and will be removed in a future version\n",
      "  flux_sm = rolling_median(flux[dl[i]:dr[i]], krnl)\n",
      "/home/ekaterina/Documents/appaloosa/appaloosa/detrend.py:359: FutureWarning: pd.rolling_median is deprecated for ndarrays and will be removed in a future version\n",
      "  flux_i_sm = rolling_median(flux_i, nptsmooth, center=True)\n",
      "/home/ekaterina/Documents/appaloosa/appaloosa/detrend.py:359: FutureWarning: pd.rolling_median is deprecated for ndarrays and will be removed in a future version\n",
      "  flux_i_sm = rolling_median(flux_i, nptsmooth, center=True)\n",
      "/home/ekaterina/Documents/appaloosa/appaloosa/appaloosa.py:703: FutureWarning: pd.rolling_std is deprecated for ndarrays and will be removed in a future version\n",
      "  sig_i = np.nanmedian(rolling_std(flux, std_window, center=True))\n",
      "/home/ekaterina/Documents/appaloosa/appaloosa/aflare.py:88: RuntimeWarning: divide by zero encountered in true_divide\n",
      "  flare = np.piecewise(t, [(t<= tpeak) * (t-tpeak)/fwhm > -1.,\n",
      "/home/ekaterina/Documents/appaloosa/appaloosa/aflare.py:88: RuntimeWarning: invalid value encountered in true_divide\n",
      "  flare = np.piecewise(t, [(t<= tpeak) * (t-tpeak)/fwhm > -1.,\n",
      "/home/ekaterina/Documents/appaloosa/appaloosa/aflare.py:88: RuntimeWarning: invalid value encountered in greater\n",
      "  flare = np.piecewise(t, [(t<= tpeak) * (t-tpeak)/fwhm > -1.,\n",
      "/home/ekaterina/Documents/appaloosa/appaloosa/aflare.py:95: RuntimeWarning: divide by zero encountered in true_divide\n",
      "  lambda x: (_fd[0]*np.exp( ((x-tpeak)/fwhm)*_fd[1] ) +\n",
      "/home/ekaterina/Documents/appaloosa/appaloosa/aflare.py:96: RuntimeWarning: divide by zero encountered in true_divide\n",
      "  _fd[2]*np.exp( ((x-tpeak)/fwhm)*_fd[3] ))]\n",
      "/usr/local/lib/python3.5/dist-packages/scipy/optimize/minpack.py:779: OptimizeWarning: Covariance of the parameters could not be estimated\n",
      "  category=OptimizeWarning)\n"
     ]
    },
    {
     "name": "stdout",
     "output_type": "stream",
     "text": [
      "211416648\t2018-03-01 11:43:17.660201\t21\tstars_shortlist/M67/hlsp_everest_k2_llc_211416648-c05_kepler_v2.0_lc.fits\t5\t68.1263888889\t29.424381432364804\t2306.61101947\n",
      "\n"
     ]
    },
    {
     "name": "stderr",
     "output_type": "stream",
     "text": [
      "/home/ekaterina/Documents/appaloosa/appaloosa/appaloosa.py:271: FutureWarning: pd.rolling_std is deprecated for ndarrays and will be removed in a future version\n",
      "  error = np.ones_like(time[isrl]) * np.nanmedian(rolling_std(flux_raw[isrl], win_size, center=True))\n",
      "/home/ekaterina/Documents/appaloosa/appaloosa/detrend.py:112: FutureWarning: pd.rolling_median is deprecated for ndarrays and will be removed in a future version\n",
      "  flux_sm = rolling_median(np.array(flux[x], dtype='float'), krnl)\n",
      "/home/ekaterina/Documents/appaloosa/appaloosa/detrend.py:74: FutureWarning: pd.rolling_median is deprecated for ndarrays and will be removed in a future version\n",
      "  flux_sm = rolling_median(flux[dl[i]:dr[i]], krnl)\n",
      "/home/ekaterina/Documents/appaloosa/appaloosa/detrend.py:359: FutureWarning: pd.rolling_median is deprecated for ndarrays and will be removed in a future version\n",
      "  flux_i_sm = rolling_median(flux_i, nptsmooth, center=True)\n",
      "/usr/local/lib/python3.5/dist-packages/scipy/optimize/minpack.py:779: OptimizeWarning: Covariance of the parameters could not be estimated\n",
      "  category=OptimizeWarning)\n",
      "/home/ekaterina/Documents/appaloosa/appaloosa/detrend.py:359: FutureWarning: pd.rolling_median is deprecated for ndarrays and will be removed in a future version\n",
      "  flux_i_sm = rolling_median(flux_i, nptsmooth, center=True)\n",
      "/home/ekaterina/Documents/appaloosa/appaloosa/appaloosa.py:703: FutureWarning: pd.rolling_std is deprecated for ndarrays and will be removed in a future version\n",
      "  sig_i = np.nanmedian(rolling_std(flux, std_window, center=True))\n"
     ]
    },
    {
     "name": "stdout",
     "output_type": "stream",
     "text": [
      "211396422\t2018-03-01 11:43:18.639085\t8\tstars_shortlist/M67/hlsp_everest_k2_llc_211396422-c05_kepler_v2.0_lc.fits\t5\t68.1263888889\t29.424381432364804\t2306.6110411\n",
      "\n"
     ]
    },
    {
     "name": "stderr",
     "output_type": "stream",
     "text": [
      "/home/ekaterina/Documents/appaloosa/appaloosa/aflare.py:88: RuntimeWarning: divide by zero encountered in true_divide\n",
      "  flare = np.piecewise(t, [(t<= tpeak) * (t-tpeak)/fwhm > -1.,\n",
      "/home/ekaterina/Documents/appaloosa/appaloosa/aflare.py:88: RuntimeWarning: invalid value encountered in true_divide\n",
      "  flare = np.piecewise(t, [(t<= tpeak) * (t-tpeak)/fwhm > -1.,\n",
      "/home/ekaterina/Documents/appaloosa/appaloosa/aflare.py:88: RuntimeWarning: invalid value encountered in greater\n",
      "  flare = np.piecewise(t, [(t<= tpeak) * (t-tpeak)/fwhm > -1.,\n",
      "/home/ekaterina/Documents/appaloosa/appaloosa/aflare.py:95: RuntimeWarning: divide by zero encountered in true_divide\n",
      "  lambda x: (_fd[0]*np.exp( ((x-tpeak)/fwhm)*_fd[1] ) +\n",
      "/home/ekaterina/Documents/appaloosa/appaloosa/aflare.py:96: RuntimeWarning: divide by zero encountered in true_divide\n",
      "  _fd[2]*np.exp( ((x-tpeak)/fwhm)*_fd[3] ))]\n",
      "/usr/local/lib/python3.5/dist-packages/scipy/optimize/minpack.py:779: OptimizeWarning: Covariance of the parameters could not be estimated\n",
      "  category=OptimizeWarning)\n",
      "/home/ekaterina/Documents/appaloosa/appaloosa/appaloosa.py:271: FutureWarning: pd.rolling_std is deprecated for ndarrays and will be removed in a future version\n",
      "  error = np.ones_like(time[isrl]) * np.nanmedian(rolling_std(flux_raw[isrl], win_size, center=True))\n",
      "/home/ekaterina/Documents/appaloosa/appaloosa/detrend.py:112: FutureWarning: pd.rolling_median is deprecated for ndarrays and will be removed in a future version\n",
      "  flux_sm = rolling_median(np.array(flux[x], dtype='float'), krnl)\n",
      "/home/ekaterina/Documents/appaloosa/appaloosa/detrend.py:74: FutureWarning: pd.rolling_median is deprecated for ndarrays and will be removed in a future version\n",
      "  flux_sm = rolling_median(flux[dl[i]:dr[i]], krnl)\n",
      "/home/ekaterina/Documents/appaloosa/appaloosa/detrend.py:359: FutureWarning: pd.rolling_median is deprecated for ndarrays and will be removed in a future version\n",
      "  flux_i_sm = rolling_median(flux_i, nptsmooth, center=True)\n",
      "/home/ekaterina/Documents/appaloosa/appaloosa/detrend.py:359: FutureWarning: pd.rolling_median is deprecated for ndarrays and will be removed in a future version\n",
      "  flux_i_sm = rolling_median(flux_i, nptsmooth, center=True)\n",
      "/home/ekaterina/Documents/appaloosa/appaloosa/appaloosa.py:703: FutureWarning: pd.rolling_std is deprecated for ndarrays and will be removed in a future version\n",
      "  sig_i = np.nanmedian(rolling_std(flux, std_window, center=True))\n",
      "/home/ekaterina/Documents/appaloosa/appaloosa/aflare.py:88: RuntimeWarning: divide by zero encountered in true_divide\n",
      "  flare = np.piecewise(t, [(t<= tpeak) * (t-tpeak)/fwhm > -1.,\n",
      "/home/ekaterina/Documents/appaloosa/appaloosa/aflare.py:88: RuntimeWarning: invalid value encountered in true_divide\n",
      "  flare = np.piecewise(t, [(t<= tpeak) * (t-tpeak)/fwhm > -1.,\n",
      "/home/ekaterina/Documents/appaloosa/appaloosa/aflare.py:88: RuntimeWarning: invalid value encountered in greater\n",
      "  flare = np.piecewise(t, [(t<= tpeak) * (t-tpeak)/fwhm > -1.,\n",
      "/usr/local/lib/python3.5/dist-packages/scipy/optimize/minpack.py:779: OptimizeWarning: Covariance of the parameters could not be estimated\n",
      "  category=OptimizeWarning)\n"
     ]
    },
    {
     "name": "stdout",
     "output_type": "stream",
     "text": [
      "211412571\t2018-03-01 11:43:19.163584\t54\tstars_shortlist/M67/hlsp_everest_k2_llc_211412571-c05_kepler_v2.0_lc.fits\t5\t68.1263888889\t29.424381432364804\t2306.61101854\n",
      "\n"
     ]
    },
    {
     "name": "stderr",
     "output_type": "stream",
     "text": [
      "/home/ekaterina/Documents/appaloosa/appaloosa/aflare.py:95: RuntimeWarning: divide by zero encountered in true_divide\n",
      "  lambda x: (_fd[0]*np.exp( ((x-tpeak)/fwhm)*_fd[1] ) +\n",
      "/home/ekaterina/Documents/appaloosa/appaloosa/aflare.py:96: RuntimeWarning: divide by zero encountered in true_divide\n",
      "  _fd[2]*np.exp( ((x-tpeak)/fwhm)*_fd[3] ))]\n",
      "/home/ekaterina/Documents/appaloosa/appaloosa/aflare.py:95: RuntimeWarning: overflow encountered in exp\n",
      "  lambda x: (_fd[0]*np.exp( ((x-tpeak)/fwhm)*_fd[1] ) +\n",
      "/home/ekaterina/Documents/appaloosa/appaloosa/appaloosa.py:271: FutureWarning: pd.rolling_std is deprecated for ndarrays and will be removed in a future version\n",
      "  error = np.ones_like(time[isrl]) * np.nanmedian(rolling_std(flux_raw[isrl], win_size, center=True))\n",
      "/home/ekaterina/Documents/appaloosa/appaloosa/detrend.py:112: FutureWarning: pd.rolling_median is deprecated for ndarrays and will be removed in a future version\n",
      "  flux_sm = rolling_median(np.array(flux[x], dtype='float'), krnl)\n",
      "/home/ekaterina/Documents/appaloosa/appaloosa/detrend.py:74: FutureWarning: pd.rolling_median is deprecated for ndarrays and will be removed in a future version\n",
      "  flux_sm = rolling_median(flux[dl[i]:dr[i]], krnl)\n",
      "/home/ekaterina/Documents/appaloosa/appaloosa/detrend.py:359: FutureWarning: pd.rolling_median is deprecated for ndarrays and will be removed in a future version\n",
      "  flux_i_sm = rolling_median(flux_i, nptsmooth, center=True)\n",
      "/home/ekaterina/Documents/appaloosa/appaloosa/detrend.py:359: FutureWarning: pd.rolling_median is deprecated for ndarrays and will be removed in a future version\n",
      "  flux_i_sm = rolling_median(flux_i, nptsmooth, center=True)\n",
      "/home/ekaterina/Documents/appaloosa/appaloosa/appaloosa.py:703: FutureWarning: pd.rolling_std is deprecated for ndarrays and will be removed in a future version\n",
      "  sig_i = np.nanmedian(rolling_std(flux, std_window, center=True))\n"
     ]
    },
    {
     "name": "stdout",
     "output_type": "stream",
     "text": [
      "211418561\t2018-03-01 11:43:19.841454\t15\tstars_shortlist/M67/hlsp_everest_k2_llc_211418561-c05_kepler_v2.0_lc.fits\t5\t68.1263888889\t29.424381432364804\t2306.61101919\n",
      "\n"
     ]
    },
    {
     "name": "stderr",
     "output_type": "stream",
     "text": [
      "/usr/local/lib/python3.5/dist-packages/scipy/optimize/minpack.py:779: OptimizeWarning: Covariance of the parameters could not be estimated\n",
      "  category=OptimizeWarning)\n",
      "/home/ekaterina/Documents/appaloosa/appaloosa/appaloosa.py:271: FutureWarning: pd.rolling_std is deprecated for ndarrays and will be removed in a future version\n",
      "  error = np.ones_like(time[isrl]) * np.nanmedian(rolling_std(flux_raw[isrl], win_size, center=True))\n",
      "/home/ekaterina/Documents/appaloosa/appaloosa/detrend.py:112: FutureWarning: pd.rolling_median is deprecated for ndarrays and will be removed in a future version\n",
      "  flux_sm = rolling_median(np.array(flux[x], dtype='float'), krnl)\n",
      "/home/ekaterina/Documents/appaloosa/appaloosa/detrend.py:74: FutureWarning: pd.rolling_median is deprecated for ndarrays and will be removed in a future version\n",
      "  flux_sm = rolling_median(flux[dl[i]:dr[i]], krnl)\n",
      "/home/ekaterina/Documents/appaloosa/appaloosa/detrend.py:359: FutureWarning: pd.rolling_median is deprecated for ndarrays and will be removed in a future version\n",
      "  flux_i_sm = rolling_median(flux_i, nptsmooth, center=True)\n",
      "/home/ekaterina/Documents/appaloosa/appaloosa/detrend.py:359: FutureWarning: pd.rolling_median is deprecated for ndarrays and will be removed in a future version\n",
      "  flux_i_sm = rolling_median(flux_i, nptsmooth, center=True)\n",
      "/home/ekaterina/Documents/appaloosa/appaloosa/appaloosa.py:703: FutureWarning: pd.rolling_std is deprecated for ndarrays and will be removed in a future version\n",
      "  sig_i = np.nanmedian(rolling_std(flux, std_window, center=True))\n",
      "/usr/local/lib/python3.5/dist-packages/scipy/optimize/minpack.py:779: OptimizeWarning: Covariance of the parameters could not be estimated\n",
      "  category=OptimizeWarning)\n",
      "/home/ekaterina/Documents/appaloosa/appaloosa/aflare.py:88: RuntimeWarning: divide by zero encountered in true_divide\n",
      "  flare = np.piecewise(t, [(t<= tpeak) * (t-tpeak)/fwhm > -1.,\n",
      "/home/ekaterina/Documents/appaloosa/appaloosa/aflare.py:88: RuntimeWarning: invalid value encountered in true_divide\n",
      "  flare = np.piecewise(t, [(t<= tpeak) * (t-tpeak)/fwhm > -1.,\n",
      "/home/ekaterina/Documents/appaloosa/appaloosa/aflare.py:88: RuntimeWarning: invalid value encountered in greater\n",
      "  flare = np.piecewise(t, [(t<= tpeak) * (t-tpeak)/fwhm > -1.,\n",
      "/home/ekaterina/Documents/appaloosa/appaloosa/aflare.py:95: RuntimeWarning: divide by zero encountered in true_divide\n",
      "  lambda x: (_fd[0]*np.exp( ((x-tpeak)/fwhm)*_fd[1] ) +\n",
      "/home/ekaterina/Documents/appaloosa/appaloosa/aflare.py:96: RuntimeWarning: divide by zero encountered in true_divide\n",
      "  _fd[2]*np.exp( ((x-tpeak)/fwhm)*_fd[3] ))]\n"
     ]
    },
    {
     "name": "stdout",
     "output_type": "stream",
     "text": [
      "211418176\t2018-03-01 11:43:20.495470\t16\tstars_shortlist/M67/hlsp_everest_k2_llc_211418176-c05_kepler_v2.0_lc.fits\t5\t68.1263888889\t29.424381432364804\t2306.611019\n",
      "\n"
     ]
    },
    {
     "name": "stderr",
     "output_type": "stream",
     "text": [
      "/home/ekaterina/Documents/appaloosa/appaloosa/appaloosa.py:271: FutureWarning: pd.rolling_std is deprecated for ndarrays and will be removed in a future version\n",
      "  error = np.ones_like(time[isrl]) * np.nanmedian(rolling_std(flux_raw[isrl], win_size, center=True))\n",
      "/home/ekaterina/Documents/appaloosa/appaloosa/detrend.py:112: FutureWarning: pd.rolling_median is deprecated for ndarrays and will be removed in a future version\n",
      "  flux_sm = rolling_median(np.array(flux[x], dtype='float'), krnl)\n",
      "/home/ekaterina/Documents/appaloosa/appaloosa/detrend.py:74: FutureWarning: pd.rolling_median is deprecated for ndarrays and will be removed in a future version\n",
      "  flux_sm = rolling_median(flux[dl[i]:dr[i]], krnl)\n",
      "/home/ekaterina/Documents/appaloosa/appaloosa/detrend.py:359: FutureWarning: pd.rolling_median is deprecated for ndarrays and will be removed in a future version\n",
      "  flux_i_sm = rolling_median(flux_i, nptsmooth, center=True)\n",
      "/home/ekaterina/Documents/appaloosa/appaloosa/detrend.py:359: FutureWarning: pd.rolling_median is deprecated for ndarrays and will be removed in a future version\n",
      "  flux_i_sm = rolling_median(flux_i, nptsmooth, center=True)\n",
      "/home/ekaterina/Documents/appaloosa/appaloosa/appaloosa.py:703: FutureWarning: pd.rolling_std is deprecated for ndarrays and will be removed in a future version\n",
      "  sig_i = np.nanmedian(rolling_std(flux, std_window, center=True))\n"
     ]
    },
    {
     "name": "stdout",
     "output_type": "stream",
     "text": [
      "211403974\t2018-03-01 11:43:21.171992\t9\tstars_shortlist/M67/hlsp_everest_k2_llc_211403974-c05_kepler_v2.0_lc.fits\t5\t68.1263888889\t29.424381432364804\t2306.61102172\n",
      "\n"
     ]
    },
    {
     "name": "stderr",
     "output_type": "stream",
     "text": [
      "/home/ekaterina/Documents/appaloosa/appaloosa/aflare.py:88: RuntimeWarning: divide by zero encountered in true_divide\n",
      "  flare = np.piecewise(t, [(t<= tpeak) * (t-tpeak)/fwhm > -1.,\n",
      "/home/ekaterina/Documents/appaloosa/appaloosa/aflare.py:88: RuntimeWarning: invalid value encountered in true_divide\n",
      "  flare = np.piecewise(t, [(t<= tpeak) * (t-tpeak)/fwhm > -1.,\n",
      "/home/ekaterina/Documents/appaloosa/appaloosa/aflare.py:88: RuntimeWarning: invalid value encountered in greater\n",
      "  flare = np.piecewise(t, [(t<= tpeak) * (t-tpeak)/fwhm > -1.,\n",
      "/home/ekaterina/Documents/appaloosa/appaloosa/aflare.py:95: RuntimeWarning: divide by zero encountered in true_divide\n",
      "  lambda x: (_fd[0]*np.exp( ((x-tpeak)/fwhm)*_fd[1] ) +\n",
      "/home/ekaterina/Documents/appaloosa/appaloosa/aflare.py:96: RuntimeWarning: divide by zero encountered in true_divide\n",
      "  _fd[2]*np.exp( ((x-tpeak)/fwhm)*_fd[3] ))]\n",
      "/usr/local/lib/python3.5/dist-packages/scipy/optimize/minpack.py:779: OptimizeWarning: Covariance of the parameters could not be estimated\n",
      "  category=OptimizeWarning)\n",
      "/home/ekaterina/Documents/appaloosa/appaloosa/appaloosa.py:271: FutureWarning: pd.rolling_std is deprecated for ndarrays and will be removed in a future version\n",
      "  error = np.ones_like(time[isrl]) * np.nanmedian(rolling_std(flux_raw[isrl], win_size, center=True))\n",
      "/home/ekaterina/Documents/appaloosa/appaloosa/detrend.py:112: FutureWarning: pd.rolling_median is deprecated for ndarrays and will be removed in a future version\n",
      "  flux_sm = rolling_median(np.array(flux[x], dtype='float'), krnl)\n",
      "/home/ekaterina/Documents/appaloosa/appaloosa/detrend.py:74: FutureWarning: pd.rolling_median is deprecated for ndarrays and will be removed in a future version\n",
      "  flux_sm = rolling_median(flux[dl[i]:dr[i]], krnl)\n",
      "/home/ekaterina/Documents/appaloosa/appaloosa/detrend.py:359: FutureWarning: pd.rolling_median is deprecated for ndarrays and will be removed in a future version\n",
      "  flux_i_sm = rolling_median(flux_i, nptsmooth, center=True)\n",
      "/home/ekaterina/Documents/appaloosa/appaloosa/detrend.py:359: FutureWarning: pd.rolling_median is deprecated for ndarrays and will be removed in a future version\n",
      "  flux_i_sm = rolling_median(flux_i, nptsmooth, center=True)\n",
      "/home/ekaterina/Documents/appaloosa/appaloosa/appaloosa.py:703: FutureWarning: pd.rolling_std is deprecated for ndarrays and will be removed in a future version\n",
      "  sig_i = np.nanmedian(rolling_std(flux, std_window, center=True))\n",
      "/home/ekaterina/Documents/appaloosa/appaloosa/aflare.py:88: RuntimeWarning: divide by zero encountered in true_divide\n",
      "  flare = np.piecewise(t, [(t<= tpeak) * (t-tpeak)/fwhm > -1.,\n",
      "/home/ekaterina/Documents/appaloosa/appaloosa/aflare.py:88: RuntimeWarning: invalid value encountered in true_divide\n",
      "  flare = np.piecewise(t, [(t<= tpeak) * (t-tpeak)/fwhm > -1.,\n",
      "/home/ekaterina/Documents/appaloosa/appaloosa/aflare.py:88: RuntimeWarning: invalid value encountered in greater\n",
      "  flare = np.piecewise(t, [(t<= tpeak) * (t-tpeak)/fwhm > -1.,\n",
      "/home/ekaterina/Documents/appaloosa/appaloosa/aflare.py:95: RuntimeWarning: divide by zero encountered in true_divide\n",
      "  lambda x: (_fd[0]*np.exp( ((x-tpeak)/fwhm)*_fd[1] ) +\n",
      "/home/ekaterina/Documents/appaloosa/appaloosa/aflare.py:96: RuntimeWarning: divide by zero encountered in true_divide\n",
      "  _fd[2]*np.exp( ((x-tpeak)/fwhm)*_fd[3] ))]\n",
      "/usr/local/lib/python3.5/dist-packages/scipy/optimize/minpack.py:779: OptimizeWarning: Covariance of the parameters could not be estimated\n",
      "  category=OptimizeWarning)\n"
     ]
    },
    {
     "name": "stdout",
     "output_type": "stream",
     "text": [
      "211417817\t2018-03-01 11:43:21.846089\t17\tstars_shortlist/M67/hlsp_everest_k2_llc_211417817-c05_kepler_v2.0_lc.fits\t5\t68.1263888889\t29.424381432364804\t2306.61101863\n",
      "\n"
     ]
    },
    {
     "name": "stderr",
     "output_type": "stream",
     "text": [
      "/home/ekaterina/Documents/appaloosa/appaloosa/appaloosa.py:271: FutureWarning: pd.rolling_std is deprecated for ndarrays and will be removed in a future version\n",
      "  error = np.ones_like(time[isrl]) * np.nanmedian(rolling_std(flux_raw[isrl], win_size, center=True))\n",
      "/home/ekaterina/Documents/appaloosa/appaloosa/detrend.py:112: FutureWarning: pd.rolling_median is deprecated for ndarrays and will be removed in a future version\n",
      "  flux_sm = rolling_median(np.array(flux[x], dtype='float'), krnl)\n",
      "/home/ekaterina/Documents/appaloosa/appaloosa/detrend.py:74: FutureWarning: pd.rolling_median is deprecated for ndarrays and will be removed in a future version\n",
      "  flux_sm = rolling_median(flux[dl[i]:dr[i]], krnl)\n",
      "/home/ekaterina/Documents/appaloosa/appaloosa/detrend.py:359: FutureWarning: pd.rolling_median is deprecated for ndarrays and will be removed in a future version\n",
      "  flux_i_sm = rolling_median(flux_i, nptsmooth, center=True)\n",
      "/home/ekaterina/Documents/appaloosa/appaloosa/detrend.py:359: FutureWarning: pd.rolling_median is deprecated for ndarrays and will be removed in a future version\n",
      "  flux_i_sm = rolling_median(flux_i, nptsmooth, center=True)\n",
      "/home/ekaterina/Documents/appaloosa/appaloosa/appaloosa.py:703: FutureWarning: pd.rolling_std is deprecated for ndarrays and will be removed in a future version\n",
      "  sig_i = np.nanmedian(rolling_std(flux, std_window, center=True))\n",
      "/home/ekaterina/Documents/appaloosa/appaloosa/aflare.py:88: RuntimeWarning: divide by zero encountered in true_divide\n",
      "  flare = np.piecewise(t, [(t<= tpeak) * (t-tpeak)/fwhm > -1.,\n",
      "/home/ekaterina/Documents/appaloosa/appaloosa/aflare.py:88: RuntimeWarning: invalid value encountered in true_divide\n",
      "  flare = np.piecewise(t, [(t<= tpeak) * (t-tpeak)/fwhm > -1.,\n",
      "/home/ekaterina/Documents/appaloosa/appaloosa/aflare.py:88: RuntimeWarning: invalid value encountered in greater\n",
      "  flare = np.piecewise(t, [(t<= tpeak) * (t-tpeak)/fwhm > -1.,\n",
      "/usr/local/lib/python3.5/dist-packages/scipy/optimize/minpack.py:779: OptimizeWarning: Covariance of the parameters could not be estimated\n",
      "  category=OptimizeWarning)\n"
     ]
    },
    {
     "name": "stdout",
     "output_type": "stream",
     "text": [
      "211413212\t2018-03-01 11:43:22.485489\t65\tstars_shortlist/M67/hlsp_everest_k2_llc_211413212-c05_kepler_v2.0_lc.fits\t5\t68.1263888889\t29.424381432364804\t2306.61101805\n",
      "\n"
     ]
    },
    {
     "name": "stderr",
     "output_type": "stream",
     "text": [
      "/home/ekaterina/Documents/appaloosa/appaloosa/aflare.py:95: RuntimeWarning: divide by zero encountered in true_divide\n",
      "  lambda x: (_fd[0]*np.exp( ((x-tpeak)/fwhm)*_fd[1] ) +\n",
      "/home/ekaterina/Documents/appaloosa/appaloosa/aflare.py:96: RuntimeWarning: divide by zero encountered in true_divide\n",
      "  _fd[2]*np.exp( ((x-tpeak)/fwhm)*_fd[3] ))]\n",
      "/home/ekaterina/Documents/appaloosa/appaloosa/appaloosa.py:271: FutureWarning: pd.rolling_std is deprecated for ndarrays and will be removed in a future version\n",
      "  error = np.ones_like(time[isrl]) * np.nanmedian(rolling_std(flux_raw[isrl], win_size, center=True))\n",
      "/home/ekaterina/Documents/appaloosa/appaloosa/detrend.py:112: FutureWarning: pd.rolling_median is deprecated for ndarrays and will be removed in a future version\n",
      "  flux_sm = rolling_median(np.array(flux[x], dtype='float'), krnl)\n",
      "/home/ekaterina/Documents/appaloosa/appaloosa/detrend.py:74: FutureWarning: pd.rolling_median is deprecated for ndarrays and will be removed in a future version\n",
      "  flux_sm = rolling_median(flux[dl[i]:dr[i]], krnl)\n",
      "/home/ekaterina/Documents/appaloosa/appaloosa/detrend.py:359: FutureWarning: pd.rolling_median is deprecated for ndarrays and will be removed in a future version\n",
      "  flux_i_sm = rolling_median(flux_i, nptsmooth, center=True)\n",
      "/home/ekaterina/Documents/appaloosa/appaloosa/detrend.py:359: FutureWarning: pd.rolling_median is deprecated for ndarrays and will be removed in a future version\n",
      "  flux_i_sm = rolling_median(flux_i, nptsmooth, center=True)\n",
      "/home/ekaterina/Documents/appaloosa/appaloosa/appaloosa.py:703: FutureWarning: pd.rolling_std is deprecated for ndarrays and will be removed in a future version\n",
      "  sig_i = np.nanmedian(rolling_std(flux, std_window, center=True))\n",
      "/usr/local/lib/python3.5/dist-packages/scipy/optimize/minpack.py:779: OptimizeWarning: Covariance of the parameters could not be estimated\n",
      "  category=OptimizeWarning)\n",
      "/home/ekaterina/Documents/appaloosa/appaloosa/aflare.py:88: RuntimeWarning: divide by zero encountered in true_divide\n",
      "  flare = np.piecewise(t, [(t<= tpeak) * (t-tpeak)/fwhm > -1.,\n",
      "/home/ekaterina/Documents/appaloosa/appaloosa/aflare.py:88: RuntimeWarning: invalid value encountered in true_divide\n",
      "  flare = np.piecewise(t, [(t<= tpeak) * (t-tpeak)/fwhm > -1.,\n",
      "/home/ekaterina/Documents/appaloosa/appaloosa/aflare.py:88: RuntimeWarning: invalid value encountered in greater\n",
      "  flare = np.piecewise(t, [(t<= tpeak) * (t-tpeak)/fwhm > -1.,\n"
     ]
    },
    {
     "name": "stdout",
     "output_type": "stream",
     "text": [
      "211427268\t2018-03-01 11:43:23.412701\t22\tstars_shortlist/M67/hlsp_everest_k2_llc_211427268-c05_kepler_v2.0_lc.fits\t5\t68.1263888889\t29.424381432364804\t2306.61102921\n",
      "\n"
     ]
    },
    {
     "name": "stderr",
     "output_type": "stream",
     "text": [
      "/home/ekaterina/Documents/appaloosa/appaloosa/appaloosa.py:271: FutureWarning: pd.rolling_std is deprecated for ndarrays and will be removed in a future version\n",
      "  error = np.ones_like(time[isrl]) * np.nanmedian(rolling_std(flux_raw[isrl], win_size, center=True))\n",
      "/home/ekaterina/Documents/appaloosa/appaloosa/detrend.py:112: FutureWarning: pd.rolling_median is deprecated for ndarrays and will be removed in a future version\n",
      "  flux_sm = rolling_median(np.array(flux[x], dtype='float'), krnl)\n",
      "/home/ekaterina/Documents/appaloosa/appaloosa/detrend.py:74: FutureWarning: pd.rolling_median is deprecated for ndarrays and will be removed in a future version\n",
      "  flux_sm = rolling_median(flux[dl[i]:dr[i]], krnl)\n",
      "/home/ekaterina/Documents/appaloosa/appaloosa/detrend.py:359: FutureWarning: pd.rolling_median is deprecated for ndarrays and will be removed in a future version\n",
      "  flux_i_sm = rolling_median(flux_i, nptsmooth, center=True)\n",
      "/home/ekaterina/Documents/appaloosa/appaloosa/detrend.py:359: FutureWarning: pd.rolling_median is deprecated for ndarrays and will be removed in a future version\n",
      "  flux_i_sm = rolling_median(flux_i, nptsmooth, center=True)\n",
      "/home/ekaterina/Documents/appaloosa/appaloosa/appaloosa.py:703: FutureWarning: pd.rolling_std is deprecated for ndarrays and will be removed in a future version\n",
      "  sig_i = np.nanmedian(rolling_std(flux, std_window, center=True))\n",
      "/usr/local/lib/python3.5/dist-packages/scipy/optimize/minpack.py:779: OptimizeWarning: Covariance of the parameters could not be estimated\n",
      "  category=OptimizeWarning)\n",
      "/home/ekaterina/Documents/appaloosa/appaloosa/aflare.py:88: RuntimeWarning: divide by zero encountered in true_divide\n",
      "  flare = np.piecewise(t, [(t<= tpeak) * (t-tpeak)/fwhm > -1.,\n",
      "/home/ekaterina/Documents/appaloosa/appaloosa/aflare.py:88: RuntimeWarning: invalid value encountered in true_divide\n",
      "  flare = np.piecewise(t, [(t<= tpeak) * (t-tpeak)/fwhm > -1.,\n",
      "/home/ekaterina/Documents/appaloosa/appaloosa/aflare.py:88: RuntimeWarning: invalid value encountered in greater\n",
      "  flare = np.piecewise(t, [(t<= tpeak) * (t-tpeak)/fwhm > -1.,\n",
      "/home/ekaterina/Documents/appaloosa/appaloosa/aflare.py:95: RuntimeWarning: divide by zero encountered in true_divide\n",
      "  lambda x: (_fd[0]*np.exp( ((x-tpeak)/fwhm)*_fd[1] ) +\n",
      "/home/ekaterina/Documents/appaloosa/appaloosa/aflare.py:96: RuntimeWarning: divide by zero encountered in true_divide\n",
      "  _fd[2]*np.exp( ((x-tpeak)/fwhm)*_fd[3] ))]\n"
     ]
    },
    {
     "name": "stdout",
     "output_type": "stream",
     "text": [
      "211395699\t2018-03-01 11:43:23.988275\t19\tstars_shortlist/M67/hlsp_everest_k2_llc_211395699-c05_kepler_v2.0_lc.fits\t5\t68.1263888889\t29.424381432364804\t2306.61104284\n",
      "\n"
     ]
    },
    {
     "name": "stderr",
     "output_type": "stream",
     "text": [
      "/home/ekaterina/Documents/appaloosa/appaloosa/appaloosa.py:271: FutureWarning: pd.rolling_std is deprecated for ndarrays and will be removed in a future version\n",
      "  error = np.ones_like(time[isrl]) * np.nanmedian(rolling_std(flux_raw[isrl], win_size, center=True))\n",
      "/home/ekaterina/Documents/appaloosa/appaloosa/detrend.py:112: FutureWarning: pd.rolling_median is deprecated for ndarrays and will be removed in a future version\n",
      "  flux_sm = rolling_median(np.array(flux[x], dtype='float'), krnl)\n",
      "/home/ekaterina/Documents/appaloosa/appaloosa/detrend.py:74: FutureWarning: pd.rolling_median is deprecated for ndarrays and will be removed in a future version\n",
      "  flux_sm = rolling_median(flux[dl[i]:dr[i]], krnl)\n",
      "/home/ekaterina/Documents/appaloosa/appaloosa/detrend.py:359: FutureWarning: pd.rolling_median is deprecated for ndarrays and will be removed in a future version\n",
      "  flux_i_sm = rolling_median(flux_i, nptsmooth, center=True)\n",
      "/home/ekaterina/Documents/appaloosa/appaloosa/detrend.py:359: FutureWarning: pd.rolling_median is deprecated for ndarrays and will be removed in a future version\n",
      "  flux_i_sm = rolling_median(flux_i, nptsmooth, center=True)\n",
      "/home/ekaterina/Documents/appaloosa/appaloosa/appaloosa.py:703: FutureWarning: pd.rolling_std is deprecated for ndarrays and will be removed in a future version\n",
      "  sig_i = np.nanmedian(rolling_std(flux, std_window, center=True))\n",
      "/home/ekaterina/Documents/appaloosa/appaloosa/aflare.py:95: RuntimeWarning: overflow encountered in exp\n",
      "  lambda x: (_fd[0]*np.exp( ((x-tpeak)/fwhm)*_fd[1] ) +\n",
      "/home/ekaterina/Documents/appaloosa/appaloosa/aflare.py:96: RuntimeWarning: overflow encountered in exp\n",
      "  _fd[2]*np.exp( ((x-tpeak)/fwhm)*_fd[3] ))]\n",
      "/usr/local/lib/python3.5/dist-packages/scipy/optimize/minpack.py:779: OptimizeWarning: Covariance of the parameters could not be estimated\n",
      "  category=OptimizeWarning)\n",
      "/home/ekaterina/Documents/appaloosa/appaloosa/aflare.py:88: RuntimeWarning: divide by zero encountered in true_divide\n",
      "  flare = np.piecewise(t, [(t<= tpeak) * (t-tpeak)/fwhm > -1.,\n",
      "/home/ekaterina/Documents/appaloosa/appaloosa/aflare.py:88: RuntimeWarning: invalid value encountered in true_divide\n",
      "  flare = np.piecewise(t, [(t<= tpeak) * (t-tpeak)/fwhm > -1.,\n",
      "/home/ekaterina/Documents/appaloosa/appaloosa/aflare.py:88: RuntimeWarning: invalid value encountered in greater\n",
      "  flare = np.piecewise(t, [(t<= tpeak) * (t-tpeak)/fwhm > -1.,\n",
      "/home/ekaterina/Documents/appaloosa/appaloosa/aflare.py:95: RuntimeWarning: divide by zero encountered in true_divide\n",
      "  lambda x: (_fd[0]*np.exp( ((x-tpeak)/fwhm)*_fd[1] ) +\n",
      "/home/ekaterina/Documents/appaloosa/appaloosa/aflare.py:96: RuntimeWarning: divide by zero encountered in true_divide\n",
      "  _fd[2]*np.exp( ((x-tpeak)/fwhm)*_fd[3] ))]\n"
     ]
    },
    {
     "name": "stdout",
     "output_type": "stream",
     "text": [
      "211411894\t2018-03-01 11:43:24.558430\t13\tstars_shortlist/M67/hlsp_everest_k2_llc_211411894-c05_kepler_v2.0_lc.fits\t5\t68.1263888889\t29.424381432364804\t2306.61101788\n",
      "\n"
     ]
    },
    {
     "name": "stderr",
     "output_type": "stream",
     "text": [
      "/home/ekaterina/Documents/appaloosa/appaloosa/appaloosa.py:271: FutureWarning: pd.rolling_std is deprecated for ndarrays and will be removed in a future version\n",
      "  error = np.ones_like(time[isrl]) * np.nanmedian(rolling_std(flux_raw[isrl], win_size, center=True))\n",
      "/home/ekaterina/Documents/appaloosa/appaloosa/detrend.py:112: FutureWarning: pd.rolling_median is deprecated for ndarrays and will be removed in a future version\n",
      "  flux_sm = rolling_median(np.array(flux[x], dtype='float'), krnl)\n",
      "/home/ekaterina/Documents/appaloosa/appaloosa/detrend.py:74: FutureWarning: pd.rolling_median is deprecated for ndarrays and will be removed in a future version\n",
      "  flux_sm = rolling_median(flux[dl[i]:dr[i]], krnl)\n",
      "/home/ekaterina/Documents/appaloosa/appaloosa/detrend.py:359: FutureWarning: pd.rolling_median is deprecated for ndarrays and will be removed in a future version\n",
      "  flux_i_sm = rolling_median(flux_i, nptsmooth, center=True)\n",
      "/home/ekaterina/Documents/appaloosa/appaloosa/detrend.py:359: FutureWarning: pd.rolling_median is deprecated for ndarrays and will be removed in a future version\n",
      "  flux_i_sm = rolling_median(flux_i, nptsmooth, center=True)\n",
      "/home/ekaterina/Documents/appaloosa/appaloosa/appaloosa.py:703: FutureWarning: pd.rolling_std is deprecated for ndarrays and will be removed in a future version\n",
      "  sig_i = np.nanmedian(rolling_std(flux, std_window, center=True))\n",
      "/home/ekaterina/Documents/appaloosa/appaloosa/aflare.py:88: RuntimeWarning: divide by zero encountered in true_divide\n",
      "  flare = np.piecewise(t, [(t<= tpeak) * (t-tpeak)/fwhm > -1.,\n",
      "/home/ekaterina/Documents/appaloosa/appaloosa/aflare.py:88: RuntimeWarning: invalid value encountered in true_divide\n",
      "  flare = np.piecewise(t, [(t<= tpeak) * (t-tpeak)/fwhm > -1.,\n",
      "/home/ekaterina/Documents/appaloosa/appaloosa/aflare.py:88: RuntimeWarning: invalid value encountered in greater\n",
      "  flare = np.piecewise(t, [(t<= tpeak) * (t-tpeak)/fwhm > -1.,\n",
      "/usr/local/lib/python3.5/dist-packages/scipy/optimize/minpack.py:779: OptimizeWarning: Covariance of the parameters could not be estimated\n",
      "  category=OptimizeWarning)\n"
     ]
    },
    {
     "name": "stdout",
     "output_type": "stream",
     "text": [
      "211406540\t2018-03-01 11:43:25.094999\t58\tstars_shortlist/M67/hlsp_everest_k2_llc_211406540-c05_kepler_v2.0_lc.fits\t5\t68.1263888889\t29.424381432364804\t2306.6110533\n",
      "\n"
     ]
    },
    {
     "name": "stderr",
     "output_type": "stream",
     "text": [
      "/home/ekaterina/Documents/appaloosa/appaloosa/aflare.py:95: RuntimeWarning: divide by zero encountered in true_divide\n",
      "  lambda x: (_fd[0]*np.exp( ((x-tpeak)/fwhm)*_fd[1] ) +\n",
      "/home/ekaterina/Documents/appaloosa/appaloosa/aflare.py:96: RuntimeWarning: divide by zero encountered in true_divide\n",
      "  _fd[2]*np.exp( ((x-tpeak)/fwhm)*_fd[3] ))]\n",
      "/home/ekaterina/Documents/appaloosa/appaloosa/aflare.py:95: RuntimeWarning: overflow encountered in exp\n",
      "  lambda x: (_fd[0]*np.exp( ((x-tpeak)/fwhm)*_fd[1] ) +\n",
      "/home/ekaterina/Documents/appaloosa/appaloosa/aflare.py:96: RuntimeWarning: overflow encountered in exp\n",
      "  _fd[2]*np.exp( ((x-tpeak)/fwhm)*_fd[3] ))]\n",
      "/home/ekaterina/Documents/appaloosa/appaloosa/appaloosa.py:271: FutureWarning: pd.rolling_std is deprecated for ndarrays and will be removed in a future version\n",
      "  error = np.ones_like(time[isrl]) * np.nanmedian(rolling_std(flux_raw[isrl], win_size, center=True))\n",
      "/home/ekaterina/Documents/appaloosa/appaloosa/detrend.py:112: FutureWarning: pd.rolling_median is deprecated for ndarrays and will be removed in a future version\n",
      "  flux_sm = rolling_median(np.array(flux[x], dtype='float'), krnl)\n",
      "/home/ekaterina/Documents/appaloosa/appaloosa/detrend.py:74: FutureWarning: pd.rolling_median is deprecated for ndarrays and will be removed in a future version\n",
      "  flux_sm = rolling_median(flux[dl[i]:dr[i]], krnl)\n",
      "/home/ekaterina/Documents/appaloosa/appaloosa/detrend.py:359: FutureWarning: pd.rolling_median is deprecated for ndarrays and will be removed in a future version\n",
      "  flux_i_sm = rolling_median(flux_i, nptsmooth, center=True)\n",
      "/home/ekaterina/Documents/appaloosa/appaloosa/detrend.py:359: FutureWarning: pd.rolling_median is deprecated for ndarrays and will be removed in a future version\n",
      "  flux_i_sm = rolling_median(flux_i, nptsmooth, center=True)\n",
      "/home/ekaterina/Documents/appaloosa/appaloosa/appaloosa.py:703: FutureWarning: pd.rolling_std is deprecated for ndarrays and will be removed in a future version\n",
      "  sig_i = np.nanmedian(rolling_std(flux, std_window, center=True))\n",
      "/usr/local/lib/python3.5/dist-packages/scipy/optimize/minpack.py:779: OptimizeWarning: Covariance of the parameters could not be estimated\n",
      "  category=OptimizeWarning)\n",
      "/home/ekaterina/Documents/appaloosa/appaloosa/aflare.py:88: RuntimeWarning: divide by zero encountered in true_divide\n",
      "  flare = np.piecewise(t, [(t<= tpeak) * (t-tpeak)/fwhm > -1.,\n",
      "/home/ekaterina/Documents/appaloosa/appaloosa/aflare.py:88: RuntimeWarning: invalid value encountered in true_divide\n",
      "  flare = np.piecewise(t, [(t<= tpeak) * (t-tpeak)/fwhm > -1.,\n",
      "/home/ekaterina/Documents/appaloosa/appaloosa/aflare.py:88: RuntimeWarning: invalid value encountered in greater\n",
      "  flare = np.piecewise(t, [(t<= tpeak) * (t-tpeak)/fwhm > -1.,\n",
      "/home/ekaterina/Documents/appaloosa/appaloosa/aflare.py:95: RuntimeWarning: divide by zero encountered in true_divide\n",
      "  lambda x: (_fd[0]*np.exp( ((x-tpeak)/fwhm)*_fd[1] ) +\n",
      "/home/ekaterina/Documents/appaloosa/appaloosa/aflare.py:96: RuntimeWarning: divide by zero encountered in true_divide\n",
      "  _fd[2]*np.exp( ((x-tpeak)/fwhm)*_fd[3] ))]\n"
     ]
    },
    {
     "name": "stdout",
     "output_type": "stream",
     "text": [
      "211407971\t2018-03-01 11:43:25.896781\t20\tstars_shortlist/M67/hlsp_everest_k2_llc_211407971-c05_kepler_v2.0_lc.fits\t5\t68.1263888889\t29.424381432364804\t2306.61101844\n",
      "\n"
     ]
    },
    {
     "name": "stderr",
     "output_type": "stream",
     "text": [
      "/home/ekaterina/Documents/appaloosa/appaloosa/appaloosa.py:271: FutureWarning: pd.rolling_std is deprecated for ndarrays and will be removed in a future version\n",
      "  error = np.ones_like(time[isrl]) * np.nanmedian(rolling_std(flux_raw[isrl], win_size, center=True))\n",
      "/home/ekaterina/Documents/appaloosa/appaloosa/detrend.py:112: FutureWarning: pd.rolling_median is deprecated for ndarrays and will be removed in a future version\n",
      "  flux_sm = rolling_median(np.array(flux[x], dtype='float'), krnl)\n",
      "/home/ekaterina/Documents/appaloosa/appaloosa/detrend.py:74: FutureWarning: pd.rolling_median is deprecated for ndarrays and will be removed in a future version\n",
      "  flux_sm = rolling_median(flux[dl[i]:dr[i]], krnl)\n",
      "/home/ekaterina/Documents/appaloosa/appaloosa/detrend.py:359: FutureWarning: pd.rolling_median is deprecated for ndarrays and will be removed in a future version\n",
      "  flux_i_sm = rolling_median(flux_i, nptsmooth, center=True)\n",
      "/home/ekaterina/Documents/appaloosa/appaloosa/detrend.py:359: FutureWarning: pd.rolling_median is deprecated for ndarrays and will be removed in a future version\n",
      "  flux_i_sm = rolling_median(flux_i, nptsmooth, center=True)\n",
      "/home/ekaterina/Documents/appaloosa/appaloosa/appaloosa.py:703: FutureWarning: pd.rolling_std is deprecated for ndarrays and will be removed in a future version\n",
      "  sig_i = np.nanmedian(rolling_std(flux, std_window, center=True))\n",
      "/usr/local/lib/python3.5/dist-packages/scipy/optimize/minpack.py:779: OptimizeWarning: Covariance of the parameters could not be estimated\n",
      "  category=OptimizeWarning)\n",
      "/home/ekaterina/Documents/appaloosa/appaloosa/aflare.py:88: RuntimeWarning: divide by zero encountered in true_divide\n",
      "  flare = np.piecewise(t, [(t<= tpeak) * (t-tpeak)/fwhm > -1.,\n",
      "/home/ekaterina/Documents/appaloosa/appaloosa/aflare.py:88: RuntimeWarning: invalid value encountered in true_divide\n",
      "  flare = np.piecewise(t, [(t<= tpeak) * (t-tpeak)/fwhm > -1.,\n",
      "/home/ekaterina/Documents/appaloosa/appaloosa/aflare.py:88: RuntimeWarning: invalid value encountered in greater\n",
      "  flare = np.piecewise(t, [(t<= tpeak) * (t-tpeak)/fwhm > -1.,\n",
      "/home/ekaterina/Documents/appaloosa/appaloosa/aflare.py:95: RuntimeWarning: divide by zero encountered in true_divide\n",
      "  lambda x: (_fd[0]*np.exp( ((x-tpeak)/fwhm)*_fd[1] ) +\n",
      "/home/ekaterina/Documents/appaloosa/appaloosa/aflare.py:96: RuntimeWarning: divide by zero encountered in true_divide\n",
      "  _fd[2]*np.exp( ((x-tpeak)/fwhm)*_fd[3] ))]\n",
      "/home/ekaterina/Documents/appaloosa/appaloosa/aflare.py:95: RuntimeWarning: overflow encountered in exp\n",
      "  lambda x: (_fd[0]*np.exp( ((x-tpeak)/fwhm)*_fd[1] ) +\n"
     ]
    },
    {
     "name": "stdout",
     "output_type": "stream",
     "text": [
      "211411722\t2018-03-01 11:43:26.452732\t17\tstars_shortlist/M67/hlsp_everest_k2_llc_211411722-c05_kepler_v2.0_lc.fits\t5\t68.1263888889\t29.424381432364804\t2306.61105339\n",
      "\n"
     ]
    },
    {
     "name": "stderr",
     "output_type": "stream",
     "text": [
      "/home/ekaterina/Documents/appaloosa/appaloosa/appaloosa.py:271: FutureWarning: pd.rolling_std is deprecated for ndarrays and will be removed in a future version\n",
      "  error = np.ones_like(time[isrl]) * np.nanmedian(rolling_std(flux_raw[isrl], win_size, center=True))\n",
      "/home/ekaterina/Documents/appaloosa/appaloosa/detrend.py:112: FutureWarning: pd.rolling_median is deprecated for ndarrays and will be removed in a future version\n",
      "  flux_sm = rolling_median(np.array(flux[x], dtype='float'), krnl)\n",
      "/home/ekaterina/Documents/appaloosa/appaloosa/detrend.py:74: FutureWarning: pd.rolling_median is deprecated for ndarrays and will be removed in a future version\n",
      "  flux_sm = rolling_median(flux[dl[i]:dr[i]], krnl)\n",
      "/home/ekaterina/Documents/appaloosa/appaloosa/detrend.py:359: FutureWarning: pd.rolling_median is deprecated for ndarrays and will be removed in a future version\n",
      "  flux_i_sm = rolling_median(flux_i, nptsmooth, center=True)\n",
      "/home/ekaterina/Documents/appaloosa/appaloosa/detrend.py:359: FutureWarning: pd.rolling_median is deprecated for ndarrays and will be removed in a future version\n",
      "  flux_i_sm = rolling_median(flux_i, nptsmooth, center=True)\n",
      "/home/ekaterina/Documents/appaloosa/appaloosa/appaloosa.py:703: FutureWarning: pd.rolling_std is deprecated for ndarrays and will be removed in a future version\n",
      "  sig_i = np.nanmedian(rolling_std(flux, std_window, center=True))\n"
     ]
    },
    {
     "name": "stdout",
     "output_type": "stream",
     "text": [
      "211427574\t2018-03-01 11:43:27.045796\t11\tstars_shortlist/M67/hlsp_everest_k2_llc_211427574-c05_kepler_v2.0_lc.fits\t5\t68.1263888889\t29.424381432364804\t2306.61103736\n",
      "\n"
     ]
    },
    {
     "name": "stderr",
     "output_type": "stream",
     "text": [
      "/usr/local/lib/python3.5/dist-packages/scipy/optimize/minpack.py:779: OptimizeWarning: Covariance of the parameters could not be estimated\n",
      "  category=OptimizeWarning)\n",
      "/home/ekaterina/Documents/appaloosa/appaloosa/appaloosa.py:271: FutureWarning: pd.rolling_std is deprecated for ndarrays and will be removed in a future version\n",
      "  error = np.ones_like(time[isrl]) * np.nanmedian(rolling_std(flux_raw[isrl], win_size, center=True))\n",
      "/home/ekaterina/Documents/appaloosa/appaloosa/detrend.py:112: FutureWarning: pd.rolling_median is deprecated for ndarrays and will be removed in a future version\n",
      "  flux_sm = rolling_median(np.array(flux[x], dtype='float'), krnl)\n",
      "/home/ekaterina/Documents/appaloosa/appaloosa/detrend.py:74: FutureWarning: pd.rolling_median is deprecated for ndarrays and will be removed in a future version\n",
      "  flux_sm = rolling_median(flux[dl[i]:dr[i]], krnl)\n",
      "/home/ekaterina/Documents/appaloosa/appaloosa/detrend.py:359: FutureWarning: pd.rolling_median is deprecated for ndarrays and will be removed in a future version\n",
      "  flux_i_sm = rolling_median(flux_i, nptsmooth, center=True)\n",
      "/home/ekaterina/Documents/appaloosa/appaloosa/detrend.py:359: FutureWarning: pd.rolling_median is deprecated for ndarrays and will be removed in a future version\n",
      "  flux_i_sm = rolling_median(flux_i, nptsmooth, center=True)\n",
      "/home/ekaterina/Documents/appaloosa/appaloosa/appaloosa.py:703: FutureWarning: pd.rolling_std is deprecated for ndarrays and will be removed in a future version\n",
      "  sig_i = np.nanmedian(rolling_std(flux, std_window, center=True))\n",
      "/home/ekaterina/Documents/appaloosa/appaloosa/aflare.py:88: RuntimeWarning: divide by zero encountered in true_divide\n",
      "  flare = np.piecewise(t, [(t<= tpeak) * (t-tpeak)/fwhm > -1.,\n",
      "/home/ekaterina/Documents/appaloosa/appaloosa/aflare.py:88: RuntimeWarning: invalid value encountered in true_divide\n",
      "  flare = np.piecewise(t, [(t<= tpeak) * (t-tpeak)/fwhm > -1.,\n",
      "/home/ekaterina/Documents/appaloosa/appaloosa/aflare.py:88: RuntimeWarning: invalid value encountered in greater\n",
      "  flare = np.piecewise(t, [(t<= tpeak) * (t-tpeak)/fwhm > -1.,\n",
      "/usr/local/lib/python3.5/dist-packages/scipy/optimize/minpack.py:779: OptimizeWarning: Covariance of the parameters could not be estimated\n",
      "  category=OptimizeWarning)\n",
      "/home/ekaterina/Documents/appaloosa/appaloosa/aflare.py:95: RuntimeWarning: divide by zero encountered in true_divide\n",
      "  lambda x: (_fd[0]*np.exp( ((x-tpeak)/fwhm)*_fd[1] ) +\n",
      "/home/ekaterina/Documents/appaloosa/appaloosa/aflare.py:96: RuntimeWarning: divide by zero encountered in true_divide\n",
      "  _fd[2]*np.exp( ((x-tpeak)/fwhm)*_fd[3] ))]\n",
      "/home/ekaterina/Documents/appaloosa/appaloosa/appaloosa.py:271: FutureWarning: pd.rolling_std is deprecated for ndarrays and will be removed in a future version\n",
      "  error = np.ones_like(time[isrl]) * np.nanmedian(rolling_std(flux_raw[isrl], win_size, center=True))\n",
      "/home/ekaterina/Documents/appaloosa/appaloosa/detrend.py:112: FutureWarning: pd.rolling_median is deprecated for ndarrays and will be removed in a future version\n",
      "  flux_sm = rolling_median(np.array(flux[x], dtype='float'), krnl)\n",
      "/home/ekaterina/Documents/appaloosa/appaloosa/detrend.py:74: FutureWarning: pd.rolling_median is deprecated for ndarrays and will be removed in a future version\n",
      "  flux_sm = rolling_median(flux[dl[i]:dr[i]], krnl)\n"
     ]
    },
    {
     "name": "stdout",
     "output_type": "stream",
     "text": [
      "211409099\t2018-03-01 11:43:27.658315\t10\tstars_shortlist/M67/hlsp_everest_k2_llc_211409099-c05_kepler_v2.0_lc.fits\t5\t68.1263888889\t29.424381432364804\t2306.61105375\n",
      "\n"
     ]
    },
    {
     "name": "stderr",
     "output_type": "stream",
     "text": [
      "/home/ekaterina/Documents/appaloosa/appaloosa/detrend.py:359: FutureWarning: pd.rolling_median is deprecated for ndarrays and will be removed in a future version\n",
      "  flux_i_sm = rolling_median(flux_i, nptsmooth, center=True)\n",
      "/home/ekaterina/Documents/appaloosa/appaloosa/detrend.py:359: FutureWarning: pd.rolling_median is deprecated for ndarrays and will be removed in a future version\n",
      "  flux_i_sm = rolling_median(flux_i, nptsmooth, center=True)\n",
      "/home/ekaterina/Documents/appaloosa/appaloosa/appaloosa.py:703: FutureWarning: pd.rolling_std is deprecated for ndarrays and will be removed in a future version\n",
      "  sig_i = np.nanmedian(rolling_std(flux, std_window, center=True))\n",
      "/usr/local/lib/python3.5/dist-packages/scipy/optimize/minpack.py:779: OptimizeWarning: Covariance of the parameters could not be estimated\n",
      "  category=OptimizeWarning)\n",
      "/home/ekaterina/Documents/appaloosa/appaloosa/aflare.py:88: RuntimeWarning: divide by zero encountered in true_divide\n",
      "  flare = np.piecewise(t, [(t<= tpeak) * (t-tpeak)/fwhm > -1.,\n",
      "/home/ekaterina/Documents/appaloosa/appaloosa/aflare.py:88: RuntimeWarning: invalid value encountered in true_divide\n",
      "  flare = np.piecewise(t, [(t<= tpeak) * (t-tpeak)/fwhm > -1.,\n",
      "/home/ekaterina/Documents/appaloosa/appaloosa/aflare.py:88: RuntimeWarning: invalid value encountered in greater\n",
      "  flare = np.piecewise(t, [(t<= tpeak) * (t-tpeak)/fwhm > -1.,\n",
      "/home/ekaterina/Documents/appaloosa/appaloosa/aflare.py:95: RuntimeWarning: divide by zero encountered in true_divide\n",
      "  lambda x: (_fd[0]*np.exp( ((x-tpeak)/fwhm)*_fd[1] ) +\n",
      "/home/ekaterina/Documents/appaloosa/appaloosa/aflare.py:96: RuntimeWarning: divide by zero encountered in true_divide\n",
      "  _fd[2]*np.exp( ((x-tpeak)/fwhm)*_fd[3] ))]\n"
     ]
    },
    {
     "name": "stdout",
     "output_type": "stream",
     "text": [
      "211405388\t2018-03-01 11:43:28.217724\t18\tstars_shortlist/M67/hlsp_everest_k2_llc_211405388-c05_kepler_v2.0_lc.fits\t5\t68.1263888889\t29.424381432364804\t2306.61105354\n",
      "\n"
     ]
    },
    {
     "name": "stderr",
     "output_type": "stream",
     "text": [
      "/home/ekaterina/Documents/appaloosa/appaloosa/appaloosa.py:271: FutureWarning: pd.rolling_std is deprecated for ndarrays and will be removed in a future version\n",
      "  error = np.ones_like(time[isrl]) * np.nanmedian(rolling_std(flux_raw[isrl], win_size, center=True))\n",
      "/home/ekaterina/Documents/appaloosa/appaloosa/detrend.py:112: FutureWarning: pd.rolling_median is deprecated for ndarrays and will be removed in a future version\n",
      "  flux_sm = rolling_median(np.array(flux[x], dtype='float'), krnl)\n",
      "/home/ekaterina/Documents/appaloosa/appaloosa/detrend.py:74: FutureWarning: pd.rolling_median is deprecated for ndarrays and will be removed in a future version\n",
      "  flux_sm = rolling_median(flux[dl[i]:dr[i]], krnl)\n",
      "/home/ekaterina/Documents/appaloosa/appaloosa/detrend.py:359: FutureWarning: pd.rolling_median is deprecated for ndarrays and will be removed in a future version\n",
      "  flux_i_sm = rolling_median(flux_i, nptsmooth, center=True)\n",
      "/home/ekaterina/Documents/appaloosa/appaloosa/detrend.py:359: FutureWarning: pd.rolling_median is deprecated for ndarrays and will be removed in a future version\n",
      "  flux_i_sm = rolling_median(flux_i, nptsmooth, center=True)\n",
      "/home/ekaterina/Documents/appaloosa/appaloosa/appaloosa.py:703: FutureWarning: pd.rolling_std is deprecated for ndarrays and will be removed in a future version\n",
      "  sig_i = np.nanmedian(rolling_std(flux, std_window, center=True))\n",
      "/usr/local/lib/python3.5/dist-packages/scipy/optimize/minpack.py:779: OptimizeWarning: Covariance of the parameters could not be estimated\n",
      "  category=OptimizeWarning)\n",
      "/home/ekaterina/Documents/appaloosa/appaloosa/aflare.py:88: RuntimeWarning: divide by zero encountered in true_divide\n",
      "  flare = np.piecewise(t, [(t<= tpeak) * (t-tpeak)/fwhm > -1.,\n",
      "/home/ekaterina/Documents/appaloosa/appaloosa/aflare.py:88: RuntimeWarning: invalid value encountered in true_divide\n",
      "  flare = np.piecewise(t, [(t<= tpeak) * (t-tpeak)/fwhm > -1.,\n",
      "/home/ekaterina/Documents/appaloosa/appaloosa/aflare.py:88: RuntimeWarning: invalid value encountered in greater\n",
      "  flare = np.piecewise(t, [(t<= tpeak) * (t-tpeak)/fwhm > -1.,\n",
      "/home/ekaterina/Documents/appaloosa/appaloosa/aflare.py:95: RuntimeWarning: divide by zero encountered in true_divide\n",
      "  lambda x: (_fd[0]*np.exp( ((x-tpeak)/fwhm)*_fd[1] ) +\n",
      "/home/ekaterina/Documents/appaloosa/appaloosa/aflare.py:96: RuntimeWarning: divide by zero encountered in true_divide\n",
      "  _fd[2]*np.exp( ((x-tpeak)/fwhm)*_fd[3] ))]\n"
     ]
    },
    {
     "name": "stdout",
     "output_type": "stream",
     "text": [
      "211411477\t2018-03-01 11:43:28.806019\t16\tstars_shortlist/M67/hlsp_everest_k2_llc_211411477-c05_kepler_v2.0_lc.fits\t5\t68.1263888889\t29.424381432364804\t2306.61105357\n",
      "\n"
     ]
    }
   ],
   "source": [
    "for oid in oid_list:\n",
    "    RunLC_test(oid)"
   ]
  },
  {
   "cell_type": "markdown",
   "metadata": {},
   "source": [
    "## Load all necessary modules and the list of EPIC IDs for the test sample"
   ]
  },
  {
   "cell_type": "code",
   "execution_count": 1,
   "metadata": {},
   "outputs": [],
   "source": [
    "import pandas as pd\n",
    "import numpy as np\n",
    "import os\n",
    "from appaloosa import RunLC\n",
    "%matplotlib inline\n",
    "import matplotlib.pyplot as plt\n",
    "from matplotlib import rcParams\n",
    "rcParams['font.family'] = 'monospace'\n",
    "#rcParams['font.sans-serif'] = ['Tahoma']\n",
    "os.chdir('/home/ekaterina/Documents/appaloosa/appaloosa')\n",
    "def RunLC_test(oid):\n",
    "    loc = 'stars_shortlist/M67'\n",
    "    tpf_loc = 'stars_shortlist/M67/ktwo{}-c05_lpd-targ.fits.gz'.format(oid)\n",
    "    lc_loc = 'stars_shortlist/M67/hlsp_everest_k2_llc_{}-c05_kepler_v2.0_lc.fits'.format(oid)\n",
    "    os.chdir('/home/ekaterina/Documents/appaloosa')\n",
    "    RunLC(lc_loc, dbmode='everest', display=False, debug=False, dofake=False, writeout=True)\n",
    "    return\n",
    "\n",
    "os.chdir('/home/ekaterina/Documents/appaloosa')\n",
    "oid_list = pd.read_csv('stars_shortlist/M67/M67_short.txt',names=['EPIC'])\n",
    "oid_list = oid_list.EPIC.tolist()"
   ]
  },
  {
   "cell_type": "markdown",
   "metadata": {},
   "source": [
    "## Now move to the stored tests and define the folder suffixes from where to use the results"
   ]
  },
  {
   "cell_type": "code",
   "execution_count": 7,
   "metadata": {},
   "outputs": [],
   "source": [
    "loc = '/home/ekaterina/Documents/appaloosa/stars_shortlist/M67/results'\n",
    "\n",
    "#Number of consecutive points threshold test: (sigma = 3, N2=2)\n",
    "#01 = 3 points\n",
    "#02 = 4 points\n",
    "#03 = 5 points\n",
    "#tests = ['_01','_02','_03']\n",
    "#name='N3'\n",
    "\n",
    "#Sigma clipping threshold test: (consecutive points = 3, N2=2)\n",
    "#01 = 3 sigma\n",
    "#04 = 4 sigma\n",
    "#05 = 5 sigma\n",
    "#06 = 2 sigma\n",
    "tests = ['_06','_01','_04']\n",
    "name = 'N1'"
   ]
  },
  {
   "cell_type": "markdown",
   "metadata": {},
   "source": [
    "## Before doing the big analysis, explore the differences between the results for a single light curve"
   ]
  },
  {
   "cell_type": "code",
   "execution_count": 4,
   "metadata": {},
   "outputs": [
    {
     "name": "stderr",
     "output_type": "stream",
     "text": [
      "/usr/local/lib/python3.5/dist-packages/matplotlib/figure.py:403: UserWarning: matplotlib is currently using a non-GUI backend, so cannot show the figure\n",
      "  \"matplotlib is currently using a non-GUI backend, \"\n"
     ]
    },
    {
     "data": {
      "image/png": "[encoded data removed]",
      "text/plain": [
       "<matplotlib.figure.Figure at 0x7f4bb28b9668>"
      ]
     },
     "metadata": {},
     "output_type": "display_data"
    }
   ],
   "source": [
    "def calc_compdf(oid,tests):\n",
    "\n",
    "    compdf = pd.DataFrame({'time':[0]*3800,'flux_gap':[0]*3800,'flux_model':[0]*3800,'istop':[0]*3800,'istart':[0]*3800})\n",
    "\n",
    "    for item in tests:\n",
    "        location = '{}/test{}/{}_flux.csv'.format(loc,item,oid)\n",
    "        compdf_flux = pd.read_csv(location,usecols=['flux_gap','time','flux_model'])\n",
    "        location_flares = '{}/test{}/{}_flares.csv'.format(loc,item,oid)\n",
    "        compdf_flares = pd.read_csv(location_flares,usecols=['istart','istop'])\n",
    "        c = compdf_flux.join(compdf_flares)\n",
    "        compdf = compdf.join(c,rsuffix=item)\n",
    "    compdf.drop(labels=['time','flux_gap','flux_model','istart','istop'],axis=1,inplace=True)\n",
    "    compdf.dropna(axis=0, how='all',inplace=True)\n",
    "    #print(compdf.tail())\n",
    "    return compdf\n",
    "\n",
    "def edges_to_bool(df,istart='istart',istop='istop'):\n",
    "    rangeflare = []\n",
    "    end=len(df)\n",
    "    df = df[[istart,istop]]\n",
    "    df = df.dropna(axis=0, how='all')\n",
    "    for i,row in df.iterrows():\n",
    "        rangeflare.append(list(range(int(row[istart]),int(row[istop]))))\n",
    "\n",
    "    isflare = np.zeros(end)\n",
    "    rangeflare = [item for sublist in rangeflare for item in sublist]\n",
    "\n",
    "    np.put(isflare,rangeflare,np.ones_like(rangeflare))\n",
    "    \n",
    "    return isflare\n",
    "\n",
    "compdf = calc_compdf(oid_list[3],tests)\n",
    "\n",
    "for item in tests:\n",
    "    compdf['isflare'+item] = edges_to_bool(compdf,istart='istart'+item,istop='istop'+item)\n",
    "\n",
    "fig = plt.figure(figsize=(12,6))\n",
    "ax = fig.add_subplot(111)\n",
    "for i,item in enumerate(tests):\n",
    "    ax.plot(compdf['isflare'+item]+i,alpha=0.5,label='{}={}'.format(name,item[1:]))\n",
    "ax.legend(bbox_to_anchor=(1.05, 1), loc=2, borderaxespad=0.)\n",
    "fig.show()"
   ]
  },
  {
   "cell_type": "markdown",
   "metadata": {},
   "source": [
    "## If the exploration above looks sensible, do the same for all light curves in the test sample added together"
   ]
  },
  {
   "cell_type": "code",
   "execution_count": 5,
   "metadata": {},
   "outputs": [
    {
     "data": {
      "text/html": [
       "<div>\n",
       "<style>\n",
       "    .dataframe thead tr:only-child th {\n",
       "        text-align: right;\n",
       "    }\n",
       "\n",
       "    .dataframe thead th {\n",
       "        text-align: left;\n",
       "    }\n",
       "\n",
       "    .dataframe tbody tr th {\n",
       "        vertical-align: top;\n",
       "    }\n",
       "</style>\n",
       "<table border=\"1\" class=\"dataframe\">\n",
       "  <thead>\n",
       "    <tr style=\"text-align: right;\">\n",
       "      <th></th>\n",
       "      <th>data</th>\n",
       "      <th>228682441_06</th>\n",
       "      <th>228682441_04</th>\n",
       "      <th>228682441_05</th>\n",
       "      <th>211410963_06</th>\n",
       "      <th>211410963_04</th>\n",
       "      <th>211410963_05</th>\n",
       "      <th>211411112_06</th>\n",
       "      <th>211411112_04</th>\n",
       "      <th>211411112_05</th>\n",
       "      <th>...</th>\n",
       "      <th>211427574_05</th>\n",
       "      <th>211409099_06</th>\n",
       "      <th>211409099_04</th>\n",
       "      <th>211409099_05</th>\n",
       "      <th>211405388_06</th>\n",
       "      <th>211405388_04</th>\n",
       "      <th>211405388_05</th>\n",
       "      <th>211411477_06</th>\n",
       "      <th>211411477_04</th>\n",
       "      <th>211411477_05</th>\n",
       "    </tr>\n",
       "  </thead>\n",
       "  <tbody>\n",
       "    <tr>\n",
       "      <th>0</th>\n",
       "      <td>0</td>\n",
       "      <td>0.0</td>\n",
       "      <td>0.0</td>\n",
       "      <td>0.0</td>\n",
       "      <td>0.0</td>\n",
       "      <td>0.0</td>\n",
       "      <td>0.0</td>\n",
       "      <td>0.0</td>\n",
       "      <td>0.0</td>\n",
       "      <td>0.0</td>\n",
       "      <td>...</td>\n",
       "      <td>0.0</td>\n",
       "      <td>0.0</td>\n",
       "      <td>0.0</td>\n",
       "      <td>0.0</td>\n",
       "      <td>0.0</td>\n",
       "      <td>0.0</td>\n",
       "      <td>0.0</td>\n",
       "      <td>0.0</td>\n",
       "      <td>0.0</td>\n",
       "      <td>0.0</td>\n",
       "    </tr>\n",
       "    <tr>\n",
       "      <th>1</th>\n",
       "      <td>0</td>\n",
       "      <td>0.0</td>\n",
       "      <td>0.0</td>\n",
       "      <td>0.0</td>\n",
       "      <td>0.0</td>\n",
       "      <td>0.0</td>\n",
       "      <td>0.0</td>\n",
       "      <td>0.0</td>\n",
       "      <td>0.0</td>\n",
       "      <td>0.0</td>\n",
       "      <td>...</td>\n",
       "      <td>0.0</td>\n",
       "      <td>0.0</td>\n",
       "      <td>0.0</td>\n",
       "      <td>0.0</td>\n",
       "      <td>0.0</td>\n",
       "      <td>0.0</td>\n",
       "      <td>0.0</td>\n",
       "      <td>0.0</td>\n",
       "      <td>0.0</td>\n",
       "      <td>0.0</td>\n",
       "    </tr>\n",
       "    <tr>\n",
       "      <th>2</th>\n",
       "      <td>0</td>\n",
       "      <td>0.0</td>\n",
       "      <td>0.0</td>\n",
       "      <td>0.0</td>\n",
       "      <td>0.0</td>\n",
       "      <td>0.0</td>\n",
       "      <td>0.0</td>\n",
       "      <td>0.0</td>\n",
       "      <td>0.0</td>\n",
       "      <td>0.0</td>\n",
       "      <td>...</td>\n",
       "      <td>0.0</td>\n",
       "      <td>0.0</td>\n",
       "      <td>0.0</td>\n",
       "      <td>0.0</td>\n",
       "      <td>0.0</td>\n",
       "      <td>0.0</td>\n",
       "      <td>0.0</td>\n",
       "      <td>0.0</td>\n",
       "      <td>0.0</td>\n",
       "      <td>0.0</td>\n",
       "    </tr>\n",
       "    <tr>\n",
       "      <th>3</th>\n",
       "      <td>0</td>\n",
       "      <td>0.0</td>\n",
       "      <td>0.0</td>\n",
       "      <td>0.0</td>\n",
       "      <td>0.0</td>\n",
       "      <td>0.0</td>\n",
       "      <td>0.0</td>\n",
       "      <td>0.0</td>\n",
       "      <td>0.0</td>\n",
       "      <td>0.0</td>\n",
       "      <td>...</td>\n",
       "      <td>0.0</td>\n",
       "      <td>0.0</td>\n",
       "      <td>0.0</td>\n",
       "      <td>0.0</td>\n",
       "      <td>0.0</td>\n",
       "      <td>0.0</td>\n",
       "      <td>0.0</td>\n",
       "      <td>0.0</td>\n",
       "      <td>0.0</td>\n",
       "      <td>0.0</td>\n",
       "    </tr>\n",
       "    <tr>\n",
       "      <th>4</th>\n",
       "      <td>0</td>\n",
       "      <td>0.0</td>\n",
       "      <td>0.0</td>\n",
       "      <td>0.0</td>\n",
       "      <td>0.0</td>\n",
       "      <td>0.0</td>\n",
       "      <td>0.0</td>\n",
       "      <td>0.0</td>\n",
       "      <td>0.0</td>\n",
       "      <td>0.0</td>\n",
       "      <td>...</td>\n",
       "      <td>0.0</td>\n",
       "      <td>0.0</td>\n",
       "      <td>0.0</td>\n",
       "      <td>0.0</td>\n",
       "      <td>0.0</td>\n",
       "      <td>0.0</td>\n",
       "      <td>0.0</td>\n",
       "      <td>0.0</td>\n",
       "      <td>0.0</td>\n",
       "      <td>0.0</td>\n",
       "    </tr>\n",
       "  </tbody>\n",
       "</table>\n",
       "<p>5 rows × 64 columns</p>\n",
       "</div>"
      ],
      "text/plain": [
       "   data  228682441_06  228682441_04  228682441_05  211410963_06  211410963_04  \\\n",
       "0     0           0.0           0.0           0.0           0.0           0.0   \n",
       "1     0           0.0           0.0           0.0           0.0           0.0   \n",
       "2     0           0.0           0.0           0.0           0.0           0.0   \n",
       "3     0           0.0           0.0           0.0           0.0           0.0   \n",
       "4     0           0.0           0.0           0.0           0.0           0.0   \n",
       "\n",
       "   211410963_05  211411112_06  211411112_04  211411112_05      ...       \\\n",
       "0           0.0           0.0           0.0           0.0      ...        \n",
       "1           0.0           0.0           0.0           0.0      ...        \n",
       "2           0.0           0.0           0.0           0.0      ...        \n",
       "3           0.0           0.0           0.0           0.0      ...        \n",
       "4           0.0           0.0           0.0           0.0      ...        \n",
       "\n",
       "   211427574_05  211409099_06  211409099_04  211409099_05  211405388_06  \\\n",
       "0           0.0           0.0           0.0           0.0           0.0   \n",
       "1           0.0           0.0           0.0           0.0           0.0   \n",
       "2           0.0           0.0           0.0           0.0           0.0   \n",
       "3           0.0           0.0           0.0           0.0           0.0   \n",
       "4           0.0           0.0           0.0           0.0           0.0   \n",
       "\n",
       "   211405388_04  211405388_05  211411477_06  211411477_04  211411477_05  \n",
       "0           0.0           0.0           0.0           0.0           0.0  \n",
       "1           0.0           0.0           0.0           0.0           0.0  \n",
       "2           0.0           0.0           0.0           0.0           0.0  \n",
       "3           0.0           0.0           0.0           0.0           0.0  \n",
       "4           0.0           0.0           0.0           0.0           0.0  \n",
       "\n",
       "[5 rows x 64 columns]"
      ]
     },
     "execution_count": 5,
     "metadata": {},
     "output_type": "execute_result"
    }
   ],
   "source": [
    "sample_bool = pd.DataFrame({'data':[0]*3800})\n",
    "for oid in oid_list:\n",
    "    OID = str(oid)\n",
    "    cdf = calc_compdf(oid,tests)\n",
    "    c=[]\n",
    "    #print(cdf.head())\n",
    "    for item in tests:\n",
    "        c.append(edges_to_bool(cdf,istart='istart'+item,istop='istop'+item))\n",
    "        #print(np.array(c).shape)\n",
    "    c = pd.DataFrame(np.array(c).T, columns=['{}{}'.format(OID,tests[0]),'{}{}'.format(OID,tests[1]),'{}{}'.format(OID,tests[2])])\n",
    "   # print(c.describe())\n",
    "    #print(type(c1),len(c),type(c))\n",
    "    sample_bool = sample_bool.join(c)\n",
    "\n",
    "sample_bool.head()"
   ]
  },
  {
   "cell_type": "code",
   "execution_count": 6,
   "metadata": {},
   "outputs": [
    {
     "name": "stderr",
     "output_type": "stream",
     "text": [
      "/usr/local/lib/python3.5/dist-packages/matplotlib/figure.py:403: UserWarning: matplotlib is currently using a non-GUI backend, so cannot show the figure\n",
      "  \"matplotlib is currently using a non-GUI backend, \"\n"
     ]
    },
    {
     "data": {
      "image/png": "[encoded data removed]",
      "text/plain": [
       "<matplotlib.figure.Figure at 0x7f4bb28d3a58>"
      ]
     },
     "metadata": {},
     "output_type": "display_data"
    }
   ],
   "source": [
    "for suffix in tests:\n",
    "    columns = [item for item in list(sample_bool.columns) if suffix in item]\n",
    "    #print(columns)\n",
    "    sample_bool[suffix] = sample_bool[columns].sum(axis=1)\n",
    "sample_bool.dropna(axis=0,how='all',inplace=True)\n",
    "\n",
    "\n",
    "f = plt.figure(figsize=(12,6))\n",
    "ax = f.add_subplot(111)\n",
    "for i,item in enumerate(tests):\n",
    "    ax.plot(sample_bool[item]+len(oid_list)*i,alpha=0.5,label='{}={}'.format(name,item[1:]))\n",
    "ax.legend(bbox_to_anchor=(1.05, 1), loc=2, borderaxespad=0.)\n",
    "f.show()"
   ]
  },
  {
   "cell_type": "code",
   "execution_count": null,
   "metadata": {},
   "outputs": [],
   "source": []
  }
 ],
 "metadata": {
  "kernelspec": {
   "display_name": "Python 3",
   "language": "python",
   "name": "python3"
  },
  "language_info": {
   "codemirror_mode": {
    "name": "ipython",
    "version": 3
   },
   "file_extension": ".py",
   "mimetype": "text/x-python",
   "name": "python",
   "nbconvert_exporter": "python",
   "pygments_lexer": "ipython3",
   "version": "3.5.2"
  }
 },
 "nbformat": 4,
 "nbformat_minor": 2
}
